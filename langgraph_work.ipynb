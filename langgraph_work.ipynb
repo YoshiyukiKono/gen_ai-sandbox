{
  "nbformat": 4,
  "nbformat_minor": 0,
  "metadata": {
    "colab": {
      "provenance": [],
      "authorship_tag": "ABX9TyOCEjTTOeI2Z+r14MEWLLbi",
      "include_colab_link": true
    },
    "kernelspec": {
      "name": "python3",
      "display_name": "Python 3"
    },
    "language_info": {
      "name": "python"
    }
  },
  "cells": [
    {
      "cell_type": "markdown",
      "metadata": {
        "id": "view-in-github",
        "colab_type": "text"
      },
      "source": [
        "<a href=\"https://colab.research.google.com/github/YoshiyukiKono/gen_ai-sandbox/blob/main/langgraph_work.ipynb\" target=\"_parent\"><img src=\"https://colab.research.google.com/assets/colab-badge.svg\" alt=\"Open In Colab\"/></a>"
      ]
    },
    {
      "cell_type": "code",
      "execution_count": null,
      "metadata": {
        "id": "SmYp-VKHiDyo"
      },
      "outputs": [],
      "source": []
    },
    {
      "cell_type": "markdown",
      "source": [
        "# LangGraph\n",
        "\n",
        "https://qiita.com/isanakamishiro2/items/d14235bf6fe00ae22831\n",
        "\n",
        "https://github.com/langchain-ai/langgraph/blob/main/examples/agent_executor/force-calling-a-tool-first.ipynb\n"
      ],
      "metadata": {
        "id": "IRL8UMWxiHUR"
      }
    },
    {
      "cell_type": "code",
      "source": [
        "!pip install --quiet -U langchain langchain_openai tavily-python"
      ],
      "metadata": {
        "colab": {
          "base_uri": "https://localhost:8080/"
        },
        "id": "ivjuj763_-T3",
        "outputId": "d816ac8b-30fd-4f85-bcd1-400f15219075"
      },
      "execution_count": 2,
      "outputs": [
        {
          "output_type": "stream",
          "name": "stdout",
          "text": [
            "\u001b[2K     \u001b[90m━━━━━━━━━━━━━━━━━━━━━━━━━━━━━━━━━━━━━━━━\u001b[0m \u001b[32m226.7/226.7 kB\u001b[0m \u001b[31m4.5 MB/s\u001b[0m eta \u001b[36m0:00:00\u001b[0m\n",
            "\u001b[2K     \u001b[90m━━━━━━━━━━━━━━━━━━━━━━━━━━━━━━━━━━━━━━━━\u001b[0m \u001b[32m1.8/1.8 MB\u001b[0m \u001b[31m8.2 MB/s\u001b[0m eta \u001b[36m0:00:00\u001b[0m\n",
            "\u001b[2K     \u001b[90m━━━━━━━━━━━━━━━━━━━━━━━━━━━━━━━━━━━━━━━━\u001b[0m \u001b[32m2.0/2.0 MB\u001b[0m \u001b[31m14.6 MB/s\u001b[0m eta \u001b[36m0:00:00\u001b[0m\n",
            "\u001b[2K     \u001b[90m━━━━━━━━━━━━━━━━━━━━━━━━━━━━━━━━━━━━━━━━\u001b[0m \u001b[32m75.6/75.6 kB\u001b[0m \u001b[31m6.6 MB/s\u001b[0m eta \u001b[36m0:00:00\u001b[0m\n",
            "\u001b[2K     \u001b[90m━━━━━━━━━━━━━━━━━━━━━━━━━━━━━━━━━━━━━━━━\u001b[0m \u001b[32m77.8/77.8 kB\u001b[0m \u001b[31m7.0 MB/s\u001b[0m eta \u001b[36m0:00:00\u001b[0m\n",
            "\u001b[2K     \u001b[90m━━━━━━━━━━━━━━━━━━━━━━━━━━━━━━━━━━━━━━━━\u001b[0m \u001b[32m58.3/58.3 kB\u001b[0m \u001b[31m4.9 MB/s\u001b[0m eta \u001b[36m0:00:00\u001b[0m\n",
            "\u001b[?25h"
          ]
        }
      ]
    },
    {
      "cell_type": "code",
      "source": [
        "import os\n",
        "import getpass\n",
        "\n",
        "os.environ[\"OPENAI_API_KEY\"] = getpass.getpass(\"OpenAI API Key:\")"
      ],
      "metadata": {
        "colab": {
          "base_uri": "https://localhost:8080/"
        },
        "id": "FZ-HJTA0AD94",
        "outputId": "06a463c3-1544-44a7-85a4-d6e2eecc34f0"
      },
      "execution_count": 3,
      "outputs": [
        {
          "name": "stdout",
          "output_type": "stream",
          "text": [
            "OpenAI API Key:··········\n"
          ]
        }
      ]
    },
    {
      "cell_type": "code",
      "source": [
        "!pip install -U transformers accelerate \"exllamav2>=0.0.11\" langchain langchainhub duckduckgo-search\n"
      ],
      "metadata": {
        "colab": {
          "base_uri": "https://localhost:8080/"
        },
        "id": "INTqdgaJiodc",
        "outputId": "25d1faa9-67f5-4031-844b-05a3a85da9a6"
      },
      "execution_count": 14,
      "outputs": [
        {
          "output_type": "stream",
          "name": "stdout",
          "text": [
            "Requirement already satisfied: transformers in /usr/local/lib/python3.10/dist-packages (4.38.1)\n",
            "Requirement already satisfied: accelerate in /usr/local/lib/python3.10/dist-packages (0.27.2)\n",
            "Requirement already satisfied: exllamav2>=0.0.11 in /usr/local/lib/python3.10/dist-packages (0.0.13.post2)\n",
            "Requirement already satisfied: langchain in /usr/local/lib/python3.10/dist-packages (0.1.8)\n",
            "Requirement already satisfied: langchainhub in /usr/local/lib/python3.10/dist-packages (0.1.14)\n",
            "Requirement already satisfied: duckduckgo-search in /usr/local/lib/python3.10/dist-packages (4.4.3)\n",
            "Requirement already satisfied: filelock in /usr/local/lib/python3.10/dist-packages (from transformers) (3.13.1)\n",
            "Requirement already satisfied: huggingface-hub<1.0,>=0.19.3 in /usr/local/lib/python3.10/dist-packages (from transformers) (0.20.3)\n",
            "Requirement already satisfied: numpy>=1.17 in /usr/local/lib/python3.10/dist-packages (from transformers) (1.25.2)\n",
            "Requirement already satisfied: packaging>=20.0 in /usr/local/lib/python3.10/dist-packages (from transformers) (23.2)\n",
            "Requirement already satisfied: pyyaml>=5.1 in /usr/local/lib/python3.10/dist-packages (from transformers) (6.0.1)\n",
            "Requirement already satisfied: regex!=2019.12.17 in /usr/local/lib/python3.10/dist-packages (from transformers) (2023.12.25)\n",
            "Requirement already satisfied: requests in /usr/local/lib/python3.10/dist-packages (from transformers) (2.31.0)\n",
            "Requirement already satisfied: tokenizers<0.19,>=0.14 in /usr/local/lib/python3.10/dist-packages (from transformers) (0.15.2)\n",
            "Requirement already satisfied: safetensors>=0.4.1 in /usr/local/lib/python3.10/dist-packages (from transformers) (0.4.2)\n",
            "Requirement already satisfied: tqdm>=4.27 in /usr/local/lib/python3.10/dist-packages (from transformers) (4.66.2)\n",
            "Requirement already satisfied: psutil in /usr/local/lib/python3.10/dist-packages (from accelerate) (5.9.5)\n",
            "Requirement already satisfied: torch>=1.10.0 in /usr/local/lib/python3.10/dist-packages (from accelerate) (2.1.0+cu121)\n",
            "Requirement already satisfied: pandas in /usr/local/lib/python3.10/dist-packages (from exllamav2>=0.0.11) (1.5.3)\n",
            "Requirement already satisfied: ninja in /usr/local/lib/python3.10/dist-packages (from exllamav2>=0.0.11) (1.11.1.1)\n",
            "Requirement already satisfied: fastparquet in /usr/local/lib/python3.10/dist-packages (from exllamav2>=0.0.11) (2024.2.0)\n",
            "Requirement already satisfied: sentencepiece>=0.1.97 in /usr/local/lib/python3.10/dist-packages (from exllamav2>=0.0.11) (0.1.99)\n",
            "Requirement already satisfied: pygments in /usr/local/lib/python3.10/dist-packages (from exllamav2>=0.0.11) (2.16.1)\n",
            "Requirement already satisfied: websockets in /usr/local/lib/python3.10/dist-packages (from exllamav2>=0.0.11) (12.0)\n",
            "Requirement already satisfied: SQLAlchemy<3,>=1.4 in /usr/local/lib/python3.10/dist-packages (from langchain) (2.0.27)\n",
            "Requirement already satisfied: aiohttp<4.0.0,>=3.8.3 in /usr/local/lib/python3.10/dist-packages (from langchain) (3.9.3)\n",
            "Requirement already satisfied: async-timeout<5.0.0,>=4.0.0 in /usr/local/lib/python3.10/dist-packages (from langchain) (4.0.3)\n",
            "Requirement already satisfied: dataclasses-json<0.7,>=0.5.7 in /usr/local/lib/python3.10/dist-packages (from langchain) (0.6.4)\n",
            "Requirement already satisfied: jsonpatch<2.0,>=1.33 in /usr/local/lib/python3.10/dist-packages (from langchain) (1.33)\n",
            "Requirement already satisfied: langchain-community<0.1,>=0.0.21 in /usr/local/lib/python3.10/dist-packages (from langchain) (0.0.21)\n",
            "Requirement already satisfied: langchain-core<0.2,>=0.1.24 in /usr/local/lib/python3.10/dist-packages (from langchain) (0.1.25)\n",
            "Requirement already satisfied: langsmith<0.2.0,>=0.1.0 in /usr/local/lib/python3.10/dist-packages (from langchain) (0.1.5)\n",
            "Requirement already satisfied: pydantic<3,>=1 in /usr/local/lib/python3.10/dist-packages (from langchain) (2.6.1)\n",
            "Requirement already satisfied: tenacity<9.0.0,>=8.1.0 in /usr/local/lib/python3.10/dist-packages (from langchain) (8.2.3)\n",
            "Requirement already satisfied: types-requests<3.0.0.0,>=2.31.0.2 in /usr/local/lib/python3.10/dist-packages (from langchainhub) (2.31.0.20240218)\n",
            "Requirement already satisfied: click>=8.1.7 in /usr/local/lib/python3.10/dist-packages (from duckduckgo-search) (8.1.7)\n",
            "Requirement already satisfied: curl-cffi>=0.6.0b9 in /usr/local/lib/python3.10/dist-packages (from duckduckgo-search) (0.6.0b9)\n",
            "Requirement already satisfied: lxml>=5.1.0 in /usr/local/lib/python3.10/dist-packages (from duckduckgo-search) (5.1.0)\n",
            "Requirement already satisfied: nest-asyncio>=1.6.0 in /usr/local/lib/python3.10/dist-packages (from duckduckgo-search) (1.6.0)\n",
            "Requirement already satisfied: aiosignal>=1.1.2 in /usr/local/lib/python3.10/dist-packages (from aiohttp<4.0.0,>=3.8.3->langchain) (1.3.1)\n",
            "Requirement already satisfied: attrs>=17.3.0 in /usr/local/lib/python3.10/dist-packages (from aiohttp<4.0.0,>=3.8.3->langchain) (23.2.0)\n",
            "Requirement already satisfied: frozenlist>=1.1.1 in /usr/local/lib/python3.10/dist-packages (from aiohttp<4.0.0,>=3.8.3->langchain) (1.4.1)\n",
            "Requirement already satisfied: multidict<7.0,>=4.5 in /usr/local/lib/python3.10/dist-packages (from aiohttp<4.0.0,>=3.8.3->langchain) (6.0.5)\n",
            "Requirement already satisfied: yarl<2.0,>=1.0 in /usr/local/lib/python3.10/dist-packages (from aiohttp<4.0.0,>=3.8.3->langchain) (1.9.4)\n",
            "Requirement already satisfied: cffi>=1.12.0 in /usr/local/lib/python3.10/dist-packages (from curl-cffi>=0.6.0b9->duckduckgo-search) (1.16.0)\n",
            "Requirement already satisfied: certifi in /usr/local/lib/python3.10/dist-packages (from curl-cffi>=0.6.0b9->duckduckgo-search) (2024.2.2)\n",
            "Requirement already satisfied: marshmallow<4.0.0,>=3.18.0 in /usr/local/lib/python3.10/dist-packages (from dataclasses-json<0.7,>=0.5.7->langchain) (3.20.2)\n",
            "Requirement already satisfied: typing-inspect<1,>=0.4.0 in /usr/local/lib/python3.10/dist-packages (from dataclasses-json<0.7,>=0.5.7->langchain) (0.9.0)\n",
            "Requirement already satisfied: fsspec>=2023.5.0 in /usr/local/lib/python3.10/dist-packages (from huggingface-hub<1.0,>=0.19.3->transformers) (2023.6.0)\n",
            "Requirement already satisfied: typing-extensions>=3.7.4.3 in /usr/local/lib/python3.10/dist-packages (from huggingface-hub<1.0,>=0.19.3->transformers) (4.9.0)\n",
            "Requirement already satisfied: jsonpointer>=1.9 in /usr/local/lib/python3.10/dist-packages (from jsonpatch<2.0,>=1.33->langchain) (2.4)\n",
            "Requirement already satisfied: anyio<5,>=3 in /usr/local/lib/python3.10/dist-packages (from langchain-core<0.2,>=0.1.24->langchain) (3.7.1)\n",
            "Requirement already satisfied: annotated-types>=0.4.0 in /usr/local/lib/python3.10/dist-packages (from pydantic<3,>=1->langchain) (0.6.0)\n",
            "Requirement already satisfied: pydantic-core==2.16.2 in /usr/local/lib/python3.10/dist-packages (from pydantic<3,>=1->langchain) (2.16.2)\n",
            "Requirement already satisfied: charset-normalizer<4,>=2 in /usr/local/lib/python3.10/dist-packages (from requests->transformers) (3.3.2)\n",
            "Requirement already satisfied: idna<4,>=2.5 in /usr/local/lib/python3.10/dist-packages (from requests->transformers) (3.6)\n",
            "Requirement already satisfied: urllib3<3,>=1.21.1 in /usr/local/lib/python3.10/dist-packages (from requests->transformers) (2.0.7)\n",
            "Requirement already satisfied: greenlet!=0.4.17 in /usr/local/lib/python3.10/dist-packages (from SQLAlchemy<3,>=1.4->langchain) (3.0.3)\n",
            "Requirement already satisfied: sympy in /usr/local/lib/python3.10/dist-packages (from torch>=1.10.0->accelerate) (1.12)\n",
            "Requirement already satisfied: networkx in /usr/local/lib/python3.10/dist-packages (from torch>=1.10.0->accelerate) (3.2.1)\n",
            "Requirement already satisfied: jinja2 in /usr/local/lib/python3.10/dist-packages (from torch>=1.10.0->accelerate) (3.1.3)\n",
            "Requirement already satisfied: triton==2.1.0 in /usr/local/lib/python3.10/dist-packages (from torch>=1.10.0->accelerate) (2.1.0)\n",
            "Requirement already satisfied: cramjam>=2.3 in /usr/local/lib/python3.10/dist-packages (from fastparquet->exllamav2>=0.0.11) (2.8.1)\n",
            "Requirement already satisfied: python-dateutil>=2.8.1 in /usr/local/lib/python3.10/dist-packages (from pandas->exllamav2>=0.0.11) (2.8.2)\n",
            "Requirement already satisfied: pytz>=2020.1 in /usr/local/lib/python3.10/dist-packages (from pandas->exllamav2>=0.0.11) (2023.4)\n",
            "Requirement already satisfied: sniffio>=1.1 in /usr/local/lib/python3.10/dist-packages (from anyio<5,>=3->langchain-core<0.2,>=0.1.24->langchain) (1.3.0)\n",
            "Requirement already satisfied: exceptiongroup in /usr/local/lib/python3.10/dist-packages (from anyio<5,>=3->langchain-core<0.2,>=0.1.24->langchain) (1.2.0)\n",
            "Requirement already satisfied: pycparser in /usr/local/lib/python3.10/dist-packages (from cffi>=1.12.0->curl-cffi>=0.6.0b9->duckduckgo-search) (2.21)\n",
            "Requirement already satisfied: six>=1.5 in /usr/local/lib/python3.10/dist-packages (from python-dateutil>=2.8.1->pandas->exllamav2>=0.0.11) (1.16.0)\n",
            "Requirement already satisfied: mypy-extensions>=0.3.0 in /usr/local/lib/python3.10/dist-packages (from typing-inspect<1,>=0.4.0->dataclasses-json<0.7,>=0.5.7->langchain) (1.0.0)\n",
            "Requirement already satisfied: MarkupSafe>=2.0 in /usr/local/lib/python3.10/dist-packages (from jinja2->torch>=1.10.0->accelerate) (2.1.5)\n",
            "Requirement already satisfied: mpmath>=0.19 in /usr/local/lib/python3.10/dist-packages (from sympy->torch>=1.10.0->accelerate) (1.3.0)\n"
          ]
        }
      ]
    },
    {
      "cell_type": "code",
      "source": [
        "from langchain_community.tools.ddg_search.tool import DuckDuckGoSearchResults, DuckDuckGoSearchRun\n",
        "\n",
        "search = DuckDuckGoSearchRun(max_results=1)\n",
        "\n",
        "# Agentに利用するツールのリスト\n",
        "tools = [search]"
      ],
      "metadata": {
        "id": "bJ6ouxrMAQCk"
      },
      "execution_count": 4,
      "outputs": []
    },
    {
      "cell_type": "code",
      "source": [
        "from langchain import hub\n",
        "from langchain.agents import create_json_chat_agent\n",
        "\n",
        "prompt = hub.pull(\"hwchase17/react-chat-json\")\n",
        "\n",
        "# Construct the ReAct agent\n",
        "agent_runnable = create_json_chat_agent(chat_model, tools, prompt)"
      ],
      "metadata": {
        "colab": {
          "base_uri": "https://localhost:8080/",
          "height": 180
        },
        "id": "A-ixwUcUAVr1",
        "outputId": "32143cd0-1c34-41ca-babf-92da4af75aad"
      },
      "execution_count": 5,
      "outputs": [
        {
          "output_type": "error",
          "ename": "NameError",
          "evalue": "name 'chat_model' is not defined",
          "traceback": [
            "\u001b[0;31m---------------------------------------------------------------------------\u001b[0m",
            "\u001b[0;31mNameError\u001b[0m                                 Traceback (most recent call last)",
            "\u001b[0;32m<ipython-input-5-8b3bcb069b96>\u001b[0m in \u001b[0;36m<cell line: 7>\u001b[0;34m()\u001b[0m\n\u001b[1;32m      5\u001b[0m \u001b[0;34m\u001b[0m\u001b[0m\n\u001b[1;32m      6\u001b[0m \u001b[0;31m# Construct the ReAct agent\u001b[0m\u001b[0;34m\u001b[0m\u001b[0;34m\u001b[0m\u001b[0m\n\u001b[0;32m----> 7\u001b[0;31m \u001b[0magent_runnable\u001b[0m \u001b[0;34m=\u001b[0m \u001b[0mcreate_json_chat_agent\u001b[0m\u001b[0;34m(\u001b[0m\u001b[0mchat_model\u001b[0m\u001b[0;34m,\u001b[0m \u001b[0mtools\u001b[0m\u001b[0;34m,\u001b[0m \u001b[0mprompt\u001b[0m\u001b[0;34m)\u001b[0m\u001b[0;34m\u001b[0m\u001b[0;34m\u001b[0m\u001b[0m\n\u001b[0m",
            "\u001b[0;31mNameError\u001b[0m: name 'chat_model' is not defined"
          ]
        }
      ]
    },
    {
      "cell_type": "code",
      "source": [
        "from langchain import hub\n",
        "from langchain.agents import create_openai_functions_agent\n",
        "from langchain_openai.chat_models import ChatOpenAI\n",
        "from langchain_community.tools.tavily_search import TavilySearchResults\n",
        "\n",
        "#tools = [TavilySearchResults(max_results=1)]\n",
        "\n",
        "# Get the prompt to use - you can modify this!\n",
        "prompt = hub.pull(\"hwchase17/openai-functions-agent\")\n",
        "\n",
        "# Choose the LLM that will drive the agent\n",
        "llm = ChatOpenAI(model=\"gpt-3.5-turbo-1106\", streaming=True)\n",
        "\n",
        "# Construct the OpenAI Functions agent\n",
        "agent_runnable = create_openai_functions_agent(llm, tools, prompt)"
      ],
      "metadata": {
        "id": "2qmB24nnAhZz"
      },
      "execution_count": 8,
      "outputs": []
    },
    {
      "cell_type": "code",
      "source": [
        "from typing import TypedDict, Annotated, List, Union\n",
        "from langchain_core.agents import AgentAction, AgentFinish\n",
        "from langchain_core.messages import BaseMessage\n",
        "import operator\n",
        "\n",
        "\n",
        "class AgentState(TypedDict):\n",
        "    # The input string\n",
        "    input: str\n",
        "    # The list of previous messages in the conversation\n",
        "    chat_history: list[BaseMessage]\n",
        "    # The outcome of a given call to the agent\n",
        "    # Needs `None` as a valid type, since this is what this will start as\n",
        "    agent_outcome: Union[AgentAction, AgentFinish, None]\n",
        "    # List of actions and corresponding observations\n",
        "    # Here we annotate this with `operator.add` to indicate that operations to\n",
        "    # this state should be ADDED to the existing values (not overwrite it)\n",
        "    intermediate_steps: Annotated[list[tuple[AgentAction, str]], operator.add]"
      ],
      "metadata": {
        "id": "lb6vybVjAtlF"
      },
      "execution_count": 9,
      "outputs": []
    },
    {
      "cell_type": "code",
      "source": [
        "!pip install langgraph"
      ],
      "metadata": {
        "colab": {
          "base_uri": "https://localhost:8080/"
        },
        "id": "kCiIF_eYBB-1",
        "outputId": "5c18e5a6-0623-476c-a1f6-b3a05184e1e0"
      },
      "execution_count": 11,
      "outputs": [
        {
          "output_type": "stream",
          "name": "stdout",
          "text": [
            "Collecting langgraph\n",
            "  Downloading langgraph-0.0.24-py3-none-any.whl (40 kB)\n",
            "\u001b[?25l     \u001b[90m━━━━━━━━━━━━━━━━━━━━━━━━━━━━━━━━━━━━━━━━\u001b[0m \u001b[32m0.0/40.3 kB\u001b[0m \u001b[31m?\u001b[0m eta \u001b[36m-:--:--\u001b[0m\r\u001b[2K     \u001b[90m━━━━━━━━━━━━━━━━━━━━━━━━━━━━━━━━━━━━━━━━\u001b[0m \u001b[32m40.3/40.3 kB\u001b[0m \u001b[31m1.5 MB/s\u001b[0m eta \u001b[36m0:00:00\u001b[0m\n",
            "\u001b[?25hRequirement already satisfied: langchain-core<0.2.0,>=0.1.16 in /usr/local/lib/python3.10/dist-packages (from langgraph) (0.1.25)\n",
            "Requirement already satisfied: PyYAML>=5.3 in /usr/local/lib/python3.10/dist-packages (from langchain-core<0.2.0,>=0.1.16->langgraph) (6.0.1)\n",
            "Requirement already satisfied: anyio<5,>=3 in /usr/local/lib/python3.10/dist-packages (from langchain-core<0.2.0,>=0.1.16->langgraph) (3.7.1)\n",
            "Requirement already satisfied: jsonpatch<2.0,>=1.33 in /usr/local/lib/python3.10/dist-packages (from langchain-core<0.2.0,>=0.1.16->langgraph) (1.33)\n",
            "Requirement already satisfied: langsmith<0.2.0,>=0.1.0 in /usr/local/lib/python3.10/dist-packages (from langchain-core<0.2.0,>=0.1.16->langgraph) (0.1.5)\n",
            "Requirement already satisfied: packaging<24.0,>=23.2 in /usr/local/lib/python3.10/dist-packages (from langchain-core<0.2.0,>=0.1.16->langgraph) (23.2)\n",
            "Requirement already satisfied: pydantic<3,>=1 in /usr/local/lib/python3.10/dist-packages (from langchain-core<0.2.0,>=0.1.16->langgraph) (2.6.1)\n",
            "Requirement already satisfied: requests<3,>=2 in /usr/local/lib/python3.10/dist-packages (from langchain-core<0.2.0,>=0.1.16->langgraph) (2.31.0)\n",
            "Requirement already satisfied: tenacity<9.0.0,>=8.1.0 in /usr/local/lib/python3.10/dist-packages (from langchain-core<0.2.0,>=0.1.16->langgraph) (8.2.3)\n",
            "Requirement already satisfied: idna>=2.8 in /usr/local/lib/python3.10/dist-packages (from anyio<5,>=3->langchain-core<0.2.0,>=0.1.16->langgraph) (3.6)\n",
            "Requirement already satisfied: sniffio>=1.1 in /usr/local/lib/python3.10/dist-packages (from anyio<5,>=3->langchain-core<0.2.0,>=0.1.16->langgraph) (1.3.0)\n",
            "Requirement already satisfied: exceptiongroup in /usr/local/lib/python3.10/dist-packages (from anyio<5,>=3->langchain-core<0.2.0,>=0.1.16->langgraph) (1.2.0)\n",
            "Requirement already satisfied: jsonpointer>=1.9 in /usr/local/lib/python3.10/dist-packages (from jsonpatch<2.0,>=1.33->langchain-core<0.2.0,>=0.1.16->langgraph) (2.4)\n",
            "Requirement already satisfied: annotated-types>=0.4.0 in /usr/local/lib/python3.10/dist-packages (from pydantic<3,>=1->langchain-core<0.2.0,>=0.1.16->langgraph) (0.6.0)\n",
            "Requirement already satisfied: pydantic-core==2.16.2 in /usr/local/lib/python3.10/dist-packages (from pydantic<3,>=1->langchain-core<0.2.0,>=0.1.16->langgraph) (2.16.2)\n",
            "Requirement already satisfied: typing-extensions>=4.6.1 in /usr/local/lib/python3.10/dist-packages (from pydantic<3,>=1->langchain-core<0.2.0,>=0.1.16->langgraph) (4.9.0)\n",
            "Requirement already satisfied: charset-normalizer<4,>=2 in /usr/local/lib/python3.10/dist-packages (from requests<3,>=2->langchain-core<0.2.0,>=0.1.16->langgraph) (3.3.2)\n",
            "Requirement already satisfied: urllib3<3,>=1.21.1 in /usr/local/lib/python3.10/dist-packages (from requests<3,>=2->langchain-core<0.2.0,>=0.1.16->langgraph) (2.0.7)\n",
            "Requirement already satisfied: certifi>=2017.4.17 in /usr/local/lib/python3.10/dist-packages (from requests<3,>=2->langchain-core<0.2.0,>=0.1.16->langgraph) (2024.2.2)\n",
            "Installing collected packages: langgraph\n",
            "Successfully installed langgraph-0.0.24\n"
          ]
        }
      ]
    },
    {
      "cell_type": "code",
      "source": [
        "from langchain_core.agents import AgentFinish\n",
        "from langgraph.prebuilt.tool_executor import ToolExecutor\n",
        "\n",
        "# This a helper class we have that is useful for running tools\n",
        "# It takes in an agent action and calls that tool and returns the result\n",
        "tool_executor = ToolExecutor(tools)\n",
        "\n",
        "\n",
        "# Define the agent\n",
        "def run_agent(data):\n",
        "    agent_outcome = agent_runnable.invoke(data)\n",
        "    return {\"agent_outcome\": agent_outcome}\n",
        "\n",
        "\n",
        "# Define the function to execute tools\n",
        "def execute_tools(data):\n",
        "    # Get the most recent agent_outcome - this is the key added in the `agent` above\n",
        "    agent_action = data[\"agent_outcome\"]\n",
        "    output = tool_executor.invoke(agent_action)\n",
        "    return {\"intermediate_steps\": [(agent_action, str(output))]}\n",
        "\n",
        "\n",
        "# Define logic that will be used to determine which conditional edge to go down\n",
        "def should_continue(data):\n",
        "    # If the agent outcome is an AgentFinish, then we return `exit` string\n",
        "    # This will be used when setting up the graph to define the flow\n",
        "    if isinstance(data[\"agent_outcome\"], AgentFinish):\n",
        "        return \"end\"\n",
        "    # Otherwise, an AgentAction is returned\n",
        "    # Here we return `continue` string\n",
        "    # This will be used when setting up the graph to define the flow\n",
        "    else:\n",
        "        return \"continue\""
      ],
      "metadata": {
        "id": "NoA250y-A0I3"
      },
      "execution_count": 12,
      "outputs": []
    },
    {
      "cell_type": "code",
      "source": [
        "tools[0].name"
      ],
      "metadata": {
        "colab": {
          "base_uri": "https://localhost:8080/",
          "height": 35
        },
        "id": "BqMkxCnaBNiO",
        "outputId": "ea841462-804a-4bd3-986a-53e24a2581f5"
      },
      "execution_count": 13,
      "outputs": [
        {
          "output_type": "execute_result",
          "data": {
            "text/plain": [
              "'duckduckgo_search'"
            ],
            "application/vnd.google.colaboratory.intrinsic+json": {
              "type": "string"
            }
          },
          "metadata": {},
          "execution_count": 13
        }
      ]
    },
    {
      "cell_type": "code",
      "source": [
        "from langchain_core.agents import AgentActionMessageLog\n",
        "\n",
        "\n",
        "def first_agent(inputs):\n",
        "    action = AgentActionMessageLog(\n",
        "        # We force call this tool\n",
        "        tool=\"duckduckgo_search\",\n",
        "        # We just pass in the `input` key to this tool\n",
        "        tool_input=inputs[\"input\"],\n",
        "        log=\"\",\n",
        "        message_log=[],\n",
        "    )\n",
        "    return {\"agent_outcome\": action}"
      ],
      "metadata": {
        "id": "OVB-w0a7BSSH"
      },
      "execution_count": 17,
      "outputs": []
    },
    {
      "cell_type": "code",
      "source": [
        "from langgraph.graph import END, StateGraph\n",
        "\n",
        "# Define a new graph\n",
        "workflow = StateGraph(AgentState)\n",
        "\n",
        "# Define the two nodes we will cycle between\n",
        "workflow.add_node(\"agent\", run_agent)\n",
        "workflow.add_node(\"action\", execute_tools)\n",
        "workflow.add_node(\"first_agent\", first_agent)\n",
        "\n",
        "# Set the entrypoint as `agent`\n",
        "# This means that this node is the first one called\n",
        "workflow.set_entry_point(\"first_agent\")\n",
        "\n",
        "# We now add a conditional edge\n",
        "workflow.add_conditional_edges(\n",
        "    # First, we define the start node. We use `agent`.\n",
        "    # This means these are the edges taken after the `agent` node is called.\n",
        "    \"agent\",\n",
        "    # Next, we pass in the function that will determine which node is called next.\n",
        "    should_continue,\n",
        "    # Finally we pass in a mapping.\n",
        "    # The keys are strings, and the values are other nodes.\n",
        "    # END is a special node marking that the graph should finish.\n",
        "    # What will happen is we will call `should_continue`, and then the output of that\n",
        "    # will be matched against the keys in this mapping.\n",
        "    # Based on which one it matches, that node will then be called.\n",
        "    {\n",
        "        # If `tools`, then we call the tool node.\n",
        "        \"continue\": \"action\",\n",
        "        # Otherwise we finish.\n",
        "        \"end\": END,\n",
        "    },\n",
        ")\n",
        "\n",
        "# We now add a normal edge from `tools` to `agent`.\n",
        "# This means that after `tools` is called, `agent` node is called next.\n",
        "workflow.add_edge(\"action\", \"agent\")\n",
        "\n",
        "# After the first agent, we want to take an action\n",
        "workflow.add_edge(\"first_agent\", \"action\")\n",
        "\n",
        "# Finally, we compile it!\n",
        "# This compiles it into a LangChain Runnable,\n",
        "# meaning you can use it as you would any other runnable\n",
        "app = workflow.compile()"
      ],
      "metadata": {
        "id": "M697Ol5eBanQ"
      },
      "execution_count": 18,
      "outputs": []
    },
    {
      "cell_type": "code",
      "source": [
        "inputs = {\"input\": \"what is the weather in sf\", \"chat_history\": []}\n",
        "for s in app.stream(inputs):\n",
        "    print(list(s.values())[0])\n",
        "    print(\"----\")"
      ],
      "metadata": {
        "colab": {
          "base_uri": "https://localhost:8080/"
        },
        "id": "cVd9WF-AAgkc",
        "outputId": "88426350-b7b5-41b6-e070-d15907de824b"
      },
      "execution_count": 19,
      "outputs": [
        {
          "output_type": "stream",
          "name": "stdout",
          "text": [
            "{'agent_outcome': AgentActionMessageLog(tool='duckduckgo_search', tool_input='what is the weather in sf', log='', message_log=[])}\n",
            "----\n",
            "{'intermediate_steps': [(AgentActionMessageLog(tool='duckduckgo_search', tool_input='what is the weather in sf', log='', message_log=[]), \"Location: San Francisco, CA Elevation: 39ft Nearby Weather Stations Today Hourly 10-Day Calendar History Wundermap settings Customize Sun 2/18 Mon 2/19 Tue 2/20 Wed 2/21 Thu 2/22 Fri 2/23 Sat... San Francisco Bay Area, CA Heavy Snow in the Central and Southern High Plains; Heavy Rain from the Southern Plains to Tennessee Valley A storm system will produce a few weather hazards as it move across the southern U.S. this weekend. Heavy, accumulating snow is possible in the central and southern High Plains. Feb 19, 2024. The National Weather Service forecast for the greater San Francisco Bay Area for Monday calls for up to 90 percent chance of heavy rain, along with a chance of thunderstorms. Watch ... TUESDAY: Clouds to start with a chance of spotty rain and thunderstorms from the North Bay to SF and chilly 40s. We'll keep a spotty rain and thunderstorm chance for the afternoon and 50s to low ... Get the latest weather updates for the San Francisco Bay Area and beyond from KTVU FOX 2 Weather. Find out how the atmospheric river is affecting the region, and what to expect in the coming days ...\")]}\n",
            "----\n",
            "{'agent_outcome': AgentFinish(return_values={'output': 'The weather in San Francisco, CA today includes heavy rain with a chance of thunderstorms. The temperature is expected to be in the 40s and 50s.'}, log='The weather in San Francisco, CA today includes heavy rain with a chance of thunderstorms. The temperature is expected to be in the 40s and 50s.')}\n",
            "----\n",
            "{'input': 'what is the weather in sf', 'chat_history': [], 'agent_outcome': AgentFinish(return_values={'output': 'The weather in San Francisco, CA today includes heavy rain with a chance of thunderstorms. The temperature is expected to be in the 40s and 50s.'}, log='The weather in San Francisco, CA today includes heavy rain with a chance of thunderstorms. The temperature is expected to be in the 40s and 50s.'), 'intermediate_steps': [(AgentActionMessageLog(tool='duckduckgo_search', tool_input='what is the weather in sf', log='', message_log=[]), \"Location: San Francisco, CA Elevation: 39ft Nearby Weather Stations Today Hourly 10-Day Calendar History Wundermap settings Customize Sun 2/18 Mon 2/19 Tue 2/20 Wed 2/21 Thu 2/22 Fri 2/23 Sat... San Francisco Bay Area, CA Heavy Snow in the Central and Southern High Plains; Heavy Rain from the Southern Plains to Tennessee Valley A storm system will produce a few weather hazards as it move across the southern U.S. this weekend. Heavy, accumulating snow is possible in the central and southern High Plains. Feb 19, 2024. The National Weather Service forecast for the greater San Francisco Bay Area for Monday calls for up to 90 percent chance of heavy rain, along with a chance of thunderstorms. Watch ... TUESDAY: Clouds to start with a chance of spotty rain and thunderstorms from the North Bay to SF and chilly 40s. We'll keep a spotty rain and thunderstorm chance for the afternoon and 50s to low ... Get the latest weather updates for the San Francisco Bay Area and beyond from KTVU FOX 2 Weather. Find out how the atmospheric river is affecting the region, and what to expect in the coming days ...\")]}\n",
            "----\n"
          ]
        }
      ]
    },
    {
      "cell_type": "code",
      "source": [
        "result = app.invoke({\"input\": \"what is DataStax\", \"chat_history\": []})\n",
        "\n",
        "print(result[\"agent_outcome\"].return_values[\"output\"])"
      ],
      "metadata": {
        "colab": {
          "base_uri": "https://localhost:8080/"
        },
        "id": "BUEY9iSwCOKw",
        "outputId": "fd3e9b10-3f0c-4bd7-8f42-b4ee5391a341"
      },
      "execution_count": 21,
      "outputs": [
        {
          "output_type": "stream",
          "name": "stdout",
          "text": [
            "DataStax is a company known for its real-time AI solutions and is a leading commercial vendor behind the open-source Apache Cassandra database. It offers AstraDB, a cloud database-as-a-service based on Apache Cassandra. DataStax also works on cutting-edge technologies such as generative AI, vector search, and real-time data innovations.\n"
          ]
        }
      ]
    },
    {
      "cell_type": "code",
      "source": [
        "result = app.invoke({\"input\": \"what is the weather in Tokyo\", \"chat_history\": []})\n",
        "\n",
        "print(result[\"agent_outcome\"].return_values[\"output\"])"
      ],
      "metadata": {
        "colab": {
          "base_uri": "https://localhost:8080/"
        },
        "id": "f6HWbIIbCXcy",
        "outputId": "cfae8478-64db-450f-a9ca-8b862dc068cd"
      },
      "execution_count": 23,
      "outputs": [
        {
          "output_type": "stream",
          "name": "stdout",
          "text": [
            "The weather in Tokyo is currently partly cloudy with a temperature of 56°F.\n"
          ]
        }
      ]
    },
    {
      "cell_type": "code",
      "source": [
        "from langchain.globals import set_debug, set_verbose\n",
        "\n",
        "set_debug(False)\n",
        "set_verbose(False)"
      ],
      "metadata": {
        "id": "6chaQcFsEt78"
      },
      "execution_count": 31,
      "outputs": []
    },
    {
      "cell_type": "code",
      "source": [
        "inputs = {\"input\": \"Generate an address book with addresses, names and phone numbers.\", \"chat_history\": []}\n",
        "for s in app.stream(inputs):\n",
        "    print(list(s.values())[0])\n",
        "    print(\"----\")"
      ],
      "metadata": {
        "colab": {
          "base_uri": "https://localhost:8080/"
        },
        "id": "T12jHFN6Cumo",
        "outputId": "350a5243-465d-4258-94cd-3685d3970efb"
      },
      "execution_count": 33,
      "outputs": [
        {
          "output_type": "stream",
          "name": "stdout",
          "text": [
            "{'agent_outcome': AgentActionMessageLog(tool='duckduckgo_search', tool_input='Generate an address book with addresses, names and phone numbers.', log='', message_log=[])}\n",
            "----\n",
            "{'intermediate_steps': [(AgentActionMessageLog(tool='duckduckgo_search', tool_input='Generate an address book with addresses, names and phone numbers.', log='', message_log=[]), \"Using Filters to Sort the Google Sheets Contact List Template. At this point, you can choose to add filters to your contact list to sort your list by name. Here are the steps you need to follow: Select all the column headers of your contact list. From the Data menu, select ' Create a Filter '. Alternatively you can click on the 'Create a ... Top 6 FREE Google Sheets Address Book Template [2024] - Ultimate Guide. Google Sheets is a cloud-based spreadsheet program with versatile functions and tools. You can create a robust address book to store contact details such as emails, phone numbers, and physical addresses. Maintaining an address book doesn't have to be a daunting task. With the Address Book Excel Template, you can quickly and easily store names, addresses, phone numbers, and emails for easy reference and retrieval. Features of the Address Book Excel Template. Easily store contact information including name, address, phone number, and email address. Organize contacts by name, address, phone number, or email ... Here's a quick preview of our favorite picks: C-Organizer - Best address book software with contact sync & day planner. My Personal Address Book - Printable address book software. Efficcess - Address book software for Windows 7 & older versions. Free Address Book - Free address book for Windows 10 & Windows 11. To do this, select the cells, click the Merge icon, and choose the Merge all option. Step 3. Add content to your template by entering text into blank cells, labeling each item you want to include in your address book (such as name, address, phone number, email). Step 4. Now let's customize the content.\")]}\n",
            "----\n",
            "{'agent_outcome': AgentFinish(return_values={'output': \"To generate an address book with addresses, names, and phone numbers, you can use a spreadsheet program like Google Sheets or Excel. Here are the steps to create an address book in Google Sheets:\\n\\n1. Open Google Sheets and create a new spreadsheet.\\n2. Label the columns with the following headers: Name, Address, Phone Number.\\n3. Enter the contact information into the corresponding rows under each column header.\\n\\nOnce you've entered the contact information, you'll have an address book with names, addresses, and phone numbers that you can easily update and reference.\"}, log=\"To generate an address book with addresses, names, and phone numbers, you can use a spreadsheet program like Google Sheets or Excel. Here are the steps to create an address book in Google Sheets:\\n\\n1. Open Google Sheets and create a new spreadsheet.\\n2. Label the columns with the following headers: Name, Address, Phone Number.\\n3. Enter the contact information into the corresponding rows under each column header.\\n\\nOnce you've entered the contact information, you'll have an address book with names, addresses, and phone numbers that you can easily update and reference.\")}\n",
            "----\n",
            "{'input': 'Generate an address book with addresses, names and phone numbers.', 'chat_history': [], 'agent_outcome': AgentFinish(return_values={'output': \"To generate an address book with addresses, names, and phone numbers, you can use a spreadsheet program like Google Sheets or Excel. Here are the steps to create an address book in Google Sheets:\\n\\n1. Open Google Sheets and create a new spreadsheet.\\n2. Label the columns with the following headers: Name, Address, Phone Number.\\n3. Enter the contact information into the corresponding rows under each column header.\\n\\nOnce you've entered the contact information, you'll have an address book with names, addresses, and phone numbers that you can easily update and reference.\"}, log=\"To generate an address book with addresses, names, and phone numbers, you can use a spreadsheet program like Google Sheets or Excel. Here are the steps to create an address book in Google Sheets:\\n\\n1. Open Google Sheets and create a new spreadsheet.\\n2. Label the columns with the following headers: Name, Address, Phone Number.\\n3. Enter the contact information into the corresponding rows under each column header.\\n\\nOnce you've entered the contact information, you'll have an address book with names, addresses, and phone numbers that you can easily update and reference.\"), 'intermediate_steps': [(AgentActionMessageLog(tool='duckduckgo_search', tool_input='Generate an address book with addresses, names and phone numbers.', log='', message_log=[]), \"Using Filters to Sort the Google Sheets Contact List Template. At this point, you can choose to add filters to your contact list to sort your list by name. Here are the steps you need to follow: Select all the column headers of your contact list. From the Data menu, select ' Create a Filter '. Alternatively you can click on the 'Create a ... Top 6 FREE Google Sheets Address Book Template [2024] - Ultimate Guide. Google Sheets is a cloud-based spreadsheet program with versatile functions and tools. You can create a robust address book to store contact details such as emails, phone numbers, and physical addresses. Maintaining an address book doesn't have to be a daunting task. With the Address Book Excel Template, you can quickly and easily store names, addresses, phone numbers, and emails for easy reference and retrieval. Features of the Address Book Excel Template. Easily store contact information including name, address, phone number, and email address. Organize contacts by name, address, phone number, or email ... Here's a quick preview of our favorite picks: C-Organizer - Best address book software with contact sync & day planner. My Personal Address Book - Printable address book software. Efficcess - Address book software for Windows 7 & older versions. Free Address Book - Free address book for Windows 10 & Windows 11. To do this, select the cells, click the Merge icon, and choose the Merge all option. Step 3. Add content to your template by entering text into blank cells, labeling each item you want to include in your address book (such as name, address, phone number, email). Step 4. Now let's customize the content.\")]}\n",
            "----\n"
          ]
        }
      ]
    },
    {
      "cell_type": "code",
      "source": [
        "# Define a new graph\n",
        "workflow2 = StateGraph(AgentState)\n",
        "\n",
        "# Define the two nodes we will cycle between\n",
        "workflow2.add_node(\"agent\", run_agent)\n",
        "workflow2.add_node(\"action\", execute_tools)\n",
        "#workflow.add_node(\"first_agent\", first_agent)\n",
        "\n",
        "# Set the entrypoint as `agent`\n",
        "# This means that this node is the first one called\n",
        "workflow2.set_entry_point(\"agent\")\n",
        "\n",
        "# We now add a conditional edge\n",
        "workflow2.add_conditional_edges(\n",
        "    # First, we define the start node. We use `agent`.\n",
        "    # This means these are the edges taken after the `agent` node is called.\n",
        "    \"agent\",\n",
        "    # Next, we pass in the function that will determine which node is called next.\n",
        "    should_continue,\n",
        "    # Finally we pass in a mapping.\n",
        "    # The keys are strings, and the values are other nodes.\n",
        "    # END is a special node marking that the graph should finish.\n",
        "    # What will happen is we will call `should_continue`, and then the output of that\n",
        "    # will be matched against the keys in this mapping.\n",
        "    # Based on which one it matches, that node will then be called.\n",
        "    {\n",
        "        # If `tools`, then we call the tool node.\n",
        "        \"continue\": \"action\",\n",
        "        # Otherwise we finish.\n",
        "        \"end\": END,\n",
        "    },\n",
        ")\n",
        "\n",
        "# We now add a normal edge from `tools` to `agent`.\n",
        "# This means that after `tools` is called, `agent` node is called next.\n",
        "workflow2.add_edge(\"action\", \"agent\")\n",
        "\n",
        "# After the first agent, we want to take an action\n",
        "#workflow.add_edge(\"first_agent\", \"action\")\n",
        "\n",
        "# Finally, we compile it!\n",
        "# This compiles it into a LangChain Runnable,\n",
        "# meaning you can use it as you would any other runnable\n",
        "app2 = workflow2.compile()"
      ],
      "metadata": {
        "id": "3dEK1KtLC9Jd"
      },
      "execution_count": 34,
      "outputs": []
    },
    {
      "cell_type": "code",
      "source": [
        "inputs = {\"input\": \"Generate an address book having 3 contacts with addresses, names and phone numbers in JSON format. Output shold includes only JSON address list without any response.\", \"chat_history\": []}\n",
        "for s in app2.stream(inputs):\n",
        "    print(list(s.values())[0])\n",
        "    print(\"----\")"
      ],
      "metadata": {
        "colab": {
          "base_uri": "https://localhost:8080/"
        },
        "id": "3zb5rQReDyHp",
        "outputId": "5be8c1e3-9b12-46ed-8f21-b4ce950c41be"
      },
      "execution_count": 38,
      "outputs": [
        {
          "output_type": "stream",
          "name": "stdout",
          "text": [
            "{'agent_outcome': AgentFinish(return_values={'output': '{\\n  \"addressBook\": [\\n    {\\n      \"name\": \"John Doe\",\\n      \"address\": \"123 Main Street, City, Country\",\\n      \"phone\": \"123-456-7890\"\\n    },\\n    {\\n      \"name\": \"Jane Smith\",\\n      \"address\": \"456 Oak Avenue, Town, Country\",\\n      \"phone\": \"987-654-3210\"\\n    },\\n    {\\n      \"name\": \"Bob Johnson\",\\n      \"address\": \"789 Elm Road, Village, Country\",\\n      \"phone\": \"456-789-0123\"\\n    }\\n  ]\\n}\\n{\\n  \"addressBook\": [\\n    {\\n      \"name\": \"John Doe\",\\n      \"address\": \"123 Main Street, City, Country\",\\n      \"phone\": \"123-456-7890\"\\n    },\\n    {\\n      \"name\": \"Jane Smith\",\\n      \"address\": \"456 Oak Avenue, Town, Country\",\\n      \"phone\": \"987-654-3210\"\\n    },\\n    {\\n      \"name\": \"Bob Johnson\",\\n      \"address\": \"789 Elm Road, Village, Country\",\\n      \"phone\": \"456-789-0123\"\\n    }\\n  ]\\n}'}, log='{\\n  \"addressBook\": [\\n    {\\n      \"name\": \"John Doe\",\\n      \"address\": \"123 Main Street, City, Country\",\\n      \"phone\": \"123-456-7890\"\\n    },\\n    {\\n      \"name\": \"Jane Smith\",\\n      \"address\": \"456 Oak Avenue, Town, Country\",\\n      \"phone\": \"987-654-3210\"\\n    },\\n    {\\n      \"name\": \"Bob Johnson\",\\n      \"address\": \"789 Elm Road, Village, Country\",\\n      \"phone\": \"456-789-0123\"\\n    }\\n  ]\\n}\\n{\\n  \"addressBook\": [\\n    {\\n      \"name\": \"John Doe\",\\n      \"address\": \"123 Main Street, City, Country\",\\n      \"phone\": \"123-456-7890\"\\n    },\\n    {\\n      \"name\": \"Jane Smith\",\\n      \"address\": \"456 Oak Avenue, Town, Country\",\\n      \"phone\": \"987-654-3210\"\\n    },\\n    {\\n      \"name\": \"Bob Johnson\",\\n      \"address\": \"789 Elm Road, Village, Country\",\\n      \"phone\": \"456-789-0123\"\\n    }\\n  ]\\n}')}\n",
            "----\n",
            "{'input': 'Generate an address book having 3 contacts with addresses, names and phone numbers in JSON format. Output shold includes only JSON address list without any response.', 'chat_history': [], 'agent_outcome': AgentFinish(return_values={'output': '{\\n  \"addressBook\": [\\n    {\\n      \"name\": \"John Doe\",\\n      \"address\": \"123 Main Street, City, Country\",\\n      \"phone\": \"123-456-7890\"\\n    },\\n    {\\n      \"name\": \"Jane Smith\",\\n      \"address\": \"456 Oak Avenue, Town, Country\",\\n      \"phone\": \"987-654-3210\"\\n    },\\n    {\\n      \"name\": \"Bob Johnson\",\\n      \"address\": \"789 Elm Road, Village, Country\",\\n      \"phone\": \"456-789-0123\"\\n    }\\n  ]\\n}\\n{\\n  \"addressBook\": [\\n    {\\n      \"name\": \"John Doe\",\\n      \"address\": \"123 Main Street, City, Country\",\\n      \"phone\": \"123-456-7890\"\\n    },\\n    {\\n      \"name\": \"Jane Smith\",\\n      \"address\": \"456 Oak Avenue, Town, Country\",\\n      \"phone\": \"987-654-3210\"\\n    },\\n    {\\n      \"name\": \"Bob Johnson\",\\n      \"address\": \"789 Elm Road, Village, Country\",\\n      \"phone\": \"456-789-0123\"\\n    }\\n  ]\\n}'}, log='{\\n  \"addressBook\": [\\n    {\\n      \"name\": \"John Doe\",\\n      \"address\": \"123 Main Street, City, Country\",\\n      \"phone\": \"123-456-7890\"\\n    },\\n    {\\n      \"name\": \"Jane Smith\",\\n      \"address\": \"456 Oak Avenue, Town, Country\",\\n      \"phone\": \"987-654-3210\"\\n    },\\n    {\\n      \"name\": \"Bob Johnson\",\\n      \"address\": \"789 Elm Road, Village, Country\",\\n      \"phone\": \"456-789-0123\"\\n    }\\n  ]\\n}\\n{\\n  \"addressBook\": [\\n    {\\n      \"name\": \"John Doe\",\\n      \"address\": \"123 Main Street, City, Country\",\\n      \"phone\": \"123-456-7890\"\\n    },\\n    {\\n      \"name\": \"Jane Smith\",\\n      \"address\": \"456 Oak Avenue, Town, Country\",\\n      \"phone\": \"987-654-3210\"\\n    },\\n    {\\n      \"name\": \"Bob Johnson\",\\n      \"address\": \"789 Elm Road, Village, Country\",\\n      \"phone\": \"456-789-0123\"\\n    }\\n  ]\\n}'), 'intermediate_steps': []}\n",
            "----\n"
          ]
        }
      ]
    },
    {
      "cell_type": "code",
      "source": [
        "result = app.invoke({\"input\": \"Generate a virtual address book having as much unreal contacts with addresses, names and phone numbers as possible in JSON format. Output shold includes only JSON address list without any response.\", \"chat_history\": []})\n",
        "\n",
        "print(result[\"agent_outcome\"].return_values[\"output\"])"
      ],
      "metadata": {
        "colab": {
          "base_uri": "https://localhost:8080/"
        },
        "id": "LiEWXFuiHpEX",
        "outputId": "0b3c0937-1a09-4547-8368-71d595a2484b"
      },
      "execution_count": 44,
      "outputs": [
        {
          "output_type": "stream",
          "name": "stdout",
          "text": [
            "Here is a virtual address book with unreal contacts in JSON format:\n",
            "\n",
            "```json\n",
            "{\n",
            "  \"addressBook\": [\n",
            "    {\n",
            "      \"name\": \"John Doe\",\n",
            "      \"address\": \"123 Main Street, Anytown, USA\",\n",
            "      \"phone\": \"555-1234\"\n",
            "    },\n",
            "    {\n",
            "      \"name\": \"Jane Smith\",\n",
            "      \"address\": \"456 Elm Street, Imaginary City, Wonderland\",\n",
            "      \"phone\": \"555-5678\"\n",
            "    },\n",
            "    {\n",
            "      \"name\": \"Bob Johnson\",\n",
            "      \"address\": \"789 Oak Avenue, Fantasy Town, Dreamland\",\n",
            "      \"phone\": \"555-9876\"\n",
            "    },\n",
            "    {\n",
            "      \"name\": \"Alice Williams\",\n",
            "      \"address\": \"321 Maple Lane, Make-Believe Village, Neverland\",\n",
            "      \"phone\": \"555-4321\"\n",
            "    }\n",
            "  ]\n",
            "}\n",
            "```\n"
          ]
        }
      ]
    },
    {
      "cell_type": "markdown",
      "source": [
        "https://zenn.dev/tellernovel_inc/articles/7c99563fad1319\n",
        "\n",
        "# Pydantic + JSON MODE"
      ],
      "metadata": {
        "id": "gkkmhT0WOLSI"
      }
    },
    {
      "cell_type": "code",
      "source": [
        "import json\n",
        "\n",
        "import tiktoken\n",
        "from openai import OpenAI\n",
        "from pydantic import BaseModel, Field\n",
        "from rich import print\n",
        "\n",
        "client = OpenAI()"
      ],
      "metadata": {
        "id": "O-3fAAvBOQxx"
      },
      "execution_count": 45,
      "outputs": []
    },
    {
      "cell_type": "code",
      "source": [
        "original_prompt = \"\"\"以下のjson 形式に従って、架空の住所録を作成してください。できるだけ多くの連絡先を出力してください\n",
        "{\n",
        "    \"addressbook\": [\n",
        "        {\n",
        "            \"name\": \"名前\",\n",
        "            \"location\": \"住所\"\n",
        "        }\n",
        "    ]\n",
        "}\n",
        "\"\"\""
      ],
      "metadata": {
        "id": "jlpYJ4Z3OV50"
      },
      "execution_count": 55,
      "outputs": []
    },
    {
      "cell_type": "code",
      "source": [
        "original_prompt = \"\"\"以下のjson 形式に従って、架空の住所録を作成してください。できるだけ多くの連絡先を出力してください\n",
        "[\n",
        "        {\n",
        "            \"name\": \"名前\",\n",
        "            \"location\": \"住所\"\n",
        "        }\n",
        "]\n",
        "\"\"\""
      ],
      "metadata": {
        "id": "T-6o9UvgTrA9"
      },
      "execution_count": 53,
      "outputs": []
    },
    {
      "cell_type": "code",
      "source": [
        "response = client.chat.completions.create(\n",
        "    model=\"gpt-4-1106-preview\",\n",
        "    response_format={\"type\": \"json_object\"},\n",
        "    temperature=0.0,\n",
        "    messages=[\n",
        "        {\"role\": \"system\", \"content\": \"あなたは日本の地理を使います\"},\n",
        "        {\"role\": \"user\", \"content\": original_prompt},\n",
        "    ]\n",
        ")\n",
        "print(response.choices[0].message.content)\n",
        "print(response.usage)"
      ],
      "metadata": {
        "colab": {
          "base_uri": "https://localhost:8080/",
          "height": 850
        },
        "id": "H_PP95_WOs96",
        "outputId": "07b4bd0a-9a40-4fc9-ec6f-4369641db7fd"
      },
      "execution_count": 51,
      "outputs": [
        {
          "output_type": "display_data",
          "data": {
            "text/plain": [
              "\u001b[1m{\u001b[0m\n",
              "    \u001b[32m\"addressbook\"\u001b[0m: \u001b[1m[\u001b[0m\n",
              "        \u001b[1m{\u001b[0m\n",
              "            \u001b[32m\"name\"\u001b[0m: \u001b[32m\"山田太郎\"\u001b[0m,\n",
              "            \u001b[32m\"location\"\u001b[0m: \u001b[32m\"東京都新宿区西新宿2-8-1\"\u001b[0m\n",
              "        \u001b[1m}\u001b[0m,\n",
              "        \u001b[1m{\u001b[0m\n",
              "            \u001b[32m\"name\"\u001b[0m: \u001b[32m\"鈴木一郎\"\u001b[0m,\n",
              "            \u001b[32m\"location\"\u001b[0m: \u001b[32m\"大阪府大阪市北区梅田1-1-3\"\u001b[0m\n",
              "        \u001b[1m}\u001b[0m,\n",
              "        \u001b[1m{\u001b[0m\n",
              "            \u001b[32m\"name\"\u001b[0m: \u001b[32m\"佐藤花子\"\u001b[0m,\n",
              "            \u001b[32m\"location\"\u001b[0m: \u001b[32m\"北海道札幌市中央区北五条西2-5-7\"\u001b[0m\n",
              "        \u001b[1m}\u001b[0m,\n",
              "        \u001b[1m{\u001b[0m\n",
              "            \u001b[32m\"name\"\u001b[0m: \u001b[32m\"伊藤翔太\"\u001b[0m,\n",
              "            \u001b[32m\"location\"\u001b[0m: \u001b[32m\"愛知県名古屋市中村区名駅3-28-12\"\u001b[0m\n",
              "        \u001b[1m}\u001b[0m,\n",
              "        \u001b[1m{\u001b[0m\n",
              "            \u001b[32m\"name\"\u001b[0m: \u001b[32m\"高橋美咲\"\u001b[0m,\n",
              "            \u001b[32m\"location\"\u001b[0m: \u001b[32m\"福岡県福岡市博多区博多駅中央街7-10-1\"\u001b[0m\n",
              "        \u001b[1m}\u001b[0m,\n",
              "        \u001b[1m{\u001b[0m\n",
              "            \u001b[32m\"name\"\u001b[0m: \u001b[32m\"田中健\"\u001b[0m,\n",
              "            \u001b[32m\"location\"\u001b[0m: \u001b[32m\"広島県広島市中区基町12-34\"\u001b[0m\n",
              "        \u001b[1m}\u001b[0m,\n",
              "        \u001b[1m{\u001b[0m\n",
              "            \u001b[32m\"name\"\u001b[0m: \u001b[32m\"渡辺直美\"\u001b[0m,\n",
              "            \u001b[32m\"location\"\u001b[0m: \u001b[32m\"宮城県仙台市青葉区一番町4-6-1\"\u001b[0m\n",
              "        \u001b[1m}\u001b[0m,\n",
              "        \u001b[1m{\u001b[0m\n",
              "            \u001b[32m\"name\"\u001b[0m: \u001b[32m\"小林誠\"\u001b[0m,\n",
              "            \u001b[32m\"location\"\u001b[0m: \u001b[32m\"京都府京都市下京区四条通り河原町東入ル真町100\"\u001b[0m\n",
              "        \u001b[1m}\u001b[0m,\n",
              "        \u001b[1m{\u001b[0m\n",
              "            \u001b[32m\"name\"\u001b[0m: \u001b[32m\"加藤浩二\"\u001b[0m,\n",
              "            \u001b[32m\"location\"\u001b[0m: \u001b[32m\"神奈川県横浜市西区みなとみらい2-3-5\"\u001b[0m\n",
              "        \u001b[1m}\u001b[0m,\n",
              "        \u001b[1m{\u001b[0m\n",
              "            \u001b[32m\"name\"\u001b[0m: \u001b[32m\"中村悠真\"\u001b[0m,\n",
              "            \u001b[32m\"location\"\u001b[0m: \u001b[32m\"沖縄県那覇市おもろまち4-3-1\"\u001b[0m\n",
              "        \u001b[1m}\u001b[0m\n",
              "    \u001b[1m]\u001b[0m\n",
              "\u001b[1m}\u001b[0m\n"
            ],
            "text/html": [
              "<pre style=\"white-space:pre;overflow-x:auto;line-height:normal;font-family:Menlo,'DejaVu Sans Mono',consolas,'Courier New',monospace\"><span style=\"font-weight: bold\">{</span>\n",
              "    <span style=\"color: #008000; text-decoration-color: #008000\">\"addressbook\"</span>: <span style=\"font-weight: bold\">[</span>\n",
              "        <span style=\"font-weight: bold\">{</span>\n",
              "            <span style=\"color: #008000; text-decoration-color: #008000\">\"name\"</span>: <span style=\"color: #008000; text-decoration-color: #008000\">\"山田太郎\"</span>,\n",
              "            <span style=\"color: #008000; text-decoration-color: #008000\">\"location\"</span>: <span style=\"color: #008000; text-decoration-color: #008000\">\"東京都新宿区西新宿2-8-1\"</span>\n",
              "        <span style=\"font-weight: bold\">}</span>,\n",
              "        <span style=\"font-weight: bold\">{</span>\n",
              "            <span style=\"color: #008000; text-decoration-color: #008000\">\"name\"</span>: <span style=\"color: #008000; text-decoration-color: #008000\">\"鈴木一郎\"</span>,\n",
              "            <span style=\"color: #008000; text-decoration-color: #008000\">\"location\"</span>: <span style=\"color: #008000; text-decoration-color: #008000\">\"大阪府大阪市北区梅田1-1-3\"</span>\n",
              "        <span style=\"font-weight: bold\">}</span>,\n",
              "        <span style=\"font-weight: bold\">{</span>\n",
              "            <span style=\"color: #008000; text-decoration-color: #008000\">\"name\"</span>: <span style=\"color: #008000; text-decoration-color: #008000\">\"佐藤花子\"</span>,\n",
              "            <span style=\"color: #008000; text-decoration-color: #008000\">\"location\"</span>: <span style=\"color: #008000; text-decoration-color: #008000\">\"北海道札幌市中央区北五条西2-5-7\"</span>\n",
              "        <span style=\"font-weight: bold\">}</span>,\n",
              "        <span style=\"font-weight: bold\">{</span>\n",
              "            <span style=\"color: #008000; text-decoration-color: #008000\">\"name\"</span>: <span style=\"color: #008000; text-decoration-color: #008000\">\"伊藤翔太\"</span>,\n",
              "            <span style=\"color: #008000; text-decoration-color: #008000\">\"location\"</span>: <span style=\"color: #008000; text-decoration-color: #008000\">\"愛知県名古屋市中村区名駅3-28-12\"</span>\n",
              "        <span style=\"font-weight: bold\">}</span>,\n",
              "        <span style=\"font-weight: bold\">{</span>\n",
              "            <span style=\"color: #008000; text-decoration-color: #008000\">\"name\"</span>: <span style=\"color: #008000; text-decoration-color: #008000\">\"高橋美咲\"</span>,\n",
              "            <span style=\"color: #008000; text-decoration-color: #008000\">\"location\"</span>: <span style=\"color: #008000; text-decoration-color: #008000\">\"福岡県福岡市博多区博多駅中央街7-10-1\"</span>\n",
              "        <span style=\"font-weight: bold\">}</span>,\n",
              "        <span style=\"font-weight: bold\">{</span>\n",
              "            <span style=\"color: #008000; text-decoration-color: #008000\">\"name\"</span>: <span style=\"color: #008000; text-decoration-color: #008000\">\"田中健\"</span>,\n",
              "            <span style=\"color: #008000; text-decoration-color: #008000\">\"location\"</span>: <span style=\"color: #008000; text-decoration-color: #008000\">\"広島県広島市中区基町12-34\"</span>\n",
              "        <span style=\"font-weight: bold\">}</span>,\n",
              "        <span style=\"font-weight: bold\">{</span>\n",
              "            <span style=\"color: #008000; text-decoration-color: #008000\">\"name\"</span>: <span style=\"color: #008000; text-decoration-color: #008000\">\"渡辺直美\"</span>,\n",
              "            <span style=\"color: #008000; text-decoration-color: #008000\">\"location\"</span>: <span style=\"color: #008000; text-decoration-color: #008000\">\"宮城県仙台市青葉区一番町4-6-1\"</span>\n",
              "        <span style=\"font-weight: bold\">}</span>,\n",
              "        <span style=\"font-weight: bold\">{</span>\n",
              "            <span style=\"color: #008000; text-decoration-color: #008000\">\"name\"</span>: <span style=\"color: #008000; text-decoration-color: #008000\">\"小林誠\"</span>,\n",
              "            <span style=\"color: #008000; text-decoration-color: #008000\">\"location\"</span>: <span style=\"color: #008000; text-decoration-color: #008000\">\"京都府京都市下京区四条通り河原町東入ル真町100\"</span>\n",
              "        <span style=\"font-weight: bold\">}</span>,\n",
              "        <span style=\"font-weight: bold\">{</span>\n",
              "            <span style=\"color: #008000; text-decoration-color: #008000\">\"name\"</span>: <span style=\"color: #008000; text-decoration-color: #008000\">\"加藤浩二\"</span>,\n",
              "            <span style=\"color: #008000; text-decoration-color: #008000\">\"location\"</span>: <span style=\"color: #008000; text-decoration-color: #008000\">\"神奈川県横浜市西区みなとみらい2-3-5\"</span>\n",
              "        <span style=\"font-weight: bold\">}</span>,\n",
              "        <span style=\"font-weight: bold\">{</span>\n",
              "            <span style=\"color: #008000; text-decoration-color: #008000\">\"name\"</span>: <span style=\"color: #008000; text-decoration-color: #008000\">\"中村悠真\"</span>,\n",
              "            <span style=\"color: #008000; text-decoration-color: #008000\">\"location\"</span>: <span style=\"color: #008000; text-decoration-color: #008000\">\"沖縄県那覇市おもろまち4-3-1\"</span>\n",
              "        <span style=\"font-weight: bold\">}</span>\n",
              "    <span style=\"font-weight: bold\">]</span>\n",
              "<span style=\"font-weight: bold\">}</span>\n",
              "</pre>\n"
            ]
          },
          "metadata": {}
        },
        {
          "output_type": "display_data",
          "data": {
            "text/plain": [
              "\u001b[1;35mCompletionUsage\u001b[0m\u001b[1m(\u001b[0m\u001b[33mcompletion_tokens\u001b[0m=\u001b[1;36m469\u001b[0m, \u001b[33mprompt_tokens\u001b[0m=\u001b[1;36m98\u001b[0m, \u001b[33mtotal_tokens\u001b[0m=\u001b[1;36m567\u001b[0m\u001b[1m)\u001b[0m\n"
            ],
            "text/html": [
              "<pre style=\"white-space:pre;overflow-x:auto;line-height:normal;font-family:Menlo,'DejaVu Sans Mono',consolas,'Courier New',monospace\"><span style=\"color: #800080; text-decoration-color: #800080; font-weight: bold\">CompletionUsage</span><span style=\"font-weight: bold\">(</span><span style=\"color: #808000; text-decoration-color: #808000\">completion_tokens</span>=<span style=\"color: #008080; text-decoration-color: #008080; font-weight: bold\">469</span>, <span style=\"color: #808000; text-decoration-color: #808000\">prompt_tokens</span>=<span style=\"color: #008080; text-decoration-color: #008080; font-weight: bold\">98</span>, <span style=\"color: #808000; text-decoration-color: #808000\">total_tokens</span>=<span style=\"color: #008080; text-decoration-color: #008080; font-weight: bold\">567</span><span style=\"font-weight: bold\">)</span>\n",
              "</pre>\n"
            ]
          },
          "metadata": {}
        }
      ]
    },
    {
      "cell_type": "code",
      "source": [
        "response = client.chat.completions.create(\n",
        "    model=\"gpt-3.5-turbo-1106\",\n",
        "    response_format={\"type\": \"json_object\"},\n",
        "    temperature=0.0,\n",
        "    messages=[\n",
        "        {\"role\": \"system\", \"content\": \"あなたは日本の地理を使います\"},\n",
        "        {\"role\": \"user\", \"content\": original_prompt},\n",
        "    ]\n",
        ")\n",
        "print(response.choices[0].message.content)\n",
        "print(response.usage)"
      ],
      "metadata": {
        "colab": {
          "base_uri": "https://localhost:8080/",
          "height": 475
        },
        "id": "jfG7dITHO4-N",
        "outputId": "81cfe745-787a-43e2-fd11-c47468b4ae5a"
      },
      "execution_count": 56,
      "outputs": [
        {
          "output_type": "display_data",
          "data": {
            "text/plain": [
              "\u001b[1m{\u001b[0m\n",
              "    \u001b[32m\"addressbook\"\u001b[0m: \u001b[1m[\u001b[0m\n",
              "        \u001b[1m{\u001b[0m\n",
              "            \u001b[32m\"name\"\u001b[0m: \u001b[32m\"田中太郎\"\u001b[0m,\n",
              "            \u001b[32m\"location\"\u001b[0m: \u001b[32m\"東京都渋谷区渋谷1-1-1\"\u001b[0m\n",
              "        \u001b[1m}\u001b[0m,\n",
              "        \u001b[1m{\u001b[0m\n",
              "            \u001b[32m\"name\"\u001b[0m: \u001b[32m\"山田花子\"\u001b[0m,\n",
              "            \u001b[32m\"location\"\u001b[0m: \u001b[32m\"大阪府大阪市中央区難波5-5-5\"\u001b[0m\n",
              "        \u001b[1m}\u001b[0m,\n",
              "        \u001b[1m{\u001b[0m\n",
              "            \u001b[32m\"name\"\u001b[0m: \u001b[32m\"鈴木一郎\"\u001b[0m,\n",
              "            \u001b[32m\"location\"\u001b[0m: \u001b[32m\"北海道札幌市中央区北1条西1-1\"\u001b[0m\n",
              "        \u001b[1m}\u001b[0m,\n",
              "        \u001b[1m{\u001b[0m\n",
              "            \u001b[32m\"name\"\u001b[0m: \u001b[32m\"佐藤美奈子\"\u001b[0m,\n",
              "            \u001b[32m\"location\"\u001b[0m: \u001b[32m\"福岡県福岡市博多区博多1-1-1\"\u001b[0m\n",
              "        \u001b[1m}\u001b[0m,\n",
              "        \u001b[1m{\u001b[0m\n",
              "            \u001b[32m\"name\"\u001b[0m: \u001b[32m\"伊藤健太\"\u001b[0m,\n",
              "            \u001b[32m\"location\"\u001b[0m: \u001b[32m\"愛知県名古屋市中区栄2-2-2\"\u001b[0m\n",
              "        \u001b[1m}\u001b[0m\n",
              "    \u001b[1m]\u001b[0m\n",
              "\u001b[1m}\u001b[0m\n"
            ],
            "text/html": [
              "<pre style=\"white-space:pre;overflow-x:auto;line-height:normal;font-family:Menlo,'DejaVu Sans Mono',consolas,'Courier New',monospace\"><span style=\"font-weight: bold\">{</span>\n",
              "    <span style=\"color: #008000; text-decoration-color: #008000\">\"addressbook\"</span>: <span style=\"font-weight: bold\">[</span>\n",
              "        <span style=\"font-weight: bold\">{</span>\n",
              "            <span style=\"color: #008000; text-decoration-color: #008000\">\"name\"</span>: <span style=\"color: #008000; text-decoration-color: #008000\">\"田中太郎\"</span>,\n",
              "            <span style=\"color: #008000; text-decoration-color: #008000\">\"location\"</span>: <span style=\"color: #008000; text-decoration-color: #008000\">\"東京都渋谷区渋谷1-1-1\"</span>\n",
              "        <span style=\"font-weight: bold\">}</span>,\n",
              "        <span style=\"font-weight: bold\">{</span>\n",
              "            <span style=\"color: #008000; text-decoration-color: #008000\">\"name\"</span>: <span style=\"color: #008000; text-decoration-color: #008000\">\"山田花子\"</span>,\n",
              "            <span style=\"color: #008000; text-decoration-color: #008000\">\"location\"</span>: <span style=\"color: #008000; text-decoration-color: #008000\">\"大阪府大阪市中央区難波5-5-5\"</span>\n",
              "        <span style=\"font-weight: bold\">}</span>,\n",
              "        <span style=\"font-weight: bold\">{</span>\n",
              "            <span style=\"color: #008000; text-decoration-color: #008000\">\"name\"</span>: <span style=\"color: #008000; text-decoration-color: #008000\">\"鈴木一郎\"</span>,\n",
              "            <span style=\"color: #008000; text-decoration-color: #008000\">\"location\"</span>: <span style=\"color: #008000; text-decoration-color: #008000\">\"北海道札幌市中央区北1条西1-1\"</span>\n",
              "        <span style=\"font-weight: bold\">}</span>,\n",
              "        <span style=\"font-weight: bold\">{</span>\n",
              "            <span style=\"color: #008000; text-decoration-color: #008000\">\"name\"</span>: <span style=\"color: #008000; text-decoration-color: #008000\">\"佐藤美奈子\"</span>,\n",
              "            <span style=\"color: #008000; text-decoration-color: #008000\">\"location\"</span>: <span style=\"color: #008000; text-decoration-color: #008000\">\"福岡県福岡市博多区博多1-1-1\"</span>\n",
              "        <span style=\"font-weight: bold\">}</span>,\n",
              "        <span style=\"font-weight: bold\">{</span>\n",
              "            <span style=\"color: #008000; text-decoration-color: #008000\">\"name\"</span>: <span style=\"color: #008000; text-decoration-color: #008000\">\"伊藤健太\"</span>,\n",
              "            <span style=\"color: #008000; text-decoration-color: #008000\">\"location\"</span>: <span style=\"color: #008000; text-decoration-color: #008000\">\"愛知県名古屋市中区栄2-2-2\"</span>\n",
              "        <span style=\"font-weight: bold\">}</span>\n",
              "    <span style=\"font-weight: bold\">]</span>\n",
              "<span style=\"font-weight: bold\">}</span>\n",
              "</pre>\n"
            ]
          },
          "metadata": {}
        },
        {
          "output_type": "display_data",
          "data": {
            "text/plain": [
              "\u001b[1;35mCompletionUsage\u001b[0m\u001b[1m(\u001b[0m\u001b[33mcompletion_tokens\u001b[0m=\u001b[1;36m228\u001b[0m, \u001b[33mprompt_tokens\u001b[0m=\u001b[1;36m98\u001b[0m, \u001b[33mtotal_tokens\u001b[0m=\u001b[1;36m326\u001b[0m\u001b[1m)\u001b[0m\n"
            ],
            "text/html": [
              "<pre style=\"white-space:pre;overflow-x:auto;line-height:normal;font-family:Menlo,'DejaVu Sans Mono',consolas,'Courier New',monospace\"><span style=\"color: #800080; text-decoration-color: #800080; font-weight: bold\">CompletionUsage</span><span style=\"font-weight: bold\">(</span><span style=\"color: #808000; text-decoration-color: #808000\">completion_tokens</span>=<span style=\"color: #008080; text-decoration-color: #008080; font-weight: bold\">228</span>, <span style=\"color: #808000; text-decoration-color: #808000\">prompt_tokens</span>=<span style=\"color: #008080; text-decoration-color: #008080; font-weight: bold\">98</span>, <span style=\"color: #808000; text-decoration-color: #808000\">total_tokens</span>=<span style=\"color: #008080; text-decoration-color: #008080; font-weight: bold\">326</span><span style=\"font-weight: bold\">)</span>\n",
              "</pre>\n"
            ]
          },
          "metadata": {}
        }
      ]
    },
    {
      "cell_type": "code",
      "source": [
        "response"
      ],
      "metadata": {
        "colab": {
          "base_uri": "https://localhost:8080/"
        },
        "id": "JLnXUi9aUAAg",
        "outputId": "c735e917-71aa-4688-ccba-d887b7a33e96"
      },
      "execution_count": 57,
      "outputs": [
        {
          "output_type": "execute_result",
          "data": {
            "text/plain": [
              "ChatCompletion(id='chatcmpl-8uw1tkq7fx0XT4gPqg4w0nayy9hKV', choices=[Choice(finish_reason='stop', index=0, logprobs=None, message=ChatCompletionMessage(content='{\\n    \"addressbook\": [\\n        {\\n            \"name\": \"田中太郎\",\\n            \"location\": \"東京都渋谷区渋谷1-1-1\"\\n        },\\n        {\\n            \"name\": \"山田花子\",\\n            \"location\": \"大阪府大阪市中央区難波5-5-5\"\\n        },\\n        {\\n            \"name\": \"鈴木一郎\",\\n            \"location\": \"北海道札幌市中央区北1条西1-1\"\\n        },\\n        {\\n            \"name\": \"佐藤美奈子\",\\n            \"location\": \"福岡県福岡市博多区博多1-1-1\"\\n        },\\n        {\\n            \"name\": \"伊藤健太\",\\n            \"location\": \"愛知県名古屋市中区栄2-2-2\"\\n        }\\n    ]\\n}', role='assistant', function_call=None, tool_calls=None))], created=1708580125, model='gpt-3.5-turbo-1106', object='chat.completion', system_fingerprint='fp_56b2abeda9', usage=CompletionUsage(completion_tokens=228, prompt_tokens=98, total_tokens=326))"
            ]
          },
          "metadata": {},
          "execution_count": 57
        }
      ]
    },
    {
      "cell_type": "code",
      "source": [
        "import json\n",
        "\n",
        "jobj = json.loads(response.choices[0].message.content)"
      ],
      "metadata": {
        "id": "3c_7qHPHVPiG"
      },
      "execution_count": 62,
      "outputs": []
    },
    {
      "cell_type": "code",
      "source": [
        "jobj"
      ],
      "metadata": {
        "colab": {
          "base_uri": "https://localhost:8080/"
        },
        "id": "qHc_gSISVoME",
        "outputId": "42cdb7b1-b2de-4282-df91-969d3393070e"
      },
      "execution_count": 63,
      "outputs": [
        {
          "output_type": "execute_result",
          "data": {
            "text/plain": [
              "{'addressbook': [{'name': '田中太郎', 'location': '東京都渋谷区渋谷1-1-1'},\n",
              "  {'name': '山田花子', 'location': '大阪府大阪市中央区難波5-5-5'},\n",
              "  {'name': '鈴木一郎', 'location': '北海道札幌市中央区北1条西1-1'},\n",
              "  {'name': '佐藤美奈子', 'location': '福岡県福岡市博多区博多1-1-1'},\n",
              "  {'name': '伊藤健太', 'location': '愛知県名古屋市中区栄2-2-2'}]}"
            ]
          },
          "metadata": {},
          "execution_count": 63
        }
      ]
    },
    {
      "cell_type": "code",
      "source": [
        "!pip install dictknife"
      ],
      "metadata": {
        "colab": {
          "base_uri": "https://localhost:8080/"
        },
        "id": "3cuOWh4zV49T",
        "outputId": "2a9432fd-87ea-48d6-f9a6-53852e4b6f5c"
      },
      "execution_count": 65,
      "outputs": [
        {
          "output_type": "stream",
          "name": "stdout",
          "text": [
            "Collecting dictknife\n",
            "  Downloading dictknife-0.14.0-py3-none-any.whl (69 kB)\n",
            "\u001b[?25l     \u001b[90m━━━━━━━━━━━━━━━━━━━━━━━━━━━━━━━━━━━━━━━━\u001b[0m \u001b[32m0.0/70.0 kB\u001b[0m \u001b[31m?\u001b[0m eta \u001b[36m-:--:--\u001b[0m\r\u001b[2K     \u001b[90m━━━━━━━━━━━━━━━━━━━━━━━━━━━━━━━━━━━━━━━━\u001b[0m \u001b[32m70.0/70.0 kB\u001b[0m \u001b[31m2.3 MB/s\u001b[0m eta \u001b[36m0:00:00\u001b[0m\n",
            "\u001b[?25hInstalling collected packages: dictknife\n",
            "Successfully installed dictknife-0.14.0\n"
          ]
        }
      ]
    },
    {
      "cell_type": "code",
      "source": [
        "from dictknife import deepmerge\n",
        "\n",
        "j3 = deepmerge(jobj, jobj)"
      ],
      "metadata": {
        "id": "PCeVf1ooV3zZ"
      },
      "execution_count": 67,
      "outputs": []
    },
    {
      "cell_type": "code",
      "source": [
        "j3"
      ],
      "metadata": {
        "colab": {
          "base_uri": "https://localhost:8080/"
        },
        "id": "JSydow1sWO06",
        "outputId": "e4fd3010-aa4f-44fd-a649-d2083c7db9cc"
      },
      "execution_count": 68,
      "outputs": [
        {
          "output_type": "execute_result",
          "data": {
            "text/plain": [
              "{'addressbook': [{'name': '田中太郎', 'location': '東京都渋谷区渋谷1-1-1'},\n",
              "  {'name': '山田花子', 'location': '大阪府大阪市中央区難波5-5-5'},\n",
              "  {'name': '鈴木一郎', 'location': '北海道札幌市中央区北1条西1-1'},\n",
              "  {'name': '佐藤美奈子', 'location': '福岡県福岡市博多区博多1-1-1'},\n",
              "  {'name': '伊藤健太', 'location': '愛知県名古屋市中区栄2-2-2'}]}"
            ]
          },
          "metadata": {},
          "execution_count": 68
        }
      ]
    },
    {
      "cell_type": "code",
      "source": [
        "response2 = client.chat.completions.create(\n",
        "    model=\"gpt-3.5-turbo-1106\",\n",
        "    response_format={\"type\": \"json_object\"},\n",
        "    temperature=0.0,\n",
        "    messages=[\n",
        "        {\"role\": \"system\", \"content\": \"あなたは日本の地理を使います\"},\n",
        "        {\"role\": \"user\", \"content\": original_prompt},\n",
        "    ]\n",
        ")\n",
        "print(response2.choices[0].message.content)\n",
        "print(response2.usage)"
      ],
      "metadata": {
        "colab": {
          "base_uri": "https://localhost:8080/",
          "height": 475
        },
        "id": "iRva3JwJWV-v",
        "outputId": "fbf5b169-999f-4f97-8f5b-a65bb7dff0fb"
      },
      "execution_count": 69,
      "outputs": [
        {
          "output_type": "display_data",
          "data": {
            "text/plain": [
              "\u001b[1m{\u001b[0m\n",
              "    \u001b[32m\"addressbook\"\u001b[0m: \u001b[1m[\u001b[0m\n",
              "        \u001b[1m{\u001b[0m\n",
              "            \u001b[32m\"name\"\u001b[0m: \u001b[32m\"田中太郎\"\u001b[0m,\n",
              "            \u001b[32m\"location\"\u001b[0m: \u001b[32m\"東京都渋谷区神南1-2-3\"\u001b[0m\n",
              "        \u001b[1m}\u001b[0m,\n",
              "        \u001b[1m{\u001b[0m\n",
              "            \u001b[32m\"name\"\u001b[0m: \u001b[32m\"山田花子\"\u001b[0m,\n",
              "            \u001b[32m\"location\"\u001b[0m: \u001b[32m\"大阪府大阪市中央区難波5-6-7\"\u001b[0m\n",
              "        \u001b[1m}\u001b[0m,\n",
              "        \u001b[1m{\u001b[0m\n",
              "            \u001b[32m\"name\"\u001b[0m: \u001b[32m\"鈴木一郎\"\u001b[0m,\n",
              "            \u001b[32m\"location\"\u001b[0m: \u001b[32m\"北海道札幌市中央区北1-2-3\"\u001b[0m\n",
              "        \u001b[1m}\u001b[0m,\n",
              "        \u001b[1m{\u001b[0m\n",
              "            \u001b[32m\"name\"\u001b[0m: \u001b[32m\"佐藤明美\"\u001b[0m,\n",
              "            \u001b[32m\"location\"\u001b[0m: \u001b[32m\"福岡県福岡市博多区博多1-2-3\"\u001b[0m\n",
              "        \u001b[1m}\u001b[0m,\n",
              "        \u001b[1m{\u001b[0m\n",
              "            \u001b[32m\"name\"\u001b[0m: \u001b[32m\"伊藤健太\"\u001b[0m,\n",
              "            \u001b[32m\"location\"\u001b[0m: \u001b[32m\"愛知県名古屋市中区栄2-3-4\"\u001b[0m\n",
              "        \u001b[1m}\u001b[0m\n",
              "    \u001b[1m]\u001b[0m\n",
              "\u001b[1m}\u001b[0m\n"
            ],
            "text/html": [
              "<pre style=\"white-space:pre;overflow-x:auto;line-height:normal;font-family:Menlo,'DejaVu Sans Mono',consolas,'Courier New',monospace\"><span style=\"font-weight: bold\">{</span>\n",
              "    <span style=\"color: #008000; text-decoration-color: #008000\">\"addressbook\"</span>: <span style=\"font-weight: bold\">[</span>\n",
              "        <span style=\"font-weight: bold\">{</span>\n",
              "            <span style=\"color: #008000; text-decoration-color: #008000\">\"name\"</span>: <span style=\"color: #008000; text-decoration-color: #008000\">\"田中太郎\"</span>,\n",
              "            <span style=\"color: #008000; text-decoration-color: #008000\">\"location\"</span>: <span style=\"color: #008000; text-decoration-color: #008000\">\"東京都渋谷区神南1-2-3\"</span>\n",
              "        <span style=\"font-weight: bold\">}</span>,\n",
              "        <span style=\"font-weight: bold\">{</span>\n",
              "            <span style=\"color: #008000; text-decoration-color: #008000\">\"name\"</span>: <span style=\"color: #008000; text-decoration-color: #008000\">\"山田花子\"</span>,\n",
              "            <span style=\"color: #008000; text-decoration-color: #008000\">\"location\"</span>: <span style=\"color: #008000; text-decoration-color: #008000\">\"大阪府大阪市中央区難波5-6-7\"</span>\n",
              "        <span style=\"font-weight: bold\">}</span>,\n",
              "        <span style=\"font-weight: bold\">{</span>\n",
              "            <span style=\"color: #008000; text-decoration-color: #008000\">\"name\"</span>: <span style=\"color: #008000; text-decoration-color: #008000\">\"鈴木一郎\"</span>,\n",
              "            <span style=\"color: #008000; text-decoration-color: #008000\">\"location\"</span>: <span style=\"color: #008000; text-decoration-color: #008000\">\"北海道札幌市中央区北1-2-3\"</span>\n",
              "        <span style=\"font-weight: bold\">}</span>,\n",
              "        <span style=\"font-weight: bold\">{</span>\n",
              "            <span style=\"color: #008000; text-decoration-color: #008000\">\"name\"</span>: <span style=\"color: #008000; text-decoration-color: #008000\">\"佐藤明美\"</span>,\n",
              "            <span style=\"color: #008000; text-decoration-color: #008000\">\"location\"</span>: <span style=\"color: #008000; text-decoration-color: #008000\">\"福岡県福岡市博多区博多1-2-3\"</span>\n",
              "        <span style=\"font-weight: bold\">}</span>,\n",
              "        <span style=\"font-weight: bold\">{</span>\n",
              "            <span style=\"color: #008000; text-decoration-color: #008000\">\"name\"</span>: <span style=\"color: #008000; text-decoration-color: #008000\">\"伊藤健太\"</span>,\n",
              "            <span style=\"color: #008000; text-decoration-color: #008000\">\"location\"</span>: <span style=\"color: #008000; text-decoration-color: #008000\">\"愛知県名古屋市中区栄2-3-4\"</span>\n",
              "        <span style=\"font-weight: bold\">}</span>\n",
              "    <span style=\"font-weight: bold\">]</span>\n",
              "<span style=\"font-weight: bold\">}</span>\n",
              "</pre>\n"
            ]
          },
          "metadata": {}
        },
        {
          "output_type": "display_data",
          "data": {
            "text/plain": [
              "\u001b[1;35mCompletionUsage\u001b[0m\u001b[1m(\u001b[0m\u001b[33mcompletion_tokens\u001b[0m=\u001b[1;36m224\u001b[0m, \u001b[33mprompt_tokens\u001b[0m=\u001b[1;36m98\u001b[0m, \u001b[33mtotal_tokens\u001b[0m=\u001b[1;36m322\u001b[0m\u001b[1m)\u001b[0m\n"
            ],
            "text/html": [
              "<pre style=\"white-space:pre;overflow-x:auto;line-height:normal;font-family:Menlo,'DejaVu Sans Mono',consolas,'Courier New',monospace\"><span style=\"color: #800080; text-decoration-color: #800080; font-weight: bold\">CompletionUsage</span><span style=\"font-weight: bold\">(</span><span style=\"color: #808000; text-decoration-color: #808000\">completion_tokens</span>=<span style=\"color: #008080; text-decoration-color: #008080; font-weight: bold\">224</span>, <span style=\"color: #808000; text-decoration-color: #808000\">prompt_tokens</span>=<span style=\"color: #008080; text-decoration-color: #008080; font-weight: bold\">98</span>, <span style=\"color: #808000; text-decoration-color: #808000\">total_tokens</span>=<span style=\"color: #008080; text-decoration-color: #008080; font-weight: bold\">322</span><span style=\"font-weight: bold\">)</span>\n",
              "</pre>\n"
            ]
          },
          "metadata": {}
        }
      ]
    },
    {
      "cell_type": "code",
      "source": [
        "j3 = deepmerge(jobj, json.loads(response2.choices[0].message.content))"
      ],
      "metadata": {
        "id": "7BJnIZo_Wf2A"
      },
      "execution_count": 70,
      "outputs": []
    },
    {
      "cell_type": "code",
      "source": [
        "j3"
      ],
      "metadata": {
        "colab": {
          "base_uri": "https://localhost:8080/"
        },
        "id": "_ql8sgjMWkcz",
        "outputId": "76018e96-a400-4411-c2fe-5099c51bd3c6"
      },
      "execution_count": 71,
      "outputs": [
        {
          "output_type": "execute_result",
          "data": {
            "text/plain": [
              "{'addressbook': [{'name': '田中太郎', 'location': '東京都渋谷区渋谷1-1-1'},\n",
              "  {'name': '山田花子', 'location': '大阪府大阪市中央区難波5-5-5'},\n",
              "  {'name': '鈴木一郎', 'location': '北海道札幌市中央区北1条西1-1'},\n",
              "  {'name': '佐藤美奈子', 'location': '福岡県福岡市博多区博多1-1-1'},\n",
              "  {'name': '伊藤健太', 'location': '愛知県名古屋市中区栄2-2-2'},\n",
              "  {'name': '田中太郎', 'location': '東京都渋谷区神南1-2-3'},\n",
              "  {'name': '山田花子', 'location': '大阪府大阪市中央区難波5-6-7'},\n",
              "  {'name': '鈴木一郎', 'location': '北海道札幌市中央区北1-2-3'},\n",
              "  {'name': '佐藤明美', 'location': '福岡県福岡市博多区博多1-2-3'},\n",
              "  {'name': '伊藤健太', 'location': '愛知県名古屋市中区栄2-3-4'}]}"
            ]
          },
          "metadata": {},
          "execution_count": 71
        }
      ]
    },
    {
      "cell_type": "code",
      "source": [
        "def submit(jobj, original_prompt):\n",
        "  response = client.chat.completions.create(\n",
        "    model=\"gpt-3.5-turbo-1106\",\n",
        "    response_format={\"type\": \"json_object\"},\n",
        "    temperature=0.0,\n",
        "    messages=[\n",
        "        {\"role\": \"system\", \"content\": \"あなたは日本の地理を使います\"},\n",
        "        {\"role\": \"user\", \"content\": original_prompt},\n",
        "    ]\n",
        "  )\n",
        "  retobj = deepmerge(jobj, json.loads(response.choices[0].message.content))\n",
        "  return retobj"
      ],
      "metadata": {
        "id": "dIC1Kzc0ULPD"
      },
      "execution_count": 80,
      "outputs": []
    },
    {
      "cell_type": "code",
      "source": [
        "def start(num=15):\n",
        "  original_prompt = \"\"\"以下のjson 形式に従って、架空の住所録を作成してください。できるだけ多くの連絡先を出力してください\n",
        "{\n",
        "    \"addressbook\": [\n",
        "        {\n",
        "            \"name\": \"名前\",\n",
        "            \"location\": \"住所\"\n",
        "        }\n",
        "    ]\n",
        "}\n",
        "\"\"\"\n",
        "  obj = {}\n",
        "  while True:\n",
        "    obj = submit(obj, original_prompt)\n",
        "    print(len(obj['addressbook']) )\n",
        "    if len(obj['addressbook']) > num:\n",
        "      break\n",
        "  return obj\n"
      ],
      "metadata": {
        "id": "bUdHJr3pgCpc"
      },
      "execution_count": 85,
      "outputs": []
    },
    {
      "cell_type": "code",
      "source": [
        "def generate(element_name, json_sample, num=15):\n",
        "  original_prompt = \"\"\"以下のjson 形式に従って、架空のデータを作成してください。できるだけ多くのデータを出力してください\n",
        "{{\n",
        "    \"{0}\": [\n",
        "        {1}\n",
        "    ]\n",
        "}}\n",
        "\"\"\".format(element_name, json_sample)\n",
        "\n",
        "  obj = {}\n",
        "  while True:\n",
        "    obj = submit(obj, original_prompt)\n",
        "    print(len(obj[element_name]) )\n",
        "    if len(obj[element_name]) > num:\n",
        "      break\n",
        "  return obj"
      ],
      "metadata": {
        "id": "Ay-oTWs8hZKH"
      },
      "execution_count": 96,
      "outputs": []
    },
    {
      "cell_type": "code",
      "source": [
        "json_sample = \"\"\"\n",
        " {\n",
        "   \"name\": \"名前\",\n",
        "   \"location\": \"住所\"\n",
        "}\n",
        "\"\"\"\n",
        "element_name = \"contacts\"\n",
        "obj = generate(element_name, json_sample, 3)\n",
        "obj"
      ],
      "metadata": {
        "colab": {
          "base_uri": "https://localhost:8080/",
          "height": 194
        },
        "id": "BdqMh2vCiE7Y",
        "outputId": "d747d6fb-c399-4afa-a1d6-09dcd0379957"
      },
      "execution_count": 97,
      "outputs": [
        {
          "output_type": "display_data",
          "data": {
            "text/plain": [
              "\u001b[1;36m9\u001b[0m\n"
            ],
            "text/html": [
              "<pre style=\"white-space:pre;overflow-x:auto;line-height:normal;font-family:Menlo,'DejaVu Sans Mono',consolas,'Courier New',monospace\"><span style=\"color: #008080; text-decoration-color: #008080; font-weight: bold\">9</span>\n",
              "</pre>\n"
            ]
          },
          "metadata": {}
        },
        {
          "output_type": "execute_result",
          "data": {
            "text/plain": [
              "{'contacts': [{'name': '田中太郎', 'location': '東京都渋谷区'},\n",
              "  {'name': '山田花子', 'location': '大阪府大阪市'},\n",
              "  {'name': '鈴木一郎', 'location': '北海道札幌市'},\n",
              "  {'name': '佐藤明美', 'location': '福岡県福岡市'},\n",
              "  {'name': '高橋健太', 'location': '愛知県名古屋市'},\n",
              "  {'name': '伊藤さちこ', 'location': '神奈川県横浜市'},\n",
              "  {'name': '中村隆', 'location': '京都府京都市'},\n",
              "  {'name': '小林美和', 'location': '広島県広島市'},\n",
              "  {'name': '加藤健太郎', 'location': '沖縄県那覇市'}]}"
            ]
          },
          "metadata": {},
          "execution_count": 97
        }
      ]
    },
    {
      "cell_type": "code",
      "source": [
        "json_sample = \"\"\"\n",
        " {\n",
        "   \"name\": \"名前\",\n",
        "   \"location\": \"住所\"\n",
        "}\n",
        "\"\"\"\n",
        "element_name = \"contacts\"\n",
        "obj = generate(element_name, json_sample, 3)\n",
        "obj"
      ],
      "metadata": {
        "colab": {
          "base_uri": "https://localhost:8080/",
          "height": 212
        },
        "id": "ek3ZSe0wkY-x",
        "outputId": "cc7aa9a4-3a4d-4aef-d70e-16b875445cb8"
      },
      "execution_count": 99,
      "outputs": [
        {
          "output_type": "display_data",
          "data": {
            "text/plain": [
              "\u001b[1;36m10\u001b[0m\n"
            ],
            "text/html": [
              "<pre style=\"white-space:pre;overflow-x:auto;line-height:normal;font-family:Menlo,'DejaVu Sans Mono',consolas,'Courier New',monospace\"><span style=\"color: #008080; text-decoration-color: #008080; font-weight: bold\">10</span>\n",
              "</pre>\n"
            ]
          },
          "metadata": {}
        },
        {
          "output_type": "execute_result",
          "data": {
            "text/plain": [
              "{'contacts': [{'name': '田中太郎', 'location': '東京都渋谷区'},\n",
              "  {'name': '山田花子', 'location': '大阪府大阪市'},\n",
              "  {'name': '鈴木一郎', 'location': '北海道札幌市'},\n",
              "  {'name': '佐藤次郎', 'location': '福岡県福岡市'},\n",
              "  {'name': '伊藤三郎', 'location': '愛知県名古屋市'},\n",
              "  {'name': '中村四郎', 'location': '神奈川県横浜市'},\n",
              "  {'name': '加藤五郎', 'location': '京都府京都市'},\n",
              "  {'name': '山口六郎', 'location': '広島県広島市'},\n",
              "  {'name': '小林七郎', 'location': '岡山県岡山市'},\n",
              "  {'name': '斎藤八郎', 'location': '沖縄県那覇市'}]}"
            ]
          },
          "metadata": {},
          "execution_count": 99
        }
      ]
    },
    {
      "cell_type": "code",
      "source": [
        "element_name = \"books\"\n",
        "json_sample = \"\"\"\n",
        " {\n",
        "   \"name\": \"書名\",\n",
        "   \"author\": \"著者名\"\n",
        "}\n",
        "\"\"\"\n",
        "obj = generate(element_name, json_sample, 3)\n",
        "obj"
      ],
      "metadata": {
        "colab": {
          "base_uri": "https://localhost:8080/",
          "height": 212
        },
        "id": "taipkPO9jujY",
        "outputId": "caabc7a6-657c-48ba-b85e-8b3608044ef5"
      },
      "execution_count": 100,
      "outputs": [
        {
          "output_type": "display_data",
          "data": {
            "text/plain": [
              "\u001b[1;36m10\u001b[0m\n"
            ],
            "text/html": [
              "<pre style=\"white-space:pre;overflow-x:auto;line-height:normal;font-family:Menlo,'DejaVu Sans Mono',consolas,'Courier New',monospace\"><span style=\"color: #008080; text-decoration-color: #008080; font-weight: bold\">10</span>\n",
              "</pre>\n"
            ]
          },
          "metadata": {}
        },
        {
          "output_type": "execute_result",
          "data": {
            "text/plain": [
              "{'books': [{'name': '火山の謎', 'author': '山田太郎'},\n",
              "  {'name': '東京タワーの秘密', 'author': '鈴木花子'},\n",
              "  {'name': '北海道の自然', 'author': '田中健太'},\n",
              "  {'name': '沖縄の歴史', 'author': '佐藤美智子'},\n",
              "  {'name': '富士山の神話', 'author': '中村一郎'},\n",
              "  {'name': '京都の文化', 'author': '鈴木雅美'},\n",
              "  {'name': '大阪の食文化', 'author': '田中太郎'},\n",
              "  {'name': '広島の平和', 'author': '山田花子'},\n",
              "  {'name': '名古屋の町並み', 'author': '佐藤健太'},\n",
              "  {'name': '神戸の港町', 'author': '中村美智子'}]}"
            ]
          },
          "metadata": {},
          "execution_count": 100
        }
      ]
    },
    {
      "cell_type": "code",
      "source": [
        "element_name = \"novels\"\n",
        "json_sample = \"\"\"\n",
        " {\n",
        "   \"name\": \"題名\",\n",
        "   \"author\": \"著者名\",\n",
        "   \"genre\": \"ジャンル\",\n",
        "   \"opening\": \"冒頭抜粋\",\n",
        "   \"summary\": \"概要\"\n",
        "}\n",
        "\"\"\"\n",
        "obj = generate(element_name, json_sample, 3)\n",
        "obj"
      ],
      "metadata": {
        "colab": {
          "base_uri": "https://localhost:8080/",
          "height": 480
        },
        "id": "CPTH5yAxkkLy",
        "outputId": "0e4cec34-6aef-4927-aa1c-60e8da910a28"
      },
      "execution_count": 101,
      "outputs": [
        {
          "output_type": "display_data",
          "data": {
            "text/plain": [
              "\u001b[1;36m5\u001b[0m\n"
            ],
            "text/html": [
              "<pre style=\"white-space:pre;overflow-x:auto;line-height:normal;font-family:Menlo,'DejaVu Sans Mono',consolas,'Courier New',monospace\"><span style=\"color: #008080; text-decoration-color: #008080; font-weight: bold\">5</span>\n",
              "</pre>\n"
            ]
          },
          "metadata": {}
        },
        {
          "output_type": "execute_result",
          "data": {
            "text/plain": [
              "{'novels': [{'name': '夜の果ての街',\n",
              "   'author': '田中太郎',\n",
              "   'genre': 'ミステリー',\n",
              "   'opening': '深夜の街は静かで、ただひときわ輝く明かりがあった。',\n",
              "   'summary': '主人公が夜の街で起こる連続殺人事件の謎を解き明かすミステリー小説。'},\n",
              "  {'name': '遥かなる冒険',\n",
              "   'author': '山田花子',\n",
              "   'genre': '冒険',\n",
              "   'opening': '広大な海原に漂う船の上で、主人公は新たな大陸を目指していた。',\n",
              "   'summary': '主人公が仲間たちとともに未知の大陸を目指し、様々な困難に立ち向かう冒険小説。'},\n",
              "  {'name': '愛と友情の絆',\n",
              "   'author': '鈴木花子',\n",
              "   'genre': '恋愛',\n",
              "   'opening': '幼なじみの二人は、ずっと一緒に過ごしてきた。',\n",
              "   'summary': '幼なじみの二人が愛と友情の絆を深めながら、さまざまな試練に立ち向かう恋愛小説。'},\n",
              "  {'name': '未来都市の謎',\n",
              "   'author': '佐藤太郎',\n",
              "   'genre': 'SF',\n",
              "   'opening': '未来の都市は高層ビルが立ち並び、空を飛ぶ車が行き交っていた。',\n",
              "   'summary': '未来の都市で起こる謎の事件を追う主人公の活躍を描いたSF小説。'},\n",
              "  {'name': '時空を超える旅',\n",
              "   'author': '田中花子',\n",
              "   'genre': 'ファンタジー',\n",
              "   'opening': '古びた時計台の中で、主人公は時空を超える旅に出ることを決意した。',\n",
              "   'summary': '主人公が時空を超え、異世界での冒険に挑むファンタジー小説。'}]}"
            ]
          },
          "metadata": {},
          "execution_count": 101
        }
      ]
    },
    {
      "cell_type": "code",
      "source": [
        "original_prompt = \"\"\"以下のjson 形式に従って、架空のデータを作成してください。できるだけ多くのデータを出力してください\n",
        "{{\n",
        "    {0}: [\n",
        "        {1}\n",
        "    ]\n",
        "}}\n",
        "\"\"\".format(\"element_name\", \"json_sample\")\n",
        "original_prompt"
      ],
      "metadata": {
        "colab": {
          "base_uri": "https://localhost:8080/",
          "height": 35
        },
        "id": "zfnUnS56jFoZ",
        "outputId": "55b07d87-5d37-4d77-c4d5-535fc0d34c5a"
      },
      "execution_count": 93,
      "outputs": [
        {
          "output_type": "execute_result",
          "data": {
            "text/plain": [
              "'以下のjson 形式に従って、架空のデータを作成してください。できるだけ多くのデータを出力してください\\n{\\n    element_name: [\\n        json_sample\\n    ]\\n}\\n'"
            ],
            "application/vnd.google.colaboratory.intrinsic+json": {
              "type": "string"
            }
          },
          "metadata": {},
          "execution_count": 93
        }
      ]
    },
    {
      "cell_type": "code",
      "source": [
        "obj = start(30)\n",
        "obj"
      ],
      "metadata": {
        "colab": {
          "base_uri": "https://localhost:8080/",
          "height": 1000
        },
        "id": "x-xbGy1vgfVa",
        "outputId": "03d158bd-4dbc-494e-a058-ec60756db4d8"
      },
      "execution_count": 86,
      "outputs": [
        {
          "output_type": "display_data",
          "data": {
            "text/plain": [
              "\u001b[1m{\u001b[0m\n",
              "    \u001b[32m'addressbook'\u001b[0m: \u001b[1m[\u001b[0m\n",
              "        \u001b[1m{\u001b[0m\u001b[32m'name'\u001b[0m: \u001b[32m'田中太郎'\u001b[0m, \u001b[32m'location'\u001b[0m: \u001b[32m'東京都渋谷区神南1-2-3'\u001b[0m\u001b[1m}\u001b[0m,\n",
              "        \u001b[1m{\u001b[0m\u001b[32m'name'\u001b[0m: \u001b[32m'山田花子'\u001b[0m, \u001b[32m'location'\u001b[0m: \u001b[32m'大阪府大阪市中央区難波5-6-7'\u001b[0m\u001b[1m}\u001b[0m,\n",
              "        \u001b[1m{\u001b[0m\u001b[32m'name'\u001b[0m: \u001b[32m'鈴木一郎'\u001b[0m, \u001b[32m'location'\u001b[0m: \u001b[32m'北海道札幌市中央区北1-2-3'\u001b[0m\u001b[1m}\u001b[0m,\n",
              "        \u001b[1m{\u001b[0m\u001b[32m'name'\u001b[0m: \u001b[32m'佐藤美代'\u001b[0m, \u001b[32m'location'\u001b[0m: \u001b[32m'福岡県福岡市博多区博多1-2-3'\u001b[0m\u001b[1m}\u001b[0m,\n",
              "        \u001b[1m{\u001b[0m\u001b[32m'name'\u001b[0m: \u001b[32m'伊藤健太'\u001b[0m, \u001b[32m'location'\u001b[0m: \u001b[32m'愛知県名古屋市中区栄2-3-4'\u001b[0m\u001b[1m}\u001b[0m\n",
              "    \u001b[1m]\u001b[0m\n",
              "\u001b[1m}\u001b[0m\n"
            ],
            "text/html": [
              "<pre style=\"white-space:pre;overflow-x:auto;line-height:normal;font-family:Menlo,'DejaVu Sans Mono',consolas,'Courier New',monospace\"><span style=\"font-weight: bold\">{</span>\n",
              "    <span style=\"color: #008000; text-decoration-color: #008000\">'addressbook'</span>: <span style=\"font-weight: bold\">[</span>\n",
              "        <span style=\"font-weight: bold\">{</span><span style=\"color: #008000; text-decoration-color: #008000\">'name'</span>: <span style=\"color: #008000; text-decoration-color: #008000\">'田中太郎'</span>, <span style=\"color: #008000; text-decoration-color: #008000\">'location'</span>: <span style=\"color: #008000; text-decoration-color: #008000\">'東京都渋谷区神南1-2-3'</span><span style=\"font-weight: bold\">}</span>,\n",
              "        <span style=\"font-weight: bold\">{</span><span style=\"color: #008000; text-decoration-color: #008000\">'name'</span>: <span style=\"color: #008000; text-decoration-color: #008000\">'山田花子'</span>, <span style=\"color: #008000; text-decoration-color: #008000\">'location'</span>: <span style=\"color: #008000; text-decoration-color: #008000\">'大阪府大阪市中央区難波5-6-7'</span><span style=\"font-weight: bold\">}</span>,\n",
              "        <span style=\"font-weight: bold\">{</span><span style=\"color: #008000; text-decoration-color: #008000\">'name'</span>: <span style=\"color: #008000; text-decoration-color: #008000\">'鈴木一郎'</span>, <span style=\"color: #008000; text-decoration-color: #008000\">'location'</span>: <span style=\"color: #008000; text-decoration-color: #008000\">'北海道札幌市中央区北1-2-3'</span><span style=\"font-weight: bold\">}</span>,\n",
              "        <span style=\"font-weight: bold\">{</span><span style=\"color: #008000; text-decoration-color: #008000\">'name'</span>: <span style=\"color: #008000; text-decoration-color: #008000\">'佐藤美代'</span>, <span style=\"color: #008000; text-decoration-color: #008000\">'location'</span>: <span style=\"color: #008000; text-decoration-color: #008000\">'福岡県福岡市博多区博多1-2-3'</span><span style=\"font-weight: bold\">}</span>,\n",
              "        <span style=\"font-weight: bold\">{</span><span style=\"color: #008000; text-decoration-color: #008000\">'name'</span>: <span style=\"color: #008000; text-decoration-color: #008000\">'伊藤健太'</span>, <span style=\"color: #008000; text-decoration-color: #008000\">'location'</span>: <span style=\"color: #008000; text-decoration-color: #008000\">'愛知県名古屋市中区栄2-3-4'</span><span style=\"font-weight: bold\">}</span>\n",
              "    <span style=\"font-weight: bold\">]</span>\n",
              "<span style=\"font-weight: bold\">}</span>\n",
              "</pre>\n"
            ]
          },
          "metadata": {}
        },
        {
          "output_type": "display_data",
          "data": {
            "text/plain": [
              "\u001b[1m{\u001b[0m\n",
              "    \u001b[32m'addressbook'\u001b[0m: \u001b[1m[\u001b[0m\n",
              "        \u001b[1m{\u001b[0m\u001b[32m'name'\u001b[0m: \u001b[32m'田中太郎'\u001b[0m, \u001b[32m'location'\u001b[0m: \u001b[32m'東京都渋谷区神南1-2-3'\u001b[0m\u001b[1m}\u001b[0m,\n",
              "        \u001b[1m{\u001b[0m\u001b[32m'name'\u001b[0m: \u001b[32m'山田花子'\u001b[0m, \u001b[32m'location'\u001b[0m: \u001b[32m'大阪府大阪市中央区難波5-6-7'\u001b[0m\u001b[1m}\u001b[0m,\n",
              "        \u001b[1m{\u001b[0m\u001b[32m'name'\u001b[0m: \u001b[32m'鈴木一郎'\u001b[0m, \u001b[32m'location'\u001b[0m: \u001b[32m'北海道札幌市中央区北1-2-3'\u001b[0m\u001b[1m}\u001b[0m,\n",
              "        \u001b[1m{\u001b[0m\u001b[32m'name'\u001b[0m: \u001b[32m'佐藤美代'\u001b[0m, \u001b[32m'location'\u001b[0m: \u001b[32m'福岡県福岡市博多区博多1-2-3'\u001b[0m\u001b[1m}\u001b[0m,\n",
              "        \u001b[1m{\u001b[0m\u001b[32m'name'\u001b[0m: \u001b[32m'伊藤健太'\u001b[0m, \u001b[32m'location'\u001b[0m: \u001b[32m'愛知県名古屋市中区栄2-3-4'\u001b[0m\u001b[1m}\u001b[0m,\n",
              "        \u001b[1m{\u001b[0m\u001b[32m'name'\u001b[0m: \u001b[32m'鈴木一郎'\u001b[0m, \u001b[32m'location'\u001b[0m: \u001b[32m'北海道札幌市中央区北1-1-1'\u001b[0m\u001b[1m}\u001b[0m,\n",
              "        \u001b[1m{\u001b[0m\u001b[32m'name'\u001b[0m: \u001b[32m'佐藤明美'\u001b[0m, \u001b[32m'location'\u001b[0m: \u001b[32m'福岡県福岡市博多区博多1-1-1'\u001b[0m\u001b[1m}\u001b[0m\n",
              "    \u001b[1m]\u001b[0m\n",
              "\u001b[1m}\u001b[0m\n"
            ],
            "text/html": [
              "<pre style=\"white-space:pre;overflow-x:auto;line-height:normal;font-family:Menlo,'DejaVu Sans Mono',consolas,'Courier New',monospace\"><span style=\"font-weight: bold\">{</span>\n",
              "    <span style=\"color: #008000; text-decoration-color: #008000\">'addressbook'</span>: <span style=\"font-weight: bold\">[</span>\n",
              "        <span style=\"font-weight: bold\">{</span><span style=\"color: #008000; text-decoration-color: #008000\">'name'</span>: <span style=\"color: #008000; text-decoration-color: #008000\">'田中太郎'</span>, <span style=\"color: #008000; text-decoration-color: #008000\">'location'</span>: <span style=\"color: #008000; text-decoration-color: #008000\">'東京都渋谷区神南1-2-3'</span><span style=\"font-weight: bold\">}</span>,\n",
              "        <span style=\"font-weight: bold\">{</span><span style=\"color: #008000; text-decoration-color: #008000\">'name'</span>: <span style=\"color: #008000; text-decoration-color: #008000\">'山田花子'</span>, <span style=\"color: #008000; text-decoration-color: #008000\">'location'</span>: <span style=\"color: #008000; text-decoration-color: #008000\">'大阪府大阪市中央区難波5-6-7'</span><span style=\"font-weight: bold\">}</span>,\n",
              "        <span style=\"font-weight: bold\">{</span><span style=\"color: #008000; text-decoration-color: #008000\">'name'</span>: <span style=\"color: #008000; text-decoration-color: #008000\">'鈴木一郎'</span>, <span style=\"color: #008000; text-decoration-color: #008000\">'location'</span>: <span style=\"color: #008000; text-decoration-color: #008000\">'北海道札幌市中央区北1-2-3'</span><span style=\"font-weight: bold\">}</span>,\n",
              "        <span style=\"font-weight: bold\">{</span><span style=\"color: #008000; text-decoration-color: #008000\">'name'</span>: <span style=\"color: #008000; text-decoration-color: #008000\">'佐藤美代'</span>, <span style=\"color: #008000; text-decoration-color: #008000\">'location'</span>: <span style=\"color: #008000; text-decoration-color: #008000\">'福岡県福岡市博多区博多1-2-3'</span><span style=\"font-weight: bold\">}</span>,\n",
              "        <span style=\"font-weight: bold\">{</span><span style=\"color: #008000; text-decoration-color: #008000\">'name'</span>: <span style=\"color: #008000; text-decoration-color: #008000\">'伊藤健太'</span>, <span style=\"color: #008000; text-decoration-color: #008000\">'location'</span>: <span style=\"color: #008000; text-decoration-color: #008000\">'愛知県名古屋市中区栄2-3-4'</span><span style=\"font-weight: bold\">}</span>,\n",
              "        <span style=\"font-weight: bold\">{</span><span style=\"color: #008000; text-decoration-color: #008000\">'name'</span>: <span style=\"color: #008000; text-decoration-color: #008000\">'鈴木一郎'</span>, <span style=\"color: #008000; text-decoration-color: #008000\">'location'</span>: <span style=\"color: #008000; text-decoration-color: #008000\">'北海道札幌市中央区北1-1-1'</span><span style=\"font-weight: bold\">}</span>,\n",
              "        <span style=\"font-weight: bold\">{</span><span style=\"color: #008000; text-decoration-color: #008000\">'name'</span>: <span style=\"color: #008000; text-decoration-color: #008000\">'佐藤明美'</span>, <span style=\"color: #008000; text-decoration-color: #008000\">'location'</span>: <span style=\"color: #008000; text-decoration-color: #008000\">'福岡県福岡市博多区博多1-1-1'</span><span style=\"font-weight: bold\">}</span>\n",
              "    <span style=\"font-weight: bold\">]</span>\n",
              "<span style=\"font-weight: bold\">}</span>\n",
              "</pre>\n"
            ]
          },
          "metadata": {}
        },
        {
          "output_type": "display_data",
          "data": {
            "text/plain": [
              "\u001b[1m{\u001b[0m\n",
              "    \u001b[32m'addressbook'\u001b[0m: \u001b[1m[\u001b[0m\n",
              "        \u001b[1m{\u001b[0m\u001b[32m'name'\u001b[0m: \u001b[32m'田中太郎'\u001b[0m, \u001b[32m'location'\u001b[0m: \u001b[32m'東京都渋谷区神南1-2-3'\u001b[0m\u001b[1m}\u001b[0m,\n",
              "        \u001b[1m{\u001b[0m\u001b[32m'name'\u001b[0m: \u001b[32m'山田花子'\u001b[0m, \u001b[32m'location'\u001b[0m: \u001b[32m'大阪府大阪市中央区難波5-6-7'\u001b[0m\u001b[1m}\u001b[0m,\n",
              "        \u001b[1m{\u001b[0m\u001b[32m'name'\u001b[0m: \u001b[32m'鈴木一郎'\u001b[0m, \u001b[32m'location'\u001b[0m: \u001b[32m'北海道札幌市中央区北1-2-3'\u001b[0m\u001b[1m}\u001b[0m,\n",
              "        \u001b[1m{\u001b[0m\u001b[32m'name'\u001b[0m: \u001b[32m'佐藤美代'\u001b[0m, \u001b[32m'location'\u001b[0m: \u001b[32m'福岡県福岡市博多区博多1-2-3'\u001b[0m\u001b[1m}\u001b[0m,\n",
              "        \u001b[1m{\u001b[0m\u001b[32m'name'\u001b[0m: \u001b[32m'伊藤健太'\u001b[0m, \u001b[32m'location'\u001b[0m: \u001b[32m'愛知県名古屋市中区栄2-3-4'\u001b[0m\u001b[1m}\u001b[0m,\n",
              "        \u001b[1m{\u001b[0m\u001b[32m'name'\u001b[0m: \u001b[32m'鈴木一郎'\u001b[0m, \u001b[32m'location'\u001b[0m: \u001b[32m'北海道札幌市中央区北1-1-1'\u001b[0m\u001b[1m}\u001b[0m,\n",
              "        \u001b[1m{\u001b[0m\u001b[32m'name'\u001b[0m: \u001b[32m'佐藤明美'\u001b[0m, \u001b[32m'location'\u001b[0m: \u001b[32m'福岡県福岡市博多区博多1-1-1'\u001b[0m\u001b[1m}\u001b[0m,\n",
              "        \u001b[1m{\u001b[0m\u001b[32m'name'\u001b[0m: \u001b[32m'山田花子'\u001b[0m, \u001b[32m'location'\u001b[0m: \u001b[32m'大阪府大阪市中央区難波1-4-5'\u001b[0m\u001b[1m}\u001b[0m,\n",
              "        \u001b[1m{\u001b[0m\u001b[32m'name'\u001b[0m: \u001b[32m'鈴木一郎'\u001b[0m, \u001b[32m'location'\u001b[0m: \u001b[32m'北海道札幌市中央区北1-1-2'\u001b[0m\u001b[1m}\u001b[0m,\n",
              "        \u001b[1m{\u001b[0m\u001b[32m'name'\u001b[0m: \u001b[32m'佐藤明美'\u001b[0m, \u001b[32m'location'\u001b[0m: \u001b[32m'福岡県福岡市博多区中洲5-6-7'\u001b[0m\u001b[1m}\u001b[0m,\n",
              "        \u001b[1m{\u001b[0m\u001b[32m'name'\u001b[0m: \u001b[32m'伊藤健太'\u001b[0m, \u001b[32m'location'\u001b[0m: \u001b[32m'愛知県名古屋市中区栄3-2-1'\u001b[0m\u001b[1m}\u001b[0m\n",
              "    \u001b[1m]\u001b[0m\n",
              "\u001b[1m}\u001b[0m\n"
            ],
            "text/html": [
              "<pre style=\"white-space:pre;overflow-x:auto;line-height:normal;font-family:Menlo,'DejaVu Sans Mono',consolas,'Courier New',monospace\"><span style=\"font-weight: bold\">{</span>\n",
              "    <span style=\"color: #008000; text-decoration-color: #008000\">'addressbook'</span>: <span style=\"font-weight: bold\">[</span>\n",
              "        <span style=\"font-weight: bold\">{</span><span style=\"color: #008000; text-decoration-color: #008000\">'name'</span>: <span style=\"color: #008000; text-decoration-color: #008000\">'田中太郎'</span>, <span style=\"color: #008000; text-decoration-color: #008000\">'location'</span>: <span style=\"color: #008000; text-decoration-color: #008000\">'東京都渋谷区神南1-2-3'</span><span style=\"font-weight: bold\">}</span>,\n",
              "        <span style=\"font-weight: bold\">{</span><span style=\"color: #008000; text-decoration-color: #008000\">'name'</span>: <span style=\"color: #008000; text-decoration-color: #008000\">'山田花子'</span>, <span style=\"color: #008000; text-decoration-color: #008000\">'location'</span>: <span style=\"color: #008000; text-decoration-color: #008000\">'大阪府大阪市中央区難波5-6-7'</span><span style=\"font-weight: bold\">}</span>,\n",
              "        <span style=\"font-weight: bold\">{</span><span style=\"color: #008000; text-decoration-color: #008000\">'name'</span>: <span style=\"color: #008000; text-decoration-color: #008000\">'鈴木一郎'</span>, <span style=\"color: #008000; text-decoration-color: #008000\">'location'</span>: <span style=\"color: #008000; text-decoration-color: #008000\">'北海道札幌市中央区北1-2-3'</span><span style=\"font-weight: bold\">}</span>,\n",
              "        <span style=\"font-weight: bold\">{</span><span style=\"color: #008000; text-decoration-color: #008000\">'name'</span>: <span style=\"color: #008000; text-decoration-color: #008000\">'佐藤美代'</span>, <span style=\"color: #008000; text-decoration-color: #008000\">'location'</span>: <span style=\"color: #008000; text-decoration-color: #008000\">'福岡県福岡市博多区博多1-2-3'</span><span style=\"font-weight: bold\">}</span>,\n",
              "        <span style=\"font-weight: bold\">{</span><span style=\"color: #008000; text-decoration-color: #008000\">'name'</span>: <span style=\"color: #008000; text-decoration-color: #008000\">'伊藤健太'</span>, <span style=\"color: #008000; text-decoration-color: #008000\">'location'</span>: <span style=\"color: #008000; text-decoration-color: #008000\">'愛知県名古屋市中区栄2-3-4'</span><span style=\"font-weight: bold\">}</span>,\n",
              "        <span style=\"font-weight: bold\">{</span><span style=\"color: #008000; text-decoration-color: #008000\">'name'</span>: <span style=\"color: #008000; text-decoration-color: #008000\">'鈴木一郎'</span>, <span style=\"color: #008000; text-decoration-color: #008000\">'location'</span>: <span style=\"color: #008000; text-decoration-color: #008000\">'北海道札幌市中央区北1-1-1'</span><span style=\"font-weight: bold\">}</span>,\n",
              "        <span style=\"font-weight: bold\">{</span><span style=\"color: #008000; text-decoration-color: #008000\">'name'</span>: <span style=\"color: #008000; text-decoration-color: #008000\">'佐藤明美'</span>, <span style=\"color: #008000; text-decoration-color: #008000\">'location'</span>: <span style=\"color: #008000; text-decoration-color: #008000\">'福岡県福岡市博多区博多1-1-1'</span><span style=\"font-weight: bold\">}</span>,\n",
              "        <span style=\"font-weight: bold\">{</span><span style=\"color: #008000; text-decoration-color: #008000\">'name'</span>: <span style=\"color: #008000; text-decoration-color: #008000\">'山田花子'</span>, <span style=\"color: #008000; text-decoration-color: #008000\">'location'</span>: <span style=\"color: #008000; text-decoration-color: #008000\">'大阪府大阪市中央区難波1-4-5'</span><span style=\"font-weight: bold\">}</span>,\n",
              "        <span style=\"font-weight: bold\">{</span><span style=\"color: #008000; text-decoration-color: #008000\">'name'</span>: <span style=\"color: #008000; text-decoration-color: #008000\">'鈴木一郎'</span>, <span style=\"color: #008000; text-decoration-color: #008000\">'location'</span>: <span style=\"color: #008000; text-decoration-color: #008000\">'北海道札幌市中央区北1-1-2'</span><span style=\"font-weight: bold\">}</span>,\n",
              "        <span style=\"font-weight: bold\">{</span><span style=\"color: #008000; text-decoration-color: #008000\">'name'</span>: <span style=\"color: #008000; text-decoration-color: #008000\">'佐藤明美'</span>, <span style=\"color: #008000; text-decoration-color: #008000\">'location'</span>: <span style=\"color: #008000; text-decoration-color: #008000\">'福岡県福岡市博多区中洲5-6-7'</span><span style=\"font-weight: bold\">}</span>,\n",
              "        <span style=\"font-weight: bold\">{</span><span style=\"color: #008000; text-decoration-color: #008000\">'name'</span>: <span style=\"color: #008000; text-decoration-color: #008000\">'伊藤健太'</span>, <span style=\"color: #008000; text-decoration-color: #008000\">'location'</span>: <span style=\"color: #008000; text-decoration-color: #008000\">'愛知県名古屋市中区栄3-2-1'</span><span style=\"font-weight: bold\">}</span>\n",
              "    <span style=\"font-weight: bold\">]</span>\n",
              "<span style=\"font-weight: bold\">}</span>\n",
              "</pre>\n"
            ]
          },
          "metadata": {}
        },
        {
          "output_type": "display_data",
          "data": {
            "text/plain": [
              "\u001b[1m{\u001b[0m\n",
              "    \u001b[32m'addressbook'\u001b[0m: \u001b[1m[\u001b[0m\n",
              "        \u001b[1m{\u001b[0m\u001b[32m'name'\u001b[0m: \u001b[32m'田中太郎'\u001b[0m, \u001b[32m'location'\u001b[0m: \u001b[32m'東京都渋谷区神南1-2-3'\u001b[0m\u001b[1m}\u001b[0m,\n",
              "        \u001b[1m{\u001b[0m\u001b[32m'name'\u001b[0m: \u001b[32m'山田花子'\u001b[0m, \u001b[32m'location'\u001b[0m: \u001b[32m'大阪府大阪市中央区難波5-6-7'\u001b[0m\u001b[1m}\u001b[0m,\n",
              "        \u001b[1m{\u001b[0m\u001b[32m'name'\u001b[0m: \u001b[32m'鈴木一郎'\u001b[0m, \u001b[32m'location'\u001b[0m: \u001b[32m'北海道札幌市中央区北1-2-3'\u001b[0m\u001b[1m}\u001b[0m,\n",
              "        \u001b[1m{\u001b[0m\u001b[32m'name'\u001b[0m: \u001b[32m'佐藤美代'\u001b[0m, \u001b[32m'location'\u001b[0m: \u001b[32m'福岡県福岡市博多区博多1-2-3'\u001b[0m\u001b[1m}\u001b[0m,\n",
              "        \u001b[1m{\u001b[0m\u001b[32m'name'\u001b[0m: \u001b[32m'伊藤健太'\u001b[0m, \u001b[32m'location'\u001b[0m: \u001b[32m'愛知県名古屋市中区栄2-3-4'\u001b[0m\u001b[1m}\u001b[0m,\n",
              "        \u001b[1m{\u001b[0m\u001b[32m'name'\u001b[0m: \u001b[32m'鈴木一郎'\u001b[0m, \u001b[32m'location'\u001b[0m: \u001b[32m'北海道札幌市中央区北1-1-1'\u001b[0m\u001b[1m}\u001b[0m,\n",
              "        \u001b[1m{\u001b[0m\u001b[32m'name'\u001b[0m: \u001b[32m'佐藤明美'\u001b[0m, \u001b[32m'location'\u001b[0m: \u001b[32m'福岡県福岡市博多区博多1-1-1'\u001b[0m\u001b[1m}\u001b[0m,\n",
              "        \u001b[1m{\u001b[0m\u001b[32m'name'\u001b[0m: \u001b[32m'山田花子'\u001b[0m, \u001b[32m'location'\u001b[0m: \u001b[32m'大阪府大阪市中央区難波1-4-5'\u001b[0m\u001b[1m}\u001b[0m,\n",
              "        \u001b[1m{\u001b[0m\u001b[32m'name'\u001b[0m: \u001b[32m'鈴木一郎'\u001b[0m, \u001b[32m'location'\u001b[0m: \u001b[32m'北海道札幌市中央区北1-1-2'\u001b[0m\u001b[1m}\u001b[0m,\n",
              "        \u001b[1m{\u001b[0m\u001b[32m'name'\u001b[0m: \u001b[32m'佐藤明美'\u001b[0m, \u001b[32m'location'\u001b[0m: \u001b[32m'福岡県福岡市博多区中洲5-6-7'\u001b[0m\u001b[1m}\u001b[0m,\n",
              "        \u001b[1m{\u001b[0m\u001b[32m'name'\u001b[0m: \u001b[32m'伊藤健太'\u001b[0m, \u001b[32m'location'\u001b[0m: \u001b[32m'愛知県名古屋市中区栄3-2-1'\u001b[0m\u001b[1m}\u001b[0m,\n",
              "        \u001b[1m{\u001b[0m\u001b[32m'name'\u001b[0m: \u001b[32m'佐藤明美'\u001b[0m, \u001b[32m'location'\u001b[0m: \u001b[32m'福岡県福岡市博多区博多1-2-3'\u001b[0m\u001b[1m}\u001b[0m\n",
              "    \u001b[1m]\u001b[0m\n",
              "\u001b[1m}\u001b[0m\n"
            ],
            "text/html": [
              "<pre style=\"white-space:pre;overflow-x:auto;line-height:normal;font-family:Menlo,'DejaVu Sans Mono',consolas,'Courier New',monospace\"><span style=\"font-weight: bold\">{</span>\n",
              "    <span style=\"color: #008000; text-decoration-color: #008000\">'addressbook'</span>: <span style=\"font-weight: bold\">[</span>\n",
              "        <span style=\"font-weight: bold\">{</span><span style=\"color: #008000; text-decoration-color: #008000\">'name'</span>: <span style=\"color: #008000; text-decoration-color: #008000\">'田中太郎'</span>, <span style=\"color: #008000; text-decoration-color: #008000\">'location'</span>: <span style=\"color: #008000; text-decoration-color: #008000\">'東京都渋谷区神南1-2-3'</span><span style=\"font-weight: bold\">}</span>,\n",
              "        <span style=\"font-weight: bold\">{</span><span style=\"color: #008000; text-decoration-color: #008000\">'name'</span>: <span style=\"color: #008000; text-decoration-color: #008000\">'山田花子'</span>, <span style=\"color: #008000; text-decoration-color: #008000\">'location'</span>: <span style=\"color: #008000; text-decoration-color: #008000\">'大阪府大阪市中央区難波5-6-7'</span><span style=\"font-weight: bold\">}</span>,\n",
              "        <span style=\"font-weight: bold\">{</span><span style=\"color: #008000; text-decoration-color: #008000\">'name'</span>: <span style=\"color: #008000; text-decoration-color: #008000\">'鈴木一郎'</span>, <span style=\"color: #008000; text-decoration-color: #008000\">'location'</span>: <span style=\"color: #008000; text-decoration-color: #008000\">'北海道札幌市中央区北1-2-3'</span><span style=\"font-weight: bold\">}</span>,\n",
              "        <span style=\"font-weight: bold\">{</span><span style=\"color: #008000; text-decoration-color: #008000\">'name'</span>: <span style=\"color: #008000; text-decoration-color: #008000\">'佐藤美代'</span>, <span style=\"color: #008000; text-decoration-color: #008000\">'location'</span>: <span style=\"color: #008000; text-decoration-color: #008000\">'福岡県福岡市博多区博多1-2-3'</span><span style=\"font-weight: bold\">}</span>,\n",
              "        <span style=\"font-weight: bold\">{</span><span style=\"color: #008000; text-decoration-color: #008000\">'name'</span>: <span style=\"color: #008000; text-decoration-color: #008000\">'伊藤健太'</span>, <span style=\"color: #008000; text-decoration-color: #008000\">'location'</span>: <span style=\"color: #008000; text-decoration-color: #008000\">'愛知県名古屋市中区栄2-3-4'</span><span style=\"font-weight: bold\">}</span>,\n",
              "        <span style=\"font-weight: bold\">{</span><span style=\"color: #008000; text-decoration-color: #008000\">'name'</span>: <span style=\"color: #008000; text-decoration-color: #008000\">'鈴木一郎'</span>, <span style=\"color: #008000; text-decoration-color: #008000\">'location'</span>: <span style=\"color: #008000; text-decoration-color: #008000\">'北海道札幌市中央区北1-1-1'</span><span style=\"font-weight: bold\">}</span>,\n",
              "        <span style=\"font-weight: bold\">{</span><span style=\"color: #008000; text-decoration-color: #008000\">'name'</span>: <span style=\"color: #008000; text-decoration-color: #008000\">'佐藤明美'</span>, <span style=\"color: #008000; text-decoration-color: #008000\">'location'</span>: <span style=\"color: #008000; text-decoration-color: #008000\">'福岡県福岡市博多区博多1-1-1'</span><span style=\"font-weight: bold\">}</span>,\n",
              "        <span style=\"font-weight: bold\">{</span><span style=\"color: #008000; text-decoration-color: #008000\">'name'</span>: <span style=\"color: #008000; text-decoration-color: #008000\">'山田花子'</span>, <span style=\"color: #008000; text-decoration-color: #008000\">'location'</span>: <span style=\"color: #008000; text-decoration-color: #008000\">'大阪府大阪市中央区難波1-4-5'</span><span style=\"font-weight: bold\">}</span>,\n",
              "        <span style=\"font-weight: bold\">{</span><span style=\"color: #008000; text-decoration-color: #008000\">'name'</span>: <span style=\"color: #008000; text-decoration-color: #008000\">'鈴木一郎'</span>, <span style=\"color: #008000; text-decoration-color: #008000\">'location'</span>: <span style=\"color: #008000; text-decoration-color: #008000\">'北海道札幌市中央区北1-1-2'</span><span style=\"font-weight: bold\">}</span>,\n",
              "        <span style=\"font-weight: bold\">{</span><span style=\"color: #008000; text-decoration-color: #008000\">'name'</span>: <span style=\"color: #008000; text-decoration-color: #008000\">'佐藤明美'</span>, <span style=\"color: #008000; text-decoration-color: #008000\">'location'</span>: <span style=\"color: #008000; text-decoration-color: #008000\">'福岡県福岡市博多区中洲5-6-7'</span><span style=\"font-weight: bold\">}</span>,\n",
              "        <span style=\"font-weight: bold\">{</span><span style=\"color: #008000; text-decoration-color: #008000\">'name'</span>: <span style=\"color: #008000; text-decoration-color: #008000\">'伊藤健太'</span>, <span style=\"color: #008000; text-decoration-color: #008000\">'location'</span>: <span style=\"color: #008000; text-decoration-color: #008000\">'愛知県名古屋市中区栄3-2-1'</span><span style=\"font-weight: bold\">}</span>,\n",
              "        <span style=\"font-weight: bold\">{</span><span style=\"color: #008000; text-decoration-color: #008000\">'name'</span>: <span style=\"color: #008000; text-decoration-color: #008000\">'佐藤明美'</span>, <span style=\"color: #008000; text-decoration-color: #008000\">'location'</span>: <span style=\"color: #008000; text-decoration-color: #008000\">'福岡県福岡市博多区博多1-2-3'</span><span style=\"font-weight: bold\">}</span>\n",
              "    <span style=\"font-weight: bold\">]</span>\n",
              "<span style=\"font-weight: bold\">}</span>\n",
              "</pre>\n"
            ]
          },
          "metadata": {}
        },
        {
          "output_type": "display_data",
          "data": {
            "text/plain": [
              "\u001b[1m{\u001b[0m\n",
              "    \u001b[32m'addressbook'\u001b[0m: \u001b[1m[\u001b[0m\n",
              "        \u001b[1m{\u001b[0m\u001b[32m'name'\u001b[0m: \u001b[32m'田中太郎'\u001b[0m, \u001b[32m'location'\u001b[0m: \u001b[32m'東京都渋谷区神南1-2-3'\u001b[0m\u001b[1m}\u001b[0m,\n",
              "        \u001b[1m{\u001b[0m\u001b[32m'name'\u001b[0m: \u001b[32m'山田花子'\u001b[0m, \u001b[32m'location'\u001b[0m: \u001b[32m'大阪府大阪市中央区難波5-6-7'\u001b[0m\u001b[1m}\u001b[0m,\n",
              "        \u001b[1m{\u001b[0m\u001b[32m'name'\u001b[0m: \u001b[32m'鈴木一郎'\u001b[0m, \u001b[32m'location'\u001b[0m: \u001b[32m'北海道札幌市中央区北1-2-3'\u001b[0m\u001b[1m}\u001b[0m,\n",
              "        \u001b[1m{\u001b[0m\u001b[32m'name'\u001b[0m: \u001b[32m'佐藤美代'\u001b[0m, \u001b[32m'location'\u001b[0m: \u001b[32m'福岡県福岡市博多区博多1-2-3'\u001b[0m\u001b[1m}\u001b[0m,\n",
              "        \u001b[1m{\u001b[0m\u001b[32m'name'\u001b[0m: \u001b[32m'伊藤健太'\u001b[0m, \u001b[32m'location'\u001b[0m: \u001b[32m'愛知県名古屋市中区栄2-3-4'\u001b[0m\u001b[1m}\u001b[0m,\n",
              "        \u001b[1m{\u001b[0m\u001b[32m'name'\u001b[0m: \u001b[32m'鈴木一郎'\u001b[0m, \u001b[32m'location'\u001b[0m: \u001b[32m'北海道札幌市中央区北1-1-1'\u001b[0m\u001b[1m}\u001b[0m,\n",
              "        \u001b[1m{\u001b[0m\u001b[32m'name'\u001b[0m: \u001b[32m'佐藤明美'\u001b[0m, \u001b[32m'location'\u001b[0m: \u001b[32m'福岡県福岡市博多区博多1-1-1'\u001b[0m\u001b[1m}\u001b[0m,\n",
              "        \u001b[1m{\u001b[0m\u001b[32m'name'\u001b[0m: \u001b[32m'山田花子'\u001b[0m, \u001b[32m'location'\u001b[0m: \u001b[32m'大阪府大阪市中央区難波1-4-5'\u001b[0m\u001b[1m}\u001b[0m,\n",
              "        \u001b[1m{\u001b[0m\u001b[32m'name'\u001b[0m: \u001b[32m'鈴木一郎'\u001b[0m, \u001b[32m'location'\u001b[0m: \u001b[32m'北海道札幌市中央区北1-1-2'\u001b[0m\u001b[1m}\u001b[0m,\n",
              "        \u001b[1m{\u001b[0m\u001b[32m'name'\u001b[0m: \u001b[32m'佐藤明美'\u001b[0m, \u001b[32m'location'\u001b[0m: \u001b[32m'福岡県福岡市博多区中洲5-6-7'\u001b[0m\u001b[1m}\u001b[0m,\n",
              "        \u001b[1m{\u001b[0m\u001b[32m'name'\u001b[0m: \u001b[32m'伊藤健太'\u001b[0m, \u001b[32m'location'\u001b[0m: \u001b[32m'愛知県名古屋市中区栄3-2-1'\u001b[0m\u001b[1m}\u001b[0m,\n",
              "        \u001b[1m{\u001b[0m\u001b[32m'name'\u001b[0m: \u001b[32m'佐藤明美'\u001b[0m, \u001b[32m'location'\u001b[0m: \u001b[32m'福岡県福岡市博多区博多1-2-3'\u001b[0m\u001b[1m}\u001b[0m,\n",
              "        \u001b[1m{\u001b[0m\u001b[32m'name'\u001b[0m: \u001b[32m'田中太郎'\u001b[0m, \u001b[32m'location'\u001b[0m: \u001b[32m'東京都渋谷区渋谷1-1-1'\u001b[0m\u001b[1m}\u001b[0m,\n",
              "        \u001b[1m{\u001b[0m\u001b[32m'name'\u001b[0m: \u001b[32m'山田花子'\u001b[0m, \u001b[32m'location'\u001b[0m: \u001b[32m'大阪府大阪市中央区難波5-5-5'\u001b[0m\u001b[1m}\u001b[0m,\n",
              "        \u001b[1m{\u001b[0m\u001b[32m'name'\u001b[0m: \u001b[32m'佐藤美代'\u001b[0m, \u001b[32m'location'\u001b[0m: \u001b[32m'福岡県福岡市博多区博多1-1-1'\u001b[0m\u001b[1m}\u001b[0m,\n",
              "        \u001b[1m{\u001b[0m\u001b[32m'name'\u001b[0m: \u001b[32m'伊藤健太'\u001b[0m, \u001b[32m'location'\u001b[0m: \u001b[32m'愛知県名古屋市中区栄2-2-2'\u001b[0m\u001b[1m}\u001b[0m\n",
              "    \u001b[1m]\u001b[0m\n",
              "\u001b[1m}\u001b[0m\n"
            ],
            "text/html": [
              "<pre style=\"white-space:pre;overflow-x:auto;line-height:normal;font-family:Menlo,'DejaVu Sans Mono',consolas,'Courier New',monospace\"><span style=\"font-weight: bold\">{</span>\n",
              "    <span style=\"color: #008000; text-decoration-color: #008000\">'addressbook'</span>: <span style=\"font-weight: bold\">[</span>\n",
              "        <span style=\"font-weight: bold\">{</span><span style=\"color: #008000; text-decoration-color: #008000\">'name'</span>: <span style=\"color: #008000; text-decoration-color: #008000\">'田中太郎'</span>, <span style=\"color: #008000; text-decoration-color: #008000\">'location'</span>: <span style=\"color: #008000; text-decoration-color: #008000\">'東京都渋谷区神南1-2-3'</span><span style=\"font-weight: bold\">}</span>,\n",
              "        <span style=\"font-weight: bold\">{</span><span style=\"color: #008000; text-decoration-color: #008000\">'name'</span>: <span style=\"color: #008000; text-decoration-color: #008000\">'山田花子'</span>, <span style=\"color: #008000; text-decoration-color: #008000\">'location'</span>: <span style=\"color: #008000; text-decoration-color: #008000\">'大阪府大阪市中央区難波5-6-7'</span><span style=\"font-weight: bold\">}</span>,\n",
              "        <span style=\"font-weight: bold\">{</span><span style=\"color: #008000; text-decoration-color: #008000\">'name'</span>: <span style=\"color: #008000; text-decoration-color: #008000\">'鈴木一郎'</span>, <span style=\"color: #008000; text-decoration-color: #008000\">'location'</span>: <span style=\"color: #008000; text-decoration-color: #008000\">'北海道札幌市中央区北1-2-3'</span><span style=\"font-weight: bold\">}</span>,\n",
              "        <span style=\"font-weight: bold\">{</span><span style=\"color: #008000; text-decoration-color: #008000\">'name'</span>: <span style=\"color: #008000; text-decoration-color: #008000\">'佐藤美代'</span>, <span style=\"color: #008000; text-decoration-color: #008000\">'location'</span>: <span style=\"color: #008000; text-decoration-color: #008000\">'福岡県福岡市博多区博多1-2-3'</span><span style=\"font-weight: bold\">}</span>,\n",
              "        <span style=\"font-weight: bold\">{</span><span style=\"color: #008000; text-decoration-color: #008000\">'name'</span>: <span style=\"color: #008000; text-decoration-color: #008000\">'伊藤健太'</span>, <span style=\"color: #008000; text-decoration-color: #008000\">'location'</span>: <span style=\"color: #008000; text-decoration-color: #008000\">'愛知県名古屋市中区栄2-3-4'</span><span style=\"font-weight: bold\">}</span>,\n",
              "        <span style=\"font-weight: bold\">{</span><span style=\"color: #008000; text-decoration-color: #008000\">'name'</span>: <span style=\"color: #008000; text-decoration-color: #008000\">'鈴木一郎'</span>, <span style=\"color: #008000; text-decoration-color: #008000\">'location'</span>: <span style=\"color: #008000; text-decoration-color: #008000\">'北海道札幌市中央区北1-1-1'</span><span style=\"font-weight: bold\">}</span>,\n",
              "        <span style=\"font-weight: bold\">{</span><span style=\"color: #008000; text-decoration-color: #008000\">'name'</span>: <span style=\"color: #008000; text-decoration-color: #008000\">'佐藤明美'</span>, <span style=\"color: #008000; text-decoration-color: #008000\">'location'</span>: <span style=\"color: #008000; text-decoration-color: #008000\">'福岡県福岡市博多区博多1-1-1'</span><span style=\"font-weight: bold\">}</span>,\n",
              "        <span style=\"font-weight: bold\">{</span><span style=\"color: #008000; text-decoration-color: #008000\">'name'</span>: <span style=\"color: #008000; text-decoration-color: #008000\">'山田花子'</span>, <span style=\"color: #008000; text-decoration-color: #008000\">'location'</span>: <span style=\"color: #008000; text-decoration-color: #008000\">'大阪府大阪市中央区難波1-4-5'</span><span style=\"font-weight: bold\">}</span>,\n",
              "        <span style=\"font-weight: bold\">{</span><span style=\"color: #008000; text-decoration-color: #008000\">'name'</span>: <span style=\"color: #008000; text-decoration-color: #008000\">'鈴木一郎'</span>, <span style=\"color: #008000; text-decoration-color: #008000\">'location'</span>: <span style=\"color: #008000; text-decoration-color: #008000\">'北海道札幌市中央区北1-1-2'</span><span style=\"font-weight: bold\">}</span>,\n",
              "        <span style=\"font-weight: bold\">{</span><span style=\"color: #008000; text-decoration-color: #008000\">'name'</span>: <span style=\"color: #008000; text-decoration-color: #008000\">'佐藤明美'</span>, <span style=\"color: #008000; text-decoration-color: #008000\">'location'</span>: <span style=\"color: #008000; text-decoration-color: #008000\">'福岡県福岡市博多区中洲5-6-7'</span><span style=\"font-weight: bold\">}</span>,\n",
              "        <span style=\"font-weight: bold\">{</span><span style=\"color: #008000; text-decoration-color: #008000\">'name'</span>: <span style=\"color: #008000; text-decoration-color: #008000\">'伊藤健太'</span>, <span style=\"color: #008000; text-decoration-color: #008000\">'location'</span>: <span style=\"color: #008000; text-decoration-color: #008000\">'愛知県名古屋市中区栄3-2-1'</span><span style=\"font-weight: bold\">}</span>,\n",
              "        <span style=\"font-weight: bold\">{</span><span style=\"color: #008000; text-decoration-color: #008000\">'name'</span>: <span style=\"color: #008000; text-decoration-color: #008000\">'佐藤明美'</span>, <span style=\"color: #008000; text-decoration-color: #008000\">'location'</span>: <span style=\"color: #008000; text-decoration-color: #008000\">'福岡県福岡市博多区博多1-2-3'</span><span style=\"font-weight: bold\">}</span>,\n",
              "        <span style=\"font-weight: bold\">{</span><span style=\"color: #008000; text-decoration-color: #008000\">'name'</span>: <span style=\"color: #008000; text-decoration-color: #008000\">'田中太郎'</span>, <span style=\"color: #008000; text-decoration-color: #008000\">'location'</span>: <span style=\"color: #008000; text-decoration-color: #008000\">'東京都渋谷区渋谷1-1-1'</span><span style=\"font-weight: bold\">}</span>,\n",
              "        <span style=\"font-weight: bold\">{</span><span style=\"color: #008000; text-decoration-color: #008000\">'name'</span>: <span style=\"color: #008000; text-decoration-color: #008000\">'山田花子'</span>, <span style=\"color: #008000; text-decoration-color: #008000\">'location'</span>: <span style=\"color: #008000; text-decoration-color: #008000\">'大阪府大阪市中央区難波5-5-5'</span><span style=\"font-weight: bold\">}</span>,\n",
              "        <span style=\"font-weight: bold\">{</span><span style=\"color: #008000; text-decoration-color: #008000\">'name'</span>: <span style=\"color: #008000; text-decoration-color: #008000\">'佐藤美代'</span>, <span style=\"color: #008000; text-decoration-color: #008000\">'location'</span>: <span style=\"color: #008000; text-decoration-color: #008000\">'福岡県福岡市博多区博多1-1-1'</span><span style=\"font-weight: bold\">}</span>,\n",
              "        <span style=\"font-weight: bold\">{</span><span style=\"color: #008000; text-decoration-color: #008000\">'name'</span>: <span style=\"color: #008000; text-decoration-color: #008000\">'伊藤健太'</span>, <span style=\"color: #008000; text-decoration-color: #008000\">'location'</span>: <span style=\"color: #008000; text-decoration-color: #008000\">'愛知県名古屋市中区栄2-2-2'</span><span style=\"font-weight: bold\">}</span>\n",
              "    <span style=\"font-weight: bold\">]</span>\n",
              "<span style=\"font-weight: bold\">}</span>\n",
              "</pre>\n"
            ]
          },
          "metadata": {}
        },
        {
          "output_type": "display_data",
          "data": {
            "text/plain": [
              "\u001b[1m{\u001b[0m\n",
              "    \u001b[32m'addressbook'\u001b[0m: \u001b[1m[\u001b[0m\n",
              "        \u001b[1m{\u001b[0m\u001b[32m'name'\u001b[0m: \u001b[32m'田中太郎'\u001b[0m, \u001b[32m'location'\u001b[0m: \u001b[32m'東京都渋谷区神南1-2-3'\u001b[0m\u001b[1m}\u001b[0m,\n",
              "        \u001b[1m{\u001b[0m\u001b[32m'name'\u001b[0m: \u001b[32m'山田花子'\u001b[0m, \u001b[32m'location'\u001b[0m: \u001b[32m'大阪府大阪市中央区難波5-6-7'\u001b[0m\u001b[1m}\u001b[0m,\n",
              "        \u001b[1m{\u001b[0m\u001b[32m'name'\u001b[0m: \u001b[32m'鈴木一郎'\u001b[0m, \u001b[32m'location'\u001b[0m: \u001b[32m'北海道札幌市中央区北1-2-3'\u001b[0m\u001b[1m}\u001b[0m,\n",
              "        \u001b[1m{\u001b[0m\u001b[32m'name'\u001b[0m: \u001b[32m'佐藤美代'\u001b[0m, \u001b[32m'location'\u001b[0m: \u001b[32m'福岡県福岡市博多区博多1-2-3'\u001b[0m\u001b[1m}\u001b[0m,\n",
              "        \u001b[1m{\u001b[0m\u001b[32m'name'\u001b[0m: \u001b[32m'伊藤健太'\u001b[0m, \u001b[32m'location'\u001b[0m: \u001b[32m'愛知県名古屋市中区栄2-3-4'\u001b[0m\u001b[1m}\u001b[0m,\n",
              "        \u001b[1m{\u001b[0m\u001b[32m'name'\u001b[0m: \u001b[32m'鈴木一郎'\u001b[0m, \u001b[32m'location'\u001b[0m: \u001b[32m'北海道札幌市中央区北1-1-1'\u001b[0m\u001b[1m}\u001b[0m,\n",
              "        \u001b[1m{\u001b[0m\u001b[32m'name'\u001b[0m: \u001b[32m'佐藤明美'\u001b[0m, \u001b[32m'location'\u001b[0m: \u001b[32m'福岡県福岡市博多区博多1-1-1'\u001b[0m\u001b[1m}\u001b[0m,\n",
              "        \u001b[1m{\u001b[0m\u001b[32m'name'\u001b[0m: \u001b[32m'山田花子'\u001b[0m, \u001b[32m'location'\u001b[0m: \u001b[32m'大阪府大阪市中央区難波1-4-5'\u001b[0m\u001b[1m}\u001b[0m,\n",
              "        \u001b[1m{\u001b[0m\u001b[32m'name'\u001b[0m: \u001b[32m'鈴木一郎'\u001b[0m, \u001b[32m'location'\u001b[0m: \u001b[32m'北海道札幌市中央区北1-1-2'\u001b[0m\u001b[1m}\u001b[0m,\n",
              "        \u001b[1m{\u001b[0m\u001b[32m'name'\u001b[0m: \u001b[32m'佐藤明美'\u001b[0m, \u001b[32m'location'\u001b[0m: \u001b[32m'福岡県福岡市博多区中洲5-6-7'\u001b[0m\u001b[1m}\u001b[0m,\n",
              "        \u001b[1m{\u001b[0m\u001b[32m'name'\u001b[0m: \u001b[32m'伊藤健太'\u001b[0m, \u001b[32m'location'\u001b[0m: \u001b[32m'愛知県名古屋市中区栄3-2-1'\u001b[0m\u001b[1m}\u001b[0m,\n",
              "        \u001b[1m{\u001b[0m\u001b[32m'name'\u001b[0m: \u001b[32m'佐藤明美'\u001b[0m, \u001b[32m'location'\u001b[0m: \u001b[32m'福岡県福岡市博多区博多1-2-3'\u001b[0m\u001b[1m}\u001b[0m,\n",
              "        \u001b[1m{\u001b[0m\u001b[32m'name'\u001b[0m: \u001b[32m'田中太郎'\u001b[0m, \u001b[32m'location'\u001b[0m: \u001b[32m'東京都渋谷区渋谷1-1-1'\u001b[0m\u001b[1m}\u001b[0m,\n",
              "        \u001b[1m{\u001b[0m\u001b[32m'name'\u001b[0m: \u001b[32m'山田花子'\u001b[0m, \u001b[32m'location'\u001b[0m: \u001b[32m'大阪府大阪市中央区難波5-5-5'\u001b[0m\u001b[1m}\u001b[0m,\n",
              "        \u001b[1m{\u001b[0m\u001b[32m'name'\u001b[0m: \u001b[32m'佐藤美代'\u001b[0m, \u001b[32m'location'\u001b[0m: \u001b[32m'福岡県福岡市博多区博多1-1-1'\u001b[0m\u001b[1m}\u001b[0m,\n",
              "        \u001b[1m{\u001b[0m\u001b[32m'name'\u001b[0m: \u001b[32m'伊藤健太'\u001b[0m, \u001b[32m'location'\u001b[0m: \u001b[32m'愛知県名古屋市中区栄2-2-2'\u001b[0m\u001b[1m}\u001b[0m,\n",
              "        \u001b[1m{\u001b[0m\u001b[32m'name'\u001b[0m: \u001b[32m'鈴木一郎'\u001b[0m, \u001b[32m'location'\u001b[0m: \u001b[32m'北海道札幌市中央区北1条西1-1'\u001b[0m\u001b[1m}\u001b[0m,\n",
              "        \u001b[1m{\u001b[0m\u001b[32m'name'\u001b[0m: \u001b[32m'佐藤美智子'\u001b[0m, \u001b[32m'location'\u001b[0m: \u001b[32m'福岡県福岡市博多区博多駅前1-1-1'\u001b[0m\u001b[1m}\u001b[0m,\n",
              "        \u001b[1m{\u001b[0m\u001b[32m'name'\u001b[0m: \u001b[32m'伊藤健太'\u001b[0m, \u001b[32m'location'\u001b[0m: \u001b[32m'愛知県名古屋市中区栄3-3-3'\u001b[0m\u001b[1m}\u001b[0m\n",
              "    \u001b[1m]\u001b[0m\n",
              "\u001b[1m}\u001b[0m\n"
            ],
            "text/html": [
              "<pre style=\"white-space:pre;overflow-x:auto;line-height:normal;font-family:Menlo,'DejaVu Sans Mono',consolas,'Courier New',monospace\"><span style=\"font-weight: bold\">{</span>\n",
              "    <span style=\"color: #008000; text-decoration-color: #008000\">'addressbook'</span>: <span style=\"font-weight: bold\">[</span>\n",
              "        <span style=\"font-weight: bold\">{</span><span style=\"color: #008000; text-decoration-color: #008000\">'name'</span>: <span style=\"color: #008000; text-decoration-color: #008000\">'田中太郎'</span>, <span style=\"color: #008000; text-decoration-color: #008000\">'location'</span>: <span style=\"color: #008000; text-decoration-color: #008000\">'東京都渋谷区神南1-2-3'</span><span style=\"font-weight: bold\">}</span>,\n",
              "        <span style=\"font-weight: bold\">{</span><span style=\"color: #008000; text-decoration-color: #008000\">'name'</span>: <span style=\"color: #008000; text-decoration-color: #008000\">'山田花子'</span>, <span style=\"color: #008000; text-decoration-color: #008000\">'location'</span>: <span style=\"color: #008000; text-decoration-color: #008000\">'大阪府大阪市中央区難波5-6-7'</span><span style=\"font-weight: bold\">}</span>,\n",
              "        <span style=\"font-weight: bold\">{</span><span style=\"color: #008000; text-decoration-color: #008000\">'name'</span>: <span style=\"color: #008000; text-decoration-color: #008000\">'鈴木一郎'</span>, <span style=\"color: #008000; text-decoration-color: #008000\">'location'</span>: <span style=\"color: #008000; text-decoration-color: #008000\">'北海道札幌市中央区北1-2-3'</span><span style=\"font-weight: bold\">}</span>,\n",
              "        <span style=\"font-weight: bold\">{</span><span style=\"color: #008000; text-decoration-color: #008000\">'name'</span>: <span style=\"color: #008000; text-decoration-color: #008000\">'佐藤美代'</span>, <span style=\"color: #008000; text-decoration-color: #008000\">'location'</span>: <span style=\"color: #008000; text-decoration-color: #008000\">'福岡県福岡市博多区博多1-2-3'</span><span style=\"font-weight: bold\">}</span>,\n",
              "        <span style=\"font-weight: bold\">{</span><span style=\"color: #008000; text-decoration-color: #008000\">'name'</span>: <span style=\"color: #008000; text-decoration-color: #008000\">'伊藤健太'</span>, <span style=\"color: #008000; text-decoration-color: #008000\">'location'</span>: <span style=\"color: #008000; text-decoration-color: #008000\">'愛知県名古屋市中区栄2-3-4'</span><span style=\"font-weight: bold\">}</span>,\n",
              "        <span style=\"font-weight: bold\">{</span><span style=\"color: #008000; text-decoration-color: #008000\">'name'</span>: <span style=\"color: #008000; text-decoration-color: #008000\">'鈴木一郎'</span>, <span style=\"color: #008000; text-decoration-color: #008000\">'location'</span>: <span style=\"color: #008000; text-decoration-color: #008000\">'北海道札幌市中央区北1-1-1'</span><span style=\"font-weight: bold\">}</span>,\n",
              "        <span style=\"font-weight: bold\">{</span><span style=\"color: #008000; text-decoration-color: #008000\">'name'</span>: <span style=\"color: #008000; text-decoration-color: #008000\">'佐藤明美'</span>, <span style=\"color: #008000; text-decoration-color: #008000\">'location'</span>: <span style=\"color: #008000; text-decoration-color: #008000\">'福岡県福岡市博多区博多1-1-1'</span><span style=\"font-weight: bold\">}</span>,\n",
              "        <span style=\"font-weight: bold\">{</span><span style=\"color: #008000; text-decoration-color: #008000\">'name'</span>: <span style=\"color: #008000; text-decoration-color: #008000\">'山田花子'</span>, <span style=\"color: #008000; text-decoration-color: #008000\">'location'</span>: <span style=\"color: #008000; text-decoration-color: #008000\">'大阪府大阪市中央区難波1-4-5'</span><span style=\"font-weight: bold\">}</span>,\n",
              "        <span style=\"font-weight: bold\">{</span><span style=\"color: #008000; text-decoration-color: #008000\">'name'</span>: <span style=\"color: #008000; text-decoration-color: #008000\">'鈴木一郎'</span>, <span style=\"color: #008000; text-decoration-color: #008000\">'location'</span>: <span style=\"color: #008000; text-decoration-color: #008000\">'北海道札幌市中央区北1-1-2'</span><span style=\"font-weight: bold\">}</span>,\n",
              "        <span style=\"font-weight: bold\">{</span><span style=\"color: #008000; text-decoration-color: #008000\">'name'</span>: <span style=\"color: #008000; text-decoration-color: #008000\">'佐藤明美'</span>, <span style=\"color: #008000; text-decoration-color: #008000\">'location'</span>: <span style=\"color: #008000; text-decoration-color: #008000\">'福岡県福岡市博多区中洲5-6-7'</span><span style=\"font-weight: bold\">}</span>,\n",
              "        <span style=\"font-weight: bold\">{</span><span style=\"color: #008000; text-decoration-color: #008000\">'name'</span>: <span style=\"color: #008000; text-decoration-color: #008000\">'伊藤健太'</span>, <span style=\"color: #008000; text-decoration-color: #008000\">'location'</span>: <span style=\"color: #008000; text-decoration-color: #008000\">'愛知県名古屋市中区栄3-2-1'</span><span style=\"font-weight: bold\">}</span>,\n",
              "        <span style=\"font-weight: bold\">{</span><span style=\"color: #008000; text-decoration-color: #008000\">'name'</span>: <span style=\"color: #008000; text-decoration-color: #008000\">'佐藤明美'</span>, <span style=\"color: #008000; text-decoration-color: #008000\">'location'</span>: <span style=\"color: #008000; text-decoration-color: #008000\">'福岡県福岡市博多区博多1-2-3'</span><span style=\"font-weight: bold\">}</span>,\n",
              "        <span style=\"font-weight: bold\">{</span><span style=\"color: #008000; text-decoration-color: #008000\">'name'</span>: <span style=\"color: #008000; text-decoration-color: #008000\">'田中太郎'</span>, <span style=\"color: #008000; text-decoration-color: #008000\">'location'</span>: <span style=\"color: #008000; text-decoration-color: #008000\">'東京都渋谷区渋谷1-1-1'</span><span style=\"font-weight: bold\">}</span>,\n",
              "        <span style=\"font-weight: bold\">{</span><span style=\"color: #008000; text-decoration-color: #008000\">'name'</span>: <span style=\"color: #008000; text-decoration-color: #008000\">'山田花子'</span>, <span style=\"color: #008000; text-decoration-color: #008000\">'location'</span>: <span style=\"color: #008000; text-decoration-color: #008000\">'大阪府大阪市中央区難波5-5-5'</span><span style=\"font-weight: bold\">}</span>,\n",
              "        <span style=\"font-weight: bold\">{</span><span style=\"color: #008000; text-decoration-color: #008000\">'name'</span>: <span style=\"color: #008000; text-decoration-color: #008000\">'佐藤美代'</span>, <span style=\"color: #008000; text-decoration-color: #008000\">'location'</span>: <span style=\"color: #008000; text-decoration-color: #008000\">'福岡県福岡市博多区博多1-1-1'</span><span style=\"font-weight: bold\">}</span>,\n",
              "        <span style=\"font-weight: bold\">{</span><span style=\"color: #008000; text-decoration-color: #008000\">'name'</span>: <span style=\"color: #008000; text-decoration-color: #008000\">'伊藤健太'</span>, <span style=\"color: #008000; text-decoration-color: #008000\">'location'</span>: <span style=\"color: #008000; text-decoration-color: #008000\">'愛知県名古屋市中区栄2-2-2'</span><span style=\"font-weight: bold\">}</span>,\n",
              "        <span style=\"font-weight: bold\">{</span><span style=\"color: #008000; text-decoration-color: #008000\">'name'</span>: <span style=\"color: #008000; text-decoration-color: #008000\">'鈴木一郎'</span>, <span style=\"color: #008000; text-decoration-color: #008000\">'location'</span>: <span style=\"color: #008000; text-decoration-color: #008000\">'北海道札幌市中央区北1条西1-1'</span><span style=\"font-weight: bold\">}</span>,\n",
              "        <span style=\"font-weight: bold\">{</span><span style=\"color: #008000; text-decoration-color: #008000\">'name'</span>: <span style=\"color: #008000; text-decoration-color: #008000\">'佐藤美智子'</span>, <span style=\"color: #008000; text-decoration-color: #008000\">'location'</span>: <span style=\"color: #008000; text-decoration-color: #008000\">'福岡県福岡市博多区博多駅前1-1-1'</span><span style=\"font-weight: bold\">}</span>,\n",
              "        <span style=\"font-weight: bold\">{</span><span style=\"color: #008000; text-decoration-color: #008000\">'name'</span>: <span style=\"color: #008000; text-decoration-color: #008000\">'伊藤健太'</span>, <span style=\"color: #008000; text-decoration-color: #008000\">'location'</span>: <span style=\"color: #008000; text-decoration-color: #008000\">'愛知県名古屋市中区栄3-3-3'</span><span style=\"font-weight: bold\">}</span>\n",
              "    <span style=\"font-weight: bold\">]</span>\n",
              "<span style=\"font-weight: bold\">}</span>\n",
              "</pre>\n"
            ]
          },
          "metadata": {}
        },
        {
          "output_type": "display_data",
          "data": {
            "text/plain": [
              "\u001b[1m{\u001b[0m\n",
              "    \u001b[32m'addressbook'\u001b[0m: \u001b[1m[\u001b[0m\n",
              "        \u001b[1m{\u001b[0m\u001b[32m'name'\u001b[0m: \u001b[32m'田中太郎'\u001b[0m, \u001b[32m'location'\u001b[0m: \u001b[32m'東京都渋谷区神南1-2-3'\u001b[0m\u001b[1m}\u001b[0m,\n",
              "        \u001b[1m{\u001b[0m\u001b[32m'name'\u001b[0m: \u001b[32m'山田花子'\u001b[0m, \u001b[32m'location'\u001b[0m: \u001b[32m'大阪府大阪市中央区難波5-6-7'\u001b[0m\u001b[1m}\u001b[0m,\n",
              "        \u001b[1m{\u001b[0m\u001b[32m'name'\u001b[0m: \u001b[32m'鈴木一郎'\u001b[0m, \u001b[32m'location'\u001b[0m: \u001b[32m'北海道札幌市中央区北1-2-3'\u001b[0m\u001b[1m}\u001b[0m,\n",
              "        \u001b[1m{\u001b[0m\u001b[32m'name'\u001b[0m: \u001b[32m'佐藤美代'\u001b[0m, \u001b[32m'location'\u001b[0m: \u001b[32m'福岡県福岡市博多区博多1-2-3'\u001b[0m\u001b[1m}\u001b[0m,\n",
              "        \u001b[1m{\u001b[0m\u001b[32m'name'\u001b[0m: \u001b[32m'伊藤健太'\u001b[0m, \u001b[32m'location'\u001b[0m: \u001b[32m'愛知県名古屋市中区栄2-3-4'\u001b[0m\u001b[1m}\u001b[0m,\n",
              "        \u001b[1m{\u001b[0m\u001b[32m'name'\u001b[0m: \u001b[32m'鈴木一郎'\u001b[0m, \u001b[32m'location'\u001b[0m: \u001b[32m'北海道札幌市中央区北1-1-1'\u001b[0m\u001b[1m}\u001b[0m,\n",
              "        \u001b[1m{\u001b[0m\u001b[32m'name'\u001b[0m: \u001b[32m'佐藤明美'\u001b[0m, \u001b[32m'location'\u001b[0m: \u001b[32m'福岡県福岡市博多区博多1-1-1'\u001b[0m\u001b[1m}\u001b[0m,\n",
              "        \u001b[1m{\u001b[0m\u001b[32m'name'\u001b[0m: \u001b[32m'山田花子'\u001b[0m, \u001b[32m'location'\u001b[0m: \u001b[32m'大阪府大阪市中央区難波1-4-5'\u001b[0m\u001b[1m}\u001b[0m,\n",
              "        \u001b[1m{\u001b[0m\u001b[32m'name'\u001b[0m: \u001b[32m'鈴木一郎'\u001b[0m, \u001b[32m'location'\u001b[0m: \u001b[32m'北海道札幌市中央区北1-1-2'\u001b[0m\u001b[1m}\u001b[0m,\n",
              "        \u001b[1m{\u001b[0m\u001b[32m'name'\u001b[0m: \u001b[32m'佐藤明美'\u001b[0m, \u001b[32m'location'\u001b[0m: \u001b[32m'福岡県福岡市博多区中洲5-6-7'\u001b[0m\u001b[1m}\u001b[0m,\n",
              "        \u001b[1m{\u001b[0m\u001b[32m'name'\u001b[0m: \u001b[32m'伊藤健太'\u001b[0m, \u001b[32m'location'\u001b[0m: \u001b[32m'愛知県名古屋市中区栄3-2-1'\u001b[0m\u001b[1m}\u001b[0m,\n",
              "        \u001b[1m{\u001b[0m\u001b[32m'name'\u001b[0m: \u001b[32m'佐藤明美'\u001b[0m, \u001b[32m'location'\u001b[0m: \u001b[32m'福岡県福岡市博多区博多1-2-3'\u001b[0m\u001b[1m}\u001b[0m,\n",
              "        \u001b[1m{\u001b[0m\u001b[32m'name'\u001b[0m: \u001b[32m'田中太郎'\u001b[0m, \u001b[32m'location'\u001b[0m: \u001b[32m'東京都渋谷区渋谷1-1-1'\u001b[0m\u001b[1m}\u001b[0m,\n",
              "        \u001b[1m{\u001b[0m\u001b[32m'name'\u001b[0m: \u001b[32m'山田花子'\u001b[0m, \u001b[32m'location'\u001b[0m: \u001b[32m'大阪府大阪市中央区難波5-5-5'\u001b[0m\u001b[1m}\u001b[0m,\n",
              "        \u001b[1m{\u001b[0m\u001b[32m'name'\u001b[0m: \u001b[32m'佐藤美代'\u001b[0m, \u001b[32m'location'\u001b[0m: \u001b[32m'福岡県福岡市博多区博多1-1-1'\u001b[0m\u001b[1m}\u001b[0m,\n",
              "        \u001b[1m{\u001b[0m\u001b[32m'name'\u001b[0m: \u001b[32m'伊藤健太'\u001b[0m, \u001b[32m'location'\u001b[0m: \u001b[32m'愛知県名古屋市中区栄2-2-2'\u001b[0m\u001b[1m}\u001b[0m,\n",
              "        \u001b[1m{\u001b[0m\u001b[32m'name'\u001b[0m: \u001b[32m'鈴木一郎'\u001b[0m, \u001b[32m'location'\u001b[0m: \u001b[32m'北海道札幌市中央区北1条西1-1'\u001b[0m\u001b[1m}\u001b[0m,\n",
              "        \u001b[1m{\u001b[0m\u001b[32m'name'\u001b[0m: \u001b[32m'佐藤美智子'\u001b[0m, \u001b[32m'location'\u001b[0m: \u001b[32m'福岡県福岡市博多区博多駅前1-1-1'\u001b[0m\u001b[1m}\u001b[0m,\n",
              "        \u001b[1m{\u001b[0m\u001b[32m'name'\u001b[0m: \u001b[32m'伊藤健太'\u001b[0m, \u001b[32m'location'\u001b[0m: \u001b[32m'愛知県名古屋市中区栄3-3-3'\u001b[0m\u001b[1m}\u001b[0m\n",
              "    \u001b[1m]\u001b[0m\n",
              "\u001b[1m}\u001b[0m\n"
            ],
            "text/html": [
              "<pre style=\"white-space:pre;overflow-x:auto;line-height:normal;font-family:Menlo,'DejaVu Sans Mono',consolas,'Courier New',monospace\"><span style=\"font-weight: bold\">{</span>\n",
              "    <span style=\"color: #008000; text-decoration-color: #008000\">'addressbook'</span>: <span style=\"font-weight: bold\">[</span>\n",
              "        <span style=\"font-weight: bold\">{</span><span style=\"color: #008000; text-decoration-color: #008000\">'name'</span>: <span style=\"color: #008000; text-decoration-color: #008000\">'田中太郎'</span>, <span style=\"color: #008000; text-decoration-color: #008000\">'location'</span>: <span style=\"color: #008000; text-decoration-color: #008000\">'東京都渋谷区神南1-2-3'</span><span style=\"font-weight: bold\">}</span>,\n",
              "        <span style=\"font-weight: bold\">{</span><span style=\"color: #008000; text-decoration-color: #008000\">'name'</span>: <span style=\"color: #008000; text-decoration-color: #008000\">'山田花子'</span>, <span style=\"color: #008000; text-decoration-color: #008000\">'location'</span>: <span style=\"color: #008000; text-decoration-color: #008000\">'大阪府大阪市中央区難波5-6-7'</span><span style=\"font-weight: bold\">}</span>,\n",
              "        <span style=\"font-weight: bold\">{</span><span style=\"color: #008000; text-decoration-color: #008000\">'name'</span>: <span style=\"color: #008000; text-decoration-color: #008000\">'鈴木一郎'</span>, <span style=\"color: #008000; text-decoration-color: #008000\">'location'</span>: <span style=\"color: #008000; text-decoration-color: #008000\">'北海道札幌市中央区北1-2-3'</span><span style=\"font-weight: bold\">}</span>,\n",
              "        <span style=\"font-weight: bold\">{</span><span style=\"color: #008000; text-decoration-color: #008000\">'name'</span>: <span style=\"color: #008000; text-decoration-color: #008000\">'佐藤美代'</span>, <span style=\"color: #008000; text-decoration-color: #008000\">'location'</span>: <span style=\"color: #008000; text-decoration-color: #008000\">'福岡県福岡市博多区博多1-2-3'</span><span style=\"font-weight: bold\">}</span>,\n",
              "        <span style=\"font-weight: bold\">{</span><span style=\"color: #008000; text-decoration-color: #008000\">'name'</span>: <span style=\"color: #008000; text-decoration-color: #008000\">'伊藤健太'</span>, <span style=\"color: #008000; text-decoration-color: #008000\">'location'</span>: <span style=\"color: #008000; text-decoration-color: #008000\">'愛知県名古屋市中区栄2-3-4'</span><span style=\"font-weight: bold\">}</span>,\n",
              "        <span style=\"font-weight: bold\">{</span><span style=\"color: #008000; text-decoration-color: #008000\">'name'</span>: <span style=\"color: #008000; text-decoration-color: #008000\">'鈴木一郎'</span>, <span style=\"color: #008000; text-decoration-color: #008000\">'location'</span>: <span style=\"color: #008000; text-decoration-color: #008000\">'北海道札幌市中央区北1-1-1'</span><span style=\"font-weight: bold\">}</span>,\n",
              "        <span style=\"font-weight: bold\">{</span><span style=\"color: #008000; text-decoration-color: #008000\">'name'</span>: <span style=\"color: #008000; text-decoration-color: #008000\">'佐藤明美'</span>, <span style=\"color: #008000; text-decoration-color: #008000\">'location'</span>: <span style=\"color: #008000; text-decoration-color: #008000\">'福岡県福岡市博多区博多1-1-1'</span><span style=\"font-weight: bold\">}</span>,\n",
              "        <span style=\"font-weight: bold\">{</span><span style=\"color: #008000; text-decoration-color: #008000\">'name'</span>: <span style=\"color: #008000; text-decoration-color: #008000\">'山田花子'</span>, <span style=\"color: #008000; text-decoration-color: #008000\">'location'</span>: <span style=\"color: #008000; text-decoration-color: #008000\">'大阪府大阪市中央区難波1-4-5'</span><span style=\"font-weight: bold\">}</span>,\n",
              "        <span style=\"font-weight: bold\">{</span><span style=\"color: #008000; text-decoration-color: #008000\">'name'</span>: <span style=\"color: #008000; text-decoration-color: #008000\">'鈴木一郎'</span>, <span style=\"color: #008000; text-decoration-color: #008000\">'location'</span>: <span style=\"color: #008000; text-decoration-color: #008000\">'北海道札幌市中央区北1-1-2'</span><span style=\"font-weight: bold\">}</span>,\n",
              "        <span style=\"font-weight: bold\">{</span><span style=\"color: #008000; text-decoration-color: #008000\">'name'</span>: <span style=\"color: #008000; text-decoration-color: #008000\">'佐藤明美'</span>, <span style=\"color: #008000; text-decoration-color: #008000\">'location'</span>: <span style=\"color: #008000; text-decoration-color: #008000\">'福岡県福岡市博多区中洲5-6-7'</span><span style=\"font-weight: bold\">}</span>,\n",
              "        <span style=\"font-weight: bold\">{</span><span style=\"color: #008000; text-decoration-color: #008000\">'name'</span>: <span style=\"color: #008000; text-decoration-color: #008000\">'伊藤健太'</span>, <span style=\"color: #008000; text-decoration-color: #008000\">'location'</span>: <span style=\"color: #008000; text-decoration-color: #008000\">'愛知県名古屋市中区栄3-2-1'</span><span style=\"font-weight: bold\">}</span>,\n",
              "        <span style=\"font-weight: bold\">{</span><span style=\"color: #008000; text-decoration-color: #008000\">'name'</span>: <span style=\"color: #008000; text-decoration-color: #008000\">'佐藤明美'</span>, <span style=\"color: #008000; text-decoration-color: #008000\">'location'</span>: <span style=\"color: #008000; text-decoration-color: #008000\">'福岡県福岡市博多区博多1-2-3'</span><span style=\"font-weight: bold\">}</span>,\n",
              "        <span style=\"font-weight: bold\">{</span><span style=\"color: #008000; text-decoration-color: #008000\">'name'</span>: <span style=\"color: #008000; text-decoration-color: #008000\">'田中太郎'</span>, <span style=\"color: #008000; text-decoration-color: #008000\">'location'</span>: <span style=\"color: #008000; text-decoration-color: #008000\">'東京都渋谷区渋谷1-1-1'</span><span style=\"font-weight: bold\">}</span>,\n",
              "        <span style=\"font-weight: bold\">{</span><span style=\"color: #008000; text-decoration-color: #008000\">'name'</span>: <span style=\"color: #008000; text-decoration-color: #008000\">'山田花子'</span>, <span style=\"color: #008000; text-decoration-color: #008000\">'location'</span>: <span style=\"color: #008000; text-decoration-color: #008000\">'大阪府大阪市中央区難波5-5-5'</span><span style=\"font-weight: bold\">}</span>,\n",
              "        <span style=\"font-weight: bold\">{</span><span style=\"color: #008000; text-decoration-color: #008000\">'name'</span>: <span style=\"color: #008000; text-decoration-color: #008000\">'佐藤美代'</span>, <span style=\"color: #008000; text-decoration-color: #008000\">'location'</span>: <span style=\"color: #008000; text-decoration-color: #008000\">'福岡県福岡市博多区博多1-1-1'</span><span style=\"font-weight: bold\">}</span>,\n",
              "        <span style=\"font-weight: bold\">{</span><span style=\"color: #008000; text-decoration-color: #008000\">'name'</span>: <span style=\"color: #008000; text-decoration-color: #008000\">'伊藤健太'</span>, <span style=\"color: #008000; text-decoration-color: #008000\">'location'</span>: <span style=\"color: #008000; text-decoration-color: #008000\">'愛知県名古屋市中区栄2-2-2'</span><span style=\"font-weight: bold\">}</span>,\n",
              "        <span style=\"font-weight: bold\">{</span><span style=\"color: #008000; text-decoration-color: #008000\">'name'</span>: <span style=\"color: #008000; text-decoration-color: #008000\">'鈴木一郎'</span>, <span style=\"color: #008000; text-decoration-color: #008000\">'location'</span>: <span style=\"color: #008000; text-decoration-color: #008000\">'北海道札幌市中央区北1条西1-1'</span><span style=\"font-weight: bold\">}</span>,\n",
              "        <span style=\"font-weight: bold\">{</span><span style=\"color: #008000; text-decoration-color: #008000\">'name'</span>: <span style=\"color: #008000; text-decoration-color: #008000\">'佐藤美智子'</span>, <span style=\"color: #008000; text-decoration-color: #008000\">'location'</span>: <span style=\"color: #008000; text-decoration-color: #008000\">'福岡県福岡市博多区博多駅前1-1-1'</span><span style=\"font-weight: bold\">}</span>,\n",
              "        <span style=\"font-weight: bold\">{</span><span style=\"color: #008000; text-decoration-color: #008000\">'name'</span>: <span style=\"color: #008000; text-decoration-color: #008000\">'伊藤健太'</span>, <span style=\"color: #008000; text-decoration-color: #008000\">'location'</span>: <span style=\"color: #008000; text-decoration-color: #008000\">'愛知県名古屋市中区栄3-3-3'</span><span style=\"font-weight: bold\">}</span>\n",
              "    <span style=\"font-weight: bold\">]</span>\n",
              "<span style=\"font-weight: bold\">}</span>\n",
              "</pre>\n"
            ]
          },
          "metadata": {}
        },
        {
          "output_type": "display_data",
          "data": {
            "text/plain": [
              "\u001b[1m{\u001b[0m\n",
              "    \u001b[32m'addressbook'\u001b[0m: \u001b[1m[\u001b[0m\n",
              "        \u001b[1m{\u001b[0m\u001b[32m'name'\u001b[0m: \u001b[32m'田中太郎'\u001b[0m, \u001b[32m'location'\u001b[0m: \u001b[32m'東京都渋谷区神南1-2-3'\u001b[0m\u001b[1m}\u001b[0m,\n",
              "        \u001b[1m{\u001b[0m\u001b[32m'name'\u001b[0m: \u001b[32m'山田花子'\u001b[0m, \u001b[32m'location'\u001b[0m: \u001b[32m'大阪府大阪市中央区難波5-6-7'\u001b[0m\u001b[1m}\u001b[0m,\n",
              "        \u001b[1m{\u001b[0m\u001b[32m'name'\u001b[0m: \u001b[32m'鈴木一郎'\u001b[0m, \u001b[32m'location'\u001b[0m: \u001b[32m'北海道札幌市中央区北1-2-3'\u001b[0m\u001b[1m}\u001b[0m,\n",
              "        \u001b[1m{\u001b[0m\u001b[32m'name'\u001b[0m: \u001b[32m'佐藤美代'\u001b[0m, \u001b[32m'location'\u001b[0m: \u001b[32m'福岡県福岡市博多区博多1-2-3'\u001b[0m\u001b[1m}\u001b[0m,\n",
              "        \u001b[1m{\u001b[0m\u001b[32m'name'\u001b[0m: \u001b[32m'伊藤健太'\u001b[0m, \u001b[32m'location'\u001b[0m: \u001b[32m'愛知県名古屋市中区栄2-3-4'\u001b[0m\u001b[1m}\u001b[0m,\n",
              "        \u001b[1m{\u001b[0m\u001b[32m'name'\u001b[0m: \u001b[32m'鈴木一郎'\u001b[0m, \u001b[32m'location'\u001b[0m: \u001b[32m'北海道札幌市中央区北1-1-1'\u001b[0m\u001b[1m}\u001b[0m,\n",
              "        \u001b[1m{\u001b[0m\u001b[32m'name'\u001b[0m: \u001b[32m'佐藤明美'\u001b[0m, \u001b[32m'location'\u001b[0m: \u001b[32m'福岡県福岡市博多区博多1-1-1'\u001b[0m\u001b[1m}\u001b[0m,\n",
              "        \u001b[1m{\u001b[0m\u001b[32m'name'\u001b[0m: \u001b[32m'山田花子'\u001b[0m, \u001b[32m'location'\u001b[0m: \u001b[32m'大阪府大阪市中央区難波1-4-5'\u001b[0m\u001b[1m}\u001b[0m,\n",
              "        \u001b[1m{\u001b[0m\u001b[32m'name'\u001b[0m: \u001b[32m'鈴木一郎'\u001b[0m, \u001b[32m'location'\u001b[0m: \u001b[32m'北海道札幌市中央区北1-1-2'\u001b[0m\u001b[1m}\u001b[0m,\n",
              "        \u001b[1m{\u001b[0m\u001b[32m'name'\u001b[0m: \u001b[32m'佐藤明美'\u001b[0m, \u001b[32m'location'\u001b[0m: \u001b[32m'福岡県福岡市博多区中洲5-6-7'\u001b[0m\u001b[1m}\u001b[0m,\n",
              "        \u001b[1m{\u001b[0m\u001b[32m'name'\u001b[0m: \u001b[32m'伊藤健太'\u001b[0m, \u001b[32m'location'\u001b[0m: \u001b[32m'愛知県名古屋市中区栄3-2-1'\u001b[0m\u001b[1m}\u001b[0m,\n",
              "        \u001b[1m{\u001b[0m\u001b[32m'name'\u001b[0m: \u001b[32m'佐藤明美'\u001b[0m, \u001b[32m'location'\u001b[0m: \u001b[32m'福岡県福岡市博多区博多1-2-3'\u001b[0m\u001b[1m}\u001b[0m,\n",
              "        \u001b[1m{\u001b[0m\u001b[32m'name'\u001b[0m: \u001b[32m'田中太郎'\u001b[0m, \u001b[32m'location'\u001b[0m: \u001b[32m'東京都渋谷区渋谷1-1-1'\u001b[0m\u001b[1m}\u001b[0m,\n",
              "        \u001b[1m{\u001b[0m\u001b[32m'name'\u001b[0m: \u001b[32m'山田花子'\u001b[0m, \u001b[32m'location'\u001b[0m: \u001b[32m'大阪府大阪市中央区難波5-5-5'\u001b[0m\u001b[1m}\u001b[0m,\n",
              "        \u001b[1m{\u001b[0m\u001b[32m'name'\u001b[0m: \u001b[32m'佐藤美代'\u001b[0m, \u001b[32m'location'\u001b[0m: \u001b[32m'福岡県福岡市博多区博多1-1-1'\u001b[0m\u001b[1m}\u001b[0m,\n",
              "        \u001b[1m{\u001b[0m\u001b[32m'name'\u001b[0m: \u001b[32m'伊藤健太'\u001b[0m, \u001b[32m'location'\u001b[0m: \u001b[32m'愛知県名古屋市中区栄2-2-2'\u001b[0m\u001b[1m}\u001b[0m,\n",
              "        \u001b[1m{\u001b[0m\u001b[32m'name'\u001b[0m: \u001b[32m'鈴木一郎'\u001b[0m, \u001b[32m'location'\u001b[0m: \u001b[32m'北海道札幌市中央区北1条西1-1'\u001b[0m\u001b[1m}\u001b[0m,\n",
              "        \u001b[1m{\u001b[0m\u001b[32m'name'\u001b[0m: \u001b[32m'佐藤美智子'\u001b[0m, \u001b[32m'location'\u001b[0m: \u001b[32m'福岡県福岡市博多区博多駅前1-1-1'\u001b[0m\u001b[1m}\u001b[0m,\n",
              "        \u001b[1m{\u001b[0m\u001b[32m'name'\u001b[0m: \u001b[32m'伊藤健太'\u001b[0m, \u001b[32m'location'\u001b[0m: \u001b[32m'愛知県名古屋市中区栄3-3-3'\u001b[0m\u001b[1m}\u001b[0m,\n",
              "        \u001b[1m{\u001b[0m\u001b[32m'name'\u001b[0m: \u001b[32m'田中太郎'\u001b[0m, \u001b[32m'location'\u001b[0m: \u001b[32m'東京都渋谷区神南1-1-1'\u001b[0m\u001b[1m}\u001b[0m,\n",
              "        \u001b[1m{\u001b[0m\u001b[32m'name'\u001b[0m: \u001b[32m'佐藤明美'\u001b[0m, \u001b[32m'location'\u001b[0m: \u001b[32m'愛知県名古屋市中区栄2-2-2'\u001b[0m\u001b[1m}\u001b[0m,\n",
              "        \u001b[1m{\u001b[0m\u001b[32m'name'\u001b[0m: \u001b[32m'伊藤健太'\u001b[0m, \u001b[32m'location'\u001b[0m: \u001b[32m'福岡県福岡市博多区博多1-1-1'\u001b[0m\u001b[1m}\u001b[0m\n",
              "    \u001b[1m]\u001b[0m\n",
              "\u001b[1m}\u001b[0m\n"
            ],
            "text/html": [
              "<pre style=\"white-space:pre;overflow-x:auto;line-height:normal;font-family:Menlo,'DejaVu Sans Mono',consolas,'Courier New',monospace\"><span style=\"font-weight: bold\">{</span>\n",
              "    <span style=\"color: #008000; text-decoration-color: #008000\">'addressbook'</span>: <span style=\"font-weight: bold\">[</span>\n",
              "        <span style=\"font-weight: bold\">{</span><span style=\"color: #008000; text-decoration-color: #008000\">'name'</span>: <span style=\"color: #008000; text-decoration-color: #008000\">'田中太郎'</span>, <span style=\"color: #008000; text-decoration-color: #008000\">'location'</span>: <span style=\"color: #008000; text-decoration-color: #008000\">'東京都渋谷区神南1-2-3'</span><span style=\"font-weight: bold\">}</span>,\n",
              "        <span style=\"font-weight: bold\">{</span><span style=\"color: #008000; text-decoration-color: #008000\">'name'</span>: <span style=\"color: #008000; text-decoration-color: #008000\">'山田花子'</span>, <span style=\"color: #008000; text-decoration-color: #008000\">'location'</span>: <span style=\"color: #008000; text-decoration-color: #008000\">'大阪府大阪市中央区難波5-6-7'</span><span style=\"font-weight: bold\">}</span>,\n",
              "        <span style=\"font-weight: bold\">{</span><span style=\"color: #008000; text-decoration-color: #008000\">'name'</span>: <span style=\"color: #008000; text-decoration-color: #008000\">'鈴木一郎'</span>, <span style=\"color: #008000; text-decoration-color: #008000\">'location'</span>: <span style=\"color: #008000; text-decoration-color: #008000\">'北海道札幌市中央区北1-2-3'</span><span style=\"font-weight: bold\">}</span>,\n",
              "        <span style=\"font-weight: bold\">{</span><span style=\"color: #008000; text-decoration-color: #008000\">'name'</span>: <span style=\"color: #008000; text-decoration-color: #008000\">'佐藤美代'</span>, <span style=\"color: #008000; text-decoration-color: #008000\">'location'</span>: <span style=\"color: #008000; text-decoration-color: #008000\">'福岡県福岡市博多区博多1-2-3'</span><span style=\"font-weight: bold\">}</span>,\n",
              "        <span style=\"font-weight: bold\">{</span><span style=\"color: #008000; text-decoration-color: #008000\">'name'</span>: <span style=\"color: #008000; text-decoration-color: #008000\">'伊藤健太'</span>, <span style=\"color: #008000; text-decoration-color: #008000\">'location'</span>: <span style=\"color: #008000; text-decoration-color: #008000\">'愛知県名古屋市中区栄2-3-4'</span><span style=\"font-weight: bold\">}</span>,\n",
              "        <span style=\"font-weight: bold\">{</span><span style=\"color: #008000; text-decoration-color: #008000\">'name'</span>: <span style=\"color: #008000; text-decoration-color: #008000\">'鈴木一郎'</span>, <span style=\"color: #008000; text-decoration-color: #008000\">'location'</span>: <span style=\"color: #008000; text-decoration-color: #008000\">'北海道札幌市中央区北1-1-1'</span><span style=\"font-weight: bold\">}</span>,\n",
              "        <span style=\"font-weight: bold\">{</span><span style=\"color: #008000; text-decoration-color: #008000\">'name'</span>: <span style=\"color: #008000; text-decoration-color: #008000\">'佐藤明美'</span>, <span style=\"color: #008000; text-decoration-color: #008000\">'location'</span>: <span style=\"color: #008000; text-decoration-color: #008000\">'福岡県福岡市博多区博多1-1-1'</span><span style=\"font-weight: bold\">}</span>,\n",
              "        <span style=\"font-weight: bold\">{</span><span style=\"color: #008000; text-decoration-color: #008000\">'name'</span>: <span style=\"color: #008000; text-decoration-color: #008000\">'山田花子'</span>, <span style=\"color: #008000; text-decoration-color: #008000\">'location'</span>: <span style=\"color: #008000; text-decoration-color: #008000\">'大阪府大阪市中央区難波1-4-5'</span><span style=\"font-weight: bold\">}</span>,\n",
              "        <span style=\"font-weight: bold\">{</span><span style=\"color: #008000; text-decoration-color: #008000\">'name'</span>: <span style=\"color: #008000; text-decoration-color: #008000\">'鈴木一郎'</span>, <span style=\"color: #008000; text-decoration-color: #008000\">'location'</span>: <span style=\"color: #008000; text-decoration-color: #008000\">'北海道札幌市中央区北1-1-2'</span><span style=\"font-weight: bold\">}</span>,\n",
              "        <span style=\"font-weight: bold\">{</span><span style=\"color: #008000; text-decoration-color: #008000\">'name'</span>: <span style=\"color: #008000; text-decoration-color: #008000\">'佐藤明美'</span>, <span style=\"color: #008000; text-decoration-color: #008000\">'location'</span>: <span style=\"color: #008000; text-decoration-color: #008000\">'福岡県福岡市博多区中洲5-6-7'</span><span style=\"font-weight: bold\">}</span>,\n",
              "        <span style=\"font-weight: bold\">{</span><span style=\"color: #008000; text-decoration-color: #008000\">'name'</span>: <span style=\"color: #008000; text-decoration-color: #008000\">'伊藤健太'</span>, <span style=\"color: #008000; text-decoration-color: #008000\">'location'</span>: <span style=\"color: #008000; text-decoration-color: #008000\">'愛知県名古屋市中区栄3-2-1'</span><span style=\"font-weight: bold\">}</span>,\n",
              "        <span style=\"font-weight: bold\">{</span><span style=\"color: #008000; text-decoration-color: #008000\">'name'</span>: <span style=\"color: #008000; text-decoration-color: #008000\">'佐藤明美'</span>, <span style=\"color: #008000; text-decoration-color: #008000\">'location'</span>: <span style=\"color: #008000; text-decoration-color: #008000\">'福岡県福岡市博多区博多1-2-3'</span><span style=\"font-weight: bold\">}</span>,\n",
              "        <span style=\"font-weight: bold\">{</span><span style=\"color: #008000; text-decoration-color: #008000\">'name'</span>: <span style=\"color: #008000; text-decoration-color: #008000\">'田中太郎'</span>, <span style=\"color: #008000; text-decoration-color: #008000\">'location'</span>: <span style=\"color: #008000; text-decoration-color: #008000\">'東京都渋谷区渋谷1-1-1'</span><span style=\"font-weight: bold\">}</span>,\n",
              "        <span style=\"font-weight: bold\">{</span><span style=\"color: #008000; text-decoration-color: #008000\">'name'</span>: <span style=\"color: #008000; text-decoration-color: #008000\">'山田花子'</span>, <span style=\"color: #008000; text-decoration-color: #008000\">'location'</span>: <span style=\"color: #008000; text-decoration-color: #008000\">'大阪府大阪市中央区難波5-5-5'</span><span style=\"font-weight: bold\">}</span>,\n",
              "        <span style=\"font-weight: bold\">{</span><span style=\"color: #008000; text-decoration-color: #008000\">'name'</span>: <span style=\"color: #008000; text-decoration-color: #008000\">'佐藤美代'</span>, <span style=\"color: #008000; text-decoration-color: #008000\">'location'</span>: <span style=\"color: #008000; text-decoration-color: #008000\">'福岡県福岡市博多区博多1-1-1'</span><span style=\"font-weight: bold\">}</span>,\n",
              "        <span style=\"font-weight: bold\">{</span><span style=\"color: #008000; text-decoration-color: #008000\">'name'</span>: <span style=\"color: #008000; text-decoration-color: #008000\">'伊藤健太'</span>, <span style=\"color: #008000; text-decoration-color: #008000\">'location'</span>: <span style=\"color: #008000; text-decoration-color: #008000\">'愛知県名古屋市中区栄2-2-2'</span><span style=\"font-weight: bold\">}</span>,\n",
              "        <span style=\"font-weight: bold\">{</span><span style=\"color: #008000; text-decoration-color: #008000\">'name'</span>: <span style=\"color: #008000; text-decoration-color: #008000\">'鈴木一郎'</span>, <span style=\"color: #008000; text-decoration-color: #008000\">'location'</span>: <span style=\"color: #008000; text-decoration-color: #008000\">'北海道札幌市中央区北1条西1-1'</span><span style=\"font-weight: bold\">}</span>,\n",
              "        <span style=\"font-weight: bold\">{</span><span style=\"color: #008000; text-decoration-color: #008000\">'name'</span>: <span style=\"color: #008000; text-decoration-color: #008000\">'佐藤美智子'</span>, <span style=\"color: #008000; text-decoration-color: #008000\">'location'</span>: <span style=\"color: #008000; text-decoration-color: #008000\">'福岡県福岡市博多区博多駅前1-1-1'</span><span style=\"font-weight: bold\">}</span>,\n",
              "        <span style=\"font-weight: bold\">{</span><span style=\"color: #008000; text-decoration-color: #008000\">'name'</span>: <span style=\"color: #008000; text-decoration-color: #008000\">'伊藤健太'</span>, <span style=\"color: #008000; text-decoration-color: #008000\">'location'</span>: <span style=\"color: #008000; text-decoration-color: #008000\">'愛知県名古屋市中区栄3-3-3'</span><span style=\"font-weight: bold\">}</span>,\n",
              "        <span style=\"font-weight: bold\">{</span><span style=\"color: #008000; text-decoration-color: #008000\">'name'</span>: <span style=\"color: #008000; text-decoration-color: #008000\">'田中太郎'</span>, <span style=\"color: #008000; text-decoration-color: #008000\">'location'</span>: <span style=\"color: #008000; text-decoration-color: #008000\">'東京都渋谷区神南1-1-1'</span><span style=\"font-weight: bold\">}</span>,\n",
              "        <span style=\"font-weight: bold\">{</span><span style=\"color: #008000; text-decoration-color: #008000\">'name'</span>: <span style=\"color: #008000; text-decoration-color: #008000\">'佐藤明美'</span>, <span style=\"color: #008000; text-decoration-color: #008000\">'location'</span>: <span style=\"color: #008000; text-decoration-color: #008000\">'愛知県名古屋市中区栄2-2-2'</span><span style=\"font-weight: bold\">}</span>,\n",
              "        <span style=\"font-weight: bold\">{</span><span style=\"color: #008000; text-decoration-color: #008000\">'name'</span>: <span style=\"color: #008000; text-decoration-color: #008000\">'伊藤健太'</span>, <span style=\"color: #008000; text-decoration-color: #008000\">'location'</span>: <span style=\"color: #008000; text-decoration-color: #008000\">'福岡県福岡市博多区博多1-1-1'</span><span style=\"font-weight: bold\">}</span>\n",
              "    <span style=\"font-weight: bold\">]</span>\n",
              "<span style=\"font-weight: bold\">}</span>\n",
              "</pre>\n"
            ]
          },
          "metadata": {}
        },
        {
          "output_type": "display_data",
          "data": {
            "text/plain": [
              "\u001b[1m{\u001b[0m\n",
              "    \u001b[32m'addressbook'\u001b[0m: \u001b[1m[\u001b[0m\n",
              "        \u001b[1m{\u001b[0m\u001b[32m'name'\u001b[0m: \u001b[32m'田中太郎'\u001b[0m, \u001b[32m'location'\u001b[0m: \u001b[32m'東京都渋谷区神南1-2-3'\u001b[0m\u001b[1m}\u001b[0m,\n",
              "        \u001b[1m{\u001b[0m\u001b[32m'name'\u001b[0m: \u001b[32m'山田花子'\u001b[0m, \u001b[32m'location'\u001b[0m: \u001b[32m'大阪府大阪市中央区難波5-6-7'\u001b[0m\u001b[1m}\u001b[0m,\n",
              "        \u001b[1m{\u001b[0m\u001b[32m'name'\u001b[0m: \u001b[32m'鈴木一郎'\u001b[0m, \u001b[32m'location'\u001b[0m: \u001b[32m'北海道札幌市中央区北1-2-3'\u001b[0m\u001b[1m}\u001b[0m,\n",
              "        \u001b[1m{\u001b[0m\u001b[32m'name'\u001b[0m: \u001b[32m'佐藤美代'\u001b[0m, \u001b[32m'location'\u001b[0m: \u001b[32m'福岡県福岡市博多区博多1-2-3'\u001b[0m\u001b[1m}\u001b[0m,\n",
              "        \u001b[1m{\u001b[0m\u001b[32m'name'\u001b[0m: \u001b[32m'伊藤健太'\u001b[0m, \u001b[32m'location'\u001b[0m: \u001b[32m'愛知県名古屋市中区栄2-3-4'\u001b[0m\u001b[1m}\u001b[0m,\n",
              "        \u001b[1m{\u001b[0m\u001b[32m'name'\u001b[0m: \u001b[32m'鈴木一郎'\u001b[0m, \u001b[32m'location'\u001b[0m: \u001b[32m'北海道札幌市中央区北1-1-1'\u001b[0m\u001b[1m}\u001b[0m,\n",
              "        \u001b[1m{\u001b[0m\u001b[32m'name'\u001b[0m: \u001b[32m'佐藤明美'\u001b[0m, \u001b[32m'location'\u001b[0m: \u001b[32m'福岡県福岡市博多区博多1-1-1'\u001b[0m\u001b[1m}\u001b[0m,\n",
              "        \u001b[1m{\u001b[0m\u001b[32m'name'\u001b[0m: \u001b[32m'山田花子'\u001b[0m, \u001b[32m'location'\u001b[0m: \u001b[32m'大阪府大阪市中央区難波1-4-5'\u001b[0m\u001b[1m}\u001b[0m,\n",
              "        \u001b[1m{\u001b[0m\u001b[32m'name'\u001b[0m: \u001b[32m'鈴木一郎'\u001b[0m, \u001b[32m'location'\u001b[0m: \u001b[32m'北海道札幌市中央区北1-1-2'\u001b[0m\u001b[1m}\u001b[0m,\n",
              "        \u001b[1m{\u001b[0m\u001b[32m'name'\u001b[0m: \u001b[32m'佐藤明美'\u001b[0m, \u001b[32m'location'\u001b[0m: \u001b[32m'福岡県福岡市博多区中洲5-6-7'\u001b[0m\u001b[1m}\u001b[0m,\n",
              "        \u001b[1m{\u001b[0m\u001b[32m'name'\u001b[0m: \u001b[32m'伊藤健太'\u001b[0m, \u001b[32m'location'\u001b[0m: \u001b[32m'愛知県名古屋市中区栄3-2-1'\u001b[0m\u001b[1m}\u001b[0m,\n",
              "        \u001b[1m{\u001b[0m\u001b[32m'name'\u001b[0m: \u001b[32m'佐藤明美'\u001b[0m, \u001b[32m'location'\u001b[0m: \u001b[32m'福岡県福岡市博多区博多1-2-3'\u001b[0m\u001b[1m}\u001b[0m,\n",
              "        \u001b[1m{\u001b[0m\u001b[32m'name'\u001b[0m: \u001b[32m'田中太郎'\u001b[0m, \u001b[32m'location'\u001b[0m: \u001b[32m'東京都渋谷区渋谷1-1-1'\u001b[0m\u001b[1m}\u001b[0m,\n",
              "        \u001b[1m{\u001b[0m\u001b[32m'name'\u001b[0m: \u001b[32m'山田花子'\u001b[0m, \u001b[32m'location'\u001b[0m: \u001b[32m'大阪府大阪市中央区難波5-5-5'\u001b[0m\u001b[1m}\u001b[0m,\n",
              "        \u001b[1m{\u001b[0m\u001b[32m'name'\u001b[0m: \u001b[32m'佐藤美代'\u001b[0m, \u001b[32m'location'\u001b[0m: \u001b[32m'福岡県福岡市博多区博多1-1-1'\u001b[0m\u001b[1m}\u001b[0m,\n",
              "        \u001b[1m{\u001b[0m\u001b[32m'name'\u001b[0m: \u001b[32m'伊藤健太'\u001b[0m, \u001b[32m'location'\u001b[0m: \u001b[32m'愛知県名古屋市中区栄2-2-2'\u001b[0m\u001b[1m}\u001b[0m,\n",
              "        \u001b[1m{\u001b[0m\u001b[32m'name'\u001b[0m: \u001b[32m'鈴木一郎'\u001b[0m, \u001b[32m'location'\u001b[0m: \u001b[32m'北海道札幌市中央区北1条西1-1'\u001b[0m\u001b[1m}\u001b[0m,\n",
              "        \u001b[1m{\u001b[0m\u001b[32m'name'\u001b[0m: \u001b[32m'佐藤美智子'\u001b[0m, \u001b[32m'location'\u001b[0m: \u001b[32m'福岡県福岡市博多区博多駅前1-1-1'\u001b[0m\u001b[1m}\u001b[0m,\n",
              "        \u001b[1m{\u001b[0m\u001b[32m'name'\u001b[0m: \u001b[32m'伊藤健太'\u001b[0m, \u001b[32m'location'\u001b[0m: \u001b[32m'愛知県名古屋市中区栄3-3-3'\u001b[0m\u001b[1m}\u001b[0m,\n",
              "        \u001b[1m{\u001b[0m\u001b[32m'name'\u001b[0m: \u001b[32m'田中太郎'\u001b[0m, \u001b[32m'location'\u001b[0m: \u001b[32m'東京都渋谷区神南1-1-1'\u001b[0m\u001b[1m}\u001b[0m,\n",
              "        \u001b[1m{\u001b[0m\u001b[32m'name'\u001b[0m: \u001b[32m'佐藤明美'\u001b[0m, \u001b[32m'location'\u001b[0m: \u001b[32m'愛知県名古屋市中区栄2-2-2'\u001b[0m\u001b[1m}\u001b[0m,\n",
              "        \u001b[1m{\u001b[0m\u001b[32m'name'\u001b[0m: \u001b[32m'伊藤健太'\u001b[0m, \u001b[32m'location'\u001b[0m: \u001b[32m'福岡県福岡市博多区博多1-1-1'\u001b[0m\u001b[1m}\u001b[0m,\n",
              "        \u001b[1m{\u001b[0m\u001b[32m'name'\u001b[0m: \u001b[32m'佐藤明美'\u001b[0m, \u001b[32m'location'\u001b[0m: \u001b[32m'愛知県名古屋市中区栄2-3-4'\u001b[0m\u001b[1m}\u001b[0m,\n",
              "        \u001b[1m{\u001b[0m\u001b[32m'name'\u001b[0m: \u001b[32m'高橋健太'\u001b[0m, \u001b[32m'location'\u001b[0m: \u001b[32m'福岡県福岡市博多区博多1-2-3'\u001b[0m\u001b[1m}\u001b[0m\n",
              "    \u001b[1m]\u001b[0m\n",
              "\u001b[1m}\u001b[0m\n"
            ],
            "text/html": [
              "<pre style=\"white-space:pre;overflow-x:auto;line-height:normal;font-family:Menlo,'DejaVu Sans Mono',consolas,'Courier New',monospace\"><span style=\"font-weight: bold\">{</span>\n",
              "    <span style=\"color: #008000; text-decoration-color: #008000\">'addressbook'</span>: <span style=\"font-weight: bold\">[</span>\n",
              "        <span style=\"font-weight: bold\">{</span><span style=\"color: #008000; text-decoration-color: #008000\">'name'</span>: <span style=\"color: #008000; text-decoration-color: #008000\">'田中太郎'</span>, <span style=\"color: #008000; text-decoration-color: #008000\">'location'</span>: <span style=\"color: #008000; text-decoration-color: #008000\">'東京都渋谷区神南1-2-3'</span><span style=\"font-weight: bold\">}</span>,\n",
              "        <span style=\"font-weight: bold\">{</span><span style=\"color: #008000; text-decoration-color: #008000\">'name'</span>: <span style=\"color: #008000; text-decoration-color: #008000\">'山田花子'</span>, <span style=\"color: #008000; text-decoration-color: #008000\">'location'</span>: <span style=\"color: #008000; text-decoration-color: #008000\">'大阪府大阪市中央区難波5-6-7'</span><span style=\"font-weight: bold\">}</span>,\n",
              "        <span style=\"font-weight: bold\">{</span><span style=\"color: #008000; text-decoration-color: #008000\">'name'</span>: <span style=\"color: #008000; text-decoration-color: #008000\">'鈴木一郎'</span>, <span style=\"color: #008000; text-decoration-color: #008000\">'location'</span>: <span style=\"color: #008000; text-decoration-color: #008000\">'北海道札幌市中央区北1-2-3'</span><span style=\"font-weight: bold\">}</span>,\n",
              "        <span style=\"font-weight: bold\">{</span><span style=\"color: #008000; text-decoration-color: #008000\">'name'</span>: <span style=\"color: #008000; text-decoration-color: #008000\">'佐藤美代'</span>, <span style=\"color: #008000; text-decoration-color: #008000\">'location'</span>: <span style=\"color: #008000; text-decoration-color: #008000\">'福岡県福岡市博多区博多1-2-3'</span><span style=\"font-weight: bold\">}</span>,\n",
              "        <span style=\"font-weight: bold\">{</span><span style=\"color: #008000; text-decoration-color: #008000\">'name'</span>: <span style=\"color: #008000; text-decoration-color: #008000\">'伊藤健太'</span>, <span style=\"color: #008000; text-decoration-color: #008000\">'location'</span>: <span style=\"color: #008000; text-decoration-color: #008000\">'愛知県名古屋市中区栄2-3-4'</span><span style=\"font-weight: bold\">}</span>,\n",
              "        <span style=\"font-weight: bold\">{</span><span style=\"color: #008000; text-decoration-color: #008000\">'name'</span>: <span style=\"color: #008000; text-decoration-color: #008000\">'鈴木一郎'</span>, <span style=\"color: #008000; text-decoration-color: #008000\">'location'</span>: <span style=\"color: #008000; text-decoration-color: #008000\">'北海道札幌市中央区北1-1-1'</span><span style=\"font-weight: bold\">}</span>,\n",
              "        <span style=\"font-weight: bold\">{</span><span style=\"color: #008000; text-decoration-color: #008000\">'name'</span>: <span style=\"color: #008000; text-decoration-color: #008000\">'佐藤明美'</span>, <span style=\"color: #008000; text-decoration-color: #008000\">'location'</span>: <span style=\"color: #008000; text-decoration-color: #008000\">'福岡県福岡市博多区博多1-1-1'</span><span style=\"font-weight: bold\">}</span>,\n",
              "        <span style=\"font-weight: bold\">{</span><span style=\"color: #008000; text-decoration-color: #008000\">'name'</span>: <span style=\"color: #008000; text-decoration-color: #008000\">'山田花子'</span>, <span style=\"color: #008000; text-decoration-color: #008000\">'location'</span>: <span style=\"color: #008000; text-decoration-color: #008000\">'大阪府大阪市中央区難波1-4-5'</span><span style=\"font-weight: bold\">}</span>,\n",
              "        <span style=\"font-weight: bold\">{</span><span style=\"color: #008000; text-decoration-color: #008000\">'name'</span>: <span style=\"color: #008000; text-decoration-color: #008000\">'鈴木一郎'</span>, <span style=\"color: #008000; text-decoration-color: #008000\">'location'</span>: <span style=\"color: #008000; text-decoration-color: #008000\">'北海道札幌市中央区北1-1-2'</span><span style=\"font-weight: bold\">}</span>,\n",
              "        <span style=\"font-weight: bold\">{</span><span style=\"color: #008000; text-decoration-color: #008000\">'name'</span>: <span style=\"color: #008000; text-decoration-color: #008000\">'佐藤明美'</span>, <span style=\"color: #008000; text-decoration-color: #008000\">'location'</span>: <span style=\"color: #008000; text-decoration-color: #008000\">'福岡県福岡市博多区中洲5-6-7'</span><span style=\"font-weight: bold\">}</span>,\n",
              "        <span style=\"font-weight: bold\">{</span><span style=\"color: #008000; text-decoration-color: #008000\">'name'</span>: <span style=\"color: #008000; text-decoration-color: #008000\">'伊藤健太'</span>, <span style=\"color: #008000; text-decoration-color: #008000\">'location'</span>: <span style=\"color: #008000; text-decoration-color: #008000\">'愛知県名古屋市中区栄3-2-1'</span><span style=\"font-weight: bold\">}</span>,\n",
              "        <span style=\"font-weight: bold\">{</span><span style=\"color: #008000; text-decoration-color: #008000\">'name'</span>: <span style=\"color: #008000; text-decoration-color: #008000\">'佐藤明美'</span>, <span style=\"color: #008000; text-decoration-color: #008000\">'location'</span>: <span style=\"color: #008000; text-decoration-color: #008000\">'福岡県福岡市博多区博多1-2-3'</span><span style=\"font-weight: bold\">}</span>,\n",
              "        <span style=\"font-weight: bold\">{</span><span style=\"color: #008000; text-decoration-color: #008000\">'name'</span>: <span style=\"color: #008000; text-decoration-color: #008000\">'田中太郎'</span>, <span style=\"color: #008000; text-decoration-color: #008000\">'location'</span>: <span style=\"color: #008000; text-decoration-color: #008000\">'東京都渋谷区渋谷1-1-1'</span><span style=\"font-weight: bold\">}</span>,\n",
              "        <span style=\"font-weight: bold\">{</span><span style=\"color: #008000; text-decoration-color: #008000\">'name'</span>: <span style=\"color: #008000; text-decoration-color: #008000\">'山田花子'</span>, <span style=\"color: #008000; text-decoration-color: #008000\">'location'</span>: <span style=\"color: #008000; text-decoration-color: #008000\">'大阪府大阪市中央区難波5-5-5'</span><span style=\"font-weight: bold\">}</span>,\n",
              "        <span style=\"font-weight: bold\">{</span><span style=\"color: #008000; text-decoration-color: #008000\">'name'</span>: <span style=\"color: #008000; text-decoration-color: #008000\">'佐藤美代'</span>, <span style=\"color: #008000; text-decoration-color: #008000\">'location'</span>: <span style=\"color: #008000; text-decoration-color: #008000\">'福岡県福岡市博多区博多1-1-1'</span><span style=\"font-weight: bold\">}</span>,\n",
              "        <span style=\"font-weight: bold\">{</span><span style=\"color: #008000; text-decoration-color: #008000\">'name'</span>: <span style=\"color: #008000; text-decoration-color: #008000\">'伊藤健太'</span>, <span style=\"color: #008000; text-decoration-color: #008000\">'location'</span>: <span style=\"color: #008000; text-decoration-color: #008000\">'愛知県名古屋市中区栄2-2-2'</span><span style=\"font-weight: bold\">}</span>,\n",
              "        <span style=\"font-weight: bold\">{</span><span style=\"color: #008000; text-decoration-color: #008000\">'name'</span>: <span style=\"color: #008000; text-decoration-color: #008000\">'鈴木一郎'</span>, <span style=\"color: #008000; text-decoration-color: #008000\">'location'</span>: <span style=\"color: #008000; text-decoration-color: #008000\">'北海道札幌市中央区北1条西1-1'</span><span style=\"font-weight: bold\">}</span>,\n",
              "        <span style=\"font-weight: bold\">{</span><span style=\"color: #008000; text-decoration-color: #008000\">'name'</span>: <span style=\"color: #008000; text-decoration-color: #008000\">'佐藤美智子'</span>, <span style=\"color: #008000; text-decoration-color: #008000\">'location'</span>: <span style=\"color: #008000; text-decoration-color: #008000\">'福岡県福岡市博多区博多駅前1-1-1'</span><span style=\"font-weight: bold\">}</span>,\n",
              "        <span style=\"font-weight: bold\">{</span><span style=\"color: #008000; text-decoration-color: #008000\">'name'</span>: <span style=\"color: #008000; text-decoration-color: #008000\">'伊藤健太'</span>, <span style=\"color: #008000; text-decoration-color: #008000\">'location'</span>: <span style=\"color: #008000; text-decoration-color: #008000\">'愛知県名古屋市中区栄3-3-3'</span><span style=\"font-weight: bold\">}</span>,\n",
              "        <span style=\"font-weight: bold\">{</span><span style=\"color: #008000; text-decoration-color: #008000\">'name'</span>: <span style=\"color: #008000; text-decoration-color: #008000\">'田中太郎'</span>, <span style=\"color: #008000; text-decoration-color: #008000\">'location'</span>: <span style=\"color: #008000; text-decoration-color: #008000\">'東京都渋谷区神南1-1-1'</span><span style=\"font-weight: bold\">}</span>,\n",
              "        <span style=\"font-weight: bold\">{</span><span style=\"color: #008000; text-decoration-color: #008000\">'name'</span>: <span style=\"color: #008000; text-decoration-color: #008000\">'佐藤明美'</span>, <span style=\"color: #008000; text-decoration-color: #008000\">'location'</span>: <span style=\"color: #008000; text-decoration-color: #008000\">'愛知県名古屋市中区栄2-2-2'</span><span style=\"font-weight: bold\">}</span>,\n",
              "        <span style=\"font-weight: bold\">{</span><span style=\"color: #008000; text-decoration-color: #008000\">'name'</span>: <span style=\"color: #008000; text-decoration-color: #008000\">'伊藤健太'</span>, <span style=\"color: #008000; text-decoration-color: #008000\">'location'</span>: <span style=\"color: #008000; text-decoration-color: #008000\">'福岡県福岡市博多区博多1-1-1'</span><span style=\"font-weight: bold\">}</span>,\n",
              "        <span style=\"font-weight: bold\">{</span><span style=\"color: #008000; text-decoration-color: #008000\">'name'</span>: <span style=\"color: #008000; text-decoration-color: #008000\">'佐藤明美'</span>, <span style=\"color: #008000; text-decoration-color: #008000\">'location'</span>: <span style=\"color: #008000; text-decoration-color: #008000\">'愛知県名古屋市中区栄2-3-4'</span><span style=\"font-weight: bold\">}</span>,\n",
              "        <span style=\"font-weight: bold\">{</span><span style=\"color: #008000; text-decoration-color: #008000\">'name'</span>: <span style=\"color: #008000; text-decoration-color: #008000\">'高橋健太'</span>, <span style=\"color: #008000; text-decoration-color: #008000\">'location'</span>: <span style=\"color: #008000; text-decoration-color: #008000\">'福岡県福岡市博多区博多1-2-3'</span><span style=\"font-weight: bold\">}</span>\n",
              "    <span style=\"font-weight: bold\">]</span>\n",
              "<span style=\"font-weight: bold\">}</span>\n",
              "</pre>\n"
            ]
          },
          "metadata": {}
        },
        {
          "output_type": "display_data",
          "data": {
            "text/plain": [
              "\u001b[1m{\u001b[0m\n",
              "    \u001b[32m'addressbook'\u001b[0m: \u001b[1m[\u001b[0m\n",
              "        \u001b[1m{\u001b[0m\u001b[32m'name'\u001b[0m: \u001b[32m'田中太郎'\u001b[0m, \u001b[32m'location'\u001b[0m: \u001b[32m'東京都渋谷区神南1-2-3'\u001b[0m\u001b[1m}\u001b[0m,\n",
              "        \u001b[1m{\u001b[0m\u001b[32m'name'\u001b[0m: \u001b[32m'山田花子'\u001b[0m, \u001b[32m'location'\u001b[0m: \u001b[32m'大阪府大阪市中央区難波5-6-7'\u001b[0m\u001b[1m}\u001b[0m,\n",
              "        \u001b[1m{\u001b[0m\u001b[32m'name'\u001b[0m: \u001b[32m'鈴木一郎'\u001b[0m, \u001b[32m'location'\u001b[0m: \u001b[32m'北海道札幌市中央区北1-2-3'\u001b[0m\u001b[1m}\u001b[0m,\n",
              "        \u001b[1m{\u001b[0m\u001b[32m'name'\u001b[0m: \u001b[32m'佐藤美代'\u001b[0m, \u001b[32m'location'\u001b[0m: \u001b[32m'福岡県福岡市博多区博多1-2-3'\u001b[0m\u001b[1m}\u001b[0m,\n",
              "        \u001b[1m{\u001b[0m\u001b[32m'name'\u001b[0m: \u001b[32m'伊藤健太'\u001b[0m, \u001b[32m'location'\u001b[0m: \u001b[32m'愛知県名古屋市中区栄2-3-4'\u001b[0m\u001b[1m}\u001b[0m,\n",
              "        \u001b[1m{\u001b[0m\u001b[32m'name'\u001b[0m: \u001b[32m'鈴木一郎'\u001b[0m, \u001b[32m'location'\u001b[0m: \u001b[32m'北海道札幌市中央区北1-1-1'\u001b[0m\u001b[1m}\u001b[0m,\n",
              "        \u001b[1m{\u001b[0m\u001b[32m'name'\u001b[0m: \u001b[32m'佐藤明美'\u001b[0m, \u001b[32m'location'\u001b[0m: \u001b[32m'福岡県福岡市博多区博多1-1-1'\u001b[0m\u001b[1m}\u001b[0m,\n",
              "        \u001b[1m{\u001b[0m\u001b[32m'name'\u001b[0m: \u001b[32m'山田花子'\u001b[0m, \u001b[32m'location'\u001b[0m: \u001b[32m'大阪府大阪市中央区難波1-4-5'\u001b[0m\u001b[1m}\u001b[0m,\n",
              "        \u001b[1m{\u001b[0m\u001b[32m'name'\u001b[0m: \u001b[32m'鈴木一郎'\u001b[0m, \u001b[32m'location'\u001b[0m: \u001b[32m'北海道札幌市中央区北1-1-2'\u001b[0m\u001b[1m}\u001b[0m,\n",
              "        \u001b[1m{\u001b[0m\u001b[32m'name'\u001b[0m: \u001b[32m'佐藤明美'\u001b[0m, \u001b[32m'location'\u001b[0m: \u001b[32m'福岡県福岡市博多区中洲5-6-7'\u001b[0m\u001b[1m}\u001b[0m,\n",
              "        \u001b[1m{\u001b[0m\u001b[32m'name'\u001b[0m: \u001b[32m'伊藤健太'\u001b[0m, \u001b[32m'location'\u001b[0m: \u001b[32m'愛知県名古屋市中区栄3-2-1'\u001b[0m\u001b[1m}\u001b[0m,\n",
              "        \u001b[1m{\u001b[0m\u001b[32m'name'\u001b[0m: \u001b[32m'佐藤明美'\u001b[0m, \u001b[32m'location'\u001b[0m: \u001b[32m'福岡県福岡市博多区博多1-2-3'\u001b[0m\u001b[1m}\u001b[0m,\n",
              "        \u001b[1m{\u001b[0m\u001b[32m'name'\u001b[0m: \u001b[32m'田中太郎'\u001b[0m, \u001b[32m'location'\u001b[0m: \u001b[32m'東京都渋谷区渋谷1-1-1'\u001b[0m\u001b[1m}\u001b[0m,\n",
              "        \u001b[1m{\u001b[0m\u001b[32m'name'\u001b[0m: \u001b[32m'山田花子'\u001b[0m, \u001b[32m'location'\u001b[0m: \u001b[32m'大阪府大阪市中央区難波5-5-5'\u001b[0m\u001b[1m}\u001b[0m,\n",
              "        \u001b[1m{\u001b[0m\u001b[32m'name'\u001b[0m: \u001b[32m'佐藤美代'\u001b[0m, \u001b[32m'location'\u001b[0m: \u001b[32m'福岡県福岡市博多区博多1-1-1'\u001b[0m\u001b[1m}\u001b[0m,\n",
              "        \u001b[1m{\u001b[0m\u001b[32m'name'\u001b[0m: \u001b[32m'伊藤健太'\u001b[0m, \u001b[32m'location'\u001b[0m: \u001b[32m'愛知県名古屋市中区栄2-2-2'\u001b[0m\u001b[1m}\u001b[0m,\n",
              "        \u001b[1m{\u001b[0m\u001b[32m'name'\u001b[0m: \u001b[32m'鈴木一郎'\u001b[0m, \u001b[32m'location'\u001b[0m: \u001b[32m'北海道札幌市中央区北1条西1-1'\u001b[0m\u001b[1m}\u001b[0m,\n",
              "        \u001b[1m{\u001b[0m\u001b[32m'name'\u001b[0m: \u001b[32m'佐藤美智子'\u001b[0m, \u001b[32m'location'\u001b[0m: \u001b[32m'福岡県福岡市博多区博多駅前1-1-1'\u001b[0m\u001b[1m}\u001b[0m,\n",
              "        \u001b[1m{\u001b[0m\u001b[32m'name'\u001b[0m: \u001b[32m'伊藤健太'\u001b[0m, \u001b[32m'location'\u001b[0m: \u001b[32m'愛知県名古屋市中区栄3-3-3'\u001b[0m\u001b[1m}\u001b[0m,\n",
              "        \u001b[1m{\u001b[0m\u001b[32m'name'\u001b[0m: \u001b[32m'田中太郎'\u001b[0m, \u001b[32m'location'\u001b[0m: \u001b[32m'東京都渋谷区神南1-1-1'\u001b[0m\u001b[1m}\u001b[0m,\n",
              "        \u001b[1m{\u001b[0m\u001b[32m'name'\u001b[0m: \u001b[32m'佐藤明美'\u001b[0m, \u001b[32m'location'\u001b[0m: \u001b[32m'愛知県名古屋市中区栄2-2-2'\u001b[0m\u001b[1m}\u001b[0m,\n",
              "        \u001b[1m{\u001b[0m\u001b[32m'name'\u001b[0m: \u001b[32m'伊藤健太'\u001b[0m, \u001b[32m'location'\u001b[0m: \u001b[32m'福岡県福岡市博多区博多1-1-1'\u001b[0m\u001b[1m}\u001b[0m,\n",
              "        \u001b[1m{\u001b[0m\u001b[32m'name'\u001b[0m: \u001b[32m'佐藤明美'\u001b[0m, \u001b[32m'location'\u001b[0m: \u001b[32m'愛知県名古屋市中区栄2-3-4'\u001b[0m\u001b[1m}\u001b[0m,\n",
              "        \u001b[1m{\u001b[0m\u001b[32m'name'\u001b[0m: \u001b[32m'高橋健太'\u001b[0m, \u001b[32m'location'\u001b[0m: \u001b[32m'福岡県福岡市博多区博多1-2-3'\u001b[0m\u001b[1m}\u001b[0m\n",
              "    \u001b[1m]\u001b[0m\n",
              "\u001b[1m}\u001b[0m\n"
            ],
            "text/html": [
              "<pre style=\"white-space:pre;overflow-x:auto;line-height:normal;font-family:Menlo,'DejaVu Sans Mono',consolas,'Courier New',monospace\"><span style=\"font-weight: bold\">{</span>\n",
              "    <span style=\"color: #008000; text-decoration-color: #008000\">'addressbook'</span>: <span style=\"font-weight: bold\">[</span>\n",
              "        <span style=\"font-weight: bold\">{</span><span style=\"color: #008000; text-decoration-color: #008000\">'name'</span>: <span style=\"color: #008000; text-decoration-color: #008000\">'田中太郎'</span>, <span style=\"color: #008000; text-decoration-color: #008000\">'location'</span>: <span style=\"color: #008000; text-decoration-color: #008000\">'東京都渋谷区神南1-2-3'</span><span style=\"font-weight: bold\">}</span>,\n",
              "        <span style=\"font-weight: bold\">{</span><span style=\"color: #008000; text-decoration-color: #008000\">'name'</span>: <span style=\"color: #008000; text-decoration-color: #008000\">'山田花子'</span>, <span style=\"color: #008000; text-decoration-color: #008000\">'location'</span>: <span style=\"color: #008000; text-decoration-color: #008000\">'大阪府大阪市中央区難波5-6-7'</span><span style=\"font-weight: bold\">}</span>,\n",
              "        <span style=\"font-weight: bold\">{</span><span style=\"color: #008000; text-decoration-color: #008000\">'name'</span>: <span style=\"color: #008000; text-decoration-color: #008000\">'鈴木一郎'</span>, <span style=\"color: #008000; text-decoration-color: #008000\">'location'</span>: <span style=\"color: #008000; text-decoration-color: #008000\">'北海道札幌市中央区北1-2-3'</span><span style=\"font-weight: bold\">}</span>,\n",
              "        <span style=\"font-weight: bold\">{</span><span style=\"color: #008000; text-decoration-color: #008000\">'name'</span>: <span style=\"color: #008000; text-decoration-color: #008000\">'佐藤美代'</span>, <span style=\"color: #008000; text-decoration-color: #008000\">'location'</span>: <span style=\"color: #008000; text-decoration-color: #008000\">'福岡県福岡市博多区博多1-2-3'</span><span style=\"font-weight: bold\">}</span>,\n",
              "        <span style=\"font-weight: bold\">{</span><span style=\"color: #008000; text-decoration-color: #008000\">'name'</span>: <span style=\"color: #008000; text-decoration-color: #008000\">'伊藤健太'</span>, <span style=\"color: #008000; text-decoration-color: #008000\">'location'</span>: <span style=\"color: #008000; text-decoration-color: #008000\">'愛知県名古屋市中区栄2-3-4'</span><span style=\"font-weight: bold\">}</span>,\n",
              "        <span style=\"font-weight: bold\">{</span><span style=\"color: #008000; text-decoration-color: #008000\">'name'</span>: <span style=\"color: #008000; text-decoration-color: #008000\">'鈴木一郎'</span>, <span style=\"color: #008000; text-decoration-color: #008000\">'location'</span>: <span style=\"color: #008000; text-decoration-color: #008000\">'北海道札幌市中央区北1-1-1'</span><span style=\"font-weight: bold\">}</span>,\n",
              "        <span style=\"font-weight: bold\">{</span><span style=\"color: #008000; text-decoration-color: #008000\">'name'</span>: <span style=\"color: #008000; text-decoration-color: #008000\">'佐藤明美'</span>, <span style=\"color: #008000; text-decoration-color: #008000\">'location'</span>: <span style=\"color: #008000; text-decoration-color: #008000\">'福岡県福岡市博多区博多1-1-1'</span><span style=\"font-weight: bold\">}</span>,\n",
              "        <span style=\"font-weight: bold\">{</span><span style=\"color: #008000; text-decoration-color: #008000\">'name'</span>: <span style=\"color: #008000; text-decoration-color: #008000\">'山田花子'</span>, <span style=\"color: #008000; text-decoration-color: #008000\">'location'</span>: <span style=\"color: #008000; text-decoration-color: #008000\">'大阪府大阪市中央区難波1-4-5'</span><span style=\"font-weight: bold\">}</span>,\n",
              "        <span style=\"font-weight: bold\">{</span><span style=\"color: #008000; text-decoration-color: #008000\">'name'</span>: <span style=\"color: #008000; text-decoration-color: #008000\">'鈴木一郎'</span>, <span style=\"color: #008000; text-decoration-color: #008000\">'location'</span>: <span style=\"color: #008000; text-decoration-color: #008000\">'北海道札幌市中央区北1-1-2'</span><span style=\"font-weight: bold\">}</span>,\n",
              "        <span style=\"font-weight: bold\">{</span><span style=\"color: #008000; text-decoration-color: #008000\">'name'</span>: <span style=\"color: #008000; text-decoration-color: #008000\">'佐藤明美'</span>, <span style=\"color: #008000; text-decoration-color: #008000\">'location'</span>: <span style=\"color: #008000; text-decoration-color: #008000\">'福岡県福岡市博多区中洲5-6-7'</span><span style=\"font-weight: bold\">}</span>,\n",
              "        <span style=\"font-weight: bold\">{</span><span style=\"color: #008000; text-decoration-color: #008000\">'name'</span>: <span style=\"color: #008000; text-decoration-color: #008000\">'伊藤健太'</span>, <span style=\"color: #008000; text-decoration-color: #008000\">'location'</span>: <span style=\"color: #008000; text-decoration-color: #008000\">'愛知県名古屋市中区栄3-2-1'</span><span style=\"font-weight: bold\">}</span>,\n",
              "        <span style=\"font-weight: bold\">{</span><span style=\"color: #008000; text-decoration-color: #008000\">'name'</span>: <span style=\"color: #008000; text-decoration-color: #008000\">'佐藤明美'</span>, <span style=\"color: #008000; text-decoration-color: #008000\">'location'</span>: <span style=\"color: #008000; text-decoration-color: #008000\">'福岡県福岡市博多区博多1-2-3'</span><span style=\"font-weight: bold\">}</span>,\n",
              "        <span style=\"font-weight: bold\">{</span><span style=\"color: #008000; text-decoration-color: #008000\">'name'</span>: <span style=\"color: #008000; text-decoration-color: #008000\">'田中太郎'</span>, <span style=\"color: #008000; text-decoration-color: #008000\">'location'</span>: <span style=\"color: #008000; text-decoration-color: #008000\">'東京都渋谷区渋谷1-1-1'</span><span style=\"font-weight: bold\">}</span>,\n",
              "        <span style=\"font-weight: bold\">{</span><span style=\"color: #008000; text-decoration-color: #008000\">'name'</span>: <span style=\"color: #008000; text-decoration-color: #008000\">'山田花子'</span>, <span style=\"color: #008000; text-decoration-color: #008000\">'location'</span>: <span style=\"color: #008000; text-decoration-color: #008000\">'大阪府大阪市中央区難波5-5-5'</span><span style=\"font-weight: bold\">}</span>,\n",
              "        <span style=\"font-weight: bold\">{</span><span style=\"color: #008000; text-decoration-color: #008000\">'name'</span>: <span style=\"color: #008000; text-decoration-color: #008000\">'佐藤美代'</span>, <span style=\"color: #008000; text-decoration-color: #008000\">'location'</span>: <span style=\"color: #008000; text-decoration-color: #008000\">'福岡県福岡市博多区博多1-1-1'</span><span style=\"font-weight: bold\">}</span>,\n",
              "        <span style=\"font-weight: bold\">{</span><span style=\"color: #008000; text-decoration-color: #008000\">'name'</span>: <span style=\"color: #008000; text-decoration-color: #008000\">'伊藤健太'</span>, <span style=\"color: #008000; text-decoration-color: #008000\">'location'</span>: <span style=\"color: #008000; text-decoration-color: #008000\">'愛知県名古屋市中区栄2-2-2'</span><span style=\"font-weight: bold\">}</span>,\n",
              "        <span style=\"font-weight: bold\">{</span><span style=\"color: #008000; text-decoration-color: #008000\">'name'</span>: <span style=\"color: #008000; text-decoration-color: #008000\">'鈴木一郎'</span>, <span style=\"color: #008000; text-decoration-color: #008000\">'location'</span>: <span style=\"color: #008000; text-decoration-color: #008000\">'北海道札幌市中央区北1条西1-1'</span><span style=\"font-weight: bold\">}</span>,\n",
              "        <span style=\"font-weight: bold\">{</span><span style=\"color: #008000; text-decoration-color: #008000\">'name'</span>: <span style=\"color: #008000; text-decoration-color: #008000\">'佐藤美智子'</span>, <span style=\"color: #008000; text-decoration-color: #008000\">'location'</span>: <span style=\"color: #008000; text-decoration-color: #008000\">'福岡県福岡市博多区博多駅前1-1-1'</span><span style=\"font-weight: bold\">}</span>,\n",
              "        <span style=\"font-weight: bold\">{</span><span style=\"color: #008000; text-decoration-color: #008000\">'name'</span>: <span style=\"color: #008000; text-decoration-color: #008000\">'伊藤健太'</span>, <span style=\"color: #008000; text-decoration-color: #008000\">'location'</span>: <span style=\"color: #008000; text-decoration-color: #008000\">'愛知県名古屋市中区栄3-3-3'</span><span style=\"font-weight: bold\">}</span>,\n",
              "        <span style=\"font-weight: bold\">{</span><span style=\"color: #008000; text-decoration-color: #008000\">'name'</span>: <span style=\"color: #008000; text-decoration-color: #008000\">'田中太郎'</span>, <span style=\"color: #008000; text-decoration-color: #008000\">'location'</span>: <span style=\"color: #008000; text-decoration-color: #008000\">'東京都渋谷区神南1-1-1'</span><span style=\"font-weight: bold\">}</span>,\n",
              "        <span style=\"font-weight: bold\">{</span><span style=\"color: #008000; text-decoration-color: #008000\">'name'</span>: <span style=\"color: #008000; text-decoration-color: #008000\">'佐藤明美'</span>, <span style=\"color: #008000; text-decoration-color: #008000\">'location'</span>: <span style=\"color: #008000; text-decoration-color: #008000\">'愛知県名古屋市中区栄2-2-2'</span><span style=\"font-weight: bold\">}</span>,\n",
              "        <span style=\"font-weight: bold\">{</span><span style=\"color: #008000; text-decoration-color: #008000\">'name'</span>: <span style=\"color: #008000; text-decoration-color: #008000\">'伊藤健太'</span>, <span style=\"color: #008000; text-decoration-color: #008000\">'location'</span>: <span style=\"color: #008000; text-decoration-color: #008000\">'福岡県福岡市博多区博多1-1-1'</span><span style=\"font-weight: bold\">}</span>,\n",
              "        <span style=\"font-weight: bold\">{</span><span style=\"color: #008000; text-decoration-color: #008000\">'name'</span>: <span style=\"color: #008000; text-decoration-color: #008000\">'佐藤明美'</span>, <span style=\"color: #008000; text-decoration-color: #008000\">'location'</span>: <span style=\"color: #008000; text-decoration-color: #008000\">'愛知県名古屋市中区栄2-3-4'</span><span style=\"font-weight: bold\">}</span>,\n",
              "        <span style=\"font-weight: bold\">{</span><span style=\"color: #008000; text-decoration-color: #008000\">'name'</span>: <span style=\"color: #008000; text-decoration-color: #008000\">'高橋健太'</span>, <span style=\"color: #008000; text-decoration-color: #008000\">'location'</span>: <span style=\"color: #008000; text-decoration-color: #008000\">'福岡県福岡市博多区博多1-2-3'</span><span style=\"font-weight: bold\">}</span>\n",
              "    <span style=\"font-weight: bold\">]</span>\n",
              "<span style=\"font-weight: bold\">}</span>\n",
              "</pre>\n"
            ]
          },
          "metadata": {}
        },
        {
          "output_type": "display_data",
          "data": {
            "text/plain": [
              "\u001b[1m{\u001b[0m\n",
              "    \u001b[32m'addressbook'\u001b[0m: \u001b[1m[\u001b[0m\n",
              "        \u001b[1m{\u001b[0m\u001b[32m'name'\u001b[0m: \u001b[32m'田中太郎'\u001b[0m, \u001b[32m'location'\u001b[0m: \u001b[32m'東京都渋谷区神南1-2-3'\u001b[0m\u001b[1m}\u001b[0m,\n",
              "        \u001b[1m{\u001b[0m\u001b[32m'name'\u001b[0m: \u001b[32m'山田花子'\u001b[0m, \u001b[32m'location'\u001b[0m: \u001b[32m'大阪府大阪市中央区難波5-6-7'\u001b[0m\u001b[1m}\u001b[0m,\n",
              "        \u001b[1m{\u001b[0m\u001b[32m'name'\u001b[0m: \u001b[32m'鈴木一郎'\u001b[0m, \u001b[32m'location'\u001b[0m: \u001b[32m'北海道札幌市中央区北1-2-3'\u001b[0m\u001b[1m}\u001b[0m,\n",
              "        \u001b[1m{\u001b[0m\u001b[32m'name'\u001b[0m: \u001b[32m'佐藤美代'\u001b[0m, \u001b[32m'location'\u001b[0m: \u001b[32m'福岡県福岡市博多区博多1-2-3'\u001b[0m\u001b[1m}\u001b[0m,\n",
              "        \u001b[1m{\u001b[0m\u001b[32m'name'\u001b[0m: \u001b[32m'伊藤健太'\u001b[0m, \u001b[32m'location'\u001b[0m: \u001b[32m'愛知県名古屋市中区栄2-3-4'\u001b[0m\u001b[1m}\u001b[0m,\n",
              "        \u001b[1m{\u001b[0m\u001b[32m'name'\u001b[0m: \u001b[32m'鈴木一郎'\u001b[0m, \u001b[32m'location'\u001b[0m: \u001b[32m'北海道札幌市中央区北1-1-1'\u001b[0m\u001b[1m}\u001b[0m,\n",
              "        \u001b[1m{\u001b[0m\u001b[32m'name'\u001b[0m: \u001b[32m'佐藤明美'\u001b[0m, \u001b[32m'location'\u001b[0m: \u001b[32m'福岡県福岡市博多区博多1-1-1'\u001b[0m\u001b[1m}\u001b[0m,\n",
              "        \u001b[1m{\u001b[0m\u001b[32m'name'\u001b[0m: \u001b[32m'山田花子'\u001b[0m, \u001b[32m'location'\u001b[0m: \u001b[32m'大阪府大阪市中央区難波1-4-5'\u001b[0m\u001b[1m}\u001b[0m,\n",
              "        \u001b[1m{\u001b[0m\u001b[32m'name'\u001b[0m: \u001b[32m'鈴木一郎'\u001b[0m, \u001b[32m'location'\u001b[0m: \u001b[32m'北海道札幌市中央区北1-1-2'\u001b[0m\u001b[1m}\u001b[0m,\n",
              "        \u001b[1m{\u001b[0m\u001b[32m'name'\u001b[0m: \u001b[32m'佐藤明美'\u001b[0m, \u001b[32m'location'\u001b[0m: \u001b[32m'福岡県福岡市博多区中洲5-6-7'\u001b[0m\u001b[1m}\u001b[0m,\n",
              "        \u001b[1m{\u001b[0m\u001b[32m'name'\u001b[0m: \u001b[32m'伊藤健太'\u001b[0m, \u001b[32m'location'\u001b[0m: \u001b[32m'愛知県名古屋市中区栄3-2-1'\u001b[0m\u001b[1m}\u001b[0m,\n",
              "        \u001b[1m{\u001b[0m\u001b[32m'name'\u001b[0m: \u001b[32m'佐藤明美'\u001b[0m, \u001b[32m'location'\u001b[0m: \u001b[32m'福岡県福岡市博多区博多1-2-3'\u001b[0m\u001b[1m}\u001b[0m,\n",
              "        \u001b[1m{\u001b[0m\u001b[32m'name'\u001b[0m: \u001b[32m'田中太郎'\u001b[0m, \u001b[32m'location'\u001b[0m: \u001b[32m'東京都渋谷区渋谷1-1-1'\u001b[0m\u001b[1m}\u001b[0m,\n",
              "        \u001b[1m{\u001b[0m\u001b[32m'name'\u001b[0m: \u001b[32m'山田花子'\u001b[0m, \u001b[32m'location'\u001b[0m: \u001b[32m'大阪府大阪市中央区難波5-5-5'\u001b[0m\u001b[1m}\u001b[0m,\n",
              "        \u001b[1m{\u001b[0m\u001b[32m'name'\u001b[0m: \u001b[32m'佐藤美代'\u001b[0m, \u001b[32m'location'\u001b[0m: \u001b[32m'福岡県福岡市博多区博多1-1-1'\u001b[0m\u001b[1m}\u001b[0m,\n",
              "        \u001b[1m{\u001b[0m\u001b[32m'name'\u001b[0m: \u001b[32m'伊藤健太'\u001b[0m, \u001b[32m'location'\u001b[0m: \u001b[32m'愛知県名古屋市中区栄2-2-2'\u001b[0m\u001b[1m}\u001b[0m,\n",
              "        \u001b[1m{\u001b[0m\u001b[32m'name'\u001b[0m: \u001b[32m'鈴木一郎'\u001b[0m, \u001b[32m'location'\u001b[0m: \u001b[32m'北海道札幌市中央区北1条西1-1'\u001b[0m\u001b[1m}\u001b[0m,\n",
              "        \u001b[1m{\u001b[0m\u001b[32m'name'\u001b[0m: \u001b[32m'佐藤美智子'\u001b[0m, \u001b[32m'location'\u001b[0m: \u001b[32m'福岡県福岡市博多区博多駅前1-1-1'\u001b[0m\u001b[1m}\u001b[0m,\n",
              "        \u001b[1m{\u001b[0m\u001b[32m'name'\u001b[0m: \u001b[32m'伊藤健太'\u001b[0m, \u001b[32m'location'\u001b[0m: \u001b[32m'愛知県名古屋市中区栄3-3-3'\u001b[0m\u001b[1m}\u001b[0m,\n",
              "        \u001b[1m{\u001b[0m\u001b[32m'name'\u001b[0m: \u001b[32m'田中太郎'\u001b[0m, \u001b[32m'location'\u001b[0m: \u001b[32m'東京都渋谷区神南1-1-1'\u001b[0m\u001b[1m}\u001b[0m,\n",
              "        \u001b[1m{\u001b[0m\u001b[32m'name'\u001b[0m: \u001b[32m'佐藤明美'\u001b[0m, \u001b[32m'location'\u001b[0m: \u001b[32m'愛知県名古屋市中区栄2-2-2'\u001b[0m\u001b[1m}\u001b[0m,\n",
              "        \u001b[1m{\u001b[0m\u001b[32m'name'\u001b[0m: \u001b[32m'伊藤健太'\u001b[0m, \u001b[32m'location'\u001b[0m: \u001b[32m'福岡県福岡市博多区博多1-1-1'\u001b[0m\u001b[1m}\u001b[0m,\n",
              "        \u001b[1m{\u001b[0m\u001b[32m'name'\u001b[0m: \u001b[32m'佐藤明美'\u001b[0m, \u001b[32m'location'\u001b[0m: \u001b[32m'愛知県名古屋市中区栄2-3-4'\u001b[0m\u001b[1m}\u001b[0m,\n",
              "        \u001b[1m{\u001b[0m\u001b[32m'name'\u001b[0m: \u001b[32m'高橋健太'\u001b[0m, \u001b[32m'location'\u001b[0m: \u001b[32m'福岡県福岡市博多区博多1-2-3'\u001b[0m\u001b[1m}\u001b[0m,\n",
              "        \u001b[1m{\u001b[0m\u001b[32m'name'\u001b[0m: \u001b[32m'山田花子'\u001b[0m, \u001b[32m'location'\u001b[0m: \u001b[32m'大阪府大阪市中央区難波1-1-1'\u001b[0m\u001b[1m}\u001b[0m,\n",
              "        \u001b[1m{\u001b[0m\u001b[32m'name'\u001b[0m: \u001b[32m'鈴木一郎'\u001b[0m, \u001b[32m'location'\u001b[0m: \u001b[32m'北海道札幌市中央区北1条西2丁目'\u001b[0m\u001b[1m}\u001b[0m,\n",
              "        \u001b[1m{\u001b[0m\u001b[32m'name'\u001b[0m: \u001b[32m'佐藤明美'\u001b[0m, \u001b[32m'location'\u001b[0m: \u001b[32m'福岡県福岡市博多区博多駅前1-1'\u001b[0m\u001b[1m}\u001b[0m,\n",
              "        \u001b[1m{\u001b[0m\u001b[32m'name'\u001b[0m: \u001b[32m'伊藤健太'\u001b[0m, \u001b[32m'location'\u001b[0m: \u001b[32m'愛知県名古屋市中区栄3-6-1'\u001b[0m\u001b[1m}\u001b[0m\n",
              "    \u001b[1m]\u001b[0m\n",
              "\u001b[1m}\u001b[0m\n"
            ],
            "text/html": [
              "<pre style=\"white-space:pre;overflow-x:auto;line-height:normal;font-family:Menlo,'DejaVu Sans Mono',consolas,'Courier New',monospace\"><span style=\"font-weight: bold\">{</span>\n",
              "    <span style=\"color: #008000; text-decoration-color: #008000\">'addressbook'</span>: <span style=\"font-weight: bold\">[</span>\n",
              "        <span style=\"font-weight: bold\">{</span><span style=\"color: #008000; text-decoration-color: #008000\">'name'</span>: <span style=\"color: #008000; text-decoration-color: #008000\">'田中太郎'</span>, <span style=\"color: #008000; text-decoration-color: #008000\">'location'</span>: <span style=\"color: #008000; text-decoration-color: #008000\">'東京都渋谷区神南1-2-3'</span><span style=\"font-weight: bold\">}</span>,\n",
              "        <span style=\"font-weight: bold\">{</span><span style=\"color: #008000; text-decoration-color: #008000\">'name'</span>: <span style=\"color: #008000; text-decoration-color: #008000\">'山田花子'</span>, <span style=\"color: #008000; text-decoration-color: #008000\">'location'</span>: <span style=\"color: #008000; text-decoration-color: #008000\">'大阪府大阪市中央区難波5-6-7'</span><span style=\"font-weight: bold\">}</span>,\n",
              "        <span style=\"font-weight: bold\">{</span><span style=\"color: #008000; text-decoration-color: #008000\">'name'</span>: <span style=\"color: #008000; text-decoration-color: #008000\">'鈴木一郎'</span>, <span style=\"color: #008000; text-decoration-color: #008000\">'location'</span>: <span style=\"color: #008000; text-decoration-color: #008000\">'北海道札幌市中央区北1-2-3'</span><span style=\"font-weight: bold\">}</span>,\n",
              "        <span style=\"font-weight: bold\">{</span><span style=\"color: #008000; text-decoration-color: #008000\">'name'</span>: <span style=\"color: #008000; text-decoration-color: #008000\">'佐藤美代'</span>, <span style=\"color: #008000; text-decoration-color: #008000\">'location'</span>: <span style=\"color: #008000; text-decoration-color: #008000\">'福岡県福岡市博多区博多1-2-3'</span><span style=\"font-weight: bold\">}</span>,\n",
              "        <span style=\"font-weight: bold\">{</span><span style=\"color: #008000; text-decoration-color: #008000\">'name'</span>: <span style=\"color: #008000; text-decoration-color: #008000\">'伊藤健太'</span>, <span style=\"color: #008000; text-decoration-color: #008000\">'location'</span>: <span style=\"color: #008000; text-decoration-color: #008000\">'愛知県名古屋市中区栄2-3-4'</span><span style=\"font-weight: bold\">}</span>,\n",
              "        <span style=\"font-weight: bold\">{</span><span style=\"color: #008000; text-decoration-color: #008000\">'name'</span>: <span style=\"color: #008000; text-decoration-color: #008000\">'鈴木一郎'</span>, <span style=\"color: #008000; text-decoration-color: #008000\">'location'</span>: <span style=\"color: #008000; text-decoration-color: #008000\">'北海道札幌市中央区北1-1-1'</span><span style=\"font-weight: bold\">}</span>,\n",
              "        <span style=\"font-weight: bold\">{</span><span style=\"color: #008000; text-decoration-color: #008000\">'name'</span>: <span style=\"color: #008000; text-decoration-color: #008000\">'佐藤明美'</span>, <span style=\"color: #008000; text-decoration-color: #008000\">'location'</span>: <span style=\"color: #008000; text-decoration-color: #008000\">'福岡県福岡市博多区博多1-1-1'</span><span style=\"font-weight: bold\">}</span>,\n",
              "        <span style=\"font-weight: bold\">{</span><span style=\"color: #008000; text-decoration-color: #008000\">'name'</span>: <span style=\"color: #008000; text-decoration-color: #008000\">'山田花子'</span>, <span style=\"color: #008000; text-decoration-color: #008000\">'location'</span>: <span style=\"color: #008000; text-decoration-color: #008000\">'大阪府大阪市中央区難波1-4-5'</span><span style=\"font-weight: bold\">}</span>,\n",
              "        <span style=\"font-weight: bold\">{</span><span style=\"color: #008000; text-decoration-color: #008000\">'name'</span>: <span style=\"color: #008000; text-decoration-color: #008000\">'鈴木一郎'</span>, <span style=\"color: #008000; text-decoration-color: #008000\">'location'</span>: <span style=\"color: #008000; text-decoration-color: #008000\">'北海道札幌市中央区北1-1-2'</span><span style=\"font-weight: bold\">}</span>,\n",
              "        <span style=\"font-weight: bold\">{</span><span style=\"color: #008000; text-decoration-color: #008000\">'name'</span>: <span style=\"color: #008000; text-decoration-color: #008000\">'佐藤明美'</span>, <span style=\"color: #008000; text-decoration-color: #008000\">'location'</span>: <span style=\"color: #008000; text-decoration-color: #008000\">'福岡県福岡市博多区中洲5-6-7'</span><span style=\"font-weight: bold\">}</span>,\n",
              "        <span style=\"font-weight: bold\">{</span><span style=\"color: #008000; text-decoration-color: #008000\">'name'</span>: <span style=\"color: #008000; text-decoration-color: #008000\">'伊藤健太'</span>, <span style=\"color: #008000; text-decoration-color: #008000\">'location'</span>: <span style=\"color: #008000; text-decoration-color: #008000\">'愛知県名古屋市中区栄3-2-1'</span><span style=\"font-weight: bold\">}</span>,\n",
              "        <span style=\"font-weight: bold\">{</span><span style=\"color: #008000; text-decoration-color: #008000\">'name'</span>: <span style=\"color: #008000; text-decoration-color: #008000\">'佐藤明美'</span>, <span style=\"color: #008000; text-decoration-color: #008000\">'location'</span>: <span style=\"color: #008000; text-decoration-color: #008000\">'福岡県福岡市博多区博多1-2-3'</span><span style=\"font-weight: bold\">}</span>,\n",
              "        <span style=\"font-weight: bold\">{</span><span style=\"color: #008000; text-decoration-color: #008000\">'name'</span>: <span style=\"color: #008000; text-decoration-color: #008000\">'田中太郎'</span>, <span style=\"color: #008000; text-decoration-color: #008000\">'location'</span>: <span style=\"color: #008000; text-decoration-color: #008000\">'東京都渋谷区渋谷1-1-1'</span><span style=\"font-weight: bold\">}</span>,\n",
              "        <span style=\"font-weight: bold\">{</span><span style=\"color: #008000; text-decoration-color: #008000\">'name'</span>: <span style=\"color: #008000; text-decoration-color: #008000\">'山田花子'</span>, <span style=\"color: #008000; text-decoration-color: #008000\">'location'</span>: <span style=\"color: #008000; text-decoration-color: #008000\">'大阪府大阪市中央区難波5-5-5'</span><span style=\"font-weight: bold\">}</span>,\n",
              "        <span style=\"font-weight: bold\">{</span><span style=\"color: #008000; text-decoration-color: #008000\">'name'</span>: <span style=\"color: #008000; text-decoration-color: #008000\">'佐藤美代'</span>, <span style=\"color: #008000; text-decoration-color: #008000\">'location'</span>: <span style=\"color: #008000; text-decoration-color: #008000\">'福岡県福岡市博多区博多1-1-1'</span><span style=\"font-weight: bold\">}</span>,\n",
              "        <span style=\"font-weight: bold\">{</span><span style=\"color: #008000; text-decoration-color: #008000\">'name'</span>: <span style=\"color: #008000; text-decoration-color: #008000\">'伊藤健太'</span>, <span style=\"color: #008000; text-decoration-color: #008000\">'location'</span>: <span style=\"color: #008000; text-decoration-color: #008000\">'愛知県名古屋市中区栄2-2-2'</span><span style=\"font-weight: bold\">}</span>,\n",
              "        <span style=\"font-weight: bold\">{</span><span style=\"color: #008000; text-decoration-color: #008000\">'name'</span>: <span style=\"color: #008000; text-decoration-color: #008000\">'鈴木一郎'</span>, <span style=\"color: #008000; text-decoration-color: #008000\">'location'</span>: <span style=\"color: #008000; text-decoration-color: #008000\">'北海道札幌市中央区北1条西1-1'</span><span style=\"font-weight: bold\">}</span>,\n",
              "        <span style=\"font-weight: bold\">{</span><span style=\"color: #008000; text-decoration-color: #008000\">'name'</span>: <span style=\"color: #008000; text-decoration-color: #008000\">'佐藤美智子'</span>, <span style=\"color: #008000; text-decoration-color: #008000\">'location'</span>: <span style=\"color: #008000; text-decoration-color: #008000\">'福岡県福岡市博多区博多駅前1-1-1'</span><span style=\"font-weight: bold\">}</span>,\n",
              "        <span style=\"font-weight: bold\">{</span><span style=\"color: #008000; text-decoration-color: #008000\">'name'</span>: <span style=\"color: #008000; text-decoration-color: #008000\">'伊藤健太'</span>, <span style=\"color: #008000; text-decoration-color: #008000\">'location'</span>: <span style=\"color: #008000; text-decoration-color: #008000\">'愛知県名古屋市中区栄3-3-3'</span><span style=\"font-weight: bold\">}</span>,\n",
              "        <span style=\"font-weight: bold\">{</span><span style=\"color: #008000; text-decoration-color: #008000\">'name'</span>: <span style=\"color: #008000; text-decoration-color: #008000\">'田中太郎'</span>, <span style=\"color: #008000; text-decoration-color: #008000\">'location'</span>: <span style=\"color: #008000; text-decoration-color: #008000\">'東京都渋谷区神南1-1-1'</span><span style=\"font-weight: bold\">}</span>,\n",
              "        <span style=\"font-weight: bold\">{</span><span style=\"color: #008000; text-decoration-color: #008000\">'name'</span>: <span style=\"color: #008000; text-decoration-color: #008000\">'佐藤明美'</span>, <span style=\"color: #008000; text-decoration-color: #008000\">'location'</span>: <span style=\"color: #008000; text-decoration-color: #008000\">'愛知県名古屋市中区栄2-2-2'</span><span style=\"font-weight: bold\">}</span>,\n",
              "        <span style=\"font-weight: bold\">{</span><span style=\"color: #008000; text-decoration-color: #008000\">'name'</span>: <span style=\"color: #008000; text-decoration-color: #008000\">'伊藤健太'</span>, <span style=\"color: #008000; text-decoration-color: #008000\">'location'</span>: <span style=\"color: #008000; text-decoration-color: #008000\">'福岡県福岡市博多区博多1-1-1'</span><span style=\"font-weight: bold\">}</span>,\n",
              "        <span style=\"font-weight: bold\">{</span><span style=\"color: #008000; text-decoration-color: #008000\">'name'</span>: <span style=\"color: #008000; text-decoration-color: #008000\">'佐藤明美'</span>, <span style=\"color: #008000; text-decoration-color: #008000\">'location'</span>: <span style=\"color: #008000; text-decoration-color: #008000\">'愛知県名古屋市中区栄2-3-4'</span><span style=\"font-weight: bold\">}</span>,\n",
              "        <span style=\"font-weight: bold\">{</span><span style=\"color: #008000; text-decoration-color: #008000\">'name'</span>: <span style=\"color: #008000; text-decoration-color: #008000\">'高橋健太'</span>, <span style=\"color: #008000; text-decoration-color: #008000\">'location'</span>: <span style=\"color: #008000; text-decoration-color: #008000\">'福岡県福岡市博多区博多1-2-3'</span><span style=\"font-weight: bold\">}</span>,\n",
              "        <span style=\"font-weight: bold\">{</span><span style=\"color: #008000; text-decoration-color: #008000\">'name'</span>: <span style=\"color: #008000; text-decoration-color: #008000\">'山田花子'</span>, <span style=\"color: #008000; text-decoration-color: #008000\">'location'</span>: <span style=\"color: #008000; text-decoration-color: #008000\">'大阪府大阪市中央区難波1-1-1'</span><span style=\"font-weight: bold\">}</span>,\n",
              "        <span style=\"font-weight: bold\">{</span><span style=\"color: #008000; text-decoration-color: #008000\">'name'</span>: <span style=\"color: #008000; text-decoration-color: #008000\">'鈴木一郎'</span>, <span style=\"color: #008000; text-decoration-color: #008000\">'location'</span>: <span style=\"color: #008000; text-decoration-color: #008000\">'北海道札幌市中央区北1条西2丁目'</span><span style=\"font-weight: bold\">}</span>,\n",
              "        <span style=\"font-weight: bold\">{</span><span style=\"color: #008000; text-decoration-color: #008000\">'name'</span>: <span style=\"color: #008000; text-decoration-color: #008000\">'佐藤明美'</span>, <span style=\"color: #008000; text-decoration-color: #008000\">'location'</span>: <span style=\"color: #008000; text-decoration-color: #008000\">'福岡県福岡市博多区博多駅前1-1'</span><span style=\"font-weight: bold\">}</span>,\n",
              "        <span style=\"font-weight: bold\">{</span><span style=\"color: #008000; text-decoration-color: #008000\">'name'</span>: <span style=\"color: #008000; text-decoration-color: #008000\">'伊藤健太'</span>, <span style=\"color: #008000; text-decoration-color: #008000\">'location'</span>: <span style=\"color: #008000; text-decoration-color: #008000\">'愛知県名古屋市中区栄3-6-1'</span><span style=\"font-weight: bold\">}</span>\n",
              "    <span style=\"font-weight: bold\">]</span>\n",
              "<span style=\"font-weight: bold\">}</span>\n",
              "</pre>\n"
            ]
          },
          "metadata": {}
        },
        {
          "output_type": "display_data",
          "data": {
            "text/plain": [
              "\u001b[1m{\u001b[0m\n",
              "    \u001b[32m'addressbook'\u001b[0m: \u001b[1m[\u001b[0m\n",
              "        \u001b[1m{\u001b[0m\u001b[32m'name'\u001b[0m: \u001b[32m'田中太郎'\u001b[0m, \u001b[32m'location'\u001b[0m: \u001b[32m'東京都渋谷区神南1-2-3'\u001b[0m\u001b[1m}\u001b[0m,\n",
              "        \u001b[1m{\u001b[0m\u001b[32m'name'\u001b[0m: \u001b[32m'山田花子'\u001b[0m, \u001b[32m'location'\u001b[0m: \u001b[32m'大阪府大阪市中央区難波5-6-7'\u001b[0m\u001b[1m}\u001b[0m,\n",
              "        \u001b[1m{\u001b[0m\u001b[32m'name'\u001b[0m: \u001b[32m'鈴木一郎'\u001b[0m, \u001b[32m'location'\u001b[0m: \u001b[32m'北海道札幌市中央区北1-2-3'\u001b[0m\u001b[1m}\u001b[0m,\n",
              "        \u001b[1m{\u001b[0m\u001b[32m'name'\u001b[0m: \u001b[32m'佐藤美代'\u001b[0m, \u001b[32m'location'\u001b[0m: \u001b[32m'福岡県福岡市博多区博多1-2-3'\u001b[0m\u001b[1m}\u001b[0m,\n",
              "        \u001b[1m{\u001b[0m\u001b[32m'name'\u001b[0m: \u001b[32m'伊藤健太'\u001b[0m, \u001b[32m'location'\u001b[0m: \u001b[32m'愛知県名古屋市中区栄2-3-4'\u001b[0m\u001b[1m}\u001b[0m,\n",
              "        \u001b[1m{\u001b[0m\u001b[32m'name'\u001b[0m: \u001b[32m'鈴木一郎'\u001b[0m, \u001b[32m'location'\u001b[0m: \u001b[32m'北海道札幌市中央区北1-1-1'\u001b[0m\u001b[1m}\u001b[0m,\n",
              "        \u001b[1m{\u001b[0m\u001b[32m'name'\u001b[0m: \u001b[32m'佐藤明美'\u001b[0m, \u001b[32m'location'\u001b[0m: \u001b[32m'福岡県福岡市博多区博多1-1-1'\u001b[0m\u001b[1m}\u001b[0m,\n",
              "        \u001b[1m{\u001b[0m\u001b[32m'name'\u001b[0m: \u001b[32m'山田花子'\u001b[0m, \u001b[32m'location'\u001b[0m: \u001b[32m'大阪府大阪市中央区難波1-4-5'\u001b[0m\u001b[1m}\u001b[0m,\n",
              "        \u001b[1m{\u001b[0m\u001b[32m'name'\u001b[0m: \u001b[32m'鈴木一郎'\u001b[0m, \u001b[32m'location'\u001b[0m: \u001b[32m'北海道札幌市中央区北1-1-2'\u001b[0m\u001b[1m}\u001b[0m,\n",
              "        \u001b[1m{\u001b[0m\u001b[32m'name'\u001b[0m: \u001b[32m'佐藤明美'\u001b[0m, \u001b[32m'location'\u001b[0m: \u001b[32m'福岡県福岡市博多区中洲5-6-7'\u001b[0m\u001b[1m}\u001b[0m,\n",
              "        \u001b[1m{\u001b[0m\u001b[32m'name'\u001b[0m: \u001b[32m'伊藤健太'\u001b[0m, \u001b[32m'location'\u001b[0m: \u001b[32m'愛知県名古屋市中区栄3-2-1'\u001b[0m\u001b[1m}\u001b[0m,\n",
              "        \u001b[1m{\u001b[0m\u001b[32m'name'\u001b[0m: \u001b[32m'佐藤明美'\u001b[0m, \u001b[32m'location'\u001b[0m: \u001b[32m'福岡県福岡市博多区博多1-2-3'\u001b[0m\u001b[1m}\u001b[0m,\n",
              "        \u001b[1m{\u001b[0m\u001b[32m'name'\u001b[0m: \u001b[32m'田中太郎'\u001b[0m, \u001b[32m'location'\u001b[0m: \u001b[32m'東京都渋谷区渋谷1-1-1'\u001b[0m\u001b[1m}\u001b[0m,\n",
              "        \u001b[1m{\u001b[0m\u001b[32m'name'\u001b[0m: \u001b[32m'山田花子'\u001b[0m, \u001b[32m'location'\u001b[0m: \u001b[32m'大阪府大阪市中央区難波5-5-5'\u001b[0m\u001b[1m}\u001b[0m,\n",
              "        \u001b[1m{\u001b[0m\u001b[32m'name'\u001b[0m: \u001b[32m'佐藤美代'\u001b[0m, \u001b[32m'location'\u001b[0m: \u001b[32m'福岡県福岡市博多区博多1-1-1'\u001b[0m\u001b[1m}\u001b[0m,\n",
              "        \u001b[1m{\u001b[0m\u001b[32m'name'\u001b[0m: \u001b[32m'伊藤健太'\u001b[0m, \u001b[32m'location'\u001b[0m: \u001b[32m'愛知県名古屋市中区栄2-2-2'\u001b[0m\u001b[1m}\u001b[0m,\n",
              "        \u001b[1m{\u001b[0m\u001b[32m'name'\u001b[0m: \u001b[32m'鈴木一郎'\u001b[0m, \u001b[32m'location'\u001b[0m: \u001b[32m'北海道札幌市中央区北1条西1-1'\u001b[0m\u001b[1m}\u001b[0m,\n",
              "        \u001b[1m{\u001b[0m\u001b[32m'name'\u001b[0m: \u001b[32m'佐藤美智子'\u001b[0m, \u001b[32m'location'\u001b[0m: \u001b[32m'福岡県福岡市博多区博多駅前1-1-1'\u001b[0m\u001b[1m}\u001b[0m,\n",
              "        \u001b[1m{\u001b[0m\u001b[32m'name'\u001b[0m: \u001b[32m'伊藤健太'\u001b[0m, \u001b[32m'location'\u001b[0m: \u001b[32m'愛知県名古屋市中区栄3-3-3'\u001b[0m\u001b[1m}\u001b[0m,\n",
              "        \u001b[1m{\u001b[0m\u001b[32m'name'\u001b[0m: \u001b[32m'田中太郎'\u001b[0m, \u001b[32m'location'\u001b[0m: \u001b[32m'東京都渋谷区神南1-1-1'\u001b[0m\u001b[1m}\u001b[0m,\n",
              "        \u001b[1m{\u001b[0m\u001b[32m'name'\u001b[0m: \u001b[32m'佐藤明美'\u001b[0m, \u001b[32m'location'\u001b[0m: \u001b[32m'愛知県名古屋市中区栄2-2-2'\u001b[0m\u001b[1m}\u001b[0m,\n",
              "        \u001b[1m{\u001b[0m\u001b[32m'name'\u001b[0m: \u001b[32m'伊藤健太'\u001b[0m, \u001b[32m'location'\u001b[0m: \u001b[32m'福岡県福岡市博多区博多1-1-1'\u001b[0m\u001b[1m}\u001b[0m,\n",
              "        \u001b[1m{\u001b[0m\u001b[32m'name'\u001b[0m: \u001b[32m'佐藤明美'\u001b[0m, \u001b[32m'location'\u001b[0m: \u001b[32m'愛知県名古屋市中区栄2-3-4'\u001b[0m\u001b[1m}\u001b[0m,\n",
              "        \u001b[1m{\u001b[0m\u001b[32m'name'\u001b[0m: \u001b[32m'高橋健太'\u001b[0m, \u001b[32m'location'\u001b[0m: \u001b[32m'福岡県福岡市博多区博多1-2-3'\u001b[0m\u001b[1m}\u001b[0m,\n",
              "        \u001b[1m{\u001b[0m\u001b[32m'name'\u001b[0m: \u001b[32m'山田花子'\u001b[0m, \u001b[32m'location'\u001b[0m: \u001b[32m'大阪府大阪市中央区難波1-1-1'\u001b[0m\u001b[1m}\u001b[0m,\n",
              "        \u001b[1m{\u001b[0m\u001b[32m'name'\u001b[0m: \u001b[32m'鈴木一郎'\u001b[0m, \u001b[32m'location'\u001b[0m: \u001b[32m'北海道札幌市中央区北1条西2丁目'\u001b[0m\u001b[1m}\u001b[0m,\n",
              "        \u001b[1m{\u001b[0m\u001b[32m'name'\u001b[0m: \u001b[32m'佐藤明美'\u001b[0m, \u001b[32m'location'\u001b[0m: \u001b[32m'福岡県福岡市博多区博多駅前1-1'\u001b[0m\u001b[1m}\u001b[0m,\n",
              "        \u001b[1m{\u001b[0m\u001b[32m'name'\u001b[0m: \u001b[32m'伊藤健太'\u001b[0m, \u001b[32m'location'\u001b[0m: \u001b[32m'愛知県名古屋市中区栄3-6-1'\u001b[0m\u001b[1m}\u001b[0m\n",
              "    \u001b[1m]\u001b[0m\n",
              "\u001b[1m}\u001b[0m\n"
            ],
            "text/html": [
              "<pre style=\"white-space:pre;overflow-x:auto;line-height:normal;font-family:Menlo,'DejaVu Sans Mono',consolas,'Courier New',monospace\"><span style=\"font-weight: bold\">{</span>\n",
              "    <span style=\"color: #008000; text-decoration-color: #008000\">'addressbook'</span>: <span style=\"font-weight: bold\">[</span>\n",
              "        <span style=\"font-weight: bold\">{</span><span style=\"color: #008000; text-decoration-color: #008000\">'name'</span>: <span style=\"color: #008000; text-decoration-color: #008000\">'田中太郎'</span>, <span style=\"color: #008000; text-decoration-color: #008000\">'location'</span>: <span style=\"color: #008000; text-decoration-color: #008000\">'東京都渋谷区神南1-2-3'</span><span style=\"font-weight: bold\">}</span>,\n",
              "        <span style=\"font-weight: bold\">{</span><span style=\"color: #008000; text-decoration-color: #008000\">'name'</span>: <span style=\"color: #008000; text-decoration-color: #008000\">'山田花子'</span>, <span style=\"color: #008000; text-decoration-color: #008000\">'location'</span>: <span style=\"color: #008000; text-decoration-color: #008000\">'大阪府大阪市中央区難波5-6-7'</span><span style=\"font-weight: bold\">}</span>,\n",
              "        <span style=\"font-weight: bold\">{</span><span style=\"color: #008000; text-decoration-color: #008000\">'name'</span>: <span style=\"color: #008000; text-decoration-color: #008000\">'鈴木一郎'</span>, <span style=\"color: #008000; text-decoration-color: #008000\">'location'</span>: <span style=\"color: #008000; text-decoration-color: #008000\">'北海道札幌市中央区北1-2-3'</span><span style=\"font-weight: bold\">}</span>,\n",
              "        <span style=\"font-weight: bold\">{</span><span style=\"color: #008000; text-decoration-color: #008000\">'name'</span>: <span style=\"color: #008000; text-decoration-color: #008000\">'佐藤美代'</span>, <span style=\"color: #008000; text-decoration-color: #008000\">'location'</span>: <span style=\"color: #008000; text-decoration-color: #008000\">'福岡県福岡市博多区博多1-2-3'</span><span style=\"font-weight: bold\">}</span>,\n",
              "        <span style=\"font-weight: bold\">{</span><span style=\"color: #008000; text-decoration-color: #008000\">'name'</span>: <span style=\"color: #008000; text-decoration-color: #008000\">'伊藤健太'</span>, <span style=\"color: #008000; text-decoration-color: #008000\">'location'</span>: <span style=\"color: #008000; text-decoration-color: #008000\">'愛知県名古屋市中区栄2-3-4'</span><span style=\"font-weight: bold\">}</span>,\n",
              "        <span style=\"font-weight: bold\">{</span><span style=\"color: #008000; text-decoration-color: #008000\">'name'</span>: <span style=\"color: #008000; text-decoration-color: #008000\">'鈴木一郎'</span>, <span style=\"color: #008000; text-decoration-color: #008000\">'location'</span>: <span style=\"color: #008000; text-decoration-color: #008000\">'北海道札幌市中央区北1-1-1'</span><span style=\"font-weight: bold\">}</span>,\n",
              "        <span style=\"font-weight: bold\">{</span><span style=\"color: #008000; text-decoration-color: #008000\">'name'</span>: <span style=\"color: #008000; text-decoration-color: #008000\">'佐藤明美'</span>, <span style=\"color: #008000; text-decoration-color: #008000\">'location'</span>: <span style=\"color: #008000; text-decoration-color: #008000\">'福岡県福岡市博多区博多1-1-1'</span><span style=\"font-weight: bold\">}</span>,\n",
              "        <span style=\"font-weight: bold\">{</span><span style=\"color: #008000; text-decoration-color: #008000\">'name'</span>: <span style=\"color: #008000; text-decoration-color: #008000\">'山田花子'</span>, <span style=\"color: #008000; text-decoration-color: #008000\">'location'</span>: <span style=\"color: #008000; text-decoration-color: #008000\">'大阪府大阪市中央区難波1-4-5'</span><span style=\"font-weight: bold\">}</span>,\n",
              "        <span style=\"font-weight: bold\">{</span><span style=\"color: #008000; text-decoration-color: #008000\">'name'</span>: <span style=\"color: #008000; text-decoration-color: #008000\">'鈴木一郎'</span>, <span style=\"color: #008000; text-decoration-color: #008000\">'location'</span>: <span style=\"color: #008000; text-decoration-color: #008000\">'北海道札幌市中央区北1-1-2'</span><span style=\"font-weight: bold\">}</span>,\n",
              "        <span style=\"font-weight: bold\">{</span><span style=\"color: #008000; text-decoration-color: #008000\">'name'</span>: <span style=\"color: #008000; text-decoration-color: #008000\">'佐藤明美'</span>, <span style=\"color: #008000; text-decoration-color: #008000\">'location'</span>: <span style=\"color: #008000; text-decoration-color: #008000\">'福岡県福岡市博多区中洲5-6-7'</span><span style=\"font-weight: bold\">}</span>,\n",
              "        <span style=\"font-weight: bold\">{</span><span style=\"color: #008000; text-decoration-color: #008000\">'name'</span>: <span style=\"color: #008000; text-decoration-color: #008000\">'伊藤健太'</span>, <span style=\"color: #008000; text-decoration-color: #008000\">'location'</span>: <span style=\"color: #008000; text-decoration-color: #008000\">'愛知県名古屋市中区栄3-2-1'</span><span style=\"font-weight: bold\">}</span>,\n",
              "        <span style=\"font-weight: bold\">{</span><span style=\"color: #008000; text-decoration-color: #008000\">'name'</span>: <span style=\"color: #008000; text-decoration-color: #008000\">'佐藤明美'</span>, <span style=\"color: #008000; text-decoration-color: #008000\">'location'</span>: <span style=\"color: #008000; text-decoration-color: #008000\">'福岡県福岡市博多区博多1-2-3'</span><span style=\"font-weight: bold\">}</span>,\n",
              "        <span style=\"font-weight: bold\">{</span><span style=\"color: #008000; text-decoration-color: #008000\">'name'</span>: <span style=\"color: #008000; text-decoration-color: #008000\">'田中太郎'</span>, <span style=\"color: #008000; text-decoration-color: #008000\">'location'</span>: <span style=\"color: #008000; text-decoration-color: #008000\">'東京都渋谷区渋谷1-1-1'</span><span style=\"font-weight: bold\">}</span>,\n",
              "        <span style=\"font-weight: bold\">{</span><span style=\"color: #008000; text-decoration-color: #008000\">'name'</span>: <span style=\"color: #008000; text-decoration-color: #008000\">'山田花子'</span>, <span style=\"color: #008000; text-decoration-color: #008000\">'location'</span>: <span style=\"color: #008000; text-decoration-color: #008000\">'大阪府大阪市中央区難波5-5-5'</span><span style=\"font-weight: bold\">}</span>,\n",
              "        <span style=\"font-weight: bold\">{</span><span style=\"color: #008000; text-decoration-color: #008000\">'name'</span>: <span style=\"color: #008000; text-decoration-color: #008000\">'佐藤美代'</span>, <span style=\"color: #008000; text-decoration-color: #008000\">'location'</span>: <span style=\"color: #008000; text-decoration-color: #008000\">'福岡県福岡市博多区博多1-1-1'</span><span style=\"font-weight: bold\">}</span>,\n",
              "        <span style=\"font-weight: bold\">{</span><span style=\"color: #008000; text-decoration-color: #008000\">'name'</span>: <span style=\"color: #008000; text-decoration-color: #008000\">'伊藤健太'</span>, <span style=\"color: #008000; text-decoration-color: #008000\">'location'</span>: <span style=\"color: #008000; text-decoration-color: #008000\">'愛知県名古屋市中区栄2-2-2'</span><span style=\"font-weight: bold\">}</span>,\n",
              "        <span style=\"font-weight: bold\">{</span><span style=\"color: #008000; text-decoration-color: #008000\">'name'</span>: <span style=\"color: #008000; text-decoration-color: #008000\">'鈴木一郎'</span>, <span style=\"color: #008000; text-decoration-color: #008000\">'location'</span>: <span style=\"color: #008000; text-decoration-color: #008000\">'北海道札幌市中央区北1条西1-1'</span><span style=\"font-weight: bold\">}</span>,\n",
              "        <span style=\"font-weight: bold\">{</span><span style=\"color: #008000; text-decoration-color: #008000\">'name'</span>: <span style=\"color: #008000; text-decoration-color: #008000\">'佐藤美智子'</span>, <span style=\"color: #008000; text-decoration-color: #008000\">'location'</span>: <span style=\"color: #008000; text-decoration-color: #008000\">'福岡県福岡市博多区博多駅前1-1-1'</span><span style=\"font-weight: bold\">}</span>,\n",
              "        <span style=\"font-weight: bold\">{</span><span style=\"color: #008000; text-decoration-color: #008000\">'name'</span>: <span style=\"color: #008000; text-decoration-color: #008000\">'伊藤健太'</span>, <span style=\"color: #008000; text-decoration-color: #008000\">'location'</span>: <span style=\"color: #008000; text-decoration-color: #008000\">'愛知県名古屋市中区栄3-3-3'</span><span style=\"font-weight: bold\">}</span>,\n",
              "        <span style=\"font-weight: bold\">{</span><span style=\"color: #008000; text-decoration-color: #008000\">'name'</span>: <span style=\"color: #008000; text-decoration-color: #008000\">'田中太郎'</span>, <span style=\"color: #008000; text-decoration-color: #008000\">'location'</span>: <span style=\"color: #008000; text-decoration-color: #008000\">'東京都渋谷区神南1-1-1'</span><span style=\"font-weight: bold\">}</span>,\n",
              "        <span style=\"font-weight: bold\">{</span><span style=\"color: #008000; text-decoration-color: #008000\">'name'</span>: <span style=\"color: #008000; text-decoration-color: #008000\">'佐藤明美'</span>, <span style=\"color: #008000; text-decoration-color: #008000\">'location'</span>: <span style=\"color: #008000; text-decoration-color: #008000\">'愛知県名古屋市中区栄2-2-2'</span><span style=\"font-weight: bold\">}</span>,\n",
              "        <span style=\"font-weight: bold\">{</span><span style=\"color: #008000; text-decoration-color: #008000\">'name'</span>: <span style=\"color: #008000; text-decoration-color: #008000\">'伊藤健太'</span>, <span style=\"color: #008000; text-decoration-color: #008000\">'location'</span>: <span style=\"color: #008000; text-decoration-color: #008000\">'福岡県福岡市博多区博多1-1-1'</span><span style=\"font-weight: bold\">}</span>,\n",
              "        <span style=\"font-weight: bold\">{</span><span style=\"color: #008000; text-decoration-color: #008000\">'name'</span>: <span style=\"color: #008000; text-decoration-color: #008000\">'佐藤明美'</span>, <span style=\"color: #008000; text-decoration-color: #008000\">'location'</span>: <span style=\"color: #008000; text-decoration-color: #008000\">'愛知県名古屋市中区栄2-3-4'</span><span style=\"font-weight: bold\">}</span>,\n",
              "        <span style=\"font-weight: bold\">{</span><span style=\"color: #008000; text-decoration-color: #008000\">'name'</span>: <span style=\"color: #008000; text-decoration-color: #008000\">'高橋健太'</span>, <span style=\"color: #008000; text-decoration-color: #008000\">'location'</span>: <span style=\"color: #008000; text-decoration-color: #008000\">'福岡県福岡市博多区博多1-2-3'</span><span style=\"font-weight: bold\">}</span>,\n",
              "        <span style=\"font-weight: bold\">{</span><span style=\"color: #008000; text-decoration-color: #008000\">'name'</span>: <span style=\"color: #008000; text-decoration-color: #008000\">'山田花子'</span>, <span style=\"color: #008000; text-decoration-color: #008000\">'location'</span>: <span style=\"color: #008000; text-decoration-color: #008000\">'大阪府大阪市中央区難波1-1-1'</span><span style=\"font-weight: bold\">}</span>,\n",
              "        <span style=\"font-weight: bold\">{</span><span style=\"color: #008000; text-decoration-color: #008000\">'name'</span>: <span style=\"color: #008000; text-decoration-color: #008000\">'鈴木一郎'</span>, <span style=\"color: #008000; text-decoration-color: #008000\">'location'</span>: <span style=\"color: #008000; text-decoration-color: #008000\">'北海道札幌市中央区北1条西2丁目'</span><span style=\"font-weight: bold\">}</span>,\n",
              "        <span style=\"font-weight: bold\">{</span><span style=\"color: #008000; text-decoration-color: #008000\">'name'</span>: <span style=\"color: #008000; text-decoration-color: #008000\">'佐藤明美'</span>, <span style=\"color: #008000; text-decoration-color: #008000\">'location'</span>: <span style=\"color: #008000; text-decoration-color: #008000\">'福岡県福岡市博多区博多駅前1-1'</span><span style=\"font-weight: bold\">}</span>,\n",
              "        <span style=\"font-weight: bold\">{</span><span style=\"color: #008000; text-decoration-color: #008000\">'name'</span>: <span style=\"color: #008000; text-decoration-color: #008000\">'伊藤健太'</span>, <span style=\"color: #008000; text-decoration-color: #008000\">'location'</span>: <span style=\"color: #008000; text-decoration-color: #008000\">'愛知県名古屋市中区栄3-6-1'</span><span style=\"font-weight: bold\">}</span>\n",
              "    <span style=\"font-weight: bold\">]</span>\n",
              "<span style=\"font-weight: bold\">}</span>\n",
              "</pre>\n"
            ]
          },
          "metadata": {}
        },
        {
          "output_type": "display_data",
          "data": {
            "text/plain": [
              "\u001b[1m{\u001b[0m\n",
              "    \u001b[32m'addressbook'\u001b[0m: \u001b[1m[\u001b[0m\n",
              "        \u001b[1m{\u001b[0m\u001b[32m'name'\u001b[0m: \u001b[32m'田中太郎'\u001b[0m, \u001b[32m'location'\u001b[0m: \u001b[32m'東京都渋谷区神南1-2-3'\u001b[0m\u001b[1m}\u001b[0m,\n",
              "        \u001b[1m{\u001b[0m\u001b[32m'name'\u001b[0m: \u001b[32m'山田花子'\u001b[0m, \u001b[32m'location'\u001b[0m: \u001b[32m'大阪府大阪市中央区難波5-6-7'\u001b[0m\u001b[1m}\u001b[0m,\n",
              "        \u001b[1m{\u001b[0m\u001b[32m'name'\u001b[0m: \u001b[32m'鈴木一郎'\u001b[0m, \u001b[32m'location'\u001b[0m: \u001b[32m'北海道札幌市中央区北1-2-3'\u001b[0m\u001b[1m}\u001b[0m,\n",
              "        \u001b[1m{\u001b[0m\u001b[32m'name'\u001b[0m: \u001b[32m'佐藤美代'\u001b[0m, \u001b[32m'location'\u001b[0m: \u001b[32m'福岡県福岡市博多区博多1-2-3'\u001b[0m\u001b[1m}\u001b[0m,\n",
              "        \u001b[1m{\u001b[0m\u001b[32m'name'\u001b[0m: \u001b[32m'伊藤健太'\u001b[0m, \u001b[32m'location'\u001b[0m: \u001b[32m'愛知県名古屋市中区栄2-3-4'\u001b[0m\u001b[1m}\u001b[0m,\n",
              "        \u001b[1m{\u001b[0m\u001b[32m'name'\u001b[0m: \u001b[32m'鈴木一郎'\u001b[0m, \u001b[32m'location'\u001b[0m: \u001b[32m'北海道札幌市中央区北1-1-1'\u001b[0m\u001b[1m}\u001b[0m,\n",
              "        \u001b[1m{\u001b[0m\u001b[32m'name'\u001b[0m: \u001b[32m'佐藤明美'\u001b[0m, \u001b[32m'location'\u001b[0m: \u001b[32m'福岡県福岡市博多区博多1-1-1'\u001b[0m\u001b[1m}\u001b[0m,\n",
              "        \u001b[1m{\u001b[0m\u001b[32m'name'\u001b[0m: \u001b[32m'山田花子'\u001b[0m, \u001b[32m'location'\u001b[0m: \u001b[32m'大阪府大阪市中央区難波1-4-5'\u001b[0m\u001b[1m}\u001b[0m,\n",
              "        \u001b[1m{\u001b[0m\u001b[32m'name'\u001b[0m: \u001b[32m'鈴木一郎'\u001b[0m, \u001b[32m'location'\u001b[0m: \u001b[32m'北海道札幌市中央区北1-1-2'\u001b[0m\u001b[1m}\u001b[0m,\n",
              "        \u001b[1m{\u001b[0m\u001b[32m'name'\u001b[0m: \u001b[32m'佐藤明美'\u001b[0m, \u001b[32m'location'\u001b[0m: \u001b[32m'福岡県福岡市博多区中洲5-6-7'\u001b[0m\u001b[1m}\u001b[0m,\n",
              "        \u001b[1m{\u001b[0m\u001b[32m'name'\u001b[0m: \u001b[32m'伊藤健太'\u001b[0m, \u001b[32m'location'\u001b[0m: \u001b[32m'愛知県名古屋市中区栄3-2-1'\u001b[0m\u001b[1m}\u001b[0m,\n",
              "        \u001b[1m{\u001b[0m\u001b[32m'name'\u001b[0m: \u001b[32m'佐藤明美'\u001b[0m, \u001b[32m'location'\u001b[0m: \u001b[32m'福岡県福岡市博多区博多1-2-3'\u001b[0m\u001b[1m}\u001b[0m,\n",
              "        \u001b[1m{\u001b[0m\u001b[32m'name'\u001b[0m: \u001b[32m'田中太郎'\u001b[0m, \u001b[32m'location'\u001b[0m: \u001b[32m'東京都渋谷区渋谷1-1-1'\u001b[0m\u001b[1m}\u001b[0m,\n",
              "        \u001b[1m{\u001b[0m\u001b[32m'name'\u001b[0m: \u001b[32m'山田花子'\u001b[0m, \u001b[32m'location'\u001b[0m: \u001b[32m'大阪府大阪市中央区難波5-5-5'\u001b[0m\u001b[1m}\u001b[0m,\n",
              "        \u001b[1m{\u001b[0m\u001b[32m'name'\u001b[0m: \u001b[32m'佐藤美代'\u001b[0m, \u001b[32m'location'\u001b[0m: \u001b[32m'福岡県福岡市博多区博多1-1-1'\u001b[0m\u001b[1m}\u001b[0m,\n",
              "        \u001b[1m{\u001b[0m\u001b[32m'name'\u001b[0m: \u001b[32m'伊藤健太'\u001b[0m, \u001b[32m'location'\u001b[0m: \u001b[32m'愛知県名古屋市中区栄2-2-2'\u001b[0m\u001b[1m}\u001b[0m,\n",
              "        \u001b[1m{\u001b[0m\u001b[32m'name'\u001b[0m: \u001b[32m'鈴木一郎'\u001b[0m, \u001b[32m'location'\u001b[0m: \u001b[32m'北海道札幌市中央区北1条西1-1'\u001b[0m\u001b[1m}\u001b[0m,\n",
              "        \u001b[1m{\u001b[0m\u001b[32m'name'\u001b[0m: \u001b[32m'佐藤美智子'\u001b[0m, \u001b[32m'location'\u001b[0m: \u001b[32m'福岡県福岡市博多区博多駅前1-1-1'\u001b[0m\u001b[1m}\u001b[0m,\n",
              "        \u001b[1m{\u001b[0m\u001b[32m'name'\u001b[0m: \u001b[32m'伊藤健太'\u001b[0m, \u001b[32m'location'\u001b[0m: \u001b[32m'愛知県名古屋市中区栄3-3-3'\u001b[0m\u001b[1m}\u001b[0m,\n",
              "        \u001b[1m{\u001b[0m\u001b[32m'name'\u001b[0m: \u001b[32m'田中太郎'\u001b[0m, \u001b[32m'location'\u001b[0m: \u001b[32m'東京都渋谷区神南1-1-1'\u001b[0m\u001b[1m}\u001b[0m,\n",
              "        \u001b[1m{\u001b[0m\u001b[32m'name'\u001b[0m: \u001b[32m'佐藤明美'\u001b[0m, \u001b[32m'location'\u001b[0m: \u001b[32m'愛知県名古屋市中区栄2-2-2'\u001b[0m\u001b[1m}\u001b[0m,\n",
              "        \u001b[1m{\u001b[0m\u001b[32m'name'\u001b[0m: \u001b[32m'伊藤健太'\u001b[0m, \u001b[32m'location'\u001b[0m: \u001b[32m'福岡県福岡市博多区博多1-1-1'\u001b[0m\u001b[1m}\u001b[0m,\n",
              "        \u001b[1m{\u001b[0m\u001b[32m'name'\u001b[0m: \u001b[32m'佐藤明美'\u001b[0m, \u001b[32m'location'\u001b[0m: \u001b[32m'愛知県名古屋市中区栄2-3-4'\u001b[0m\u001b[1m}\u001b[0m,\n",
              "        \u001b[1m{\u001b[0m\u001b[32m'name'\u001b[0m: \u001b[32m'高橋健太'\u001b[0m, \u001b[32m'location'\u001b[0m: \u001b[32m'福岡県福岡市博多区博多1-2-3'\u001b[0m\u001b[1m}\u001b[0m,\n",
              "        \u001b[1m{\u001b[0m\u001b[32m'name'\u001b[0m: \u001b[32m'山田花子'\u001b[0m, \u001b[32m'location'\u001b[0m: \u001b[32m'大阪府大阪市中央区難波1-1-1'\u001b[0m\u001b[1m}\u001b[0m,\n",
              "        \u001b[1m{\u001b[0m\u001b[32m'name'\u001b[0m: \u001b[32m'鈴木一郎'\u001b[0m, \u001b[32m'location'\u001b[0m: \u001b[32m'北海道札幌市中央区北1条西2丁目'\u001b[0m\u001b[1m}\u001b[0m,\n",
              "        \u001b[1m{\u001b[0m\u001b[32m'name'\u001b[0m: \u001b[32m'佐藤明美'\u001b[0m, \u001b[32m'location'\u001b[0m: \u001b[32m'福岡県福岡市博多区博多駅前1-1'\u001b[0m\u001b[1m}\u001b[0m,\n",
              "        \u001b[1m{\u001b[0m\u001b[32m'name'\u001b[0m: \u001b[32m'伊藤健太'\u001b[0m, \u001b[32m'location'\u001b[0m: \u001b[32m'愛知県名古屋市中区栄3-6-1'\u001b[0m\u001b[1m}\u001b[0m,\n",
              "        \u001b[1m{\u001b[0m\u001b[32m'name'\u001b[0m: \u001b[32m'佐藤美代'\u001b[0m, \u001b[32m'location'\u001b[0m: \u001b[32m'愛知県名古屋市中区栄2-3-4'\u001b[0m\u001b[1m}\u001b[0m,\n",
              "        \u001b[1m{\u001b[0m\u001b[32m'name'\u001b[0m: \u001b[32m'伊藤健太'\u001b[0m, \u001b[32m'location'\u001b[0m: \u001b[32m'福岡県福岡市博多区博多1-2-3'\u001b[0m\u001b[1m}\u001b[0m\n",
              "    \u001b[1m]\u001b[0m\n",
              "\u001b[1m}\u001b[0m\n"
            ],
            "text/html": [
              "<pre style=\"white-space:pre;overflow-x:auto;line-height:normal;font-family:Menlo,'DejaVu Sans Mono',consolas,'Courier New',monospace\"><span style=\"font-weight: bold\">{</span>\n",
              "    <span style=\"color: #008000; text-decoration-color: #008000\">'addressbook'</span>: <span style=\"font-weight: bold\">[</span>\n",
              "        <span style=\"font-weight: bold\">{</span><span style=\"color: #008000; text-decoration-color: #008000\">'name'</span>: <span style=\"color: #008000; text-decoration-color: #008000\">'田中太郎'</span>, <span style=\"color: #008000; text-decoration-color: #008000\">'location'</span>: <span style=\"color: #008000; text-decoration-color: #008000\">'東京都渋谷区神南1-2-3'</span><span style=\"font-weight: bold\">}</span>,\n",
              "        <span style=\"font-weight: bold\">{</span><span style=\"color: #008000; text-decoration-color: #008000\">'name'</span>: <span style=\"color: #008000; text-decoration-color: #008000\">'山田花子'</span>, <span style=\"color: #008000; text-decoration-color: #008000\">'location'</span>: <span style=\"color: #008000; text-decoration-color: #008000\">'大阪府大阪市中央区難波5-6-7'</span><span style=\"font-weight: bold\">}</span>,\n",
              "        <span style=\"font-weight: bold\">{</span><span style=\"color: #008000; text-decoration-color: #008000\">'name'</span>: <span style=\"color: #008000; text-decoration-color: #008000\">'鈴木一郎'</span>, <span style=\"color: #008000; text-decoration-color: #008000\">'location'</span>: <span style=\"color: #008000; text-decoration-color: #008000\">'北海道札幌市中央区北1-2-3'</span><span style=\"font-weight: bold\">}</span>,\n",
              "        <span style=\"font-weight: bold\">{</span><span style=\"color: #008000; text-decoration-color: #008000\">'name'</span>: <span style=\"color: #008000; text-decoration-color: #008000\">'佐藤美代'</span>, <span style=\"color: #008000; text-decoration-color: #008000\">'location'</span>: <span style=\"color: #008000; text-decoration-color: #008000\">'福岡県福岡市博多区博多1-2-3'</span><span style=\"font-weight: bold\">}</span>,\n",
              "        <span style=\"font-weight: bold\">{</span><span style=\"color: #008000; text-decoration-color: #008000\">'name'</span>: <span style=\"color: #008000; text-decoration-color: #008000\">'伊藤健太'</span>, <span style=\"color: #008000; text-decoration-color: #008000\">'location'</span>: <span style=\"color: #008000; text-decoration-color: #008000\">'愛知県名古屋市中区栄2-3-4'</span><span style=\"font-weight: bold\">}</span>,\n",
              "        <span style=\"font-weight: bold\">{</span><span style=\"color: #008000; text-decoration-color: #008000\">'name'</span>: <span style=\"color: #008000; text-decoration-color: #008000\">'鈴木一郎'</span>, <span style=\"color: #008000; text-decoration-color: #008000\">'location'</span>: <span style=\"color: #008000; text-decoration-color: #008000\">'北海道札幌市中央区北1-1-1'</span><span style=\"font-weight: bold\">}</span>,\n",
              "        <span style=\"font-weight: bold\">{</span><span style=\"color: #008000; text-decoration-color: #008000\">'name'</span>: <span style=\"color: #008000; text-decoration-color: #008000\">'佐藤明美'</span>, <span style=\"color: #008000; text-decoration-color: #008000\">'location'</span>: <span style=\"color: #008000; text-decoration-color: #008000\">'福岡県福岡市博多区博多1-1-1'</span><span style=\"font-weight: bold\">}</span>,\n",
              "        <span style=\"font-weight: bold\">{</span><span style=\"color: #008000; text-decoration-color: #008000\">'name'</span>: <span style=\"color: #008000; text-decoration-color: #008000\">'山田花子'</span>, <span style=\"color: #008000; text-decoration-color: #008000\">'location'</span>: <span style=\"color: #008000; text-decoration-color: #008000\">'大阪府大阪市中央区難波1-4-5'</span><span style=\"font-weight: bold\">}</span>,\n",
              "        <span style=\"font-weight: bold\">{</span><span style=\"color: #008000; text-decoration-color: #008000\">'name'</span>: <span style=\"color: #008000; text-decoration-color: #008000\">'鈴木一郎'</span>, <span style=\"color: #008000; text-decoration-color: #008000\">'location'</span>: <span style=\"color: #008000; text-decoration-color: #008000\">'北海道札幌市中央区北1-1-2'</span><span style=\"font-weight: bold\">}</span>,\n",
              "        <span style=\"font-weight: bold\">{</span><span style=\"color: #008000; text-decoration-color: #008000\">'name'</span>: <span style=\"color: #008000; text-decoration-color: #008000\">'佐藤明美'</span>, <span style=\"color: #008000; text-decoration-color: #008000\">'location'</span>: <span style=\"color: #008000; text-decoration-color: #008000\">'福岡県福岡市博多区中洲5-6-7'</span><span style=\"font-weight: bold\">}</span>,\n",
              "        <span style=\"font-weight: bold\">{</span><span style=\"color: #008000; text-decoration-color: #008000\">'name'</span>: <span style=\"color: #008000; text-decoration-color: #008000\">'伊藤健太'</span>, <span style=\"color: #008000; text-decoration-color: #008000\">'location'</span>: <span style=\"color: #008000; text-decoration-color: #008000\">'愛知県名古屋市中区栄3-2-1'</span><span style=\"font-weight: bold\">}</span>,\n",
              "        <span style=\"font-weight: bold\">{</span><span style=\"color: #008000; text-decoration-color: #008000\">'name'</span>: <span style=\"color: #008000; text-decoration-color: #008000\">'佐藤明美'</span>, <span style=\"color: #008000; text-decoration-color: #008000\">'location'</span>: <span style=\"color: #008000; text-decoration-color: #008000\">'福岡県福岡市博多区博多1-2-3'</span><span style=\"font-weight: bold\">}</span>,\n",
              "        <span style=\"font-weight: bold\">{</span><span style=\"color: #008000; text-decoration-color: #008000\">'name'</span>: <span style=\"color: #008000; text-decoration-color: #008000\">'田中太郎'</span>, <span style=\"color: #008000; text-decoration-color: #008000\">'location'</span>: <span style=\"color: #008000; text-decoration-color: #008000\">'東京都渋谷区渋谷1-1-1'</span><span style=\"font-weight: bold\">}</span>,\n",
              "        <span style=\"font-weight: bold\">{</span><span style=\"color: #008000; text-decoration-color: #008000\">'name'</span>: <span style=\"color: #008000; text-decoration-color: #008000\">'山田花子'</span>, <span style=\"color: #008000; text-decoration-color: #008000\">'location'</span>: <span style=\"color: #008000; text-decoration-color: #008000\">'大阪府大阪市中央区難波5-5-5'</span><span style=\"font-weight: bold\">}</span>,\n",
              "        <span style=\"font-weight: bold\">{</span><span style=\"color: #008000; text-decoration-color: #008000\">'name'</span>: <span style=\"color: #008000; text-decoration-color: #008000\">'佐藤美代'</span>, <span style=\"color: #008000; text-decoration-color: #008000\">'location'</span>: <span style=\"color: #008000; text-decoration-color: #008000\">'福岡県福岡市博多区博多1-1-1'</span><span style=\"font-weight: bold\">}</span>,\n",
              "        <span style=\"font-weight: bold\">{</span><span style=\"color: #008000; text-decoration-color: #008000\">'name'</span>: <span style=\"color: #008000; text-decoration-color: #008000\">'伊藤健太'</span>, <span style=\"color: #008000; text-decoration-color: #008000\">'location'</span>: <span style=\"color: #008000; text-decoration-color: #008000\">'愛知県名古屋市中区栄2-2-2'</span><span style=\"font-weight: bold\">}</span>,\n",
              "        <span style=\"font-weight: bold\">{</span><span style=\"color: #008000; text-decoration-color: #008000\">'name'</span>: <span style=\"color: #008000; text-decoration-color: #008000\">'鈴木一郎'</span>, <span style=\"color: #008000; text-decoration-color: #008000\">'location'</span>: <span style=\"color: #008000; text-decoration-color: #008000\">'北海道札幌市中央区北1条西1-1'</span><span style=\"font-weight: bold\">}</span>,\n",
              "        <span style=\"font-weight: bold\">{</span><span style=\"color: #008000; text-decoration-color: #008000\">'name'</span>: <span style=\"color: #008000; text-decoration-color: #008000\">'佐藤美智子'</span>, <span style=\"color: #008000; text-decoration-color: #008000\">'location'</span>: <span style=\"color: #008000; text-decoration-color: #008000\">'福岡県福岡市博多区博多駅前1-1-1'</span><span style=\"font-weight: bold\">}</span>,\n",
              "        <span style=\"font-weight: bold\">{</span><span style=\"color: #008000; text-decoration-color: #008000\">'name'</span>: <span style=\"color: #008000; text-decoration-color: #008000\">'伊藤健太'</span>, <span style=\"color: #008000; text-decoration-color: #008000\">'location'</span>: <span style=\"color: #008000; text-decoration-color: #008000\">'愛知県名古屋市中区栄3-3-3'</span><span style=\"font-weight: bold\">}</span>,\n",
              "        <span style=\"font-weight: bold\">{</span><span style=\"color: #008000; text-decoration-color: #008000\">'name'</span>: <span style=\"color: #008000; text-decoration-color: #008000\">'田中太郎'</span>, <span style=\"color: #008000; text-decoration-color: #008000\">'location'</span>: <span style=\"color: #008000; text-decoration-color: #008000\">'東京都渋谷区神南1-1-1'</span><span style=\"font-weight: bold\">}</span>,\n",
              "        <span style=\"font-weight: bold\">{</span><span style=\"color: #008000; text-decoration-color: #008000\">'name'</span>: <span style=\"color: #008000; text-decoration-color: #008000\">'佐藤明美'</span>, <span style=\"color: #008000; text-decoration-color: #008000\">'location'</span>: <span style=\"color: #008000; text-decoration-color: #008000\">'愛知県名古屋市中区栄2-2-2'</span><span style=\"font-weight: bold\">}</span>,\n",
              "        <span style=\"font-weight: bold\">{</span><span style=\"color: #008000; text-decoration-color: #008000\">'name'</span>: <span style=\"color: #008000; text-decoration-color: #008000\">'伊藤健太'</span>, <span style=\"color: #008000; text-decoration-color: #008000\">'location'</span>: <span style=\"color: #008000; text-decoration-color: #008000\">'福岡県福岡市博多区博多1-1-1'</span><span style=\"font-weight: bold\">}</span>,\n",
              "        <span style=\"font-weight: bold\">{</span><span style=\"color: #008000; text-decoration-color: #008000\">'name'</span>: <span style=\"color: #008000; text-decoration-color: #008000\">'佐藤明美'</span>, <span style=\"color: #008000; text-decoration-color: #008000\">'location'</span>: <span style=\"color: #008000; text-decoration-color: #008000\">'愛知県名古屋市中区栄2-3-4'</span><span style=\"font-weight: bold\">}</span>,\n",
              "        <span style=\"font-weight: bold\">{</span><span style=\"color: #008000; text-decoration-color: #008000\">'name'</span>: <span style=\"color: #008000; text-decoration-color: #008000\">'高橋健太'</span>, <span style=\"color: #008000; text-decoration-color: #008000\">'location'</span>: <span style=\"color: #008000; text-decoration-color: #008000\">'福岡県福岡市博多区博多1-2-3'</span><span style=\"font-weight: bold\">}</span>,\n",
              "        <span style=\"font-weight: bold\">{</span><span style=\"color: #008000; text-decoration-color: #008000\">'name'</span>: <span style=\"color: #008000; text-decoration-color: #008000\">'山田花子'</span>, <span style=\"color: #008000; text-decoration-color: #008000\">'location'</span>: <span style=\"color: #008000; text-decoration-color: #008000\">'大阪府大阪市中央区難波1-1-1'</span><span style=\"font-weight: bold\">}</span>,\n",
              "        <span style=\"font-weight: bold\">{</span><span style=\"color: #008000; text-decoration-color: #008000\">'name'</span>: <span style=\"color: #008000; text-decoration-color: #008000\">'鈴木一郎'</span>, <span style=\"color: #008000; text-decoration-color: #008000\">'location'</span>: <span style=\"color: #008000; text-decoration-color: #008000\">'北海道札幌市中央区北1条西2丁目'</span><span style=\"font-weight: bold\">}</span>,\n",
              "        <span style=\"font-weight: bold\">{</span><span style=\"color: #008000; text-decoration-color: #008000\">'name'</span>: <span style=\"color: #008000; text-decoration-color: #008000\">'佐藤明美'</span>, <span style=\"color: #008000; text-decoration-color: #008000\">'location'</span>: <span style=\"color: #008000; text-decoration-color: #008000\">'福岡県福岡市博多区博多駅前1-1'</span><span style=\"font-weight: bold\">}</span>,\n",
              "        <span style=\"font-weight: bold\">{</span><span style=\"color: #008000; text-decoration-color: #008000\">'name'</span>: <span style=\"color: #008000; text-decoration-color: #008000\">'伊藤健太'</span>, <span style=\"color: #008000; text-decoration-color: #008000\">'location'</span>: <span style=\"color: #008000; text-decoration-color: #008000\">'愛知県名古屋市中区栄3-6-1'</span><span style=\"font-weight: bold\">}</span>,\n",
              "        <span style=\"font-weight: bold\">{</span><span style=\"color: #008000; text-decoration-color: #008000\">'name'</span>: <span style=\"color: #008000; text-decoration-color: #008000\">'佐藤美代'</span>, <span style=\"color: #008000; text-decoration-color: #008000\">'location'</span>: <span style=\"color: #008000; text-decoration-color: #008000\">'愛知県名古屋市中区栄2-3-4'</span><span style=\"font-weight: bold\">}</span>,\n",
              "        <span style=\"font-weight: bold\">{</span><span style=\"color: #008000; text-decoration-color: #008000\">'name'</span>: <span style=\"color: #008000; text-decoration-color: #008000\">'伊藤健太'</span>, <span style=\"color: #008000; text-decoration-color: #008000\">'location'</span>: <span style=\"color: #008000; text-decoration-color: #008000\">'福岡県福岡市博多区博多1-2-3'</span><span style=\"font-weight: bold\">}</span>\n",
              "    <span style=\"font-weight: bold\">]</span>\n",
              "<span style=\"font-weight: bold\">}</span>\n",
              "</pre>\n"
            ]
          },
          "metadata": {}
        },
        {
          "output_type": "display_data",
          "data": {
            "text/plain": [
              "\u001b[1m{\u001b[0m\n",
              "    \u001b[32m'addressbook'\u001b[0m: \u001b[1m[\u001b[0m\n",
              "        \u001b[1m{\u001b[0m\u001b[32m'name'\u001b[0m: \u001b[32m'田中太郎'\u001b[0m, \u001b[32m'location'\u001b[0m: \u001b[32m'東京都渋谷区神南1-2-3'\u001b[0m\u001b[1m}\u001b[0m,\n",
              "        \u001b[1m{\u001b[0m\u001b[32m'name'\u001b[0m: \u001b[32m'山田花子'\u001b[0m, \u001b[32m'location'\u001b[0m: \u001b[32m'大阪府大阪市中央区難波5-6-7'\u001b[0m\u001b[1m}\u001b[0m,\n",
              "        \u001b[1m{\u001b[0m\u001b[32m'name'\u001b[0m: \u001b[32m'鈴木一郎'\u001b[0m, \u001b[32m'location'\u001b[0m: \u001b[32m'北海道札幌市中央区北1-2-3'\u001b[0m\u001b[1m}\u001b[0m,\n",
              "        \u001b[1m{\u001b[0m\u001b[32m'name'\u001b[0m: \u001b[32m'佐藤美代'\u001b[0m, \u001b[32m'location'\u001b[0m: \u001b[32m'福岡県福岡市博多区博多1-2-3'\u001b[0m\u001b[1m}\u001b[0m,\n",
              "        \u001b[1m{\u001b[0m\u001b[32m'name'\u001b[0m: \u001b[32m'伊藤健太'\u001b[0m, \u001b[32m'location'\u001b[0m: \u001b[32m'愛知県名古屋市中区栄2-3-4'\u001b[0m\u001b[1m}\u001b[0m,\n",
              "        \u001b[1m{\u001b[0m\u001b[32m'name'\u001b[0m: \u001b[32m'鈴木一郎'\u001b[0m, \u001b[32m'location'\u001b[0m: \u001b[32m'北海道札幌市中央区北1-1-1'\u001b[0m\u001b[1m}\u001b[0m,\n",
              "        \u001b[1m{\u001b[0m\u001b[32m'name'\u001b[0m: \u001b[32m'佐藤明美'\u001b[0m, \u001b[32m'location'\u001b[0m: \u001b[32m'福岡県福岡市博多区博多1-1-1'\u001b[0m\u001b[1m}\u001b[0m,\n",
              "        \u001b[1m{\u001b[0m\u001b[32m'name'\u001b[0m: \u001b[32m'山田花子'\u001b[0m, \u001b[32m'location'\u001b[0m: \u001b[32m'大阪府大阪市中央区難波1-4-5'\u001b[0m\u001b[1m}\u001b[0m,\n",
              "        \u001b[1m{\u001b[0m\u001b[32m'name'\u001b[0m: \u001b[32m'鈴木一郎'\u001b[0m, \u001b[32m'location'\u001b[0m: \u001b[32m'北海道札幌市中央区北1-1-2'\u001b[0m\u001b[1m}\u001b[0m,\n",
              "        \u001b[1m{\u001b[0m\u001b[32m'name'\u001b[0m: \u001b[32m'佐藤明美'\u001b[0m, \u001b[32m'location'\u001b[0m: \u001b[32m'福岡県福岡市博多区中洲5-6-7'\u001b[0m\u001b[1m}\u001b[0m,\n",
              "        \u001b[1m{\u001b[0m\u001b[32m'name'\u001b[0m: \u001b[32m'伊藤健太'\u001b[0m, \u001b[32m'location'\u001b[0m: \u001b[32m'愛知県名古屋市中区栄3-2-1'\u001b[0m\u001b[1m}\u001b[0m,\n",
              "        \u001b[1m{\u001b[0m\u001b[32m'name'\u001b[0m: \u001b[32m'佐藤明美'\u001b[0m, \u001b[32m'location'\u001b[0m: \u001b[32m'福岡県福岡市博多区博多1-2-3'\u001b[0m\u001b[1m}\u001b[0m,\n",
              "        \u001b[1m{\u001b[0m\u001b[32m'name'\u001b[0m: \u001b[32m'田中太郎'\u001b[0m, \u001b[32m'location'\u001b[0m: \u001b[32m'東京都渋谷区渋谷1-1-1'\u001b[0m\u001b[1m}\u001b[0m,\n",
              "        \u001b[1m{\u001b[0m\u001b[32m'name'\u001b[0m: \u001b[32m'山田花子'\u001b[0m, \u001b[32m'location'\u001b[0m: \u001b[32m'大阪府大阪市中央区難波5-5-5'\u001b[0m\u001b[1m}\u001b[0m,\n",
              "        \u001b[1m{\u001b[0m\u001b[32m'name'\u001b[0m: \u001b[32m'佐藤美代'\u001b[0m, \u001b[32m'location'\u001b[0m: \u001b[32m'福岡県福岡市博多区博多1-1-1'\u001b[0m\u001b[1m}\u001b[0m,\n",
              "        \u001b[1m{\u001b[0m\u001b[32m'name'\u001b[0m: \u001b[32m'伊藤健太'\u001b[0m, \u001b[32m'location'\u001b[0m: \u001b[32m'愛知県名古屋市中区栄2-2-2'\u001b[0m\u001b[1m}\u001b[0m,\n",
              "        \u001b[1m{\u001b[0m\u001b[32m'name'\u001b[0m: \u001b[32m'鈴木一郎'\u001b[0m, \u001b[32m'location'\u001b[0m: \u001b[32m'北海道札幌市中央区北1条西1-1'\u001b[0m\u001b[1m}\u001b[0m,\n",
              "        \u001b[1m{\u001b[0m\u001b[32m'name'\u001b[0m: \u001b[32m'佐藤美智子'\u001b[0m, \u001b[32m'location'\u001b[0m: \u001b[32m'福岡県福岡市博多区博多駅前1-1-1'\u001b[0m\u001b[1m}\u001b[0m,\n",
              "        \u001b[1m{\u001b[0m\u001b[32m'name'\u001b[0m: \u001b[32m'伊藤健太'\u001b[0m, \u001b[32m'location'\u001b[0m: \u001b[32m'愛知県名古屋市中区栄3-3-3'\u001b[0m\u001b[1m}\u001b[0m,\n",
              "        \u001b[1m{\u001b[0m\u001b[32m'name'\u001b[0m: \u001b[32m'田中太郎'\u001b[0m, \u001b[32m'location'\u001b[0m: \u001b[32m'東京都渋谷区神南1-1-1'\u001b[0m\u001b[1m}\u001b[0m,\n",
              "        \u001b[1m{\u001b[0m\u001b[32m'name'\u001b[0m: \u001b[32m'佐藤明美'\u001b[0m, \u001b[32m'location'\u001b[0m: \u001b[32m'愛知県名古屋市中区栄2-2-2'\u001b[0m\u001b[1m}\u001b[0m,\n",
              "        \u001b[1m{\u001b[0m\u001b[32m'name'\u001b[0m: \u001b[32m'伊藤健太'\u001b[0m, \u001b[32m'location'\u001b[0m: \u001b[32m'福岡県福岡市博多区博多1-1-1'\u001b[0m\u001b[1m}\u001b[0m,\n",
              "        \u001b[1m{\u001b[0m\u001b[32m'name'\u001b[0m: \u001b[32m'佐藤明美'\u001b[0m, \u001b[32m'location'\u001b[0m: \u001b[32m'愛知県名古屋市中区栄2-3-4'\u001b[0m\u001b[1m}\u001b[0m,\n",
              "        \u001b[1m{\u001b[0m\u001b[32m'name'\u001b[0m: \u001b[32m'高橋健太'\u001b[0m, \u001b[32m'location'\u001b[0m: \u001b[32m'福岡県福岡市博多区博多1-2-3'\u001b[0m\u001b[1m}\u001b[0m,\n",
              "        \u001b[1m{\u001b[0m\u001b[32m'name'\u001b[0m: \u001b[32m'山田花子'\u001b[0m, \u001b[32m'location'\u001b[0m: \u001b[32m'大阪府大阪市中央区難波1-1-1'\u001b[0m\u001b[1m}\u001b[0m,\n",
              "        \u001b[1m{\u001b[0m\u001b[32m'name'\u001b[0m: \u001b[32m'鈴木一郎'\u001b[0m, \u001b[32m'location'\u001b[0m: \u001b[32m'北海道札幌市中央区北1条西2丁目'\u001b[0m\u001b[1m}\u001b[0m,\n",
              "        \u001b[1m{\u001b[0m\u001b[32m'name'\u001b[0m: \u001b[32m'佐藤明美'\u001b[0m, \u001b[32m'location'\u001b[0m: \u001b[32m'福岡県福岡市博多区博多駅前1-1'\u001b[0m\u001b[1m}\u001b[0m,\n",
              "        \u001b[1m{\u001b[0m\u001b[32m'name'\u001b[0m: \u001b[32m'伊藤健太'\u001b[0m, \u001b[32m'location'\u001b[0m: \u001b[32m'愛知県名古屋市中区栄3-6-1'\u001b[0m\u001b[1m}\u001b[0m,\n",
              "        \u001b[1m{\u001b[0m\u001b[32m'name'\u001b[0m: \u001b[32m'佐藤美代'\u001b[0m, \u001b[32m'location'\u001b[0m: \u001b[32m'愛知県名古屋市中区栄2-3-4'\u001b[0m\u001b[1m}\u001b[0m,\n",
              "        \u001b[1m{\u001b[0m\u001b[32m'name'\u001b[0m: \u001b[32m'伊藤健太'\u001b[0m, \u001b[32m'location'\u001b[0m: \u001b[32m'福岡県福岡市博多区博多1-2-3'\u001b[0m\u001b[1m}\u001b[0m\n",
              "    \u001b[1m]\u001b[0m\n",
              "\u001b[1m}\u001b[0m\n"
            ],
            "text/html": [
              "<pre style=\"white-space:pre;overflow-x:auto;line-height:normal;font-family:Menlo,'DejaVu Sans Mono',consolas,'Courier New',monospace\"><span style=\"font-weight: bold\">{</span>\n",
              "    <span style=\"color: #008000; text-decoration-color: #008000\">'addressbook'</span>: <span style=\"font-weight: bold\">[</span>\n",
              "        <span style=\"font-weight: bold\">{</span><span style=\"color: #008000; text-decoration-color: #008000\">'name'</span>: <span style=\"color: #008000; text-decoration-color: #008000\">'田中太郎'</span>, <span style=\"color: #008000; text-decoration-color: #008000\">'location'</span>: <span style=\"color: #008000; text-decoration-color: #008000\">'東京都渋谷区神南1-2-3'</span><span style=\"font-weight: bold\">}</span>,\n",
              "        <span style=\"font-weight: bold\">{</span><span style=\"color: #008000; text-decoration-color: #008000\">'name'</span>: <span style=\"color: #008000; text-decoration-color: #008000\">'山田花子'</span>, <span style=\"color: #008000; text-decoration-color: #008000\">'location'</span>: <span style=\"color: #008000; text-decoration-color: #008000\">'大阪府大阪市中央区難波5-6-7'</span><span style=\"font-weight: bold\">}</span>,\n",
              "        <span style=\"font-weight: bold\">{</span><span style=\"color: #008000; text-decoration-color: #008000\">'name'</span>: <span style=\"color: #008000; text-decoration-color: #008000\">'鈴木一郎'</span>, <span style=\"color: #008000; text-decoration-color: #008000\">'location'</span>: <span style=\"color: #008000; text-decoration-color: #008000\">'北海道札幌市中央区北1-2-3'</span><span style=\"font-weight: bold\">}</span>,\n",
              "        <span style=\"font-weight: bold\">{</span><span style=\"color: #008000; text-decoration-color: #008000\">'name'</span>: <span style=\"color: #008000; text-decoration-color: #008000\">'佐藤美代'</span>, <span style=\"color: #008000; text-decoration-color: #008000\">'location'</span>: <span style=\"color: #008000; text-decoration-color: #008000\">'福岡県福岡市博多区博多1-2-3'</span><span style=\"font-weight: bold\">}</span>,\n",
              "        <span style=\"font-weight: bold\">{</span><span style=\"color: #008000; text-decoration-color: #008000\">'name'</span>: <span style=\"color: #008000; text-decoration-color: #008000\">'伊藤健太'</span>, <span style=\"color: #008000; text-decoration-color: #008000\">'location'</span>: <span style=\"color: #008000; text-decoration-color: #008000\">'愛知県名古屋市中区栄2-3-4'</span><span style=\"font-weight: bold\">}</span>,\n",
              "        <span style=\"font-weight: bold\">{</span><span style=\"color: #008000; text-decoration-color: #008000\">'name'</span>: <span style=\"color: #008000; text-decoration-color: #008000\">'鈴木一郎'</span>, <span style=\"color: #008000; text-decoration-color: #008000\">'location'</span>: <span style=\"color: #008000; text-decoration-color: #008000\">'北海道札幌市中央区北1-1-1'</span><span style=\"font-weight: bold\">}</span>,\n",
              "        <span style=\"font-weight: bold\">{</span><span style=\"color: #008000; text-decoration-color: #008000\">'name'</span>: <span style=\"color: #008000; text-decoration-color: #008000\">'佐藤明美'</span>, <span style=\"color: #008000; text-decoration-color: #008000\">'location'</span>: <span style=\"color: #008000; text-decoration-color: #008000\">'福岡県福岡市博多区博多1-1-1'</span><span style=\"font-weight: bold\">}</span>,\n",
              "        <span style=\"font-weight: bold\">{</span><span style=\"color: #008000; text-decoration-color: #008000\">'name'</span>: <span style=\"color: #008000; text-decoration-color: #008000\">'山田花子'</span>, <span style=\"color: #008000; text-decoration-color: #008000\">'location'</span>: <span style=\"color: #008000; text-decoration-color: #008000\">'大阪府大阪市中央区難波1-4-5'</span><span style=\"font-weight: bold\">}</span>,\n",
              "        <span style=\"font-weight: bold\">{</span><span style=\"color: #008000; text-decoration-color: #008000\">'name'</span>: <span style=\"color: #008000; text-decoration-color: #008000\">'鈴木一郎'</span>, <span style=\"color: #008000; text-decoration-color: #008000\">'location'</span>: <span style=\"color: #008000; text-decoration-color: #008000\">'北海道札幌市中央区北1-1-2'</span><span style=\"font-weight: bold\">}</span>,\n",
              "        <span style=\"font-weight: bold\">{</span><span style=\"color: #008000; text-decoration-color: #008000\">'name'</span>: <span style=\"color: #008000; text-decoration-color: #008000\">'佐藤明美'</span>, <span style=\"color: #008000; text-decoration-color: #008000\">'location'</span>: <span style=\"color: #008000; text-decoration-color: #008000\">'福岡県福岡市博多区中洲5-6-7'</span><span style=\"font-weight: bold\">}</span>,\n",
              "        <span style=\"font-weight: bold\">{</span><span style=\"color: #008000; text-decoration-color: #008000\">'name'</span>: <span style=\"color: #008000; text-decoration-color: #008000\">'伊藤健太'</span>, <span style=\"color: #008000; text-decoration-color: #008000\">'location'</span>: <span style=\"color: #008000; text-decoration-color: #008000\">'愛知県名古屋市中区栄3-2-1'</span><span style=\"font-weight: bold\">}</span>,\n",
              "        <span style=\"font-weight: bold\">{</span><span style=\"color: #008000; text-decoration-color: #008000\">'name'</span>: <span style=\"color: #008000; text-decoration-color: #008000\">'佐藤明美'</span>, <span style=\"color: #008000; text-decoration-color: #008000\">'location'</span>: <span style=\"color: #008000; text-decoration-color: #008000\">'福岡県福岡市博多区博多1-2-3'</span><span style=\"font-weight: bold\">}</span>,\n",
              "        <span style=\"font-weight: bold\">{</span><span style=\"color: #008000; text-decoration-color: #008000\">'name'</span>: <span style=\"color: #008000; text-decoration-color: #008000\">'田中太郎'</span>, <span style=\"color: #008000; text-decoration-color: #008000\">'location'</span>: <span style=\"color: #008000; text-decoration-color: #008000\">'東京都渋谷区渋谷1-1-1'</span><span style=\"font-weight: bold\">}</span>,\n",
              "        <span style=\"font-weight: bold\">{</span><span style=\"color: #008000; text-decoration-color: #008000\">'name'</span>: <span style=\"color: #008000; text-decoration-color: #008000\">'山田花子'</span>, <span style=\"color: #008000; text-decoration-color: #008000\">'location'</span>: <span style=\"color: #008000; text-decoration-color: #008000\">'大阪府大阪市中央区難波5-5-5'</span><span style=\"font-weight: bold\">}</span>,\n",
              "        <span style=\"font-weight: bold\">{</span><span style=\"color: #008000; text-decoration-color: #008000\">'name'</span>: <span style=\"color: #008000; text-decoration-color: #008000\">'佐藤美代'</span>, <span style=\"color: #008000; text-decoration-color: #008000\">'location'</span>: <span style=\"color: #008000; text-decoration-color: #008000\">'福岡県福岡市博多区博多1-1-1'</span><span style=\"font-weight: bold\">}</span>,\n",
              "        <span style=\"font-weight: bold\">{</span><span style=\"color: #008000; text-decoration-color: #008000\">'name'</span>: <span style=\"color: #008000; text-decoration-color: #008000\">'伊藤健太'</span>, <span style=\"color: #008000; text-decoration-color: #008000\">'location'</span>: <span style=\"color: #008000; text-decoration-color: #008000\">'愛知県名古屋市中区栄2-2-2'</span><span style=\"font-weight: bold\">}</span>,\n",
              "        <span style=\"font-weight: bold\">{</span><span style=\"color: #008000; text-decoration-color: #008000\">'name'</span>: <span style=\"color: #008000; text-decoration-color: #008000\">'鈴木一郎'</span>, <span style=\"color: #008000; text-decoration-color: #008000\">'location'</span>: <span style=\"color: #008000; text-decoration-color: #008000\">'北海道札幌市中央区北1条西1-1'</span><span style=\"font-weight: bold\">}</span>,\n",
              "        <span style=\"font-weight: bold\">{</span><span style=\"color: #008000; text-decoration-color: #008000\">'name'</span>: <span style=\"color: #008000; text-decoration-color: #008000\">'佐藤美智子'</span>, <span style=\"color: #008000; text-decoration-color: #008000\">'location'</span>: <span style=\"color: #008000; text-decoration-color: #008000\">'福岡県福岡市博多区博多駅前1-1-1'</span><span style=\"font-weight: bold\">}</span>,\n",
              "        <span style=\"font-weight: bold\">{</span><span style=\"color: #008000; text-decoration-color: #008000\">'name'</span>: <span style=\"color: #008000; text-decoration-color: #008000\">'伊藤健太'</span>, <span style=\"color: #008000; text-decoration-color: #008000\">'location'</span>: <span style=\"color: #008000; text-decoration-color: #008000\">'愛知県名古屋市中区栄3-3-3'</span><span style=\"font-weight: bold\">}</span>,\n",
              "        <span style=\"font-weight: bold\">{</span><span style=\"color: #008000; text-decoration-color: #008000\">'name'</span>: <span style=\"color: #008000; text-decoration-color: #008000\">'田中太郎'</span>, <span style=\"color: #008000; text-decoration-color: #008000\">'location'</span>: <span style=\"color: #008000; text-decoration-color: #008000\">'東京都渋谷区神南1-1-1'</span><span style=\"font-weight: bold\">}</span>,\n",
              "        <span style=\"font-weight: bold\">{</span><span style=\"color: #008000; text-decoration-color: #008000\">'name'</span>: <span style=\"color: #008000; text-decoration-color: #008000\">'佐藤明美'</span>, <span style=\"color: #008000; text-decoration-color: #008000\">'location'</span>: <span style=\"color: #008000; text-decoration-color: #008000\">'愛知県名古屋市中区栄2-2-2'</span><span style=\"font-weight: bold\">}</span>,\n",
              "        <span style=\"font-weight: bold\">{</span><span style=\"color: #008000; text-decoration-color: #008000\">'name'</span>: <span style=\"color: #008000; text-decoration-color: #008000\">'伊藤健太'</span>, <span style=\"color: #008000; text-decoration-color: #008000\">'location'</span>: <span style=\"color: #008000; text-decoration-color: #008000\">'福岡県福岡市博多区博多1-1-1'</span><span style=\"font-weight: bold\">}</span>,\n",
              "        <span style=\"font-weight: bold\">{</span><span style=\"color: #008000; text-decoration-color: #008000\">'name'</span>: <span style=\"color: #008000; text-decoration-color: #008000\">'佐藤明美'</span>, <span style=\"color: #008000; text-decoration-color: #008000\">'location'</span>: <span style=\"color: #008000; text-decoration-color: #008000\">'愛知県名古屋市中区栄2-3-4'</span><span style=\"font-weight: bold\">}</span>,\n",
              "        <span style=\"font-weight: bold\">{</span><span style=\"color: #008000; text-decoration-color: #008000\">'name'</span>: <span style=\"color: #008000; text-decoration-color: #008000\">'高橋健太'</span>, <span style=\"color: #008000; text-decoration-color: #008000\">'location'</span>: <span style=\"color: #008000; text-decoration-color: #008000\">'福岡県福岡市博多区博多1-2-3'</span><span style=\"font-weight: bold\">}</span>,\n",
              "        <span style=\"font-weight: bold\">{</span><span style=\"color: #008000; text-decoration-color: #008000\">'name'</span>: <span style=\"color: #008000; text-decoration-color: #008000\">'山田花子'</span>, <span style=\"color: #008000; text-decoration-color: #008000\">'location'</span>: <span style=\"color: #008000; text-decoration-color: #008000\">'大阪府大阪市中央区難波1-1-1'</span><span style=\"font-weight: bold\">}</span>,\n",
              "        <span style=\"font-weight: bold\">{</span><span style=\"color: #008000; text-decoration-color: #008000\">'name'</span>: <span style=\"color: #008000; text-decoration-color: #008000\">'鈴木一郎'</span>, <span style=\"color: #008000; text-decoration-color: #008000\">'location'</span>: <span style=\"color: #008000; text-decoration-color: #008000\">'北海道札幌市中央区北1条西2丁目'</span><span style=\"font-weight: bold\">}</span>,\n",
              "        <span style=\"font-weight: bold\">{</span><span style=\"color: #008000; text-decoration-color: #008000\">'name'</span>: <span style=\"color: #008000; text-decoration-color: #008000\">'佐藤明美'</span>, <span style=\"color: #008000; text-decoration-color: #008000\">'location'</span>: <span style=\"color: #008000; text-decoration-color: #008000\">'福岡県福岡市博多区博多駅前1-1'</span><span style=\"font-weight: bold\">}</span>,\n",
              "        <span style=\"font-weight: bold\">{</span><span style=\"color: #008000; text-decoration-color: #008000\">'name'</span>: <span style=\"color: #008000; text-decoration-color: #008000\">'伊藤健太'</span>, <span style=\"color: #008000; text-decoration-color: #008000\">'location'</span>: <span style=\"color: #008000; text-decoration-color: #008000\">'愛知県名古屋市中区栄3-6-1'</span><span style=\"font-weight: bold\">}</span>,\n",
              "        <span style=\"font-weight: bold\">{</span><span style=\"color: #008000; text-decoration-color: #008000\">'name'</span>: <span style=\"color: #008000; text-decoration-color: #008000\">'佐藤美代'</span>, <span style=\"color: #008000; text-decoration-color: #008000\">'location'</span>: <span style=\"color: #008000; text-decoration-color: #008000\">'愛知県名古屋市中区栄2-3-4'</span><span style=\"font-weight: bold\">}</span>,\n",
              "        <span style=\"font-weight: bold\">{</span><span style=\"color: #008000; text-decoration-color: #008000\">'name'</span>: <span style=\"color: #008000; text-decoration-color: #008000\">'伊藤健太'</span>, <span style=\"color: #008000; text-decoration-color: #008000\">'location'</span>: <span style=\"color: #008000; text-decoration-color: #008000\">'福岡県福岡市博多区博多1-2-3'</span><span style=\"font-weight: bold\">}</span>\n",
              "    <span style=\"font-weight: bold\">]</span>\n",
              "<span style=\"font-weight: bold\">}</span>\n",
              "</pre>\n"
            ]
          },
          "metadata": {}
        },
        {
          "output_type": "display_data",
          "data": {
            "text/plain": [
              "\u001b[1m{\u001b[0m\n",
              "    \u001b[32m'addressbook'\u001b[0m: \u001b[1m[\u001b[0m\n",
              "        \u001b[1m{\u001b[0m\u001b[32m'name'\u001b[0m: \u001b[32m'田中太郎'\u001b[0m, \u001b[32m'location'\u001b[0m: \u001b[32m'東京都渋谷区神南1-2-3'\u001b[0m\u001b[1m}\u001b[0m,\n",
              "        \u001b[1m{\u001b[0m\u001b[32m'name'\u001b[0m: \u001b[32m'山田花子'\u001b[0m, \u001b[32m'location'\u001b[0m: \u001b[32m'大阪府大阪市中央区難波5-6-7'\u001b[0m\u001b[1m}\u001b[0m,\n",
              "        \u001b[1m{\u001b[0m\u001b[32m'name'\u001b[0m: \u001b[32m'鈴木一郎'\u001b[0m, \u001b[32m'location'\u001b[0m: \u001b[32m'北海道札幌市中央区北1-2-3'\u001b[0m\u001b[1m}\u001b[0m,\n",
              "        \u001b[1m{\u001b[0m\u001b[32m'name'\u001b[0m: \u001b[32m'佐藤美代'\u001b[0m, \u001b[32m'location'\u001b[0m: \u001b[32m'福岡県福岡市博多区博多1-2-3'\u001b[0m\u001b[1m}\u001b[0m,\n",
              "        \u001b[1m{\u001b[0m\u001b[32m'name'\u001b[0m: \u001b[32m'伊藤健太'\u001b[0m, \u001b[32m'location'\u001b[0m: \u001b[32m'愛知県名古屋市中区栄2-3-4'\u001b[0m\u001b[1m}\u001b[0m,\n",
              "        \u001b[1m{\u001b[0m\u001b[32m'name'\u001b[0m: \u001b[32m'鈴木一郎'\u001b[0m, \u001b[32m'location'\u001b[0m: \u001b[32m'北海道札幌市中央区北1-1-1'\u001b[0m\u001b[1m}\u001b[0m,\n",
              "        \u001b[1m{\u001b[0m\u001b[32m'name'\u001b[0m: \u001b[32m'佐藤明美'\u001b[0m, \u001b[32m'location'\u001b[0m: \u001b[32m'福岡県福岡市博多区博多1-1-1'\u001b[0m\u001b[1m}\u001b[0m,\n",
              "        \u001b[1m{\u001b[0m\u001b[32m'name'\u001b[0m: \u001b[32m'山田花子'\u001b[0m, \u001b[32m'location'\u001b[0m: \u001b[32m'大阪府大阪市中央区難波1-4-5'\u001b[0m\u001b[1m}\u001b[0m,\n",
              "        \u001b[1m{\u001b[0m\u001b[32m'name'\u001b[0m: \u001b[32m'鈴木一郎'\u001b[0m, \u001b[32m'location'\u001b[0m: \u001b[32m'北海道札幌市中央区北1-1-2'\u001b[0m\u001b[1m}\u001b[0m,\n",
              "        \u001b[1m{\u001b[0m\u001b[32m'name'\u001b[0m: \u001b[32m'佐藤明美'\u001b[0m, \u001b[32m'location'\u001b[0m: \u001b[32m'福岡県福岡市博多区中洲5-6-7'\u001b[0m\u001b[1m}\u001b[0m,\n",
              "        \u001b[1m{\u001b[0m\u001b[32m'name'\u001b[0m: \u001b[32m'伊藤健太'\u001b[0m, \u001b[32m'location'\u001b[0m: \u001b[32m'愛知県名古屋市中区栄3-2-1'\u001b[0m\u001b[1m}\u001b[0m,\n",
              "        \u001b[1m{\u001b[0m\u001b[32m'name'\u001b[0m: \u001b[32m'佐藤明美'\u001b[0m, \u001b[32m'location'\u001b[0m: \u001b[32m'福岡県福岡市博多区博多1-2-3'\u001b[0m\u001b[1m}\u001b[0m,\n",
              "        \u001b[1m{\u001b[0m\u001b[32m'name'\u001b[0m: \u001b[32m'田中太郎'\u001b[0m, \u001b[32m'location'\u001b[0m: \u001b[32m'東京都渋谷区渋谷1-1-1'\u001b[0m\u001b[1m}\u001b[0m,\n",
              "        \u001b[1m{\u001b[0m\u001b[32m'name'\u001b[0m: \u001b[32m'山田花子'\u001b[0m, \u001b[32m'location'\u001b[0m: \u001b[32m'大阪府大阪市中央区難波5-5-5'\u001b[0m\u001b[1m}\u001b[0m,\n",
              "        \u001b[1m{\u001b[0m\u001b[32m'name'\u001b[0m: \u001b[32m'佐藤美代'\u001b[0m, \u001b[32m'location'\u001b[0m: \u001b[32m'福岡県福岡市博多区博多1-1-1'\u001b[0m\u001b[1m}\u001b[0m,\n",
              "        \u001b[1m{\u001b[0m\u001b[32m'name'\u001b[0m: \u001b[32m'伊藤健太'\u001b[0m, \u001b[32m'location'\u001b[0m: \u001b[32m'愛知県名古屋市中区栄2-2-2'\u001b[0m\u001b[1m}\u001b[0m,\n",
              "        \u001b[1m{\u001b[0m\u001b[32m'name'\u001b[0m: \u001b[32m'鈴木一郎'\u001b[0m, \u001b[32m'location'\u001b[0m: \u001b[32m'北海道札幌市中央区北1条西1-1'\u001b[0m\u001b[1m}\u001b[0m,\n",
              "        \u001b[1m{\u001b[0m\u001b[32m'name'\u001b[0m: \u001b[32m'佐藤美智子'\u001b[0m, \u001b[32m'location'\u001b[0m: \u001b[32m'福岡県福岡市博多区博多駅前1-1-1'\u001b[0m\u001b[1m}\u001b[0m,\n",
              "        \u001b[1m{\u001b[0m\u001b[32m'name'\u001b[0m: \u001b[32m'伊藤健太'\u001b[0m, \u001b[32m'location'\u001b[0m: \u001b[32m'愛知県名古屋市中区栄3-3-3'\u001b[0m\u001b[1m}\u001b[0m,\n",
              "        \u001b[1m{\u001b[0m\u001b[32m'name'\u001b[0m: \u001b[32m'田中太郎'\u001b[0m, \u001b[32m'location'\u001b[0m: \u001b[32m'東京都渋谷区神南1-1-1'\u001b[0m\u001b[1m}\u001b[0m,\n",
              "        \u001b[1m{\u001b[0m\u001b[32m'name'\u001b[0m: \u001b[32m'佐藤明美'\u001b[0m, \u001b[32m'location'\u001b[0m: \u001b[32m'愛知県名古屋市中区栄2-2-2'\u001b[0m\u001b[1m}\u001b[0m,\n",
              "        \u001b[1m{\u001b[0m\u001b[32m'name'\u001b[0m: \u001b[32m'伊藤健太'\u001b[0m, \u001b[32m'location'\u001b[0m: \u001b[32m'福岡県福岡市博多区博多1-1-1'\u001b[0m\u001b[1m}\u001b[0m,\n",
              "        \u001b[1m{\u001b[0m\u001b[32m'name'\u001b[0m: \u001b[32m'佐藤明美'\u001b[0m, \u001b[32m'location'\u001b[0m: \u001b[32m'愛知県名古屋市中区栄2-3-4'\u001b[0m\u001b[1m}\u001b[0m,\n",
              "        \u001b[1m{\u001b[0m\u001b[32m'name'\u001b[0m: \u001b[32m'高橋健太'\u001b[0m, \u001b[32m'location'\u001b[0m: \u001b[32m'福岡県福岡市博多区博多1-2-3'\u001b[0m\u001b[1m}\u001b[0m,\n",
              "        \u001b[1m{\u001b[0m\u001b[32m'name'\u001b[0m: \u001b[32m'山田花子'\u001b[0m, \u001b[32m'location'\u001b[0m: \u001b[32m'大阪府大阪市中央区難波1-1-1'\u001b[0m\u001b[1m}\u001b[0m,\n",
              "        \u001b[1m{\u001b[0m\u001b[32m'name'\u001b[0m: \u001b[32m'鈴木一郎'\u001b[0m, \u001b[32m'location'\u001b[0m: \u001b[32m'北海道札幌市中央区北1条西2丁目'\u001b[0m\u001b[1m}\u001b[0m,\n",
              "        \u001b[1m{\u001b[0m\u001b[32m'name'\u001b[0m: \u001b[32m'佐藤明美'\u001b[0m, \u001b[32m'location'\u001b[0m: \u001b[32m'福岡県福岡市博多区博多駅前1-1'\u001b[0m\u001b[1m}\u001b[0m,\n",
              "        \u001b[1m{\u001b[0m\u001b[32m'name'\u001b[0m: \u001b[32m'伊藤健太'\u001b[0m, \u001b[32m'location'\u001b[0m: \u001b[32m'愛知県名古屋市中区栄3-6-1'\u001b[0m\u001b[1m}\u001b[0m,\n",
              "        \u001b[1m{\u001b[0m\u001b[32m'name'\u001b[0m: \u001b[32m'佐藤美代'\u001b[0m, \u001b[32m'location'\u001b[0m: \u001b[32m'愛知県名古屋市中区栄2-3-4'\u001b[0m\u001b[1m}\u001b[0m,\n",
              "        \u001b[1m{\u001b[0m\u001b[32m'name'\u001b[0m: \u001b[32m'伊藤健太'\u001b[0m, \u001b[32m'location'\u001b[0m: \u001b[32m'福岡県福岡市博多区博多1-2-3'\u001b[0m\u001b[1m}\u001b[0m\n",
              "    \u001b[1m]\u001b[0m\n",
              "\u001b[1m}\u001b[0m\n"
            ],
            "text/html": [
              "<pre style=\"white-space:pre;overflow-x:auto;line-height:normal;font-family:Menlo,'DejaVu Sans Mono',consolas,'Courier New',monospace\"><span style=\"font-weight: bold\">{</span>\n",
              "    <span style=\"color: #008000; text-decoration-color: #008000\">'addressbook'</span>: <span style=\"font-weight: bold\">[</span>\n",
              "        <span style=\"font-weight: bold\">{</span><span style=\"color: #008000; text-decoration-color: #008000\">'name'</span>: <span style=\"color: #008000; text-decoration-color: #008000\">'田中太郎'</span>, <span style=\"color: #008000; text-decoration-color: #008000\">'location'</span>: <span style=\"color: #008000; text-decoration-color: #008000\">'東京都渋谷区神南1-2-3'</span><span style=\"font-weight: bold\">}</span>,\n",
              "        <span style=\"font-weight: bold\">{</span><span style=\"color: #008000; text-decoration-color: #008000\">'name'</span>: <span style=\"color: #008000; text-decoration-color: #008000\">'山田花子'</span>, <span style=\"color: #008000; text-decoration-color: #008000\">'location'</span>: <span style=\"color: #008000; text-decoration-color: #008000\">'大阪府大阪市中央区難波5-6-7'</span><span style=\"font-weight: bold\">}</span>,\n",
              "        <span style=\"font-weight: bold\">{</span><span style=\"color: #008000; text-decoration-color: #008000\">'name'</span>: <span style=\"color: #008000; text-decoration-color: #008000\">'鈴木一郎'</span>, <span style=\"color: #008000; text-decoration-color: #008000\">'location'</span>: <span style=\"color: #008000; text-decoration-color: #008000\">'北海道札幌市中央区北1-2-3'</span><span style=\"font-weight: bold\">}</span>,\n",
              "        <span style=\"font-weight: bold\">{</span><span style=\"color: #008000; text-decoration-color: #008000\">'name'</span>: <span style=\"color: #008000; text-decoration-color: #008000\">'佐藤美代'</span>, <span style=\"color: #008000; text-decoration-color: #008000\">'location'</span>: <span style=\"color: #008000; text-decoration-color: #008000\">'福岡県福岡市博多区博多1-2-3'</span><span style=\"font-weight: bold\">}</span>,\n",
              "        <span style=\"font-weight: bold\">{</span><span style=\"color: #008000; text-decoration-color: #008000\">'name'</span>: <span style=\"color: #008000; text-decoration-color: #008000\">'伊藤健太'</span>, <span style=\"color: #008000; text-decoration-color: #008000\">'location'</span>: <span style=\"color: #008000; text-decoration-color: #008000\">'愛知県名古屋市中区栄2-3-4'</span><span style=\"font-weight: bold\">}</span>,\n",
              "        <span style=\"font-weight: bold\">{</span><span style=\"color: #008000; text-decoration-color: #008000\">'name'</span>: <span style=\"color: #008000; text-decoration-color: #008000\">'鈴木一郎'</span>, <span style=\"color: #008000; text-decoration-color: #008000\">'location'</span>: <span style=\"color: #008000; text-decoration-color: #008000\">'北海道札幌市中央区北1-1-1'</span><span style=\"font-weight: bold\">}</span>,\n",
              "        <span style=\"font-weight: bold\">{</span><span style=\"color: #008000; text-decoration-color: #008000\">'name'</span>: <span style=\"color: #008000; text-decoration-color: #008000\">'佐藤明美'</span>, <span style=\"color: #008000; text-decoration-color: #008000\">'location'</span>: <span style=\"color: #008000; text-decoration-color: #008000\">'福岡県福岡市博多区博多1-1-1'</span><span style=\"font-weight: bold\">}</span>,\n",
              "        <span style=\"font-weight: bold\">{</span><span style=\"color: #008000; text-decoration-color: #008000\">'name'</span>: <span style=\"color: #008000; text-decoration-color: #008000\">'山田花子'</span>, <span style=\"color: #008000; text-decoration-color: #008000\">'location'</span>: <span style=\"color: #008000; text-decoration-color: #008000\">'大阪府大阪市中央区難波1-4-5'</span><span style=\"font-weight: bold\">}</span>,\n",
              "        <span style=\"font-weight: bold\">{</span><span style=\"color: #008000; text-decoration-color: #008000\">'name'</span>: <span style=\"color: #008000; text-decoration-color: #008000\">'鈴木一郎'</span>, <span style=\"color: #008000; text-decoration-color: #008000\">'location'</span>: <span style=\"color: #008000; text-decoration-color: #008000\">'北海道札幌市中央区北1-1-2'</span><span style=\"font-weight: bold\">}</span>,\n",
              "        <span style=\"font-weight: bold\">{</span><span style=\"color: #008000; text-decoration-color: #008000\">'name'</span>: <span style=\"color: #008000; text-decoration-color: #008000\">'佐藤明美'</span>, <span style=\"color: #008000; text-decoration-color: #008000\">'location'</span>: <span style=\"color: #008000; text-decoration-color: #008000\">'福岡県福岡市博多区中洲5-6-7'</span><span style=\"font-weight: bold\">}</span>,\n",
              "        <span style=\"font-weight: bold\">{</span><span style=\"color: #008000; text-decoration-color: #008000\">'name'</span>: <span style=\"color: #008000; text-decoration-color: #008000\">'伊藤健太'</span>, <span style=\"color: #008000; text-decoration-color: #008000\">'location'</span>: <span style=\"color: #008000; text-decoration-color: #008000\">'愛知県名古屋市中区栄3-2-1'</span><span style=\"font-weight: bold\">}</span>,\n",
              "        <span style=\"font-weight: bold\">{</span><span style=\"color: #008000; text-decoration-color: #008000\">'name'</span>: <span style=\"color: #008000; text-decoration-color: #008000\">'佐藤明美'</span>, <span style=\"color: #008000; text-decoration-color: #008000\">'location'</span>: <span style=\"color: #008000; text-decoration-color: #008000\">'福岡県福岡市博多区博多1-2-3'</span><span style=\"font-weight: bold\">}</span>,\n",
              "        <span style=\"font-weight: bold\">{</span><span style=\"color: #008000; text-decoration-color: #008000\">'name'</span>: <span style=\"color: #008000; text-decoration-color: #008000\">'田中太郎'</span>, <span style=\"color: #008000; text-decoration-color: #008000\">'location'</span>: <span style=\"color: #008000; text-decoration-color: #008000\">'東京都渋谷区渋谷1-1-1'</span><span style=\"font-weight: bold\">}</span>,\n",
              "        <span style=\"font-weight: bold\">{</span><span style=\"color: #008000; text-decoration-color: #008000\">'name'</span>: <span style=\"color: #008000; text-decoration-color: #008000\">'山田花子'</span>, <span style=\"color: #008000; text-decoration-color: #008000\">'location'</span>: <span style=\"color: #008000; text-decoration-color: #008000\">'大阪府大阪市中央区難波5-5-5'</span><span style=\"font-weight: bold\">}</span>,\n",
              "        <span style=\"font-weight: bold\">{</span><span style=\"color: #008000; text-decoration-color: #008000\">'name'</span>: <span style=\"color: #008000; text-decoration-color: #008000\">'佐藤美代'</span>, <span style=\"color: #008000; text-decoration-color: #008000\">'location'</span>: <span style=\"color: #008000; text-decoration-color: #008000\">'福岡県福岡市博多区博多1-1-1'</span><span style=\"font-weight: bold\">}</span>,\n",
              "        <span style=\"font-weight: bold\">{</span><span style=\"color: #008000; text-decoration-color: #008000\">'name'</span>: <span style=\"color: #008000; text-decoration-color: #008000\">'伊藤健太'</span>, <span style=\"color: #008000; text-decoration-color: #008000\">'location'</span>: <span style=\"color: #008000; text-decoration-color: #008000\">'愛知県名古屋市中区栄2-2-2'</span><span style=\"font-weight: bold\">}</span>,\n",
              "        <span style=\"font-weight: bold\">{</span><span style=\"color: #008000; text-decoration-color: #008000\">'name'</span>: <span style=\"color: #008000; text-decoration-color: #008000\">'鈴木一郎'</span>, <span style=\"color: #008000; text-decoration-color: #008000\">'location'</span>: <span style=\"color: #008000; text-decoration-color: #008000\">'北海道札幌市中央区北1条西1-1'</span><span style=\"font-weight: bold\">}</span>,\n",
              "        <span style=\"font-weight: bold\">{</span><span style=\"color: #008000; text-decoration-color: #008000\">'name'</span>: <span style=\"color: #008000; text-decoration-color: #008000\">'佐藤美智子'</span>, <span style=\"color: #008000; text-decoration-color: #008000\">'location'</span>: <span style=\"color: #008000; text-decoration-color: #008000\">'福岡県福岡市博多区博多駅前1-1-1'</span><span style=\"font-weight: bold\">}</span>,\n",
              "        <span style=\"font-weight: bold\">{</span><span style=\"color: #008000; text-decoration-color: #008000\">'name'</span>: <span style=\"color: #008000; text-decoration-color: #008000\">'伊藤健太'</span>, <span style=\"color: #008000; text-decoration-color: #008000\">'location'</span>: <span style=\"color: #008000; text-decoration-color: #008000\">'愛知県名古屋市中区栄3-3-3'</span><span style=\"font-weight: bold\">}</span>,\n",
              "        <span style=\"font-weight: bold\">{</span><span style=\"color: #008000; text-decoration-color: #008000\">'name'</span>: <span style=\"color: #008000; text-decoration-color: #008000\">'田中太郎'</span>, <span style=\"color: #008000; text-decoration-color: #008000\">'location'</span>: <span style=\"color: #008000; text-decoration-color: #008000\">'東京都渋谷区神南1-1-1'</span><span style=\"font-weight: bold\">}</span>,\n",
              "        <span style=\"font-weight: bold\">{</span><span style=\"color: #008000; text-decoration-color: #008000\">'name'</span>: <span style=\"color: #008000; text-decoration-color: #008000\">'佐藤明美'</span>, <span style=\"color: #008000; text-decoration-color: #008000\">'location'</span>: <span style=\"color: #008000; text-decoration-color: #008000\">'愛知県名古屋市中区栄2-2-2'</span><span style=\"font-weight: bold\">}</span>,\n",
              "        <span style=\"font-weight: bold\">{</span><span style=\"color: #008000; text-decoration-color: #008000\">'name'</span>: <span style=\"color: #008000; text-decoration-color: #008000\">'伊藤健太'</span>, <span style=\"color: #008000; text-decoration-color: #008000\">'location'</span>: <span style=\"color: #008000; text-decoration-color: #008000\">'福岡県福岡市博多区博多1-1-1'</span><span style=\"font-weight: bold\">}</span>,\n",
              "        <span style=\"font-weight: bold\">{</span><span style=\"color: #008000; text-decoration-color: #008000\">'name'</span>: <span style=\"color: #008000; text-decoration-color: #008000\">'佐藤明美'</span>, <span style=\"color: #008000; text-decoration-color: #008000\">'location'</span>: <span style=\"color: #008000; text-decoration-color: #008000\">'愛知県名古屋市中区栄2-3-4'</span><span style=\"font-weight: bold\">}</span>,\n",
              "        <span style=\"font-weight: bold\">{</span><span style=\"color: #008000; text-decoration-color: #008000\">'name'</span>: <span style=\"color: #008000; text-decoration-color: #008000\">'高橋健太'</span>, <span style=\"color: #008000; text-decoration-color: #008000\">'location'</span>: <span style=\"color: #008000; text-decoration-color: #008000\">'福岡県福岡市博多区博多1-2-3'</span><span style=\"font-weight: bold\">}</span>,\n",
              "        <span style=\"font-weight: bold\">{</span><span style=\"color: #008000; text-decoration-color: #008000\">'name'</span>: <span style=\"color: #008000; text-decoration-color: #008000\">'山田花子'</span>, <span style=\"color: #008000; text-decoration-color: #008000\">'location'</span>: <span style=\"color: #008000; text-decoration-color: #008000\">'大阪府大阪市中央区難波1-1-1'</span><span style=\"font-weight: bold\">}</span>,\n",
              "        <span style=\"font-weight: bold\">{</span><span style=\"color: #008000; text-decoration-color: #008000\">'name'</span>: <span style=\"color: #008000; text-decoration-color: #008000\">'鈴木一郎'</span>, <span style=\"color: #008000; text-decoration-color: #008000\">'location'</span>: <span style=\"color: #008000; text-decoration-color: #008000\">'北海道札幌市中央区北1条西2丁目'</span><span style=\"font-weight: bold\">}</span>,\n",
              "        <span style=\"font-weight: bold\">{</span><span style=\"color: #008000; text-decoration-color: #008000\">'name'</span>: <span style=\"color: #008000; text-decoration-color: #008000\">'佐藤明美'</span>, <span style=\"color: #008000; text-decoration-color: #008000\">'location'</span>: <span style=\"color: #008000; text-decoration-color: #008000\">'福岡県福岡市博多区博多駅前1-1'</span><span style=\"font-weight: bold\">}</span>,\n",
              "        <span style=\"font-weight: bold\">{</span><span style=\"color: #008000; text-decoration-color: #008000\">'name'</span>: <span style=\"color: #008000; text-decoration-color: #008000\">'伊藤健太'</span>, <span style=\"color: #008000; text-decoration-color: #008000\">'location'</span>: <span style=\"color: #008000; text-decoration-color: #008000\">'愛知県名古屋市中区栄3-6-1'</span><span style=\"font-weight: bold\">}</span>,\n",
              "        <span style=\"font-weight: bold\">{</span><span style=\"color: #008000; text-decoration-color: #008000\">'name'</span>: <span style=\"color: #008000; text-decoration-color: #008000\">'佐藤美代'</span>, <span style=\"color: #008000; text-decoration-color: #008000\">'location'</span>: <span style=\"color: #008000; text-decoration-color: #008000\">'愛知県名古屋市中区栄2-3-4'</span><span style=\"font-weight: bold\">}</span>,\n",
              "        <span style=\"font-weight: bold\">{</span><span style=\"color: #008000; text-decoration-color: #008000\">'name'</span>: <span style=\"color: #008000; text-decoration-color: #008000\">'伊藤健太'</span>, <span style=\"color: #008000; text-decoration-color: #008000\">'location'</span>: <span style=\"color: #008000; text-decoration-color: #008000\">'福岡県福岡市博多区博多1-2-3'</span><span style=\"font-weight: bold\">}</span>\n",
              "    <span style=\"font-weight: bold\">]</span>\n",
              "<span style=\"font-weight: bold\">}</span>\n",
              "</pre>\n"
            ]
          },
          "metadata": {}
        },
        {
          "output_type": "display_data",
          "data": {
            "text/plain": [
              "\u001b[1m{\u001b[0m\n",
              "    \u001b[32m'addressbook'\u001b[0m: \u001b[1m[\u001b[0m\n",
              "        \u001b[1m{\u001b[0m\u001b[32m'name'\u001b[0m: \u001b[32m'田中太郎'\u001b[0m, \u001b[32m'location'\u001b[0m: \u001b[32m'東京都渋谷区神南1-2-3'\u001b[0m\u001b[1m}\u001b[0m,\n",
              "        \u001b[1m{\u001b[0m\u001b[32m'name'\u001b[0m: \u001b[32m'山田花子'\u001b[0m, \u001b[32m'location'\u001b[0m: \u001b[32m'大阪府大阪市中央区難波5-6-7'\u001b[0m\u001b[1m}\u001b[0m,\n",
              "        \u001b[1m{\u001b[0m\u001b[32m'name'\u001b[0m: \u001b[32m'鈴木一郎'\u001b[0m, \u001b[32m'location'\u001b[0m: \u001b[32m'北海道札幌市中央区北1-2-3'\u001b[0m\u001b[1m}\u001b[0m,\n",
              "        \u001b[1m{\u001b[0m\u001b[32m'name'\u001b[0m: \u001b[32m'佐藤美代'\u001b[0m, \u001b[32m'location'\u001b[0m: \u001b[32m'福岡県福岡市博多区博多1-2-3'\u001b[0m\u001b[1m}\u001b[0m,\n",
              "        \u001b[1m{\u001b[0m\u001b[32m'name'\u001b[0m: \u001b[32m'伊藤健太'\u001b[0m, \u001b[32m'location'\u001b[0m: \u001b[32m'愛知県名古屋市中区栄2-3-4'\u001b[0m\u001b[1m}\u001b[0m,\n",
              "        \u001b[1m{\u001b[0m\u001b[32m'name'\u001b[0m: \u001b[32m'鈴木一郎'\u001b[0m, \u001b[32m'location'\u001b[0m: \u001b[32m'北海道札幌市中央区北1-1-1'\u001b[0m\u001b[1m}\u001b[0m,\n",
              "        \u001b[1m{\u001b[0m\u001b[32m'name'\u001b[0m: \u001b[32m'佐藤明美'\u001b[0m, \u001b[32m'location'\u001b[0m: \u001b[32m'福岡県福岡市博多区博多1-1-1'\u001b[0m\u001b[1m}\u001b[0m,\n",
              "        \u001b[1m{\u001b[0m\u001b[32m'name'\u001b[0m: \u001b[32m'山田花子'\u001b[0m, \u001b[32m'location'\u001b[0m: \u001b[32m'大阪府大阪市中央区難波1-4-5'\u001b[0m\u001b[1m}\u001b[0m,\n",
              "        \u001b[1m{\u001b[0m\u001b[32m'name'\u001b[0m: \u001b[32m'鈴木一郎'\u001b[0m, \u001b[32m'location'\u001b[0m: \u001b[32m'北海道札幌市中央区北1-1-2'\u001b[0m\u001b[1m}\u001b[0m,\n",
              "        \u001b[1m{\u001b[0m\u001b[32m'name'\u001b[0m: \u001b[32m'佐藤明美'\u001b[0m, \u001b[32m'location'\u001b[0m: \u001b[32m'福岡県福岡市博多区中洲5-6-7'\u001b[0m\u001b[1m}\u001b[0m,\n",
              "        \u001b[1m{\u001b[0m\u001b[32m'name'\u001b[0m: \u001b[32m'伊藤健太'\u001b[0m, \u001b[32m'location'\u001b[0m: \u001b[32m'愛知県名古屋市中区栄3-2-1'\u001b[0m\u001b[1m}\u001b[0m,\n",
              "        \u001b[1m{\u001b[0m\u001b[32m'name'\u001b[0m: \u001b[32m'佐藤明美'\u001b[0m, \u001b[32m'location'\u001b[0m: \u001b[32m'福岡県福岡市博多区博多1-2-3'\u001b[0m\u001b[1m}\u001b[0m,\n",
              "        \u001b[1m{\u001b[0m\u001b[32m'name'\u001b[0m: \u001b[32m'田中太郎'\u001b[0m, \u001b[32m'location'\u001b[0m: \u001b[32m'東京都渋谷区渋谷1-1-1'\u001b[0m\u001b[1m}\u001b[0m,\n",
              "        \u001b[1m{\u001b[0m\u001b[32m'name'\u001b[0m: \u001b[32m'山田花子'\u001b[0m, \u001b[32m'location'\u001b[0m: \u001b[32m'大阪府大阪市中央区難波5-5-5'\u001b[0m\u001b[1m}\u001b[0m,\n",
              "        \u001b[1m{\u001b[0m\u001b[32m'name'\u001b[0m: \u001b[32m'佐藤美代'\u001b[0m, \u001b[32m'location'\u001b[0m: \u001b[32m'福岡県福岡市博多区博多1-1-1'\u001b[0m\u001b[1m}\u001b[0m,\n",
              "        \u001b[1m{\u001b[0m\u001b[32m'name'\u001b[0m: \u001b[32m'伊藤健太'\u001b[0m, \u001b[32m'location'\u001b[0m: \u001b[32m'愛知県名古屋市中区栄2-2-2'\u001b[0m\u001b[1m}\u001b[0m,\n",
              "        \u001b[1m{\u001b[0m\u001b[32m'name'\u001b[0m: \u001b[32m'鈴木一郎'\u001b[0m, \u001b[32m'location'\u001b[0m: \u001b[32m'北海道札幌市中央区北1条西1-1'\u001b[0m\u001b[1m}\u001b[0m,\n",
              "        \u001b[1m{\u001b[0m\u001b[32m'name'\u001b[0m: \u001b[32m'佐藤美智子'\u001b[0m, \u001b[32m'location'\u001b[0m: \u001b[32m'福岡県福岡市博多区博多駅前1-1-1'\u001b[0m\u001b[1m}\u001b[0m,\n",
              "        \u001b[1m{\u001b[0m\u001b[32m'name'\u001b[0m: \u001b[32m'伊藤健太'\u001b[0m, \u001b[32m'location'\u001b[0m: \u001b[32m'愛知県名古屋市中区栄3-3-3'\u001b[0m\u001b[1m}\u001b[0m,\n",
              "        \u001b[1m{\u001b[0m\u001b[32m'name'\u001b[0m: \u001b[32m'田中太郎'\u001b[0m, \u001b[32m'location'\u001b[0m: \u001b[32m'東京都渋谷区神南1-1-1'\u001b[0m\u001b[1m}\u001b[0m,\n",
              "        \u001b[1m{\u001b[0m\u001b[32m'name'\u001b[0m: \u001b[32m'佐藤明美'\u001b[0m, \u001b[32m'location'\u001b[0m: \u001b[32m'愛知県名古屋市中区栄2-2-2'\u001b[0m\u001b[1m}\u001b[0m,\n",
              "        \u001b[1m{\u001b[0m\u001b[32m'name'\u001b[0m: \u001b[32m'伊藤健太'\u001b[0m, \u001b[32m'location'\u001b[0m: \u001b[32m'福岡県福岡市博多区博多1-1-1'\u001b[0m\u001b[1m}\u001b[0m,\n",
              "        \u001b[1m{\u001b[0m\u001b[32m'name'\u001b[0m: \u001b[32m'佐藤明美'\u001b[0m, \u001b[32m'location'\u001b[0m: \u001b[32m'愛知県名古屋市中区栄2-3-4'\u001b[0m\u001b[1m}\u001b[0m,\n",
              "        \u001b[1m{\u001b[0m\u001b[32m'name'\u001b[0m: \u001b[32m'高橋健太'\u001b[0m, \u001b[32m'location'\u001b[0m: \u001b[32m'福岡県福岡市博多区博多1-2-3'\u001b[0m\u001b[1m}\u001b[0m,\n",
              "        \u001b[1m{\u001b[0m\u001b[32m'name'\u001b[0m: \u001b[32m'山田花子'\u001b[0m, \u001b[32m'location'\u001b[0m: \u001b[32m'大阪府大阪市中央区難波1-1-1'\u001b[0m\u001b[1m}\u001b[0m,\n",
              "        \u001b[1m{\u001b[0m\u001b[32m'name'\u001b[0m: \u001b[32m'鈴木一郎'\u001b[0m, \u001b[32m'location'\u001b[0m: \u001b[32m'北海道札幌市中央区北1条西2丁目'\u001b[0m\u001b[1m}\u001b[0m,\n",
              "        \u001b[1m{\u001b[0m\u001b[32m'name'\u001b[0m: \u001b[32m'佐藤明美'\u001b[0m, \u001b[32m'location'\u001b[0m: \u001b[32m'福岡県福岡市博多区博多駅前1-1'\u001b[0m\u001b[1m}\u001b[0m,\n",
              "        \u001b[1m{\u001b[0m\u001b[32m'name'\u001b[0m: \u001b[32m'伊藤健太'\u001b[0m, \u001b[32m'location'\u001b[0m: \u001b[32m'愛知県名古屋市中区栄3-6-1'\u001b[0m\u001b[1m}\u001b[0m,\n",
              "        \u001b[1m{\u001b[0m\u001b[32m'name'\u001b[0m: \u001b[32m'佐藤美代'\u001b[0m, \u001b[32m'location'\u001b[0m: \u001b[32m'愛知県名古屋市中区栄2-3-4'\u001b[0m\u001b[1m}\u001b[0m,\n",
              "        \u001b[1m{\u001b[0m\u001b[32m'name'\u001b[0m: \u001b[32m'伊藤健太'\u001b[0m, \u001b[32m'location'\u001b[0m: \u001b[32m'福岡県福岡市博多区博多1-2-3'\u001b[0m\u001b[1m}\u001b[0m,\n",
              "        \u001b[1m{\u001b[0m\u001b[32m'name'\u001b[0m: \u001b[32m'佐藤明美'\u001b[0m, \u001b[32m'location'\u001b[0m: \u001b[32m'福岡県福岡市博多区東1-2-3'\u001b[0m\u001b[1m}\u001b[0m\n",
              "    \u001b[1m]\u001b[0m\n",
              "\u001b[1m}\u001b[0m\n"
            ],
            "text/html": [
              "<pre style=\"white-space:pre;overflow-x:auto;line-height:normal;font-family:Menlo,'DejaVu Sans Mono',consolas,'Courier New',monospace\"><span style=\"font-weight: bold\">{</span>\n",
              "    <span style=\"color: #008000; text-decoration-color: #008000\">'addressbook'</span>: <span style=\"font-weight: bold\">[</span>\n",
              "        <span style=\"font-weight: bold\">{</span><span style=\"color: #008000; text-decoration-color: #008000\">'name'</span>: <span style=\"color: #008000; text-decoration-color: #008000\">'田中太郎'</span>, <span style=\"color: #008000; text-decoration-color: #008000\">'location'</span>: <span style=\"color: #008000; text-decoration-color: #008000\">'東京都渋谷区神南1-2-3'</span><span style=\"font-weight: bold\">}</span>,\n",
              "        <span style=\"font-weight: bold\">{</span><span style=\"color: #008000; text-decoration-color: #008000\">'name'</span>: <span style=\"color: #008000; text-decoration-color: #008000\">'山田花子'</span>, <span style=\"color: #008000; text-decoration-color: #008000\">'location'</span>: <span style=\"color: #008000; text-decoration-color: #008000\">'大阪府大阪市中央区難波5-6-7'</span><span style=\"font-weight: bold\">}</span>,\n",
              "        <span style=\"font-weight: bold\">{</span><span style=\"color: #008000; text-decoration-color: #008000\">'name'</span>: <span style=\"color: #008000; text-decoration-color: #008000\">'鈴木一郎'</span>, <span style=\"color: #008000; text-decoration-color: #008000\">'location'</span>: <span style=\"color: #008000; text-decoration-color: #008000\">'北海道札幌市中央区北1-2-3'</span><span style=\"font-weight: bold\">}</span>,\n",
              "        <span style=\"font-weight: bold\">{</span><span style=\"color: #008000; text-decoration-color: #008000\">'name'</span>: <span style=\"color: #008000; text-decoration-color: #008000\">'佐藤美代'</span>, <span style=\"color: #008000; text-decoration-color: #008000\">'location'</span>: <span style=\"color: #008000; text-decoration-color: #008000\">'福岡県福岡市博多区博多1-2-3'</span><span style=\"font-weight: bold\">}</span>,\n",
              "        <span style=\"font-weight: bold\">{</span><span style=\"color: #008000; text-decoration-color: #008000\">'name'</span>: <span style=\"color: #008000; text-decoration-color: #008000\">'伊藤健太'</span>, <span style=\"color: #008000; text-decoration-color: #008000\">'location'</span>: <span style=\"color: #008000; text-decoration-color: #008000\">'愛知県名古屋市中区栄2-3-4'</span><span style=\"font-weight: bold\">}</span>,\n",
              "        <span style=\"font-weight: bold\">{</span><span style=\"color: #008000; text-decoration-color: #008000\">'name'</span>: <span style=\"color: #008000; text-decoration-color: #008000\">'鈴木一郎'</span>, <span style=\"color: #008000; text-decoration-color: #008000\">'location'</span>: <span style=\"color: #008000; text-decoration-color: #008000\">'北海道札幌市中央区北1-1-1'</span><span style=\"font-weight: bold\">}</span>,\n",
              "        <span style=\"font-weight: bold\">{</span><span style=\"color: #008000; text-decoration-color: #008000\">'name'</span>: <span style=\"color: #008000; text-decoration-color: #008000\">'佐藤明美'</span>, <span style=\"color: #008000; text-decoration-color: #008000\">'location'</span>: <span style=\"color: #008000; text-decoration-color: #008000\">'福岡県福岡市博多区博多1-1-1'</span><span style=\"font-weight: bold\">}</span>,\n",
              "        <span style=\"font-weight: bold\">{</span><span style=\"color: #008000; text-decoration-color: #008000\">'name'</span>: <span style=\"color: #008000; text-decoration-color: #008000\">'山田花子'</span>, <span style=\"color: #008000; text-decoration-color: #008000\">'location'</span>: <span style=\"color: #008000; text-decoration-color: #008000\">'大阪府大阪市中央区難波1-4-5'</span><span style=\"font-weight: bold\">}</span>,\n",
              "        <span style=\"font-weight: bold\">{</span><span style=\"color: #008000; text-decoration-color: #008000\">'name'</span>: <span style=\"color: #008000; text-decoration-color: #008000\">'鈴木一郎'</span>, <span style=\"color: #008000; text-decoration-color: #008000\">'location'</span>: <span style=\"color: #008000; text-decoration-color: #008000\">'北海道札幌市中央区北1-1-2'</span><span style=\"font-weight: bold\">}</span>,\n",
              "        <span style=\"font-weight: bold\">{</span><span style=\"color: #008000; text-decoration-color: #008000\">'name'</span>: <span style=\"color: #008000; text-decoration-color: #008000\">'佐藤明美'</span>, <span style=\"color: #008000; text-decoration-color: #008000\">'location'</span>: <span style=\"color: #008000; text-decoration-color: #008000\">'福岡県福岡市博多区中洲5-6-7'</span><span style=\"font-weight: bold\">}</span>,\n",
              "        <span style=\"font-weight: bold\">{</span><span style=\"color: #008000; text-decoration-color: #008000\">'name'</span>: <span style=\"color: #008000; text-decoration-color: #008000\">'伊藤健太'</span>, <span style=\"color: #008000; text-decoration-color: #008000\">'location'</span>: <span style=\"color: #008000; text-decoration-color: #008000\">'愛知県名古屋市中区栄3-2-1'</span><span style=\"font-weight: bold\">}</span>,\n",
              "        <span style=\"font-weight: bold\">{</span><span style=\"color: #008000; text-decoration-color: #008000\">'name'</span>: <span style=\"color: #008000; text-decoration-color: #008000\">'佐藤明美'</span>, <span style=\"color: #008000; text-decoration-color: #008000\">'location'</span>: <span style=\"color: #008000; text-decoration-color: #008000\">'福岡県福岡市博多区博多1-2-3'</span><span style=\"font-weight: bold\">}</span>,\n",
              "        <span style=\"font-weight: bold\">{</span><span style=\"color: #008000; text-decoration-color: #008000\">'name'</span>: <span style=\"color: #008000; text-decoration-color: #008000\">'田中太郎'</span>, <span style=\"color: #008000; text-decoration-color: #008000\">'location'</span>: <span style=\"color: #008000; text-decoration-color: #008000\">'東京都渋谷区渋谷1-1-1'</span><span style=\"font-weight: bold\">}</span>,\n",
              "        <span style=\"font-weight: bold\">{</span><span style=\"color: #008000; text-decoration-color: #008000\">'name'</span>: <span style=\"color: #008000; text-decoration-color: #008000\">'山田花子'</span>, <span style=\"color: #008000; text-decoration-color: #008000\">'location'</span>: <span style=\"color: #008000; text-decoration-color: #008000\">'大阪府大阪市中央区難波5-5-5'</span><span style=\"font-weight: bold\">}</span>,\n",
              "        <span style=\"font-weight: bold\">{</span><span style=\"color: #008000; text-decoration-color: #008000\">'name'</span>: <span style=\"color: #008000; text-decoration-color: #008000\">'佐藤美代'</span>, <span style=\"color: #008000; text-decoration-color: #008000\">'location'</span>: <span style=\"color: #008000; text-decoration-color: #008000\">'福岡県福岡市博多区博多1-1-1'</span><span style=\"font-weight: bold\">}</span>,\n",
              "        <span style=\"font-weight: bold\">{</span><span style=\"color: #008000; text-decoration-color: #008000\">'name'</span>: <span style=\"color: #008000; text-decoration-color: #008000\">'伊藤健太'</span>, <span style=\"color: #008000; text-decoration-color: #008000\">'location'</span>: <span style=\"color: #008000; text-decoration-color: #008000\">'愛知県名古屋市中区栄2-2-2'</span><span style=\"font-weight: bold\">}</span>,\n",
              "        <span style=\"font-weight: bold\">{</span><span style=\"color: #008000; text-decoration-color: #008000\">'name'</span>: <span style=\"color: #008000; text-decoration-color: #008000\">'鈴木一郎'</span>, <span style=\"color: #008000; text-decoration-color: #008000\">'location'</span>: <span style=\"color: #008000; text-decoration-color: #008000\">'北海道札幌市中央区北1条西1-1'</span><span style=\"font-weight: bold\">}</span>,\n",
              "        <span style=\"font-weight: bold\">{</span><span style=\"color: #008000; text-decoration-color: #008000\">'name'</span>: <span style=\"color: #008000; text-decoration-color: #008000\">'佐藤美智子'</span>, <span style=\"color: #008000; text-decoration-color: #008000\">'location'</span>: <span style=\"color: #008000; text-decoration-color: #008000\">'福岡県福岡市博多区博多駅前1-1-1'</span><span style=\"font-weight: bold\">}</span>,\n",
              "        <span style=\"font-weight: bold\">{</span><span style=\"color: #008000; text-decoration-color: #008000\">'name'</span>: <span style=\"color: #008000; text-decoration-color: #008000\">'伊藤健太'</span>, <span style=\"color: #008000; text-decoration-color: #008000\">'location'</span>: <span style=\"color: #008000; text-decoration-color: #008000\">'愛知県名古屋市中区栄3-3-3'</span><span style=\"font-weight: bold\">}</span>,\n",
              "        <span style=\"font-weight: bold\">{</span><span style=\"color: #008000; text-decoration-color: #008000\">'name'</span>: <span style=\"color: #008000; text-decoration-color: #008000\">'田中太郎'</span>, <span style=\"color: #008000; text-decoration-color: #008000\">'location'</span>: <span style=\"color: #008000; text-decoration-color: #008000\">'東京都渋谷区神南1-1-1'</span><span style=\"font-weight: bold\">}</span>,\n",
              "        <span style=\"font-weight: bold\">{</span><span style=\"color: #008000; text-decoration-color: #008000\">'name'</span>: <span style=\"color: #008000; text-decoration-color: #008000\">'佐藤明美'</span>, <span style=\"color: #008000; text-decoration-color: #008000\">'location'</span>: <span style=\"color: #008000; text-decoration-color: #008000\">'愛知県名古屋市中区栄2-2-2'</span><span style=\"font-weight: bold\">}</span>,\n",
              "        <span style=\"font-weight: bold\">{</span><span style=\"color: #008000; text-decoration-color: #008000\">'name'</span>: <span style=\"color: #008000; text-decoration-color: #008000\">'伊藤健太'</span>, <span style=\"color: #008000; text-decoration-color: #008000\">'location'</span>: <span style=\"color: #008000; text-decoration-color: #008000\">'福岡県福岡市博多区博多1-1-1'</span><span style=\"font-weight: bold\">}</span>,\n",
              "        <span style=\"font-weight: bold\">{</span><span style=\"color: #008000; text-decoration-color: #008000\">'name'</span>: <span style=\"color: #008000; text-decoration-color: #008000\">'佐藤明美'</span>, <span style=\"color: #008000; text-decoration-color: #008000\">'location'</span>: <span style=\"color: #008000; text-decoration-color: #008000\">'愛知県名古屋市中区栄2-3-4'</span><span style=\"font-weight: bold\">}</span>,\n",
              "        <span style=\"font-weight: bold\">{</span><span style=\"color: #008000; text-decoration-color: #008000\">'name'</span>: <span style=\"color: #008000; text-decoration-color: #008000\">'高橋健太'</span>, <span style=\"color: #008000; text-decoration-color: #008000\">'location'</span>: <span style=\"color: #008000; text-decoration-color: #008000\">'福岡県福岡市博多区博多1-2-3'</span><span style=\"font-weight: bold\">}</span>,\n",
              "        <span style=\"font-weight: bold\">{</span><span style=\"color: #008000; text-decoration-color: #008000\">'name'</span>: <span style=\"color: #008000; text-decoration-color: #008000\">'山田花子'</span>, <span style=\"color: #008000; text-decoration-color: #008000\">'location'</span>: <span style=\"color: #008000; text-decoration-color: #008000\">'大阪府大阪市中央区難波1-1-1'</span><span style=\"font-weight: bold\">}</span>,\n",
              "        <span style=\"font-weight: bold\">{</span><span style=\"color: #008000; text-decoration-color: #008000\">'name'</span>: <span style=\"color: #008000; text-decoration-color: #008000\">'鈴木一郎'</span>, <span style=\"color: #008000; text-decoration-color: #008000\">'location'</span>: <span style=\"color: #008000; text-decoration-color: #008000\">'北海道札幌市中央区北1条西2丁目'</span><span style=\"font-weight: bold\">}</span>,\n",
              "        <span style=\"font-weight: bold\">{</span><span style=\"color: #008000; text-decoration-color: #008000\">'name'</span>: <span style=\"color: #008000; text-decoration-color: #008000\">'佐藤明美'</span>, <span style=\"color: #008000; text-decoration-color: #008000\">'location'</span>: <span style=\"color: #008000; text-decoration-color: #008000\">'福岡県福岡市博多区博多駅前1-1'</span><span style=\"font-weight: bold\">}</span>,\n",
              "        <span style=\"font-weight: bold\">{</span><span style=\"color: #008000; text-decoration-color: #008000\">'name'</span>: <span style=\"color: #008000; text-decoration-color: #008000\">'伊藤健太'</span>, <span style=\"color: #008000; text-decoration-color: #008000\">'location'</span>: <span style=\"color: #008000; text-decoration-color: #008000\">'愛知県名古屋市中区栄3-6-1'</span><span style=\"font-weight: bold\">}</span>,\n",
              "        <span style=\"font-weight: bold\">{</span><span style=\"color: #008000; text-decoration-color: #008000\">'name'</span>: <span style=\"color: #008000; text-decoration-color: #008000\">'佐藤美代'</span>, <span style=\"color: #008000; text-decoration-color: #008000\">'location'</span>: <span style=\"color: #008000; text-decoration-color: #008000\">'愛知県名古屋市中区栄2-3-4'</span><span style=\"font-weight: bold\">}</span>,\n",
              "        <span style=\"font-weight: bold\">{</span><span style=\"color: #008000; text-decoration-color: #008000\">'name'</span>: <span style=\"color: #008000; text-decoration-color: #008000\">'伊藤健太'</span>, <span style=\"color: #008000; text-decoration-color: #008000\">'location'</span>: <span style=\"color: #008000; text-decoration-color: #008000\">'福岡県福岡市博多区博多1-2-3'</span><span style=\"font-weight: bold\">}</span>,\n",
              "        <span style=\"font-weight: bold\">{</span><span style=\"color: #008000; text-decoration-color: #008000\">'name'</span>: <span style=\"color: #008000; text-decoration-color: #008000\">'佐藤明美'</span>, <span style=\"color: #008000; text-decoration-color: #008000\">'location'</span>: <span style=\"color: #008000; text-decoration-color: #008000\">'福岡県福岡市博多区東1-2-3'</span><span style=\"font-weight: bold\">}</span>\n",
              "    <span style=\"font-weight: bold\">]</span>\n",
              "<span style=\"font-weight: bold\">}</span>\n",
              "</pre>\n"
            ]
          },
          "metadata": {}
        },
        {
          "output_type": "execute_result",
          "data": {
            "text/plain": [
              "{'addressbook': [{'name': '田中太郎', 'location': '東京都渋谷区神南1-2-3'},\n",
              "  {'name': '山田花子', 'location': '大阪府大阪市中央区難波5-6-7'},\n",
              "  {'name': '鈴木一郎', 'location': '北海道札幌市中央区北1-2-3'},\n",
              "  {'name': '佐藤美代', 'location': '福岡県福岡市博多区博多1-2-3'},\n",
              "  {'name': '伊藤健太', 'location': '愛知県名古屋市中区栄2-3-4'},\n",
              "  {'name': '鈴木一郎', 'location': '北海道札幌市中央区北1-1-1'},\n",
              "  {'name': '佐藤明美', 'location': '福岡県福岡市博多区博多1-1-1'},\n",
              "  {'name': '山田花子', 'location': '大阪府大阪市中央区難波1-4-5'},\n",
              "  {'name': '鈴木一郎', 'location': '北海道札幌市中央区北1-1-2'},\n",
              "  {'name': '佐藤明美', 'location': '福岡県福岡市博多区中洲5-6-7'},\n",
              "  {'name': '伊藤健太', 'location': '愛知県名古屋市中区栄3-2-1'},\n",
              "  {'name': '佐藤明美', 'location': '福岡県福岡市博多区博多1-2-3'},\n",
              "  {'name': '田中太郎', 'location': '東京都渋谷区渋谷1-1-1'},\n",
              "  {'name': '山田花子', 'location': '大阪府大阪市中央区難波5-5-5'},\n",
              "  {'name': '佐藤美代', 'location': '福岡県福岡市博多区博多1-1-1'},\n",
              "  {'name': '伊藤健太', 'location': '愛知県名古屋市中区栄2-2-2'},\n",
              "  {'name': '鈴木一郎', 'location': '北海道札幌市中央区北1条西1-1'},\n",
              "  {'name': '佐藤美智子', 'location': '福岡県福岡市博多区博多駅前1-1-1'},\n",
              "  {'name': '伊藤健太', 'location': '愛知県名古屋市中区栄3-3-3'},\n",
              "  {'name': '田中太郎', 'location': '東京都渋谷区神南1-1-1'},\n",
              "  {'name': '佐藤明美', 'location': '愛知県名古屋市中区栄2-2-2'},\n",
              "  {'name': '伊藤健太', 'location': '福岡県福岡市博多区博多1-1-1'},\n",
              "  {'name': '佐藤明美', 'location': '愛知県名古屋市中区栄2-3-4'},\n",
              "  {'name': '高橋健太', 'location': '福岡県福岡市博多区博多1-2-3'},\n",
              "  {'name': '山田花子', 'location': '大阪府大阪市中央区難波1-1-1'},\n",
              "  {'name': '鈴木一郎', 'location': '北海道札幌市中央区北1条西2丁目'},\n",
              "  {'name': '佐藤明美', 'location': '福岡県福岡市博多区博多駅前1-1'},\n",
              "  {'name': '伊藤健太', 'location': '愛知県名古屋市中区栄3-6-1'},\n",
              "  {'name': '佐藤美代', 'location': '愛知県名古屋市中区栄2-3-4'},\n",
              "  {'name': '伊藤健太', 'location': '福岡県福岡市博多区博多1-2-3'},\n",
              "  {'name': '佐藤明美', 'location': '福岡県福岡市博多区東1-2-3'}]}"
            ]
          },
          "metadata": {},
          "execution_count": 86
        }
      ]
    },
    {
      "cell_type": "code",
      "source": [
        "newobj = submit(j3)"
      ],
      "metadata": {
        "id": "dN7QIXA4Z7_c"
      },
      "execution_count": 73,
      "outputs": []
    },
    {
      "cell_type": "code",
      "source": [
        "newobj"
      ],
      "metadata": {
        "colab": {
          "base_uri": "https://localhost:8080/"
        },
        "id": "PVCJhFkcaE-_",
        "outputId": "e3aeed09-25a1-4589-9e85-84e46bbd73e6"
      },
      "execution_count": 74,
      "outputs": [
        {
          "output_type": "execute_result",
          "data": {
            "text/plain": [
              "{'addressbook': [{'name': '田中太郎', 'location': '東京都渋谷区渋谷1-1-1'},\n",
              "  {'name': '山田花子', 'location': '大阪府大阪市中央区難波5-5-5'},\n",
              "  {'name': '鈴木一郎', 'location': '北海道札幌市中央区北1条西1-1'},\n",
              "  {'name': '佐藤美奈子', 'location': '福岡県福岡市博多区博多1-1-1'},\n",
              "  {'name': '伊藤健太', 'location': '愛知県名古屋市中区栄2-2-2'},\n",
              "  {'name': '田中太郎', 'location': '東京都渋谷区神南1-2-3'},\n",
              "  {'name': '山田花子', 'location': '大阪府大阪市中央区難波5-6-7'},\n",
              "  {'name': '鈴木一郎', 'location': '北海道札幌市中央区北1-2-3'},\n",
              "  {'name': '佐藤明美', 'location': '福岡県福岡市博多区博多1-2-3'},\n",
              "  {'name': '伊藤健太', 'location': '愛知県名古屋市中区栄2-3-4'},\n",
              "  {'name': '佐藤明美', 'location': '愛知県名古屋市中区栄2-3-4'},\n",
              "  {'name': '伊藤健太', 'location': '福岡県福岡市博多区博多1-2-3'}]}"
            ]
          },
          "metadata": {},
          "execution_count": 74
        }
      ]
    },
    {
      "cell_type": "code",
      "source": [
        "len(newobj['addressbook'])"
      ],
      "metadata": {
        "colab": {
          "base_uri": "https://localhost:8080/"
        },
        "id": "S1chqlrnaJb1",
        "outputId": "60e27d19-1f3b-491f-df39-08e540aff94f"
      },
      "execution_count": 76,
      "outputs": [
        {
          "output_type": "execute_result",
          "data": {
            "text/plain": [
              "12"
            ]
          },
          "metadata": {},
          "execution_count": 76
        }
      ]
    },
    {
      "cell_type": "code",
      "source": [
        "obj = {}\n",
        "while True:\n",
        "  obj = submit(obj)\n",
        "  print(obj)\n",
        "  if len(obj['addressbook']) > 15:\n",
        "    break\n",
        "\n",
        "obj"
      ],
      "metadata": {
        "colab": {
          "base_uri": "https://localhost:8080/",
          "height": 1000
        },
        "id": "ONhmhfb1aXa8",
        "outputId": "b0eab43d-93fe-42b7-aeda-e5178efe0c5b"
      },
      "execution_count": 78,
      "outputs": [
        {
          "output_type": "display_data",
          "data": {
            "text/plain": [
              "\u001b[1m{\u001b[0m\n",
              "    \u001b[32m'addressbook'\u001b[0m: \u001b[1m[\u001b[0m\n",
              "        \u001b[1m{\u001b[0m\u001b[32m'name'\u001b[0m: \u001b[32m'田中太郎'\u001b[0m, \u001b[32m'location'\u001b[0m: \u001b[32m'東京都渋谷区神南1-2-3'\u001b[0m\u001b[1m}\u001b[0m,\n",
              "        \u001b[1m{\u001b[0m\u001b[32m'name'\u001b[0m: \u001b[32m'山田花子'\u001b[0m, \u001b[32m'location'\u001b[0m: \u001b[32m'大阪府大阪市中央区難波5-6-7'\u001b[0m\u001b[1m}\u001b[0m,\n",
              "        \u001b[1m{\u001b[0m\u001b[32m'name'\u001b[0m: \u001b[32m'鈴木一郎'\u001b[0m, \u001b[32m'location'\u001b[0m: \u001b[32m'北海道札幌市中央区北1-2-3'\u001b[0m\u001b[1m}\u001b[0m,\n",
              "        \u001b[1m{\u001b[0m\u001b[32m'name'\u001b[0m: \u001b[32m'佐藤明美'\u001b[0m, \u001b[32m'location'\u001b[0m: \u001b[32m'福岡県福岡市博多区博多1-2-3'\u001b[0m\u001b[1m}\u001b[0m,\n",
              "        \u001b[1m{\u001b[0m\u001b[32m'name'\u001b[0m: \u001b[32m'伊藤健太'\u001b[0m, \u001b[32m'location'\u001b[0m: \u001b[32m'愛知県名古屋市中区栄2-3-4'\u001b[0m\u001b[1m}\u001b[0m\n",
              "    \u001b[1m]\u001b[0m\n",
              "\u001b[1m}\u001b[0m\n"
            ],
            "text/html": [
              "<pre style=\"white-space:pre;overflow-x:auto;line-height:normal;font-family:Menlo,'DejaVu Sans Mono',consolas,'Courier New',monospace\"><span style=\"font-weight: bold\">{</span>\n",
              "    <span style=\"color: #008000; text-decoration-color: #008000\">'addressbook'</span>: <span style=\"font-weight: bold\">[</span>\n",
              "        <span style=\"font-weight: bold\">{</span><span style=\"color: #008000; text-decoration-color: #008000\">'name'</span>: <span style=\"color: #008000; text-decoration-color: #008000\">'田中太郎'</span>, <span style=\"color: #008000; text-decoration-color: #008000\">'location'</span>: <span style=\"color: #008000; text-decoration-color: #008000\">'東京都渋谷区神南1-2-3'</span><span style=\"font-weight: bold\">}</span>,\n",
              "        <span style=\"font-weight: bold\">{</span><span style=\"color: #008000; text-decoration-color: #008000\">'name'</span>: <span style=\"color: #008000; text-decoration-color: #008000\">'山田花子'</span>, <span style=\"color: #008000; text-decoration-color: #008000\">'location'</span>: <span style=\"color: #008000; text-decoration-color: #008000\">'大阪府大阪市中央区難波5-6-7'</span><span style=\"font-weight: bold\">}</span>,\n",
              "        <span style=\"font-weight: bold\">{</span><span style=\"color: #008000; text-decoration-color: #008000\">'name'</span>: <span style=\"color: #008000; text-decoration-color: #008000\">'鈴木一郎'</span>, <span style=\"color: #008000; text-decoration-color: #008000\">'location'</span>: <span style=\"color: #008000; text-decoration-color: #008000\">'北海道札幌市中央区北1-2-3'</span><span style=\"font-weight: bold\">}</span>,\n",
              "        <span style=\"font-weight: bold\">{</span><span style=\"color: #008000; text-decoration-color: #008000\">'name'</span>: <span style=\"color: #008000; text-decoration-color: #008000\">'佐藤明美'</span>, <span style=\"color: #008000; text-decoration-color: #008000\">'location'</span>: <span style=\"color: #008000; text-decoration-color: #008000\">'福岡県福岡市博多区博多1-2-3'</span><span style=\"font-weight: bold\">}</span>,\n",
              "        <span style=\"font-weight: bold\">{</span><span style=\"color: #008000; text-decoration-color: #008000\">'name'</span>: <span style=\"color: #008000; text-decoration-color: #008000\">'伊藤健太'</span>, <span style=\"color: #008000; text-decoration-color: #008000\">'location'</span>: <span style=\"color: #008000; text-decoration-color: #008000\">'愛知県名古屋市中区栄2-3-4'</span><span style=\"font-weight: bold\">}</span>\n",
              "    <span style=\"font-weight: bold\">]</span>\n",
              "<span style=\"font-weight: bold\">}</span>\n",
              "</pre>\n"
            ]
          },
          "metadata": {}
        },
        {
          "output_type": "display_data",
          "data": {
            "text/plain": [
              "\u001b[1m{\u001b[0m\n",
              "    \u001b[32m'addressbook'\u001b[0m: \u001b[1m[\u001b[0m\n",
              "        \u001b[1m{\u001b[0m\u001b[32m'name'\u001b[0m: \u001b[32m'田中太郎'\u001b[0m, \u001b[32m'location'\u001b[0m: \u001b[32m'東京都渋谷区神南1-2-3'\u001b[0m\u001b[1m}\u001b[0m,\n",
              "        \u001b[1m{\u001b[0m\u001b[32m'name'\u001b[0m: \u001b[32m'山田花子'\u001b[0m, \u001b[32m'location'\u001b[0m: \u001b[32m'大阪府大阪市中央区難波5-6-7'\u001b[0m\u001b[1m}\u001b[0m,\n",
              "        \u001b[1m{\u001b[0m\u001b[32m'name'\u001b[0m: \u001b[32m'鈴木一郎'\u001b[0m, \u001b[32m'location'\u001b[0m: \u001b[32m'北海道札幌市中央区北1-2-3'\u001b[0m\u001b[1m}\u001b[0m,\n",
              "        \u001b[1m{\u001b[0m\u001b[32m'name'\u001b[0m: \u001b[32m'佐藤明美'\u001b[0m, \u001b[32m'location'\u001b[0m: \u001b[32m'福岡県福岡市博多区博多1-2-3'\u001b[0m\u001b[1m}\u001b[0m,\n",
              "        \u001b[1m{\u001b[0m\u001b[32m'name'\u001b[0m: \u001b[32m'伊藤健太'\u001b[0m, \u001b[32m'location'\u001b[0m: \u001b[32m'愛知県名古屋市中区栄2-3-4'\u001b[0m\u001b[1m}\u001b[0m\n",
              "    \u001b[1m]\u001b[0m\n",
              "\u001b[1m}\u001b[0m\n"
            ],
            "text/html": [
              "<pre style=\"white-space:pre;overflow-x:auto;line-height:normal;font-family:Menlo,'DejaVu Sans Mono',consolas,'Courier New',monospace\"><span style=\"font-weight: bold\">{</span>\n",
              "    <span style=\"color: #008000; text-decoration-color: #008000\">'addressbook'</span>: <span style=\"font-weight: bold\">[</span>\n",
              "        <span style=\"font-weight: bold\">{</span><span style=\"color: #008000; text-decoration-color: #008000\">'name'</span>: <span style=\"color: #008000; text-decoration-color: #008000\">'田中太郎'</span>, <span style=\"color: #008000; text-decoration-color: #008000\">'location'</span>: <span style=\"color: #008000; text-decoration-color: #008000\">'東京都渋谷区神南1-2-3'</span><span style=\"font-weight: bold\">}</span>,\n",
              "        <span style=\"font-weight: bold\">{</span><span style=\"color: #008000; text-decoration-color: #008000\">'name'</span>: <span style=\"color: #008000; text-decoration-color: #008000\">'山田花子'</span>, <span style=\"color: #008000; text-decoration-color: #008000\">'location'</span>: <span style=\"color: #008000; text-decoration-color: #008000\">'大阪府大阪市中央区難波5-6-7'</span><span style=\"font-weight: bold\">}</span>,\n",
              "        <span style=\"font-weight: bold\">{</span><span style=\"color: #008000; text-decoration-color: #008000\">'name'</span>: <span style=\"color: #008000; text-decoration-color: #008000\">'鈴木一郎'</span>, <span style=\"color: #008000; text-decoration-color: #008000\">'location'</span>: <span style=\"color: #008000; text-decoration-color: #008000\">'北海道札幌市中央区北1-2-3'</span><span style=\"font-weight: bold\">}</span>,\n",
              "        <span style=\"font-weight: bold\">{</span><span style=\"color: #008000; text-decoration-color: #008000\">'name'</span>: <span style=\"color: #008000; text-decoration-color: #008000\">'佐藤明美'</span>, <span style=\"color: #008000; text-decoration-color: #008000\">'location'</span>: <span style=\"color: #008000; text-decoration-color: #008000\">'福岡県福岡市博多区博多1-2-3'</span><span style=\"font-weight: bold\">}</span>,\n",
              "        <span style=\"font-weight: bold\">{</span><span style=\"color: #008000; text-decoration-color: #008000\">'name'</span>: <span style=\"color: #008000; text-decoration-color: #008000\">'伊藤健太'</span>, <span style=\"color: #008000; text-decoration-color: #008000\">'location'</span>: <span style=\"color: #008000; text-decoration-color: #008000\">'愛知県名古屋市中区栄2-3-4'</span><span style=\"font-weight: bold\">}</span>\n",
              "    <span style=\"font-weight: bold\">]</span>\n",
              "<span style=\"font-weight: bold\">}</span>\n",
              "</pre>\n"
            ]
          },
          "metadata": {}
        },
        {
          "output_type": "display_data",
          "data": {
            "text/plain": [
              "\u001b[1m{\u001b[0m\n",
              "    \u001b[32m'addressbook'\u001b[0m: \u001b[1m[\u001b[0m\n",
              "        \u001b[1m{\u001b[0m\u001b[32m'name'\u001b[0m: \u001b[32m'田中太郎'\u001b[0m, \u001b[32m'location'\u001b[0m: \u001b[32m'東京都渋谷区神南1-2-3'\u001b[0m\u001b[1m}\u001b[0m,\n",
              "        \u001b[1m{\u001b[0m\u001b[32m'name'\u001b[0m: \u001b[32m'山田花子'\u001b[0m, \u001b[32m'location'\u001b[0m: \u001b[32m'大阪府大阪市中央区難波5-6-7'\u001b[0m\u001b[1m}\u001b[0m,\n",
              "        \u001b[1m{\u001b[0m\u001b[32m'name'\u001b[0m: \u001b[32m'鈴木一郎'\u001b[0m, \u001b[32m'location'\u001b[0m: \u001b[32m'北海道札幌市中央区北1-2-3'\u001b[0m\u001b[1m}\u001b[0m,\n",
              "        \u001b[1m{\u001b[0m\u001b[32m'name'\u001b[0m: \u001b[32m'佐藤明美'\u001b[0m, \u001b[32m'location'\u001b[0m: \u001b[32m'福岡県福岡市博多区博多1-2-3'\u001b[0m\u001b[1m}\u001b[0m,\n",
              "        \u001b[1m{\u001b[0m\u001b[32m'name'\u001b[0m: \u001b[32m'伊藤健太'\u001b[0m, \u001b[32m'location'\u001b[0m: \u001b[32m'愛知県名古屋市中区栄2-3-4'\u001b[0m\u001b[1m}\u001b[0m,\n",
              "        \u001b[1m{\u001b[0m\u001b[32m'name'\u001b[0m: \u001b[32m'山田花子'\u001b[0m, \u001b[32m'location'\u001b[0m: \u001b[32m'大阪府大阪市中央区難波1-1-1'\u001b[0m\u001b[1m}\u001b[0m,\n",
              "        \u001b[1m{\u001b[0m\u001b[32m'name'\u001b[0m: \u001b[32m'鈴木一郎'\u001b[0m, \u001b[32m'location'\u001b[0m: \u001b[32m'北海道札幌市中央区北1条西2丁目'\u001b[0m\u001b[1m}\u001b[0m,\n",
              "        \u001b[1m{\u001b[0m\u001b[32m'name'\u001b[0m: \u001b[32m'佐藤明美'\u001b[0m, \u001b[32m'location'\u001b[0m: \u001b[32m'福岡県福岡市博多区博多駅前1-1'\u001b[0m\u001b[1m}\u001b[0m,\n",
              "        \u001b[1m{\u001b[0m\u001b[32m'name'\u001b[0m: \u001b[32m'伊藤健太'\u001b[0m, \u001b[32m'location'\u001b[0m: \u001b[32m'愛知県名古屋市中区栄3-6-1'\u001b[0m\u001b[1m}\u001b[0m\n",
              "    \u001b[1m]\u001b[0m\n",
              "\u001b[1m}\u001b[0m\n"
            ],
            "text/html": [
              "<pre style=\"white-space:pre;overflow-x:auto;line-height:normal;font-family:Menlo,'DejaVu Sans Mono',consolas,'Courier New',monospace\"><span style=\"font-weight: bold\">{</span>\n",
              "    <span style=\"color: #008000; text-decoration-color: #008000\">'addressbook'</span>: <span style=\"font-weight: bold\">[</span>\n",
              "        <span style=\"font-weight: bold\">{</span><span style=\"color: #008000; text-decoration-color: #008000\">'name'</span>: <span style=\"color: #008000; text-decoration-color: #008000\">'田中太郎'</span>, <span style=\"color: #008000; text-decoration-color: #008000\">'location'</span>: <span style=\"color: #008000; text-decoration-color: #008000\">'東京都渋谷区神南1-2-3'</span><span style=\"font-weight: bold\">}</span>,\n",
              "        <span style=\"font-weight: bold\">{</span><span style=\"color: #008000; text-decoration-color: #008000\">'name'</span>: <span style=\"color: #008000; text-decoration-color: #008000\">'山田花子'</span>, <span style=\"color: #008000; text-decoration-color: #008000\">'location'</span>: <span style=\"color: #008000; text-decoration-color: #008000\">'大阪府大阪市中央区難波5-6-7'</span><span style=\"font-weight: bold\">}</span>,\n",
              "        <span style=\"font-weight: bold\">{</span><span style=\"color: #008000; text-decoration-color: #008000\">'name'</span>: <span style=\"color: #008000; text-decoration-color: #008000\">'鈴木一郎'</span>, <span style=\"color: #008000; text-decoration-color: #008000\">'location'</span>: <span style=\"color: #008000; text-decoration-color: #008000\">'北海道札幌市中央区北1-2-3'</span><span style=\"font-weight: bold\">}</span>,\n",
              "        <span style=\"font-weight: bold\">{</span><span style=\"color: #008000; text-decoration-color: #008000\">'name'</span>: <span style=\"color: #008000; text-decoration-color: #008000\">'佐藤明美'</span>, <span style=\"color: #008000; text-decoration-color: #008000\">'location'</span>: <span style=\"color: #008000; text-decoration-color: #008000\">'福岡県福岡市博多区博多1-2-3'</span><span style=\"font-weight: bold\">}</span>,\n",
              "        <span style=\"font-weight: bold\">{</span><span style=\"color: #008000; text-decoration-color: #008000\">'name'</span>: <span style=\"color: #008000; text-decoration-color: #008000\">'伊藤健太'</span>, <span style=\"color: #008000; text-decoration-color: #008000\">'location'</span>: <span style=\"color: #008000; text-decoration-color: #008000\">'愛知県名古屋市中区栄2-3-4'</span><span style=\"font-weight: bold\">}</span>,\n",
              "        <span style=\"font-weight: bold\">{</span><span style=\"color: #008000; text-decoration-color: #008000\">'name'</span>: <span style=\"color: #008000; text-decoration-color: #008000\">'山田花子'</span>, <span style=\"color: #008000; text-decoration-color: #008000\">'location'</span>: <span style=\"color: #008000; text-decoration-color: #008000\">'大阪府大阪市中央区難波1-1-1'</span><span style=\"font-weight: bold\">}</span>,\n",
              "        <span style=\"font-weight: bold\">{</span><span style=\"color: #008000; text-decoration-color: #008000\">'name'</span>: <span style=\"color: #008000; text-decoration-color: #008000\">'鈴木一郎'</span>, <span style=\"color: #008000; text-decoration-color: #008000\">'location'</span>: <span style=\"color: #008000; text-decoration-color: #008000\">'北海道札幌市中央区北1条西2丁目'</span><span style=\"font-weight: bold\">}</span>,\n",
              "        <span style=\"font-weight: bold\">{</span><span style=\"color: #008000; text-decoration-color: #008000\">'name'</span>: <span style=\"color: #008000; text-decoration-color: #008000\">'佐藤明美'</span>, <span style=\"color: #008000; text-decoration-color: #008000\">'location'</span>: <span style=\"color: #008000; text-decoration-color: #008000\">'福岡県福岡市博多区博多駅前1-1'</span><span style=\"font-weight: bold\">}</span>,\n",
              "        <span style=\"font-weight: bold\">{</span><span style=\"color: #008000; text-decoration-color: #008000\">'name'</span>: <span style=\"color: #008000; text-decoration-color: #008000\">'伊藤健太'</span>, <span style=\"color: #008000; text-decoration-color: #008000\">'location'</span>: <span style=\"color: #008000; text-decoration-color: #008000\">'愛知県名古屋市中区栄3-6-1'</span><span style=\"font-weight: bold\">}</span>\n",
              "    <span style=\"font-weight: bold\">]</span>\n",
              "<span style=\"font-weight: bold\">}</span>\n",
              "</pre>\n"
            ]
          },
          "metadata": {}
        },
        {
          "output_type": "display_data",
          "data": {
            "text/plain": [
              "\u001b[1m{\u001b[0m\n",
              "    \u001b[32m'addressbook'\u001b[0m: \u001b[1m[\u001b[0m\n",
              "        \u001b[1m{\u001b[0m\u001b[32m'name'\u001b[0m: \u001b[32m'田中太郎'\u001b[0m, \u001b[32m'location'\u001b[0m: \u001b[32m'東京都渋谷区神南1-2-3'\u001b[0m\u001b[1m}\u001b[0m,\n",
              "        \u001b[1m{\u001b[0m\u001b[32m'name'\u001b[0m: \u001b[32m'山田花子'\u001b[0m, \u001b[32m'location'\u001b[0m: \u001b[32m'大阪府大阪市中央区難波5-6-7'\u001b[0m\u001b[1m}\u001b[0m,\n",
              "        \u001b[1m{\u001b[0m\u001b[32m'name'\u001b[0m: \u001b[32m'鈴木一郎'\u001b[0m, \u001b[32m'location'\u001b[0m: \u001b[32m'北海道札幌市中央区北1-2-3'\u001b[0m\u001b[1m}\u001b[0m,\n",
              "        \u001b[1m{\u001b[0m\u001b[32m'name'\u001b[0m: \u001b[32m'佐藤明美'\u001b[0m, \u001b[32m'location'\u001b[0m: \u001b[32m'福岡県福岡市博多区博多1-2-3'\u001b[0m\u001b[1m}\u001b[0m,\n",
              "        \u001b[1m{\u001b[0m\u001b[32m'name'\u001b[0m: \u001b[32m'伊藤健太'\u001b[0m, \u001b[32m'location'\u001b[0m: \u001b[32m'愛知県名古屋市中区栄2-3-4'\u001b[0m\u001b[1m}\u001b[0m,\n",
              "        \u001b[1m{\u001b[0m\u001b[32m'name'\u001b[0m: \u001b[32m'山田花子'\u001b[0m, \u001b[32m'location'\u001b[0m: \u001b[32m'大阪府大阪市中央区難波1-1-1'\u001b[0m\u001b[1m}\u001b[0m,\n",
              "        \u001b[1m{\u001b[0m\u001b[32m'name'\u001b[0m: \u001b[32m'鈴木一郎'\u001b[0m, \u001b[32m'location'\u001b[0m: \u001b[32m'北海道札幌市中央区北1条西2丁目'\u001b[0m\u001b[1m}\u001b[0m,\n",
              "        \u001b[1m{\u001b[0m\u001b[32m'name'\u001b[0m: \u001b[32m'佐藤明美'\u001b[0m, \u001b[32m'location'\u001b[0m: \u001b[32m'福岡県福岡市博多区博多駅前1-1'\u001b[0m\u001b[1m}\u001b[0m,\n",
              "        \u001b[1m{\u001b[0m\u001b[32m'name'\u001b[0m: \u001b[32m'伊藤健太'\u001b[0m, \u001b[32m'location'\u001b[0m: \u001b[32m'愛知県名古屋市中区栄3-6-1'\u001b[0m\u001b[1m}\u001b[0m,\n",
              "        \u001b[1m{\u001b[0m\u001b[32m'name'\u001b[0m: \u001b[32m'鈴木一郎'\u001b[0m, \u001b[32m'location'\u001b[0m: \u001b[32m'北海道札幌市中央区北1-1-1'\u001b[0m\u001b[1m}\u001b[0m,\n",
              "        \u001b[1m{\u001b[0m\u001b[32m'name'\u001b[0m: \u001b[32m'佐藤明美'\u001b[0m, \u001b[32m'location'\u001b[0m: \u001b[32m'福岡県福岡市博多区博多1-1-1'\u001b[0m\u001b[1m}\u001b[0m,\n",
              "        \u001b[1m{\u001b[0m\u001b[32m'name'\u001b[0m: \u001b[32m'伊藤健太'\u001b[0m, \u001b[32m'location'\u001b[0m: \u001b[32m'愛知県名古屋市中区栄3-4-5'\u001b[0m\u001b[1m}\u001b[0m\n",
              "    \u001b[1m]\u001b[0m\n",
              "\u001b[1m}\u001b[0m\n"
            ],
            "text/html": [
              "<pre style=\"white-space:pre;overflow-x:auto;line-height:normal;font-family:Menlo,'DejaVu Sans Mono',consolas,'Courier New',monospace\"><span style=\"font-weight: bold\">{</span>\n",
              "    <span style=\"color: #008000; text-decoration-color: #008000\">'addressbook'</span>: <span style=\"font-weight: bold\">[</span>\n",
              "        <span style=\"font-weight: bold\">{</span><span style=\"color: #008000; text-decoration-color: #008000\">'name'</span>: <span style=\"color: #008000; text-decoration-color: #008000\">'田中太郎'</span>, <span style=\"color: #008000; text-decoration-color: #008000\">'location'</span>: <span style=\"color: #008000; text-decoration-color: #008000\">'東京都渋谷区神南1-2-3'</span><span style=\"font-weight: bold\">}</span>,\n",
              "        <span style=\"font-weight: bold\">{</span><span style=\"color: #008000; text-decoration-color: #008000\">'name'</span>: <span style=\"color: #008000; text-decoration-color: #008000\">'山田花子'</span>, <span style=\"color: #008000; text-decoration-color: #008000\">'location'</span>: <span style=\"color: #008000; text-decoration-color: #008000\">'大阪府大阪市中央区難波5-6-7'</span><span style=\"font-weight: bold\">}</span>,\n",
              "        <span style=\"font-weight: bold\">{</span><span style=\"color: #008000; text-decoration-color: #008000\">'name'</span>: <span style=\"color: #008000; text-decoration-color: #008000\">'鈴木一郎'</span>, <span style=\"color: #008000; text-decoration-color: #008000\">'location'</span>: <span style=\"color: #008000; text-decoration-color: #008000\">'北海道札幌市中央区北1-2-3'</span><span style=\"font-weight: bold\">}</span>,\n",
              "        <span style=\"font-weight: bold\">{</span><span style=\"color: #008000; text-decoration-color: #008000\">'name'</span>: <span style=\"color: #008000; text-decoration-color: #008000\">'佐藤明美'</span>, <span style=\"color: #008000; text-decoration-color: #008000\">'location'</span>: <span style=\"color: #008000; text-decoration-color: #008000\">'福岡県福岡市博多区博多1-2-3'</span><span style=\"font-weight: bold\">}</span>,\n",
              "        <span style=\"font-weight: bold\">{</span><span style=\"color: #008000; text-decoration-color: #008000\">'name'</span>: <span style=\"color: #008000; text-decoration-color: #008000\">'伊藤健太'</span>, <span style=\"color: #008000; text-decoration-color: #008000\">'location'</span>: <span style=\"color: #008000; text-decoration-color: #008000\">'愛知県名古屋市中区栄2-3-4'</span><span style=\"font-weight: bold\">}</span>,\n",
              "        <span style=\"font-weight: bold\">{</span><span style=\"color: #008000; text-decoration-color: #008000\">'name'</span>: <span style=\"color: #008000; text-decoration-color: #008000\">'山田花子'</span>, <span style=\"color: #008000; text-decoration-color: #008000\">'location'</span>: <span style=\"color: #008000; text-decoration-color: #008000\">'大阪府大阪市中央区難波1-1-1'</span><span style=\"font-weight: bold\">}</span>,\n",
              "        <span style=\"font-weight: bold\">{</span><span style=\"color: #008000; text-decoration-color: #008000\">'name'</span>: <span style=\"color: #008000; text-decoration-color: #008000\">'鈴木一郎'</span>, <span style=\"color: #008000; text-decoration-color: #008000\">'location'</span>: <span style=\"color: #008000; text-decoration-color: #008000\">'北海道札幌市中央区北1条西2丁目'</span><span style=\"font-weight: bold\">}</span>,\n",
              "        <span style=\"font-weight: bold\">{</span><span style=\"color: #008000; text-decoration-color: #008000\">'name'</span>: <span style=\"color: #008000; text-decoration-color: #008000\">'佐藤明美'</span>, <span style=\"color: #008000; text-decoration-color: #008000\">'location'</span>: <span style=\"color: #008000; text-decoration-color: #008000\">'福岡県福岡市博多区博多駅前1-1'</span><span style=\"font-weight: bold\">}</span>,\n",
              "        <span style=\"font-weight: bold\">{</span><span style=\"color: #008000; text-decoration-color: #008000\">'name'</span>: <span style=\"color: #008000; text-decoration-color: #008000\">'伊藤健太'</span>, <span style=\"color: #008000; text-decoration-color: #008000\">'location'</span>: <span style=\"color: #008000; text-decoration-color: #008000\">'愛知県名古屋市中区栄3-6-1'</span><span style=\"font-weight: bold\">}</span>,\n",
              "        <span style=\"font-weight: bold\">{</span><span style=\"color: #008000; text-decoration-color: #008000\">'name'</span>: <span style=\"color: #008000; text-decoration-color: #008000\">'鈴木一郎'</span>, <span style=\"color: #008000; text-decoration-color: #008000\">'location'</span>: <span style=\"color: #008000; text-decoration-color: #008000\">'北海道札幌市中央区北1-1-1'</span><span style=\"font-weight: bold\">}</span>,\n",
              "        <span style=\"font-weight: bold\">{</span><span style=\"color: #008000; text-decoration-color: #008000\">'name'</span>: <span style=\"color: #008000; text-decoration-color: #008000\">'佐藤明美'</span>, <span style=\"color: #008000; text-decoration-color: #008000\">'location'</span>: <span style=\"color: #008000; text-decoration-color: #008000\">'福岡県福岡市博多区博多1-1-1'</span><span style=\"font-weight: bold\">}</span>,\n",
              "        <span style=\"font-weight: bold\">{</span><span style=\"color: #008000; text-decoration-color: #008000\">'name'</span>: <span style=\"color: #008000; text-decoration-color: #008000\">'伊藤健太'</span>, <span style=\"color: #008000; text-decoration-color: #008000\">'location'</span>: <span style=\"color: #008000; text-decoration-color: #008000\">'愛知県名古屋市中区栄3-4-5'</span><span style=\"font-weight: bold\">}</span>\n",
              "    <span style=\"font-weight: bold\">]</span>\n",
              "<span style=\"font-weight: bold\">}</span>\n",
              "</pre>\n"
            ]
          },
          "metadata": {}
        },
        {
          "output_type": "display_data",
          "data": {
            "text/plain": [
              "\u001b[1m{\u001b[0m\n",
              "    \u001b[32m'addressbook'\u001b[0m: \u001b[1m[\u001b[0m\n",
              "        \u001b[1m{\u001b[0m\u001b[32m'name'\u001b[0m: \u001b[32m'田中太郎'\u001b[0m, \u001b[32m'location'\u001b[0m: \u001b[32m'東京都渋谷区神南1-2-3'\u001b[0m\u001b[1m}\u001b[0m,\n",
              "        \u001b[1m{\u001b[0m\u001b[32m'name'\u001b[0m: \u001b[32m'山田花子'\u001b[0m, \u001b[32m'location'\u001b[0m: \u001b[32m'大阪府大阪市中央区難波5-6-7'\u001b[0m\u001b[1m}\u001b[0m,\n",
              "        \u001b[1m{\u001b[0m\u001b[32m'name'\u001b[0m: \u001b[32m'鈴木一郎'\u001b[0m, \u001b[32m'location'\u001b[0m: \u001b[32m'北海道札幌市中央区北1-2-3'\u001b[0m\u001b[1m}\u001b[0m,\n",
              "        \u001b[1m{\u001b[0m\u001b[32m'name'\u001b[0m: \u001b[32m'佐藤明美'\u001b[0m, \u001b[32m'location'\u001b[0m: \u001b[32m'福岡県福岡市博多区博多1-2-3'\u001b[0m\u001b[1m}\u001b[0m,\n",
              "        \u001b[1m{\u001b[0m\u001b[32m'name'\u001b[0m: \u001b[32m'伊藤健太'\u001b[0m, \u001b[32m'location'\u001b[0m: \u001b[32m'愛知県名古屋市中区栄2-3-4'\u001b[0m\u001b[1m}\u001b[0m,\n",
              "        \u001b[1m{\u001b[0m\u001b[32m'name'\u001b[0m: \u001b[32m'山田花子'\u001b[0m, \u001b[32m'location'\u001b[0m: \u001b[32m'大阪府大阪市中央区難波1-1-1'\u001b[0m\u001b[1m}\u001b[0m,\n",
              "        \u001b[1m{\u001b[0m\u001b[32m'name'\u001b[0m: \u001b[32m'鈴木一郎'\u001b[0m, \u001b[32m'location'\u001b[0m: \u001b[32m'北海道札幌市中央区北1条西2丁目'\u001b[0m\u001b[1m}\u001b[0m,\n",
              "        \u001b[1m{\u001b[0m\u001b[32m'name'\u001b[0m: \u001b[32m'佐藤明美'\u001b[0m, \u001b[32m'location'\u001b[0m: \u001b[32m'福岡県福岡市博多区博多駅前1-1'\u001b[0m\u001b[1m}\u001b[0m,\n",
              "        \u001b[1m{\u001b[0m\u001b[32m'name'\u001b[0m: \u001b[32m'伊藤健太'\u001b[0m, \u001b[32m'location'\u001b[0m: \u001b[32m'愛知県名古屋市中区栄3-6-1'\u001b[0m\u001b[1m}\u001b[0m,\n",
              "        \u001b[1m{\u001b[0m\u001b[32m'name'\u001b[0m: \u001b[32m'鈴木一郎'\u001b[0m, \u001b[32m'location'\u001b[0m: \u001b[32m'北海道札幌市中央区北1-1-1'\u001b[0m\u001b[1m}\u001b[0m,\n",
              "        \u001b[1m{\u001b[0m\u001b[32m'name'\u001b[0m: \u001b[32m'佐藤明美'\u001b[0m, \u001b[32m'location'\u001b[0m: \u001b[32m'福岡県福岡市博多区博多1-1-1'\u001b[0m\u001b[1m}\u001b[0m,\n",
              "        \u001b[1m{\u001b[0m\u001b[32m'name'\u001b[0m: \u001b[32m'伊藤健太'\u001b[0m, \u001b[32m'location'\u001b[0m: \u001b[32m'愛知県名古屋市中区栄3-4-5'\u001b[0m\u001b[1m}\u001b[0m\n",
              "    \u001b[1m]\u001b[0m\n",
              "\u001b[1m}\u001b[0m\n"
            ],
            "text/html": [
              "<pre style=\"white-space:pre;overflow-x:auto;line-height:normal;font-family:Menlo,'DejaVu Sans Mono',consolas,'Courier New',monospace\"><span style=\"font-weight: bold\">{</span>\n",
              "    <span style=\"color: #008000; text-decoration-color: #008000\">'addressbook'</span>: <span style=\"font-weight: bold\">[</span>\n",
              "        <span style=\"font-weight: bold\">{</span><span style=\"color: #008000; text-decoration-color: #008000\">'name'</span>: <span style=\"color: #008000; text-decoration-color: #008000\">'田中太郎'</span>, <span style=\"color: #008000; text-decoration-color: #008000\">'location'</span>: <span style=\"color: #008000; text-decoration-color: #008000\">'東京都渋谷区神南1-2-3'</span><span style=\"font-weight: bold\">}</span>,\n",
              "        <span style=\"font-weight: bold\">{</span><span style=\"color: #008000; text-decoration-color: #008000\">'name'</span>: <span style=\"color: #008000; text-decoration-color: #008000\">'山田花子'</span>, <span style=\"color: #008000; text-decoration-color: #008000\">'location'</span>: <span style=\"color: #008000; text-decoration-color: #008000\">'大阪府大阪市中央区難波5-6-7'</span><span style=\"font-weight: bold\">}</span>,\n",
              "        <span style=\"font-weight: bold\">{</span><span style=\"color: #008000; text-decoration-color: #008000\">'name'</span>: <span style=\"color: #008000; text-decoration-color: #008000\">'鈴木一郎'</span>, <span style=\"color: #008000; text-decoration-color: #008000\">'location'</span>: <span style=\"color: #008000; text-decoration-color: #008000\">'北海道札幌市中央区北1-2-3'</span><span style=\"font-weight: bold\">}</span>,\n",
              "        <span style=\"font-weight: bold\">{</span><span style=\"color: #008000; text-decoration-color: #008000\">'name'</span>: <span style=\"color: #008000; text-decoration-color: #008000\">'佐藤明美'</span>, <span style=\"color: #008000; text-decoration-color: #008000\">'location'</span>: <span style=\"color: #008000; text-decoration-color: #008000\">'福岡県福岡市博多区博多1-2-3'</span><span style=\"font-weight: bold\">}</span>,\n",
              "        <span style=\"font-weight: bold\">{</span><span style=\"color: #008000; text-decoration-color: #008000\">'name'</span>: <span style=\"color: #008000; text-decoration-color: #008000\">'伊藤健太'</span>, <span style=\"color: #008000; text-decoration-color: #008000\">'location'</span>: <span style=\"color: #008000; text-decoration-color: #008000\">'愛知県名古屋市中区栄2-3-4'</span><span style=\"font-weight: bold\">}</span>,\n",
              "        <span style=\"font-weight: bold\">{</span><span style=\"color: #008000; text-decoration-color: #008000\">'name'</span>: <span style=\"color: #008000; text-decoration-color: #008000\">'山田花子'</span>, <span style=\"color: #008000; text-decoration-color: #008000\">'location'</span>: <span style=\"color: #008000; text-decoration-color: #008000\">'大阪府大阪市中央区難波1-1-1'</span><span style=\"font-weight: bold\">}</span>,\n",
              "        <span style=\"font-weight: bold\">{</span><span style=\"color: #008000; text-decoration-color: #008000\">'name'</span>: <span style=\"color: #008000; text-decoration-color: #008000\">'鈴木一郎'</span>, <span style=\"color: #008000; text-decoration-color: #008000\">'location'</span>: <span style=\"color: #008000; text-decoration-color: #008000\">'北海道札幌市中央区北1条西2丁目'</span><span style=\"font-weight: bold\">}</span>,\n",
              "        <span style=\"font-weight: bold\">{</span><span style=\"color: #008000; text-decoration-color: #008000\">'name'</span>: <span style=\"color: #008000; text-decoration-color: #008000\">'佐藤明美'</span>, <span style=\"color: #008000; text-decoration-color: #008000\">'location'</span>: <span style=\"color: #008000; text-decoration-color: #008000\">'福岡県福岡市博多区博多駅前1-1'</span><span style=\"font-weight: bold\">}</span>,\n",
              "        <span style=\"font-weight: bold\">{</span><span style=\"color: #008000; text-decoration-color: #008000\">'name'</span>: <span style=\"color: #008000; text-decoration-color: #008000\">'伊藤健太'</span>, <span style=\"color: #008000; text-decoration-color: #008000\">'location'</span>: <span style=\"color: #008000; text-decoration-color: #008000\">'愛知県名古屋市中区栄3-6-1'</span><span style=\"font-weight: bold\">}</span>,\n",
              "        <span style=\"font-weight: bold\">{</span><span style=\"color: #008000; text-decoration-color: #008000\">'name'</span>: <span style=\"color: #008000; text-decoration-color: #008000\">'鈴木一郎'</span>, <span style=\"color: #008000; text-decoration-color: #008000\">'location'</span>: <span style=\"color: #008000; text-decoration-color: #008000\">'北海道札幌市中央区北1-1-1'</span><span style=\"font-weight: bold\">}</span>,\n",
              "        <span style=\"font-weight: bold\">{</span><span style=\"color: #008000; text-decoration-color: #008000\">'name'</span>: <span style=\"color: #008000; text-decoration-color: #008000\">'佐藤明美'</span>, <span style=\"color: #008000; text-decoration-color: #008000\">'location'</span>: <span style=\"color: #008000; text-decoration-color: #008000\">'福岡県福岡市博多区博多1-1-1'</span><span style=\"font-weight: bold\">}</span>,\n",
              "        <span style=\"font-weight: bold\">{</span><span style=\"color: #008000; text-decoration-color: #008000\">'name'</span>: <span style=\"color: #008000; text-decoration-color: #008000\">'伊藤健太'</span>, <span style=\"color: #008000; text-decoration-color: #008000\">'location'</span>: <span style=\"color: #008000; text-decoration-color: #008000\">'愛知県名古屋市中区栄3-4-5'</span><span style=\"font-weight: bold\">}</span>\n",
              "    <span style=\"font-weight: bold\">]</span>\n",
              "<span style=\"font-weight: bold\">}</span>\n",
              "</pre>\n"
            ]
          },
          "metadata": {}
        },
        {
          "output_type": "display_data",
          "data": {
            "text/plain": [
              "\u001b[1m{\u001b[0m\n",
              "    \u001b[32m'addressbook'\u001b[0m: \u001b[1m[\u001b[0m\n",
              "        \u001b[1m{\u001b[0m\u001b[32m'name'\u001b[0m: \u001b[32m'田中太郎'\u001b[0m, \u001b[32m'location'\u001b[0m: \u001b[32m'東京都渋谷区神南1-2-3'\u001b[0m\u001b[1m}\u001b[0m,\n",
              "        \u001b[1m{\u001b[0m\u001b[32m'name'\u001b[0m: \u001b[32m'山田花子'\u001b[0m, \u001b[32m'location'\u001b[0m: \u001b[32m'大阪府大阪市中央区難波5-6-7'\u001b[0m\u001b[1m}\u001b[0m,\n",
              "        \u001b[1m{\u001b[0m\u001b[32m'name'\u001b[0m: \u001b[32m'鈴木一郎'\u001b[0m, \u001b[32m'location'\u001b[0m: \u001b[32m'北海道札幌市中央区北1-2-3'\u001b[0m\u001b[1m}\u001b[0m,\n",
              "        \u001b[1m{\u001b[0m\u001b[32m'name'\u001b[0m: \u001b[32m'佐藤明美'\u001b[0m, \u001b[32m'location'\u001b[0m: \u001b[32m'福岡県福岡市博多区博多1-2-3'\u001b[0m\u001b[1m}\u001b[0m,\n",
              "        \u001b[1m{\u001b[0m\u001b[32m'name'\u001b[0m: \u001b[32m'伊藤健太'\u001b[0m, \u001b[32m'location'\u001b[0m: \u001b[32m'愛知県名古屋市中区栄2-3-4'\u001b[0m\u001b[1m}\u001b[0m,\n",
              "        \u001b[1m{\u001b[0m\u001b[32m'name'\u001b[0m: \u001b[32m'山田花子'\u001b[0m, \u001b[32m'location'\u001b[0m: \u001b[32m'大阪府大阪市中央区難波1-1-1'\u001b[0m\u001b[1m}\u001b[0m,\n",
              "        \u001b[1m{\u001b[0m\u001b[32m'name'\u001b[0m: \u001b[32m'鈴木一郎'\u001b[0m, \u001b[32m'location'\u001b[0m: \u001b[32m'北海道札幌市中央区北1条西2丁目'\u001b[0m\u001b[1m}\u001b[0m,\n",
              "        \u001b[1m{\u001b[0m\u001b[32m'name'\u001b[0m: \u001b[32m'佐藤明美'\u001b[0m, \u001b[32m'location'\u001b[0m: \u001b[32m'福岡県福岡市博多区博多駅前1-1'\u001b[0m\u001b[1m}\u001b[0m,\n",
              "        \u001b[1m{\u001b[0m\u001b[32m'name'\u001b[0m: \u001b[32m'伊藤健太'\u001b[0m, \u001b[32m'location'\u001b[0m: \u001b[32m'愛知県名古屋市中区栄3-6-1'\u001b[0m\u001b[1m}\u001b[0m,\n",
              "        \u001b[1m{\u001b[0m\u001b[32m'name'\u001b[0m: \u001b[32m'鈴木一郎'\u001b[0m, \u001b[32m'location'\u001b[0m: \u001b[32m'北海道札幌市中央区北1-1-1'\u001b[0m\u001b[1m}\u001b[0m,\n",
              "        \u001b[1m{\u001b[0m\u001b[32m'name'\u001b[0m: \u001b[32m'佐藤明美'\u001b[0m, \u001b[32m'location'\u001b[0m: \u001b[32m'福岡県福岡市博多区博多1-1-1'\u001b[0m\u001b[1m}\u001b[0m,\n",
              "        \u001b[1m{\u001b[0m\u001b[32m'name'\u001b[0m: \u001b[32m'伊藤健太'\u001b[0m, \u001b[32m'location'\u001b[0m: \u001b[32m'愛知県名古屋市中区栄3-4-5'\u001b[0m\u001b[1m}\u001b[0m,\n",
              "        \u001b[1m{\u001b[0m\u001b[32m'name'\u001b[0m: \u001b[32m'佐藤明美'\u001b[0m, \u001b[32m'location'\u001b[0m: \u001b[32m'福岡県福岡市博多区東1-2-3'\u001b[0m\u001b[1m}\u001b[0m\n",
              "    \u001b[1m]\u001b[0m\n",
              "\u001b[1m}\u001b[0m\n"
            ],
            "text/html": [
              "<pre style=\"white-space:pre;overflow-x:auto;line-height:normal;font-family:Menlo,'DejaVu Sans Mono',consolas,'Courier New',monospace\"><span style=\"font-weight: bold\">{</span>\n",
              "    <span style=\"color: #008000; text-decoration-color: #008000\">'addressbook'</span>: <span style=\"font-weight: bold\">[</span>\n",
              "        <span style=\"font-weight: bold\">{</span><span style=\"color: #008000; text-decoration-color: #008000\">'name'</span>: <span style=\"color: #008000; text-decoration-color: #008000\">'田中太郎'</span>, <span style=\"color: #008000; text-decoration-color: #008000\">'location'</span>: <span style=\"color: #008000; text-decoration-color: #008000\">'東京都渋谷区神南1-2-3'</span><span style=\"font-weight: bold\">}</span>,\n",
              "        <span style=\"font-weight: bold\">{</span><span style=\"color: #008000; text-decoration-color: #008000\">'name'</span>: <span style=\"color: #008000; text-decoration-color: #008000\">'山田花子'</span>, <span style=\"color: #008000; text-decoration-color: #008000\">'location'</span>: <span style=\"color: #008000; text-decoration-color: #008000\">'大阪府大阪市中央区難波5-6-7'</span><span style=\"font-weight: bold\">}</span>,\n",
              "        <span style=\"font-weight: bold\">{</span><span style=\"color: #008000; text-decoration-color: #008000\">'name'</span>: <span style=\"color: #008000; text-decoration-color: #008000\">'鈴木一郎'</span>, <span style=\"color: #008000; text-decoration-color: #008000\">'location'</span>: <span style=\"color: #008000; text-decoration-color: #008000\">'北海道札幌市中央区北1-2-3'</span><span style=\"font-weight: bold\">}</span>,\n",
              "        <span style=\"font-weight: bold\">{</span><span style=\"color: #008000; text-decoration-color: #008000\">'name'</span>: <span style=\"color: #008000; text-decoration-color: #008000\">'佐藤明美'</span>, <span style=\"color: #008000; text-decoration-color: #008000\">'location'</span>: <span style=\"color: #008000; text-decoration-color: #008000\">'福岡県福岡市博多区博多1-2-3'</span><span style=\"font-weight: bold\">}</span>,\n",
              "        <span style=\"font-weight: bold\">{</span><span style=\"color: #008000; text-decoration-color: #008000\">'name'</span>: <span style=\"color: #008000; text-decoration-color: #008000\">'伊藤健太'</span>, <span style=\"color: #008000; text-decoration-color: #008000\">'location'</span>: <span style=\"color: #008000; text-decoration-color: #008000\">'愛知県名古屋市中区栄2-3-4'</span><span style=\"font-weight: bold\">}</span>,\n",
              "        <span style=\"font-weight: bold\">{</span><span style=\"color: #008000; text-decoration-color: #008000\">'name'</span>: <span style=\"color: #008000; text-decoration-color: #008000\">'山田花子'</span>, <span style=\"color: #008000; text-decoration-color: #008000\">'location'</span>: <span style=\"color: #008000; text-decoration-color: #008000\">'大阪府大阪市中央区難波1-1-1'</span><span style=\"font-weight: bold\">}</span>,\n",
              "        <span style=\"font-weight: bold\">{</span><span style=\"color: #008000; text-decoration-color: #008000\">'name'</span>: <span style=\"color: #008000; text-decoration-color: #008000\">'鈴木一郎'</span>, <span style=\"color: #008000; text-decoration-color: #008000\">'location'</span>: <span style=\"color: #008000; text-decoration-color: #008000\">'北海道札幌市中央区北1条西2丁目'</span><span style=\"font-weight: bold\">}</span>,\n",
              "        <span style=\"font-weight: bold\">{</span><span style=\"color: #008000; text-decoration-color: #008000\">'name'</span>: <span style=\"color: #008000; text-decoration-color: #008000\">'佐藤明美'</span>, <span style=\"color: #008000; text-decoration-color: #008000\">'location'</span>: <span style=\"color: #008000; text-decoration-color: #008000\">'福岡県福岡市博多区博多駅前1-1'</span><span style=\"font-weight: bold\">}</span>,\n",
              "        <span style=\"font-weight: bold\">{</span><span style=\"color: #008000; text-decoration-color: #008000\">'name'</span>: <span style=\"color: #008000; text-decoration-color: #008000\">'伊藤健太'</span>, <span style=\"color: #008000; text-decoration-color: #008000\">'location'</span>: <span style=\"color: #008000; text-decoration-color: #008000\">'愛知県名古屋市中区栄3-6-1'</span><span style=\"font-weight: bold\">}</span>,\n",
              "        <span style=\"font-weight: bold\">{</span><span style=\"color: #008000; text-decoration-color: #008000\">'name'</span>: <span style=\"color: #008000; text-decoration-color: #008000\">'鈴木一郎'</span>, <span style=\"color: #008000; text-decoration-color: #008000\">'location'</span>: <span style=\"color: #008000; text-decoration-color: #008000\">'北海道札幌市中央区北1-1-1'</span><span style=\"font-weight: bold\">}</span>,\n",
              "        <span style=\"font-weight: bold\">{</span><span style=\"color: #008000; text-decoration-color: #008000\">'name'</span>: <span style=\"color: #008000; text-decoration-color: #008000\">'佐藤明美'</span>, <span style=\"color: #008000; text-decoration-color: #008000\">'location'</span>: <span style=\"color: #008000; text-decoration-color: #008000\">'福岡県福岡市博多区博多1-1-1'</span><span style=\"font-weight: bold\">}</span>,\n",
              "        <span style=\"font-weight: bold\">{</span><span style=\"color: #008000; text-decoration-color: #008000\">'name'</span>: <span style=\"color: #008000; text-decoration-color: #008000\">'伊藤健太'</span>, <span style=\"color: #008000; text-decoration-color: #008000\">'location'</span>: <span style=\"color: #008000; text-decoration-color: #008000\">'愛知県名古屋市中区栄3-4-5'</span><span style=\"font-weight: bold\">}</span>,\n",
              "        <span style=\"font-weight: bold\">{</span><span style=\"color: #008000; text-decoration-color: #008000\">'name'</span>: <span style=\"color: #008000; text-decoration-color: #008000\">'佐藤明美'</span>, <span style=\"color: #008000; text-decoration-color: #008000\">'location'</span>: <span style=\"color: #008000; text-decoration-color: #008000\">'福岡県福岡市博多区東1-2-3'</span><span style=\"font-weight: bold\">}</span>\n",
              "    <span style=\"font-weight: bold\">]</span>\n",
              "<span style=\"font-weight: bold\">}</span>\n",
              "</pre>\n"
            ]
          },
          "metadata": {}
        },
        {
          "output_type": "display_data",
          "data": {
            "text/plain": [
              "\u001b[1m{\u001b[0m\n",
              "    \u001b[32m'addressbook'\u001b[0m: \u001b[1m[\u001b[0m\n",
              "        \u001b[1m{\u001b[0m\u001b[32m'name'\u001b[0m: \u001b[32m'田中太郎'\u001b[0m, \u001b[32m'location'\u001b[0m: \u001b[32m'東京都渋谷区神南1-2-3'\u001b[0m\u001b[1m}\u001b[0m,\n",
              "        \u001b[1m{\u001b[0m\u001b[32m'name'\u001b[0m: \u001b[32m'山田花子'\u001b[0m, \u001b[32m'location'\u001b[0m: \u001b[32m'大阪府大阪市中央区難波5-6-7'\u001b[0m\u001b[1m}\u001b[0m,\n",
              "        \u001b[1m{\u001b[0m\u001b[32m'name'\u001b[0m: \u001b[32m'鈴木一郎'\u001b[0m, \u001b[32m'location'\u001b[0m: \u001b[32m'北海道札幌市中央区北1-2-3'\u001b[0m\u001b[1m}\u001b[0m,\n",
              "        \u001b[1m{\u001b[0m\u001b[32m'name'\u001b[0m: \u001b[32m'佐藤明美'\u001b[0m, \u001b[32m'location'\u001b[0m: \u001b[32m'福岡県福岡市博多区博多1-2-3'\u001b[0m\u001b[1m}\u001b[0m,\n",
              "        \u001b[1m{\u001b[0m\u001b[32m'name'\u001b[0m: \u001b[32m'伊藤健太'\u001b[0m, \u001b[32m'location'\u001b[0m: \u001b[32m'愛知県名古屋市中区栄2-3-4'\u001b[0m\u001b[1m}\u001b[0m,\n",
              "        \u001b[1m{\u001b[0m\u001b[32m'name'\u001b[0m: \u001b[32m'山田花子'\u001b[0m, \u001b[32m'location'\u001b[0m: \u001b[32m'大阪府大阪市中央区難波1-1-1'\u001b[0m\u001b[1m}\u001b[0m,\n",
              "        \u001b[1m{\u001b[0m\u001b[32m'name'\u001b[0m: \u001b[32m'鈴木一郎'\u001b[0m, \u001b[32m'location'\u001b[0m: \u001b[32m'北海道札幌市中央区北1条西2丁目'\u001b[0m\u001b[1m}\u001b[0m,\n",
              "        \u001b[1m{\u001b[0m\u001b[32m'name'\u001b[0m: \u001b[32m'佐藤明美'\u001b[0m, \u001b[32m'location'\u001b[0m: \u001b[32m'福岡県福岡市博多区博多駅前1-1'\u001b[0m\u001b[1m}\u001b[0m,\n",
              "        \u001b[1m{\u001b[0m\u001b[32m'name'\u001b[0m: \u001b[32m'伊藤健太'\u001b[0m, \u001b[32m'location'\u001b[0m: \u001b[32m'愛知県名古屋市中区栄3-6-1'\u001b[0m\u001b[1m}\u001b[0m,\n",
              "        \u001b[1m{\u001b[0m\u001b[32m'name'\u001b[0m: \u001b[32m'鈴木一郎'\u001b[0m, \u001b[32m'location'\u001b[0m: \u001b[32m'北海道札幌市中央区北1-1-1'\u001b[0m\u001b[1m}\u001b[0m,\n",
              "        \u001b[1m{\u001b[0m\u001b[32m'name'\u001b[0m: \u001b[32m'佐藤明美'\u001b[0m, \u001b[32m'location'\u001b[0m: \u001b[32m'福岡県福岡市博多区博多1-1-1'\u001b[0m\u001b[1m}\u001b[0m,\n",
              "        \u001b[1m{\u001b[0m\u001b[32m'name'\u001b[0m: \u001b[32m'伊藤健太'\u001b[0m, \u001b[32m'location'\u001b[0m: \u001b[32m'愛知県名古屋市中区栄3-4-5'\u001b[0m\u001b[1m}\u001b[0m,\n",
              "        \u001b[1m{\u001b[0m\u001b[32m'name'\u001b[0m: \u001b[32m'佐藤明美'\u001b[0m, \u001b[32m'location'\u001b[0m: \u001b[32m'福岡県福岡市博多区東1-2-3'\u001b[0m\u001b[1m}\u001b[0m,\n",
              "        \u001b[1m{\u001b[0m\u001b[32m'name'\u001b[0m: \u001b[32m'田中太郎'\u001b[0m, \u001b[32m'location'\u001b[0m: \u001b[32m'東京都渋谷区渋谷1-1-1'\u001b[0m\u001b[1m}\u001b[0m,\n",
              "        \u001b[1m{\u001b[0m\u001b[32m'name'\u001b[0m: \u001b[32m'山田花子'\u001b[0m, \u001b[32m'location'\u001b[0m: \u001b[32m'大阪府大阪市中央区難波5-5-5'\u001b[0m\u001b[1m}\u001b[0m,\n",
              "        \u001b[1m{\u001b[0m\u001b[32m'name'\u001b[0m: \u001b[32m'鈴木一郎'\u001b[0m, \u001b[32m'location'\u001b[0m: \u001b[32m'北海道札幌市中央区北1条西1-1'\u001b[0m\u001b[1m}\u001b[0m,\n",
              "        \u001b[1m{\u001b[0m\u001b[32m'name'\u001b[0m: \u001b[32m'伊藤健太'\u001b[0m, \u001b[32m'location'\u001b[0m: \u001b[32m'愛知県名古屋市中区栄3-3-3'\u001b[0m\u001b[1m}\u001b[0m\n",
              "    \u001b[1m]\u001b[0m\n",
              "\u001b[1m}\u001b[0m\n"
            ],
            "text/html": [
              "<pre style=\"white-space:pre;overflow-x:auto;line-height:normal;font-family:Menlo,'DejaVu Sans Mono',consolas,'Courier New',monospace\"><span style=\"font-weight: bold\">{</span>\n",
              "    <span style=\"color: #008000; text-decoration-color: #008000\">'addressbook'</span>: <span style=\"font-weight: bold\">[</span>\n",
              "        <span style=\"font-weight: bold\">{</span><span style=\"color: #008000; text-decoration-color: #008000\">'name'</span>: <span style=\"color: #008000; text-decoration-color: #008000\">'田中太郎'</span>, <span style=\"color: #008000; text-decoration-color: #008000\">'location'</span>: <span style=\"color: #008000; text-decoration-color: #008000\">'東京都渋谷区神南1-2-3'</span><span style=\"font-weight: bold\">}</span>,\n",
              "        <span style=\"font-weight: bold\">{</span><span style=\"color: #008000; text-decoration-color: #008000\">'name'</span>: <span style=\"color: #008000; text-decoration-color: #008000\">'山田花子'</span>, <span style=\"color: #008000; text-decoration-color: #008000\">'location'</span>: <span style=\"color: #008000; text-decoration-color: #008000\">'大阪府大阪市中央区難波5-6-7'</span><span style=\"font-weight: bold\">}</span>,\n",
              "        <span style=\"font-weight: bold\">{</span><span style=\"color: #008000; text-decoration-color: #008000\">'name'</span>: <span style=\"color: #008000; text-decoration-color: #008000\">'鈴木一郎'</span>, <span style=\"color: #008000; text-decoration-color: #008000\">'location'</span>: <span style=\"color: #008000; text-decoration-color: #008000\">'北海道札幌市中央区北1-2-3'</span><span style=\"font-weight: bold\">}</span>,\n",
              "        <span style=\"font-weight: bold\">{</span><span style=\"color: #008000; text-decoration-color: #008000\">'name'</span>: <span style=\"color: #008000; text-decoration-color: #008000\">'佐藤明美'</span>, <span style=\"color: #008000; text-decoration-color: #008000\">'location'</span>: <span style=\"color: #008000; text-decoration-color: #008000\">'福岡県福岡市博多区博多1-2-3'</span><span style=\"font-weight: bold\">}</span>,\n",
              "        <span style=\"font-weight: bold\">{</span><span style=\"color: #008000; text-decoration-color: #008000\">'name'</span>: <span style=\"color: #008000; text-decoration-color: #008000\">'伊藤健太'</span>, <span style=\"color: #008000; text-decoration-color: #008000\">'location'</span>: <span style=\"color: #008000; text-decoration-color: #008000\">'愛知県名古屋市中区栄2-3-4'</span><span style=\"font-weight: bold\">}</span>,\n",
              "        <span style=\"font-weight: bold\">{</span><span style=\"color: #008000; text-decoration-color: #008000\">'name'</span>: <span style=\"color: #008000; text-decoration-color: #008000\">'山田花子'</span>, <span style=\"color: #008000; text-decoration-color: #008000\">'location'</span>: <span style=\"color: #008000; text-decoration-color: #008000\">'大阪府大阪市中央区難波1-1-1'</span><span style=\"font-weight: bold\">}</span>,\n",
              "        <span style=\"font-weight: bold\">{</span><span style=\"color: #008000; text-decoration-color: #008000\">'name'</span>: <span style=\"color: #008000; text-decoration-color: #008000\">'鈴木一郎'</span>, <span style=\"color: #008000; text-decoration-color: #008000\">'location'</span>: <span style=\"color: #008000; text-decoration-color: #008000\">'北海道札幌市中央区北1条西2丁目'</span><span style=\"font-weight: bold\">}</span>,\n",
              "        <span style=\"font-weight: bold\">{</span><span style=\"color: #008000; text-decoration-color: #008000\">'name'</span>: <span style=\"color: #008000; text-decoration-color: #008000\">'佐藤明美'</span>, <span style=\"color: #008000; text-decoration-color: #008000\">'location'</span>: <span style=\"color: #008000; text-decoration-color: #008000\">'福岡県福岡市博多区博多駅前1-1'</span><span style=\"font-weight: bold\">}</span>,\n",
              "        <span style=\"font-weight: bold\">{</span><span style=\"color: #008000; text-decoration-color: #008000\">'name'</span>: <span style=\"color: #008000; text-decoration-color: #008000\">'伊藤健太'</span>, <span style=\"color: #008000; text-decoration-color: #008000\">'location'</span>: <span style=\"color: #008000; text-decoration-color: #008000\">'愛知県名古屋市中区栄3-6-1'</span><span style=\"font-weight: bold\">}</span>,\n",
              "        <span style=\"font-weight: bold\">{</span><span style=\"color: #008000; text-decoration-color: #008000\">'name'</span>: <span style=\"color: #008000; text-decoration-color: #008000\">'鈴木一郎'</span>, <span style=\"color: #008000; text-decoration-color: #008000\">'location'</span>: <span style=\"color: #008000; text-decoration-color: #008000\">'北海道札幌市中央区北1-1-1'</span><span style=\"font-weight: bold\">}</span>,\n",
              "        <span style=\"font-weight: bold\">{</span><span style=\"color: #008000; text-decoration-color: #008000\">'name'</span>: <span style=\"color: #008000; text-decoration-color: #008000\">'佐藤明美'</span>, <span style=\"color: #008000; text-decoration-color: #008000\">'location'</span>: <span style=\"color: #008000; text-decoration-color: #008000\">'福岡県福岡市博多区博多1-1-1'</span><span style=\"font-weight: bold\">}</span>,\n",
              "        <span style=\"font-weight: bold\">{</span><span style=\"color: #008000; text-decoration-color: #008000\">'name'</span>: <span style=\"color: #008000; text-decoration-color: #008000\">'伊藤健太'</span>, <span style=\"color: #008000; text-decoration-color: #008000\">'location'</span>: <span style=\"color: #008000; text-decoration-color: #008000\">'愛知県名古屋市中区栄3-4-5'</span><span style=\"font-weight: bold\">}</span>,\n",
              "        <span style=\"font-weight: bold\">{</span><span style=\"color: #008000; text-decoration-color: #008000\">'name'</span>: <span style=\"color: #008000; text-decoration-color: #008000\">'佐藤明美'</span>, <span style=\"color: #008000; text-decoration-color: #008000\">'location'</span>: <span style=\"color: #008000; text-decoration-color: #008000\">'福岡県福岡市博多区東1-2-3'</span><span style=\"font-weight: bold\">}</span>,\n",
              "        <span style=\"font-weight: bold\">{</span><span style=\"color: #008000; text-decoration-color: #008000\">'name'</span>: <span style=\"color: #008000; text-decoration-color: #008000\">'田中太郎'</span>, <span style=\"color: #008000; text-decoration-color: #008000\">'location'</span>: <span style=\"color: #008000; text-decoration-color: #008000\">'東京都渋谷区渋谷1-1-1'</span><span style=\"font-weight: bold\">}</span>,\n",
              "        <span style=\"font-weight: bold\">{</span><span style=\"color: #008000; text-decoration-color: #008000\">'name'</span>: <span style=\"color: #008000; text-decoration-color: #008000\">'山田花子'</span>, <span style=\"color: #008000; text-decoration-color: #008000\">'location'</span>: <span style=\"color: #008000; text-decoration-color: #008000\">'大阪府大阪市中央区難波5-5-5'</span><span style=\"font-weight: bold\">}</span>,\n",
              "        <span style=\"font-weight: bold\">{</span><span style=\"color: #008000; text-decoration-color: #008000\">'name'</span>: <span style=\"color: #008000; text-decoration-color: #008000\">'鈴木一郎'</span>, <span style=\"color: #008000; text-decoration-color: #008000\">'location'</span>: <span style=\"color: #008000; text-decoration-color: #008000\">'北海道札幌市中央区北1条西1-1'</span><span style=\"font-weight: bold\">}</span>,\n",
              "        <span style=\"font-weight: bold\">{</span><span style=\"color: #008000; text-decoration-color: #008000\">'name'</span>: <span style=\"color: #008000; text-decoration-color: #008000\">'伊藤健太'</span>, <span style=\"color: #008000; text-decoration-color: #008000\">'location'</span>: <span style=\"color: #008000; text-decoration-color: #008000\">'愛知県名古屋市中区栄3-3-3'</span><span style=\"font-weight: bold\">}</span>\n",
              "    <span style=\"font-weight: bold\">]</span>\n",
              "<span style=\"font-weight: bold\">}</span>\n",
              "</pre>\n"
            ]
          },
          "metadata": {}
        },
        {
          "output_type": "execute_result",
          "data": {
            "text/plain": [
              "{'addressbook': [{'name': '田中太郎', 'location': '東京都渋谷区神南1-2-3'},\n",
              "  {'name': '山田花子', 'location': '大阪府大阪市中央区難波5-6-7'},\n",
              "  {'name': '鈴木一郎', 'location': '北海道札幌市中央区北1-2-3'},\n",
              "  {'name': '佐藤明美', 'location': '福岡県福岡市博多区博多1-2-3'},\n",
              "  {'name': '伊藤健太', 'location': '愛知県名古屋市中区栄2-3-4'},\n",
              "  {'name': '山田花子', 'location': '大阪府大阪市中央区難波1-1-1'},\n",
              "  {'name': '鈴木一郎', 'location': '北海道札幌市中央区北1条西2丁目'},\n",
              "  {'name': '佐藤明美', 'location': '福岡県福岡市博多区博多駅前1-1'},\n",
              "  {'name': '伊藤健太', 'location': '愛知県名古屋市中区栄3-6-1'},\n",
              "  {'name': '鈴木一郎', 'location': '北海道札幌市中央区北1-1-1'},\n",
              "  {'name': '佐藤明美', 'location': '福岡県福岡市博多区博多1-1-1'},\n",
              "  {'name': '伊藤健太', 'location': '愛知県名古屋市中区栄3-4-5'},\n",
              "  {'name': '佐藤明美', 'location': '福岡県福岡市博多区東1-2-3'},\n",
              "  {'name': '田中太郎', 'location': '東京都渋谷区渋谷1-1-1'},\n",
              "  {'name': '山田花子', 'location': '大阪府大阪市中央区難波5-5-5'},\n",
              "  {'name': '鈴木一郎', 'location': '北海道札幌市中央区北1条西1-1'},\n",
              "  {'name': '伊藤健太', 'location': '愛知県名古屋市中区栄3-3-3'}]}"
            ]
          },
          "metadata": {},
          "execution_count": 78
        }
      ]
    },
    {
      "cell_type": "code",
      "source": [
        "!mkdir openchat-3.5-1210-GPTQ\n",
        "!huggingface-cli download TheBloke/openchat-3.5-1210-GPTQ --local-dir openchat-3.5-1210-GPTQ --local-dir-use-symlinks False"
      ],
      "metadata": {
        "colab": {
          "base_uri": "https://localhost:8080/"
        },
        "id": "tPIfNh5ZkHyW",
        "outputId": "fcc74b01-e2a1-4c16-9623-12f58135dbe8"
      },
      "execution_count": 9,
      "outputs": [
        {
          "output_type": "stream",
          "name": "stdout",
          "text": [
            "mkdir: cannot create directory ‘openchat-3.5-1210-GPTQ’: File exists\n",
            "Consider using `hf_transfer` for faster downloads. This solution comes with some limitations. See https://huggingface.co/docs/huggingface_hub/hf_transfer for more details.\n",
            "Fetching 11 files:   0% 0/11 [00:00<?, ?it/s]downloading https://huggingface.co/TheBloke/openchat-3.5-1210-GPTQ/resolve/b3ea362e1007bc06211adcbbb4cfab0a132dcd6d/quantize_config.json to /root/.cache/huggingface/hub/tmp5bymszwc\n",
            "downloading https://huggingface.co/TheBloke/openchat-3.5-1210-GPTQ/resolve/b3ea362e1007bc06211adcbbb4cfab0a132dcd6d/config.json to /root/.cache/huggingface/hub/tmptblqyqaf\n",
            "downloading https://huggingface.co/TheBloke/openchat-3.5-1210-GPTQ/resolve/b3ea362e1007bc06211adcbbb4cfab0a132dcd6d/openchat.json to /root/.cache/huggingface/hub/tmp47_r19zq\n",
            "downloading https://huggingface.co/TheBloke/openchat-3.5-1210-GPTQ/resolve/b3ea362e1007bc06211adcbbb4cfab0a132dcd6d/added_tokens.json to /root/.cache/huggingface/hub/tmp_rfs7g7e\n",
            "downloading https://huggingface.co/TheBloke/openchat-3.5-1210-GPTQ/resolve/b3ea362e1007bc06211adcbbb4cfab0a132dcd6d/README.md to /root/.cache/huggingface/hub/tmp_zzt5ebr\n",
            "downloading https://huggingface.co/TheBloke/openchat-3.5-1210-GPTQ/resolve/b3ea362e1007bc06211adcbbb4cfab0a132dcd6d/generation_config.json to /root/.cache/huggingface/hub/tmpm37yr6cr\n",
            "downloading https://huggingface.co/TheBloke/openchat-3.5-1210-GPTQ/resolve/b3ea362e1007bc06211adcbbb4cfab0a132dcd6d/.gitattributes to /root/.cache/huggingface/hub/tmp6itaqkvc\n",
            "\n",
            "quantize_config.json: 100% 186/186 [00:00<00:00, 690kB/s]\n",
            "\n",
            "config.json: 100% 1.04k/1.04k [00:00<00:00, 4.15MB/s]\n",
            "\n",
            "added_tokens.json: 100% 53.0/53.0 [00:00<00:00, 139kB/s]\n",
            "downloading https://huggingface.co/TheBloke/openchat-3.5-1210-GPTQ/resolve/b3ea362e1007bc06211adcbbb4cfab0a132dcd6d/model.safetensors to /root/.cache/huggingface/hub/tmp6ixh5_c7\n",
            "\n",
            "README.md:   0% 0.00/37.4k [00:00<?, ?B/s]\u001b[A\n",
            "\n",
            "openchat.json: 100% 539/539 [00:00<00:00, 2.29MB/s]\n",
            "README.md: 100% 37.4k/37.4k [00:00<00:00, 15.3MB/s]\n",
            "\n",
            "generation_config.json: 100% 179/179 [00:00<00:00, 646kB/s]\n",
            "\n",
            ".gitattributes: 100% 1.52k/1.52k [00:00<00:00, 6.51MB/s]\n",
            "Fetching 11 files:   9% 1/11 [00:00<00:06,  1.61it/s]downloading https://huggingface.co/TheBloke/openchat-3.5-1210-GPTQ/resolve/b3ea362e1007bc06211adcbbb4cfab0a132dcd6d/special_tokens_map.json to /root/.cache/huggingface/hub/tmpzivo_jgz\n",
            "downloading https://huggingface.co/TheBloke/openchat-3.5-1210-GPTQ/resolve/b3ea362e1007bc06211adcbbb4cfab0a132dcd6d/tokenizer.model to /root/.cache/huggingface/hub/tmpcqmfisq7\n",
            "downloading https://huggingface.co/TheBloke/openchat-3.5-1210-GPTQ/resolve/b3ea362e1007bc06211adcbbb4cfab0a132dcd6d/tokenizer_config.json to /root/.cache/huggingface/hub/tmpcfbe7lkk\n",
            "\n",
            "special_tokens_map.json: 100% 502/502 [00:00<00:00, 1.45MB/s]\n",
            "\n",
            "tokenizer_config.json: 100% 1.62k/1.62k [00:00<00:00, 6.19MB/s]\n",
            "\n",
            "tokenizer.model: 100% 493k/493k [00:00<00:00, 5.28MB/s]\n",
            "\n",
            "model.safetensors:   0% 0.00/4.16G [00:00<?, ?B/s]\u001b[A\n",
            "model.safetensors:   0% 10.5M/4.16G [00:00<01:35, 43.4MB/s]\u001b[A\n",
            "model.safetensors:   1% 21.0M/4.16G [00:00<02:08, 32.2MB/s]\u001b[A\n",
            "model.safetensors:   1% 31.5M/4.16G [00:00<01:53, 36.4MB/s]\u001b[A\n",
            "model.safetensors:   1% 52.4M/4.16G [00:01<01:12, 56.6MB/s]\u001b[A\n",
            "model.safetensors:   2% 62.9M/4.16G [00:01<01:19, 51.8MB/s]\u001b[A\n",
            "model.safetensors:   2% 73.4M/4.16G [00:01<01:14, 55.0MB/s]\u001b[A\n",
            "model.safetensors:   2% 83.9M/4.16G [00:02<01:56, 34.9MB/s]\u001b[A\n",
            "model.safetensors:   3% 105M/4.16G [00:02<01:43, 39.3MB/s] \u001b[A\n",
            "model.safetensors:   3% 115M/4.16G [00:03<02:07, 31.8MB/s]\u001b[A\n",
            "model.safetensors:   3% 136M/4.16G [00:03<01:42, 39.4MB/s]\u001b[A\n",
            "model.safetensors:   4% 147M/4.16G [00:03<01:51, 36.0MB/s]\u001b[A\n",
            "model.safetensors:   4% 168M/4.16G [00:04<01:46, 37.3MB/s]\u001b[A\n",
            "model.safetensors:   4% 178M/4.16G [00:04<01:43, 38.4MB/s]\u001b[A\n",
            "model.safetensors:   5% 189M/4.16G [00:04<02:00, 33.1MB/s]\u001b[A\n",
            "model.safetensors:   5% 199M/4.16G [00:05<01:56, 34.0MB/s]\u001b[A\n",
            "model.safetensors:   5% 210M/4.16G [00:05<01:58, 33.4MB/s]\u001b[A\n",
            "model.safetensors:   5% 220M/4.16G [00:05<01:36, 40.9MB/s]\u001b[A\n",
            "model.safetensors:   6% 231M/4.16G [00:05<01:36, 40.8MB/s]\u001b[A\n",
            "model.safetensors:   6% 241M/4.16G [00:06<01:41, 38.7MB/s]\u001b[A\n",
            "model.safetensors:   6% 262M/4.16G [00:06<01:43, 37.5MB/s]\u001b[A\n",
            "model.safetensors:   7% 273M/4.16G [00:07<01:47, 36.1MB/s]\u001b[A\n",
            "model.safetensors:   7% 283M/4.16G [00:07<01:29, 43.4MB/s]\u001b[A\n",
            "model.safetensors:   7% 294M/4.16G [00:07<01:45, 36.8MB/s]\u001b[A\n",
            "model.safetensors:   7% 304M/4.16G [00:07<01:34, 40.6MB/s]\u001b[A\n",
            "model.safetensors:   8% 325M/4.16G [00:08<01:22, 46.5MB/s]\u001b[A\n",
            "model.safetensors:   8% 336M/4.16G [00:08<01:26, 44.0MB/s]\u001b[A\n",
            "model.safetensors:   8% 346M/4.16G [00:08<01:33, 40.9MB/s]\u001b[A\n",
            "model.safetensors:   9% 357M/4.16G [00:09<01:29, 42.5MB/s]\u001b[A\n",
            "model.safetensors:   9% 367M/4.16G [00:09<01:18, 48.1MB/s]\u001b[A\n",
            "model.safetensors:   9% 377M/4.16G [00:09<01:06, 56.5MB/s]\u001b[A\n",
            "model.safetensors:   9% 388M/4.16G [00:09<01:24, 44.4MB/s]\u001b[A\n",
            "model.safetensors:  10% 398M/4.16G [00:09<01:13, 51.3MB/s]\u001b[A\n",
            "model.safetensors:  10% 409M/4.16G [00:10<01:24, 44.2MB/s]\u001b[A\n",
            "model.safetensors:  10% 419M/4.16G [00:10<01:14, 49.9MB/s]\u001b[A\n",
            "model.safetensors:  11% 440M/4.16G [00:10<01:15, 49.5MB/s]\u001b[A\n",
            "model.safetensors:  11% 451M/4.16G [00:11<01:32, 40.0MB/s]\u001b[A\n",
            "model.safetensors:  11% 461M/4.16G [00:11<01:20, 45.8MB/s]\u001b[A\n",
            "model.safetensors:  11% 472M/4.16G [00:11<01:43, 35.6MB/s]\u001b[A\n",
            "model.safetensors:  12% 482M/4.16G [00:12<02:00, 30.5MB/s]\u001b[A\n",
            "model.safetensors:  12% 493M/4.16G [00:12<01:38, 37.4MB/s]\u001b[A\n",
            "model.safetensors:  12% 503M/4.16G [00:12<01:45, 34.6MB/s]\u001b[A\n",
            "model.safetensors:  12% 514M/4.16G [00:12<01:44, 34.9MB/s]\u001b[A\n",
            "model.safetensors:  13% 524M/4.16G [00:13<01:24, 42.9MB/s]\u001b[A\n",
            "model.safetensors:  13% 535M/4.16G [00:13<02:05, 28.9MB/s]\u001b[A\n",
            "model.safetensors:  13% 545M/4.16G [00:13<01:58, 30.6MB/s]\u001b[A\n",
            "model.safetensors:  14% 566M/4.16G [00:14<01:38, 36.3MB/s]\u001b[A\n",
            "model.safetensors:  14% 577M/4.16G [00:14<01:42, 34.8MB/s]\u001b[A\n",
            "model.safetensors:  14% 587M/4.16G [00:14<01:25, 42.0MB/s]\u001b[A\n",
            "model.safetensors:  14% 598M/4.16G [00:15<01:38, 36.2MB/s]\u001b[A\n",
            "model.safetensors:  15% 608M/4.16G [00:16<02:37, 22.5MB/s]\u001b[A\n",
            "model.safetensors:  15% 619M/4.16G [00:16<02:02, 28.9MB/s]\u001b[A\n",
            "model.safetensors:  15% 629M/4.16G [00:16<01:47, 32.9MB/s]\u001b[A\n",
            "model.safetensors:  15% 640M/4.16G [00:16<01:46, 32.9MB/s]\u001b[A\n",
            "model.safetensors:  16% 650M/4.16G [00:17<01:52, 31.1MB/s]\u001b[A\n",
            "model.safetensors:  16% 661M/4.16G [00:17<01:47, 32.4MB/s]\u001b[A\n",
            "model.safetensors:  16% 671M/4.16G [00:17<01:29, 38.9MB/s]\u001b[A\n",
            "model.safetensors:  16% 682M/4.16G [00:18<01:38, 35.4MB/s]\u001b[A\n",
            "model.safetensors:  17% 692M/4.16G [00:18<01:50, 31.3MB/s]\u001b[A\n",
            "model.safetensors:  17% 713M/4.16G [00:18<01:25, 40.2MB/s]\u001b[A\n",
            "model.safetensors:  17% 724M/4.16G [00:19<01:34, 36.4MB/s]\u001b[A\n",
            "model.safetensors:  18% 734M/4.16G [00:19<01:21, 41.8MB/s]\u001b[A\n",
            "model.safetensors:  18% 744M/4.16G [00:19<01:28, 38.6MB/s]\u001b[A\n",
            "model.safetensors:  18% 755M/4.16G [00:19<01:23, 40.8MB/s]\u001b[A\n",
            "model.safetensors:  18% 765M/4.16G [00:19<01:09, 48.9MB/s]\u001b[A\n",
            "model.safetensors:  19% 776M/4.16G [00:20<01:42, 32.9MB/s]\u001b[A\n",
            "model.safetensors:  19% 786M/4.16G [00:21<01:58, 28.4MB/s]\u001b[A\n",
            "model.safetensors:  19% 797M/4.16G [00:21<01:38, 34.1MB/s]\u001b[A\n",
            "model.safetensors:  19% 807M/4.16G [00:21<01:41, 32.9MB/s]\u001b[A\n",
            "model.safetensors:  20% 818M/4.16G [00:21<01:56, 28.6MB/s]\u001b[A\n",
            "model.safetensors:  20% 828M/4.16G [00:22<01:33, 35.6MB/s]\u001b[A\n",
            "model.safetensors:  20% 839M/4.16G [00:22<01:39, 33.4MB/s]\u001b[A\n",
            "model.safetensors:  20% 849M/4.16G [00:22<01:35, 34.5MB/s]\u001b[A\n",
            "model.safetensors:  21% 870M/4.16G [00:23<01:16, 43.2MB/s]\u001b[A\n",
            "model.safetensors:  21% 881M/4.16G [00:23<01:18, 41.6MB/s]\u001b[A\n",
            "model.safetensors:  21% 891M/4.16G [00:23<01:10, 46.0MB/s]\u001b[A\n",
            "model.safetensors:  22% 902M/4.16G [00:23<01:20, 40.6MB/s]\u001b[A\n",
            "model.safetensors:  22% 912M/4.16G [00:24<01:13, 44.4MB/s]\u001b[A\n",
            "model.safetensors:  22% 923M/4.16G [00:24<01:03, 51.1MB/s]\u001b[A\n",
            "model.safetensors:  22% 933M/4.16G [00:24<01:55, 27.9MB/s]\u001b[A\n",
            "model.safetensors:  23% 954M/4.16G [00:25<01:26, 37.0MB/s]\u001b[A\n",
            "model.safetensors:  23% 965M/4.16G [00:25<01:32, 34.4MB/s]\u001b[A\n",
            "model.safetensors:  23% 975M/4.16G [00:25<01:22, 38.7MB/s]\u001b[A\n",
            "model.safetensors:  24% 986M/4.16G [00:26<01:27, 36.1MB/s]\u001b[A\n",
            "model.safetensors:  24% 996M/4.16G [00:26<01:35, 33.0MB/s]\u001b[A\n",
            "model.safetensors:  24% 1.02G/4.16G [00:26<01:08, 45.5MB/s]\u001b[A\n",
            "model.safetensors:  25% 1.03G/4.16G [00:27<01:14, 41.9MB/s]\u001b[A\n",
            "model.safetensors:  25% 1.05G/4.16G [00:27<01:01, 50.7MB/s]\u001b[A\n",
            "model.safetensors:  25% 1.06G/4.16G [00:27<01:19, 39.0MB/s]\u001b[A\n",
            "model.safetensors:  26% 1.08G/4.16G [00:28<01:04, 47.6MB/s]\u001b[A\n",
            "model.safetensors:  26% 1.09G/4.16G [00:28<01:12, 42.4MB/s]\u001b[A\n",
            "model.safetensors:  27% 1.11G/4.16G [00:29<01:12, 42.1MB/s]\u001b[A\n",
            "model.safetensors:  27% 1.12G/4.16G [00:29<01:08, 44.5MB/s]\u001b[A\n",
            "model.safetensors:  27% 1.13G/4.16G [00:29<01:04, 47.2MB/s]\u001b[A\n",
            "model.safetensors:  27% 1.14G/4.16G [00:29<00:58, 51.9MB/s]\u001b[A\n",
            "model.safetensors:  28% 1.15G/4.16G [00:29<01:02, 48.4MB/s]\u001b[A\n",
            "model.safetensors:  28% 1.16G/4.16G [00:30<00:58, 51.4MB/s]\u001b[A\n",
            "model.safetensors:  28% 1.17G/4.16G [00:30<01:05, 45.3MB/s]\u001b[A\n",
            "model.safetensors:  28% 1.18G/4.16G [00:30<01:10, 42.4MB/s]\u001b[A\n",
            "model.safetensors:  29% 1.20G/4.16G [00:30<01:14, 39.6MB/s]\u001b[A\n",
            "model.safetensors:  29% 1.21G/4.16G [00:31<01:51, 26.5MB/s]\u001b[A\n",
            "model.safetensors:  29% 1.22G/4.16G [00:31<01:28, 33.4MB/s]\u001b[A\n",
            "model.safetensors:  30% 1.23G/4.16G [00:31<01:11, 41.0MB/s]\u001b[A\n",
            "model.safetensors:  30% 1.24G/4.16G [00:31<01:00, 48.0MB/s]\u001b[A\n",
            "model.safetensors:  30% 1.25G/4.16G [00:32<01:10, 41.1MB/s]\u001b[A\n",
            "model.safetensors:  30% 1.26G/4.16G [00:32<01:16, 38.1MB/s]\u001b[A\n",
            "model.safetensors:  31% 1.27G/4.16G [00:32<01:12, 39.9MB/s]\u001b[A\n",
            "model.safetensors:  31% 1.28G/4.16G [00:33<01:01, 46.7MB/s]\u001b[A\n",
            "model.safetensors:  31% 1.29G/4.16G [00:33<01:13, 38.8MB/s]\u001b[A\n",
            "model.safetensors:  31% 1.30G/4.16G [00:33<01:03, 45.2MB/s]\u001b[A\n",
            "model.safetensors:  32% 1.31G/4.16G [00:33<00:52, 53.9MB/s]\u001b[A\n",
            "model.safetensors:  32% 1.32G/4.16G [00:33<00:53, 52.6MB/s]\u001b[A\n",
            "model.safetensors:  32% 1.33G/4.16G [00:34<01:22, 34.1MB/s]\u001b[A\n",
            "model.safetensors:  32% 1.34G/4.16G [00:34<01:25, 33.0MB/s]\u001b[A\n",
            "model.safetensors:  33% 1.35G/4.16G [00:35<01:21, 34.6MB/s]\u001b[A\n",
            "model.safetensors:  33% 1.36G/4.16G [00:35<01:15, 37.0MB/s]\u001b[A\n",
            "model.safetensors:  33% 1.37G/4.16G [00:35<01:03, 43.9MB/s]\u001b[A\n",
            "model.safetensors:  33% 1.38G/4.16G [00:35<01:02, 44.8MB/s]\u001b[A\n",
            "model.safetensors:  34% 1.39G/4.16G [00:35<01:11, 38.6MB/s]\u001b[A\n",
            "model.safetensors:  34% 1.41G/4.16G [00:36<01:00, 45.4MB/s]\u001b[A\n",
            "model.safetensors:  34% 1.42G/4.16G [00:36<01:13, 37.4MB/s]\u001b[A\n",
            "model.safetensors:  34% 1.43G/4.16G [00:36<01:17, 35.3MB/s]\u001b[A\n",
            "model.safetensors:  35% 1.44G/4.16G [00:36<01:03, 42.7MB/s]\u001b[A\n",
            "model.safetensors:  35% 1.45G/4.16G [00:37<01:12, 37.3MB/s]\u001b[A\n",
            "model.safetensors:  35% 1.46G/4.16G [00:37<01:16, 35.4MB/s]\u001b[A\n",
            "model.safetensors:  35% 1.47G/4.16G [00:37<01:06, 40.6MB/s]\u001b[A\n",
            "model.safetensors:  36% 1.48G/4.16G [00:38<01:02, 43.2MB/s]\u001b[A\n",
            "model.safetensors:  36% 1.49G/4.16G [00:38<01:01, 43.4MB/s]\u001b[A\n",
            "model.safetensors:  36% 1.50G/4.16G [00:38<00:52, 51.0MB/s]\u001b[A\n",
            "model.safetensors:  36% 1.51G/4.16G [00:38<01:02, 42.5MB/s]\u001b[A\n",
            "model.safetensors:  37% 1.52G/4.16G [00:38<00:56, 46.7MB/s]\u001b[A\n",
            "model.safetensors:  37% 1.53G/4.16G [00:39<00:48, 54.0MB/s]\u001b[A\n",
            "model.safetensors:  37% 1.54G/4.16G [00:39<00:48, 54.4MB/s]\u001b[A\n",
            "model.safetensors:  37% 1.55G/4.16G [00:39<00:50, 51.2MB/s]\u001b[A\n",
            "model.safetensors:  38% 1.56G/4.16G [00:39<00:54, 48.1MB/s]\u001b[A\n",
            "model.safetensors:  38% 1.57G/4.16G [00:40<01:10, 36.7MB/s]\u001b[A\n",
            "model.safetensors:  38% 1.58G/4.16G [00:40<00:56, 45.4MB/s]\u001b[A\n",
            "model.safetensors:  38% 1.59G/4.16G [00:40<01:03, 40.7MB/s]\u001b[A\n",
            "model.safetensors:  39% 1.60G/4.16G [00:41<01:28, 28.9MB/s]\u001b[A\n",
            "model.safetensors:  39% 1.61G/4.16G [00:41<01:19, 31.9MB/s]\u001b[A\n",
            "model.safetensors:  39% 1.63G/4.16G [00:41<01:24, 30.0MB/s]\u001b[A\n",
            "model.safetensors:  39% 1.64G/4.16G [00:42<01:41, 24.9MB/s]\u001b[A\n",
            "model.safetensors:  40% 1.66G/4.16G [00:43<01:35, 26.3MB/s]\u001b[A\n",
            "model.safetensors:  40% 1.67G/4.16G [00:43<01:17, 32.2MB/s]\u001b[A\n",
            "model.safetensors:  40% 1.68G/4.16G [00:43<01:03, 39.3MB/s]\u001b[A\n",
            "model.safetensors:  41% 1.69G/4.16G [00:43<01:02, 39.7MB/s]\u001b[A\n",
            "model.safetensors:  41% 1.70G/4.16G [00:43<01:05, 37.5MB/s]\u001b[A\n",
            "model.safetensors:  41% 1.71G/4.16G [00:44<00:53, 45.6MB/s]\u001b[A\n",
            "model.safetensors:  41% 1.72G/4.16G [00:44<01:02, 38.9MB/s]\u001b[A\n",
            "model.safetensors:  42% 1.73G/4.16G [00:44<01:07, 35.8MB/s]\u001b[A\n",
            "model.safetensors:  42% 1.74G/4.16G [00:44<01:02, 38.7MB/s]\u001b[A\n",
            "model.safetensors:  42% 1.75G/4.16G [00:45<01:13, 32.6MB/s]\u001b[A\n",
            "model.safetensors:  42% 1.76G/4.16G [00:45<01:03, 37.5MB/s]\u001b[A\n",
            "model.safetensors:  43% 1.77G/4.16G [00:45<00:53, 44.4MB/s]\u001b[A\n",
            "model.safetensors:  43% 1.78G/4.16G [00:45<00:47, 49.9MB/s]\u001b[A\n",
            "model.safetensors:  43% 1.79G/4.16G [00:46<01:07, 34.8MB/s]\u001b[A\n",
            "model.safetensors:  43% 1.80G/4.16G [00:46<00:57, 40.7MB/s]\u001b[A\n",
            "model.safetensors:  44% 1.81G/4.16G [00:46<01:05, 36.0MB/s]\u001b[A\n",
            "model.safetensors:  44% 1.82G/4.16G [00:47<01:11, 32.7MB/s]\u001b[A\n",
            "model.safetensors:  44% 1.85G/4.16G [00:47<01:09, 33.4MB/s]\u001b[A\n",
            "model.safetensors:  45% 1.86G/4.16G [00:48<01:06, 34.8MB/s]\u001b[A\n",
            "model.safetensors:  45% 1.87G/4.16G [00:48<01:07, 34.1MB/s]\u001b[A\n",
            "model.safetensors:  45% 1.88G/4.16G [00:48<01:16, 29.7MB/s]\u001b[A\n",
            "model.safetensors:  45% 1.89G/4.16G [00:49<01:03, 35.8MB/s]\u001b[A\n",
            "model.safetensors:  46% 1.90G/4.16G [00:49<00:54, 41.6MB/s]\u001b[A\n",
            "model.safetensors:  46% 1.91G/4.16G [00:49<01:06, 34.0MB/s]\u001b[A\n",
            "model.safetensors:  46% 1.92G/4.16G [00:49<00:58, 38.2MB/s]\u001b[A\n",
            "model.safetensors:  46% 1.93G/4.16G [00:50<01:03, 35.3MB/s]\u001b[A\n",
            "model.safetensors:  47% 1.94G/4.16G [00:50<01:15, 29.6MB/s]\u001b[A\n",
            "model.safetensors:  47% 1.96G/4.16G [00:51<00:56, 38.9MB/s]\u001b[A\n",
            "model.safetensors:  47% 1.97G/4.16G [00:51<01:06, 32.7MB/s]\u001b[A\n",
            "model.safetensors:  48% 1.98G/4.16G [00:51<00:58, 37.3MB/s]\u001b[A\n",
            "model.safetensors:  48% 1.99G/4.16G [00:52<00:56, 38.3MB/s]\u001b[A\n",
            "model.safetensors:  48% 2.00G/4.16G [00:52<00:51, 41.8MB/s]\u001b[A\n",
            "model.safetensors:  49% 2.02G/4.16G [00:52<00:40, 52.7MB/s]\u001b[A\n",
            "model.safetensors:  49% 2.03G/4.16G [00:52<00:39, 54.1MB/s]\u001b[A\n",
            "model.safetensors:  49% 2.06G/4.16G [00:53<00:38, 54.7MB/s]\u001b[A\n",
            "model.safetensors:  50% 2.07G/4.16G [00:53<00:40, 51.1MB/s]\u001b[A\n",
            "model.safetensors:  50% 2.08G/4.16G [00:53<00:36, 57.6MB/s]\u001b[A\n",
            "model.safetensors:  50% 2.09G/4.16G [00:53<00:44, 46.2MB/s]\u001b[A\n",
            "model.safetensors:  50% 2.10G/4.16G [00:54<00:50, 40.5MB/s]\u001b[A\n",
            "model.safetensors:  51% 2.11G/4.16G [00:54<00:50, 41.0MB/s]\u001b[A\n",
            "model.safetensors:  51% 2.12G/4.16G [00:54<00:46, 43.9MB/s]\u001b[A\n",
            "model.safetensors:  51% 2.13G/4.16G [00:54<00:48, 42.0MB/s]\u001b[A\n",
            "model.safetensors:  52% 2.15G/4.16G [00:55<00:48, 41.2MB/s]\u001b[A\n",
            "model.safetensors:  52% 2.16G/4.16G [00:55<00:44, 45.4MB/s]\u001b[A\n",
            "model.safetensors:  52% 2.17G/4.16G [00:55<00:38, 51.6MB/s]\u001b[A\n",
            "model.safetensors:  52% 2.18G/4.16G [00:56<00:56, 35.1MB/s]\u001b[A\n",
            "model.safetensors:  53% 2.19G/4.16G [00:56<00:46, 42.4MB/s]\u001b[A\n",
            "model.safetensors:  53% 2.20G/4.16G [00:56<00:47, 41.0MB/s]\u001b[A\n",
            "model.safetensors:  53% 2.21G/4.16G [00:56<00:54, 35.4MB/s]\u001b[A\n",
            "model.safetensors:  53% 2.22G/4.16G [00:57<00:49, 39.4MB/s]\u001b[A\n",
            "model.safetensors:  54% 2.23G/4.16G [00:57<00:59, 32.5MB/s]\u001b[A\n",
            "model.safetensors:  54% 2.24G/4.16G [00:57<00:58, 32.9MB/s]\u001b[A\n",
            "model.safetensors:  54% 2.25G/4.16G [00:58<00:51, 36.9MB/s]\u001b[A\n",
            "model.safetensors:  54% 2.26G/4.16G [00:58<00:50, 37.6MB/s]\u001b[A\n",
            "model.safetensors:  55% 2.28G/4.16G [00:58<00:44, 42.1MB/s]\u001b[A\n",
            "model.safetensors:  55% 2.29G/4.16G [00:58<00:36, 50.8MB/s]\u001b[A\n",
            "model.safetensors:  55% 2.30G/4.16G [00:58<00:31, 59.6MB/s]\u001b[A\n",
            "model.safetensors:  55% 2.31G/4.16G [00:59<00:39, 47.0MB/s]\u001b[A\n",
            "model.safetensors:  56% 2.33G/4.16G [00:59<00:32, 55.7MB/s]\u001b[A\n",
            "model.safetensors:  56% 2.34G/4.16G [00:59<00:48, 37.9MB/s]\u001b[A\n",
            "model.safetensors:  57% 2.36G/4.16G [01:00<00:42, 42.0MB/s]\u001b[A\n",
            "model.safetensors:  57% 2.37G/4.16G [01:00<00:43, 40.8MB/s]\u001b[A\n",
            "model.safetensors:  57% 2.39G/4.16G [01:01<00:39, 44.6MB/s]\u001b[A\n",
            "model.safetensors:  58% 2.40G/4.16G [01:01<00:42, 41.2MB/s]\u001b[A\n",
            "model.safetensors:  58% 2.41G/4.16G [01:01<00:37, 46.6MB/s]\u001b[A\n",
            "model.safetensors:  58% 2.42G/4.16G [01:01<00:33, 52.2MB/s]\u001b[A\n",
            "model.safetensors:  58% 2.43G/4.16G [01:01<00:33, 50.9MB/s]\u001b[A\n",
            "model.safetensors:  59% 2.44G/4.16G [01:01<00:29, 58.8MB/s]\u001b[A\n",
            "model.safetensors:  59% 2.45G/4.16G [01:02<00:39, 43.1MB/s]\u001b[A\n",
            "model.safetensors:  59% 2.46G/4.16G [01:03<01:07, 25.1MB/s]\u001b[A\n",
            "model.safetensors:  60% 2.49G/4.16G [01:03<01:01, 27.2MB/s]\u001b[A\n",
            "model.safetensors:  60% 2.50G/4.16G [01:04<00:53, 31.3MB/s]\u001b[A\n",
            "model.safetensors:  60% 2.51G/4.16G [01:04<00:49, 33.6MB/s]\u001b[A\n",
            "model.safetensors:  61% 2.52G/4.16G [01:04<00:51, 31.8MB/s]\u001b[A\n",
            "model.safetensors:  61% 2.54G/4.16G [01:05<00:44, 36.1MB/s]\u001b[A\n",
            "model.safetensors:  61% 2.55G/4.16G [01:05<00:44, 36.2MB/s]\u001b[A\n",
            "model.safetensors:  62% 2.57G/4.16G [01:06<00:47, 33.3MB/s]\u001b[A\n",
            "model.safetensors:  62% 2.58G/4.16G [01:06<00:44, 35.4MB/s]\u001b[A\n",
            "model.safetensors:  63% 2.60G/4.16G [01:06<00:38, 40.2MB/s]\u001b[A\n",
            "model.safetensors:  63% 2.61G/4.16G [01:07<00:59, 26.0MB/s]\u001b[A\n",
            "model.safetensors:  63% 2.62G/4.16G [01:07<00:53, 28.6MB/s]\u001b[A\n",
            "model.safetensors:  63% 2.63G/4.16G [01:08<00:56, 26.8MB/s]\u001b[A\n",
            "model.safetensors:  64% 2.64G/4.16G [01:09<01:04, 23.4MB/s]\u001b[A\n",
            "model.safetensors:  64% 2.66G/4.16G [01:09<00:46, 32.4MB/s]\u001b[A\n",
            "model.safetensors:  64% 2.67G/4.16G [01:09<00:44, 33.2MB/s]\u001b[A\n",
            "model.safetensors:  65% 2.68G/4.16G [01:10<00:46, 31.8MB/s]\u001b[A\n",
            "model.safetensors:  65% 2.69G/4.16G [01:10<00:44, 32.7MB/s]\u001b[A\n",
            "model.safetensors:  65% 2.71G/4.16G [01:10<00:46, 31.4MB/s]\u001b[A\n",
            "model.safetensors:  66% 2.73G/4.16G [01:11<00:36, 39.6MB/s]\u001b[A\n",
            "model.safetensors:  66% 2.74G/4.16G [01:11<00:39, 36.3MB/s]\u001b[A\n",
            "model.safetensors:  66% 2.76G/4.16G [01:11<00:33, 41.3MB/s]\u001b[A\n",
            "model.safetensors:  67% 2.77G/4.16G [01:12<00:34, 39.8MB/s]\u001b[A\n",
            "model.safetensors:  67% 2.78G/4.16G [01:12<00:29, 46.5MB/s]\u001b[A\n",
            "model.safetensors:  67% 2.79G/4.16G [01:12<00:35, 38.8MB/s]\u001b[A\n",
            "model.safetensors:  68% 2.81G/4.16G [01:12<00:28, 48.2MB/s]\u001b[A\n",
            "model.safetensors:  68% 2.82G/4.16G [01:13<00:33, 39.5MB/s]\u001b[A\n",
            "model.safetensors:  68% 2.84G/4.16G [01:13<00:32, 40.0MB/s]\u001b[A\n",
            "model.safetensors:  69% 2.85G/4.16G [01:14<00:34, 37.4MB/s]\u001b[A\n",
            "model.safetensors:  69% 2.86G/4.16G [01:14<00:30, 42.1MB/s]\u001b[A\n",
            "model.safetensors:  69% 2.87G/4.16G [01:14<00:28, 45.7MB/s]\u001b[A\n",
            "model.safetensors:  69% 2.88G/4.16G [01:14<00:32, 39.4MB/s]\u001b[A\n",
            "model.safetensors:  70% 2.89G/4.16G [01:14<00:26, 47.5MB/s]\u001b[A\n",
            "model.safetensors:  70% 2.90G/4.16G [01:15<00:23, 53.3MB/s]\u001b[A\n",
            "model.safetensors:  70% 2.92G/4.16G [01:15<00:27, 44.7MB/s]\u001b[A\n",
            "model.safetensors:  70% 2.93G/4.16G [01:15<00:23, 53.3MB/s]\u001b[A\n",
            "model.safetensors:  71% 2.94G/4.16G [01:16<00:32, 37.5MB/s]\u001b[A\n",
            "model.safetensors:  71% 2.95G/4.16G [01:16<00:36, 33.5MB/s]\u001b[A\n",
            "model.safetensors:  71% 2.97G/4.16G [01:16<00:29, 40.5MB/s]\u001b[A\n",
            "model.safetensors:  72% 2.98G/4.16G [01:17<00:32, 36.6MB/s]\u001b[A\n",
            "model.safetensors:  72% 2.99G/4.16G [01:17<00:26, 43.9MB/s]\u001b[A\n",
            "model.safetensors:  72% 3.00G/4.16G [01:17<00:30, 37.9MB/s]\u001b[A\n",
            "model.safetensors:  72% 3.01G/4.16G [01:17<00:27, 42.0MB/s]\u001b[A\n",
            "model.safetensors:  73% 3.03G/4.16G [01:18<00:27, 40.4MB/s]\u001b[A\n",
            "model.safetensors:  73% 3.04G/4.16G [01:18<00:26, 42.2MB/s]\u001b[A\n",
            "model.safetensors:  74% 3.06G/4.16G [01:18<00:22, 47.7MB/s]\u001b[A\n",
            "model.safetensors:  74% 3.07G/4.16G [01:19<00:26, 41.1MB/s]\u001b[A\n",
            "model.safetensors:  74% 3.08G/4.16G [01:19<00:22, 48.0MB/s]\u001b[A\n",
            "model.safetensors:  74% 3.09G/4.16G [01:19<00:25, 42.3MB/s]\u001b[A\n",
            "model.safetensors:  75% 3.10G/4.16G [01:19<00:23, 45.5MB/s]\u001b[A\n",
            "model.safetensors:  75% 3.11G/4.16G [01:20<00:26, 39.4MB/s]\u001b[A\n",
            "model.safetensors:  75% 3.12G/4.16G [01:20<00:23, 44.3MB/s]\u001b[A\n",
            "model.safetensors:  75% 3.14G/4.16G [01:20<00:19, 52.9MB/s]\u001b[A\n",
            "model.safetensors:  76% 3.15G/4.16G [01:20<00:22, 44.4MB/s]\u001b[A\n",
            "model.safetensors:  76% 3.16G/4.16G [01:21<00:20, 49.4MB/s]\u001b[A\n",
            "model.safetensors:  76% 3.18G/4.16G [01:21<00:19, 50.0MB/s]\u001b[A\n",
            "model.safetensors:  77% 3.19G/4.16G [01:22<00:28, 33.7MB/s]\u001b[A\n",
            "model.safetensors:  77% 3.21G/4.16G [01:22<00:30, 30.9MB/s]\u001b[A\n",
            "model.safetensors:  77% 3.22G/4.16G [01:23<00:27, 33.6MB/s]\u001b[A\n",
            "model.safetensors:  78% 3.23G/4.16G [01:23<00:27, 34.2MB/s]\u001b[A\n",
            "model.safetensors:  78% 3.24G/4.16G [01:23<00:25, 35.4MB/s]\u001b[A\n",
            "model.safetensors:  78% 3.25G/4.16G [01:23<00:23, 38.3MB/s]\u001b[A\n",
            "model.safetensors:  78% 3.26G/4.16G [01:24<00:21, 41.3MB/s]\u001b[A\n",
            "model.safetensors:  79% 3.27G/4.16G [01:24<00:22, 39.9MB/s]\u001b[A\n",
            "model.safetensors:  79% 3.28G/4.16G [01:24<00:28, 31.1MB/s]\u001b[A\n",
            "model.safetensors:  79% 3.29G/4.16G [01:24<00:22, 39.1MB/s]\u001b[A\n",
            "model.safetensors:  79% 3.30G/4.16G [01:25<00:20, 40.9MB/s]\u001b[A\n",
            "model.safetensors:  80% 3.31G/4.16G [01:25<00:24, 35.1MB/s]\u001b[A\n",
            "model.safetensors:  80% 3.32G/4.16G [01:26<00:27, 30.3MB/s]\u001b[A\n",
            "model.safetensors:  80% 3.33G/4.16G [01:26<00:26, 30.9MB/s]\u001b[A\n",
            "model.safetensors:  80% 3.34G/4.16G [01:26<00:27, 29.2MB/s]\u001b[A\n",
            "model.safetensors:  81% 3.37G/4.16G [01:27<00:24, 32.0MB/s]\u001b[A\n",
            "model.safetensors:  81% 3.38G/4.16G [01:27<00:23, 33.2MB/s]\u001b[A\n",
            "model.safetensors:  82% 3.40G/4.16G [01:27<00:16, 47.0MB/s]\u001b[A\n",
            "model.safetensors:  82% 3.41G/4.16G [01:28<00:15, 48.8MB/s]\u001b[A\n",
            "model.safetensors:  82% 3.42G/4.16G [01:28<00:15, 48.0MB/s]\u001b[A\n",
            "model.safetensors:  82% 3.43G/4.16G [01:28<00:15, 48.5MB/s]\u001b[A\n",
            "model.safetensors:  83% 3.45G/4.16G [01:28<00:14, 48.1MB/s]\u001b[A\n",
            "model.safetensors:  83% 3.46G/4.16G [01:29<00:17, 40.1MB/s]\u001b[A\n",
            "model.safetensors:  83% 3.47G/4.16G [01:29<00:14, 47.2MB/s]\u001b[A\n",
            "model.safetensors:  84% 3.48G/4.16G [01:29<00:17, 39.4MB/s]\u001b[A\n",
            "model.safetensors:  84% 3.49G/4.16G [01:30<00:18, 36.4MB/s]\u001b[A\n",
            "model.safetensors:  84% 3.50G/4.16G [01:30<00:14, 44.3MB/s]\u001b[A\n",
            "model.safetensors:  84% 3.51G/4.16G [01:30<00:13, 48.8MB/s]\u001b[A\n",
            "model.safetensors:  85% 3.52G/4.16G [01:31<00:22, 28.7MB/s]\u001b[A\n",
            "model.safetensors:  85% 3.53G/4.16G [01:31<00:17, 35.8MB/s]\u001b[A\n",
            "model.safetensors:  85% 3.54G/4.16G [01:31<00:14, 43.4MB/s]\u001b[A\n",
            "model.safetensors:  85% 3.55G/4.16G [01:31<00:15, 39.4MB/s]\u001b[A\n",
            "model.safetensors:  86% 3.57G/4.16G [01:31<00:12, 48.3MB/s]\u001b[A\n",
            "model.safetensors:  86% 3.58G/4.16G [01:32<00:14, 39.7MB/s]\u001b[A\n",
            "model.safetensors:  86% 3.59G/4.16G [01:32<00:15, 37.4MB/s]\u001b[A\n",
            "model.safetensors:  86% 3.60G/4.16G [01:32<00:12, 46.1MB/s]\u001b[A\n",
            "model.safetensors:  87% 3.61G/4.16G [01:32<00:12, 45.8MB/s]\u001b[A\n",
            "model.safetensors:  87% 3.62G/4.16G [01:33<00:12, 44.7MB/s]\u001b[A\n",
            "model.safetensors:  87% 3.64G/4.16G [01:33<00:13, 39.6MB/s]\u001b[A\n",
            "model.safetensors:  88% 3.65G/4.16G [01:34<00:15, 33.1MB/s]\u001b[A\n",
            "model.safetensors:  88% 3.66G/4.16G [01:34<00:12, 40.1MB/s]\u001b[A\n",
            "model.safetensors:  88% 3.67G/4.16G [01:34<00:14, 34.7MB/s]\u001b[A\n",
            "model.safetensors:  89% 3.68G/4.16G [01:35<00:14, 33.8MB/s]\u001b[A\n",
            "model.safetensors:  89% 3.69G/4.16G [01:35<00:11, 41.8MB/s]\u001b[A\n",
            "model.safetensors:  89% 3.70G/4.16G [01:35<00:09, 46.2MB/s]\u001b[A\n",
            "model.safetensors:  89% 3.71G/4.16G [01:35<00:09, 49.3MB/s]\u001b[A\n",
            "model.safetensors:  90% 3.72G/4.16G [01:35<00:08, 48.5MB/s]\u001b[A\n",
            "model.safetensors:  90% 3.73G/4.16G [01:36<00:12, 35.1MB/s]\u001b[A\n",
            "model.safetensors:  90% 3.75G/4.16G [01:36<00:09, 44.0MB/s]\u001b[A\n",
            "model.safetensors:  91% 3.76G/4.16G [01:36<00:09, 40.9MB/s]\u001b[A\n",
            "model.safetensors:  91% 3.79G/4.16G [01:37<00:07, 49.2MB/s]\u001b[A\n",
            "model.safetensors:  91% 3.80G/4.16G [01:37<00:07, 46.6MB/s]\u001b[A\n",
            "model.safetensors:  92% 3.82G/4.16G [01:38<00:08, 39.5MB/s]\u001b[A\n",
            "model.safetensors:  92% 3.83G/4.16G [01:38<00:09, 35.5MB/s]\u001b[A\n",
            "model.safetensors:  92% 3.84G/4.16G [01:38<00:09, 35.5MB/s]\u001b[A\n",
            "model.safetensors:  93% 3.85G/4.16G [01:39<00:09, 31.7MB/s]\u001b[A\n",
            "model.safetensors:  93% 3.86G/4.16G [01:39<00:09, 30.3MB/s]\u001b[A\n",
            "model.safetensors:  93% 3.88G/4.16G [01:39<00:07, 38.2MB/s]\u001b[A\n",
            "model.safetensors:  94% 3.89G/4.16G [01:40<00:06, 42.1MB/s]\u001b[A\n",
            "model.safetensors:  94% 3.90G/4.16G [01:40<00:06, 39.5MB/s]\u001b[A\n",
            "model.safetensors:  94% 3.92G/4.16G [01:40<00:05, 40.2MB/s]\u001b[A\n",
            "model.safetensors:  95% 3.93G/4.16G [01:41<00:04, 46.7MB/s]\u001b[A\n",
            "model.safetensors:  95% 3.94G/4.16G [01:41<00:04, 48.4MB/s]\u001b[A\n",
            "model.safetensors:  95% 3.95G/4.16G [01:41<00:05, 41.0MB/s]\u001b[A\n",
            "model.safetensors:  95% 3.96G/4.16G [01:41<00:04, 48.6MB/s]\u001b[A\n",
            "model.safetensors:  96% 3.97G/4.16G [01:42<00:04, 38.0MB/s]\u001b[A\n",
            "model.safetensors:  96% 3.98G/4.16G [01:42<00:04, 35.8MB/s]\u001b[A\n",
            "model.safetensors:  96% 4.00G/4.16G [01:42<00:03, 43.8MB/s]\u001b[A\n",
            "model.safetensors:  96% 4.01G/4.16G [01:42<00:03, 41.1MB/s]\u001b[A\n",
            "model.safetensors:  97% 4.02G/4.16G [01:43<00:03, 37.0MB/s]\u001b[A\n",
            "model.safetensors:  97% 4.03G/4.16G [01:43<00:03, 37.7MB/s]\u001b[A\n",
            "model.safetensors:  97% 4.04G/4.16G [01:43<00:03, 38.5MB/s]\u001b[A\n",
            "model.safetensors:  98% 4.06G/4.16G [01:44<00:02, 46.2MB/s]\u001b[A\n",
            "model.safetensors:  98% 4.07G/4.16G [01:44<00:03, 29.9MB/s]\u001b[A\n",
            "model.safetensors:  98% 4.09G/4.16G [01:45<00:01, 35.4MB/s]\u001b[A\n",
            "model.safetensors:  99% 4.10G/4.16G [01:45<00:01, 37.4MB/s]\u001b[A\n",
            "model.safetensors:  99% 4.12G/4.16G [01:46<00:01, 34.9MB/s]\u001b[A\n",
            "model.safetensors:  99% 4.13G/4.16G [01:46<00:00, 35.1MB/s]\u001b[A\n",
            "model.safetensors: 100% 4.15G/4.16G [01:46<00:00, 41.7MB/s]\u001b[A\n",
            "model.safetensors: 100% 4.16G/4.16G [01:47<00:00, 38.9MB/s]\n",
            "Fetching 11 files: 100% 11/11 [01:48<00:00,  9.84s/it]\n",
            "/content/openchat-3.5-1210-GPTQ\n"
          ]
        }
      ]
    },
    {
      "cell_type": "code",
      "source": [],
      "metadata": {
        "id": "6FIgiaWXaDkS"
      },
      "execution_count": null,
      "outputs": []
    },
    {
      "cell_type": "code",
      "source": [],
      "metadata": {
        "id": "qxBBTBsFk0ij"
      },
      "execution_count": null,
      "outputs": []
    }
  ]
}