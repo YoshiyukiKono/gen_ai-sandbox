{
  "cells": [
    {
      "cell_type": "markdown",
      "metadata": {
        "id": "jvC5FZ8sSEnJ"
      },
      "source": [
        "# Prompt Templates, intro"
      ],
      "id": "jvC5FZ8sSEnJ"
    },
    {
      "cell_type": "markdown",
      "metadata": {
        "id": "9diCFIFFSEnK"
      },
      "source": [
        "## Colab-specific setup"
      ],
      "id": "9diCFIFFSEnK"
    },
    {
      "cell_type": "markdown",
      "metadata": {
        "id": "_NuJIThcSEnK"
      },
      "source": [
        "Make sure you have a Database and get ready to upload the Secure Connect Bundle and supply the Token string\n",
        "(see [Pre-requisites](https://cassio.org/start_here/#vector-database) on cassio.org for details. Remember you need a **custom Token** with role [Database Administrator](https://awesome-astra.github.io/docs/pages/astra/create-token/)).\n",
        "\n",
        "_Note: this notebook is part of the CassIO documentation. Visit [this page on cassIO.org](https://cassio.org/frameworks/langchain/prompt-templates-basic/)._\n"
      ],
      "id": "_NuJIThcSEnK"
    },
    {
      "cell_type": "code",
      "execution_count": 2,
      "id": "2953d95b",
      "metadata": {
        "id": "2953d95b",
        "outputId": "b664e598-d082-4d81-f6fb-f44cf219da87",
        "colab": {
          "base_uri": "https://localhost:8080/",
          "height": 1000
        }
      },
      "outputs": [
        {
          "output_type": "stream",
          "name": "stdout",
          "text": [
            "Collecting langchain\n",
            "  Cloning https://github.com/hemidactylus/langchain (to revision updated-full-preview--lab) to /tmp/pip-install-4z6yjq1n/langchain_3069a66035be45399254938b9783f587\n",
            "  Running command git clone --filter=blob:none --quiet https://github.com/hemidactylus/langchain /tmp/pip-install-4z6yjq1n/langchain_3069a66035be45399254938b9783f587\n",
            "  Running command git checkout -b updated-full-preview--lab --track origin/updated-full-preview--lab\n",
            "  Switched to a new branch 'updated-full-preview--lab'\n",
            "  Branch 'updated-full-preview--lab' set up to track remote branch 'updated-full-preview--lab' from 'origin'.\n",
            "  Resolved https://github.com/hemidactylus/langchain to commit 96a26aad2ec787a138fe8c321009f38625e8f4ce\n",
            "  Running command git submodule update --init --recursive -q\n",
            "  Installing build dependencies ... \u001b[?25l\u001b[?25hdone\n",
            "  Getting requirements to build wheel ... \u001b[?25l\u001b[?25hdone\n",
            "  Preparing metadata (pyproject.toml) ... \u001b[?25l\u001b[?25hdone\n",
            "Collecting cassio>=0.1.1\n",
            "  Downloading cassio-0.1.1-py3-none-any.whl (27 kB)\n",
            "Collecting google-cloud-aiplatform>=1.25.0\n",
            "  Downloading google_cloud_aiplatform-1.32.0-py2.py3-none-any.whl (2.9 MB)\n",
            "\u001b[2K     \u001b[90m━━━━━━━━━━━━━━━━━━━━━━━━━━━━━━━━━━━━━━━━\u001b[0m \u001b[32m2.9/2.9 MB\u001b[0m \u001b[31m53.0 MB/s\u001b[0m eta \u001b[36m0:00:00\u001b[0m\n",
            "\u001b[?25hCollecting jupyter>=1.0.0\n",
            "  Downloading jupyter-1.0.0-py2.py3-none-any.whl (2.7 kB)\n",
            "Collecting openai==0.27.7\n",
            "  Downloading openai-0.27.7-py3-none-any.whl (71 kB)\n",
            "\u001b[2K     \u001b[90m━━━━━━━━━━━━━━━━━━━━━━━━━━━━━━━━━━━━━━━━\u001b[0m \u001b[32m72.0/72.0 kB\u001b[0m \u001b[31m8.5 MB/s\u001b[0m eta \u001b[36m0:00:00\u001b[0m\n",
            "\u001b[?25hCollecting python-dotenv==1.0.0\n",
            "  Downloading python_dotenv-1.0.0-py3-none-any.whl (19 kB)\n",
            "Collecting tensorflow-cpu==2.12.0\n",
            "  Downloading tensorflow_cpu-2.12.0-cp310-cp310-manylinux_2_17_x86_64.manylinux2014_x86_64.whl (231.8 MB)\n",
            "\u001b[2K     \u001b[90m━━━━━━━━━━━━━━━━━━━━━━━━━━━━━━━━━━━━━━━\u001b[0m \u001b[32m231.8/231.8 MB\u001b[0m \u001b[31m2.4 MB/s\u001b[0m eta \u001b[36m0:00:00\u001b[0m\n",
            "\u001b[?25hCollecting tiktoken==0.4.0\n",
            "  Downloading tiktoken-0.4.0-cp310-cp310-manylinux_2_17_x86_64.manylinux2014_x86_64.whl (1.7 MB)\n",
            "\u001b[2K     \u001b[90m━━━━━━━━━━━━━━━━━━━━━━━━━━━━━━━━━━━━━━━━\u001b[0m \u001b[32m1.7/1.7 MB\u001b[0m \u001b[31m98.2 MB/s\u001b[0m eta \u001b[36m0:00:00\u001b[0m\n",
            "\u001b[?25hCollecting transformers>=4.29.2\n",
            "  Downloading transformers-4.33.1-py3-none-any.whl (7.6 MB)\n",
            "\u001b[2K     \u001b[90m━━━━━━━━━━━━━━━━━━━━━━━━━━━━━━━━━━━━━━━━\u001b[0m \u001b[32m7.6/7.6 MB\u001b[0m \u001b[31m89.4 MB/s\u001b[0m eta \u001b[36m0:00:00\u001b[0m\n",
            "\u001b[?25hRequirement already satisfied: requests>=2.20 in /usr/local/lib/python3.10/dist-packages (from openai==0.27.7) (2.31.0)\n",
            "Requirement already satisfied: tqdm in /usr/local/lib/python3.10/dist-packages (from openai==0.27.7) (4.66.1)\n",
            "Requirement already satisfied: aiohttp in /usr/local/lib/python3.10/dist-packages (from openai==0.27.7) (3.8.5)\n",
            "Requirement already satisfied: absl-py>=1.0.0 in /usr/local/lib/python3.10/dist-packages (from tensorflow-cpu==2.12.0) (1.4.0)\n",
            "Requirement already satisfied: astunparse>=1.6.0 in /usr/local/lib/python3.10/dist-packages (from tensorflow-cpu==2.12.0) (1.6.3)\n",
            "Requirement already satisfied: flatbuffers>=2.0 in /usr/local/lib/python3.10/dist-packages (from tensorflow-cpu==2.12.0) (23.5.26)\n",
            "Requirement already satisfied: gast<=0.4.0,>=0.2.1 in /usr/local/lib/python3.10/dist-packages (from tensorflow-cpu==2.12.0) (0.4.0)\n",
            "Requirement already satisfied: google-pasta>=0.1.1 in /usr/local/lib/python3.10/dist-packages (from tensorflow-cpu==2.12.0) (0.2.0)\n",
            "Requirement already satisfied: grpcio<2.0,>=1.24.3 in /usr/local/lib/python3.10/dist-packages (from tensorflow-cpu==2.12.0) (1.57.0)\n",
            "Requirement already satisfied: h5py>=2.9.0 in /usr/local/lib/python3.10/dist-packages (from tensorflow-cpu==2.12.0) (3.9.0)\n",
            "Requirement already satisfied: jax>=0.3.15 in /usr/local/lib/python3.10/dist-packages (from tensorflow-cpu==2.12.0) (0.4.14)\n",
            "Requirement already satisfied: keras<2.13,>=2.12.0 in /usr/local/lib/python3.10/dist-packages (from tensorflow-cpu==2.12.0) (2.12.0)\n",
            "Requirement already satisfied: libclang>=13.0.0 in /usr/local/lib/python3.10/dist-packages (from tensorflow-cpu==2.12.0) (16.0.6)\n",
            "Requirement already satisfied: numpy<1.24,>=1.22 in /usr/local/lib/python3.10/dist-packages (from tensorflow-cpu==2.12.0) (1.23.5)\n",
            "Requirement already satisfied: opt-einsum>=2.3.2 in /usr/local/lib/python3.10/dist-packages (from tensorflow-cpu==2.12.0) (3.3.0)\n",
            "Requirement already satisfied: packaging in /usr/local/lib/python3.10/dist-packages (from tensorflow-cpu==2.12.0) (23.1)\n",
            "Requirement already satisfied: protobuf!=4.21.0,!=4.21.1,!=4.21.2,!=4.21.3,!=4.21.4,!=4.21.5,<5.0.0dev,>=3.20.3 in /usr/local/lib/python3.10/dist-packages (from tensorflow-cpu==2.12.0) (3.20.3)\n",
            "Requirement already satisfied: setuptools in /usr/local/lib/python3.10/dist-packages (from tensorflow-cpu==2.12.0) (67.7.2)\n",
            "Requirement already satisfied: six>=1.12.0 in /usr/local/lib/python3.10/dist-packages (from tensorflow-cpu==2.12.0) (1.16.0)\n",
            "Requirement already satisfied: tensorboard<2.13,>=2.12 in /usr/local/lib/python3.10/dist-packages (from tensorflow-cpu==2.12.0) (2.12.3)\n",
            "Requirement already satisfied: tensorflow-estimator<2.13,>=2.12.0 in /usr/local/lib/python3.10/dist-packages (from tensorflow-cpu==2.12.0) (2.12.0)\n",
            "Requirement already satisfied: termcolor>=1.1.0 in /usr/local/lib/python3.10/dist-packages (from tensorflow-cpu==2.12.0) (2.3.0)\n",
            "Requirement already satisfied: typing-extensions>=3.6.6 in /usr/local/lib/python3.10/dist-packages (from tensorflow-cpu==2.12.0) (4.7.1)\n",
            "Requirement already satisfied: wrapt<1.15,>=1.11.0 in /usr/local/lib/python3.10/dist-packages (from tensorflow-cpu==2.12.0) (1.14.1)\n",
            "Requirement already satisfied: tensorflow-io-gcs-filesystem>=0.23.1 in /usr/local/lib/python3.10/dist-packages (from tensorflow-cpu==2.12.0) (0.33.0)\n",
            "Requirement already satisfied: regex>=2022.1.18 in /usr/local/lib/python3.10/dist-packages (from tiktoken==0.4.0) (2023.6.3)\n",
            "Requirement already satisfied: PyYAML>=5.3 in /usr/local/lib/python3.10/dist-packages (from langchain) (6.0.1)\n",
            "Requirement already satisfied: SQLAlchemy<3,>=1.4 in /usr/local/lib/python3.10/dist-packages (from langchain) (2.0.20)\n",
            "Requirement already satisfied: async-timeout<5.0.0,>=4.0.0 in /usr/local/lib/python3.10/dist-packages (from langchain) (4.0.3)\n",
            "Collecting dataclasses-json<0.6.0,>=0.5.7 (from langchain)\n",
            "  Downloading dataclasses_json-0.5.14-py3-none-any.whl (26 kB)\n",
            "Collecting langsmith<0.1.0,>=0.0.21 (from langchain)\n",
            "  Downloading langsmith-0.0.33-py3-none-any.whl (36 kB)\n",
            "Requirement already satisfied: numexpr<3.0.0,>=2.8.4 in /usr/local/lib/python3.10/dist-packages (from langchain) (2.8.5)\n",
            "Requirement already satisfied: pydantic<3,>=1 in /usr/local/lib/python3.10/dist-packages (from langchain) (2.2.1)\n",
            "Requirement already satisfied: tenacity<9.0.0,>=8.1.0 in /usr/local/lib/python3.10/dist-packages (from langchain) (8.2.3)\n",
            "Collecting cassandra-driver>=3.28.0 (from cassio>=0.1.1)\n",
            "  Downloading cassandra_driver-3.28.0-cp310-cp310-manylinux_2_17_x86_64.manylinux2014_x86_64.whl (19.1 MB)\n",
            "\u001b[2K     \u001b[90m━━━━━━━━━━━━━━━━━━━━━━━━━━━━━━━━━━━━━━━━\u001b[0m \u001b[32m19.1/19.1 MB\u001b[0m \u001b[31m73.0 MB/s\u001b[0m eta \u001b[36m0:00:00\u001b[0m\n",
            "\u001b[?25hRequirement already satisfied: google-api-core[grpc]!=2.0.*,!=2.1.*,!=2.2.*,!=2.3.*,!=2.4.*,!=2.5.*,!=2.6.*,!=2.7.*,<3.0.0dev,>=1.32.0 in /usr/local/lib/python3.10/dist-packages (from google-cloud-aiplatform>=1.25.0) (2.11.1)\n",
            "Requirement already satisfied: proto-plus<2.0.0dev,>=1.22.0 in /usr/local/lib/python3.10/dist-packages (from google-cloud-aiplatform>=1.25.0) (1.22.3)\n",
            "Requirement already satisfied: google-cloud-storage<3.0.0dev,>=1.32.0 in /usr/local/lib/python3.10/dist-packages (from google-cloud-aiplatform>=1.25.0) (2.8.0)\n",
            "Requirement already satisfied: google-cloud-bigquery<4.0.0dev,>=1.15.0 in /usr/local/lib/python3.10/dist-packages (from google-cloud-aiplatform>=1.25.0) (3.10.0)\n",
            "Collecting google-cloud-resource-manager<3.0.0dev,>=1.3.3 (from google-cloud-aiplatform>=1.25.0)\n",
            "  Downloading google_cloud_resource_manager-1.10.3-py2.py3-none-any.whl (320 kB)\n",
            "\u001b[2K     \u001b[90m━━━━━━━━━━━━━━━━━━━━━━━━━━━━━━━━━━━━━━\u001b[0m \u001b[32m321.0/321.0 kB\u001b[0m \u001b[31m34.5 MB/s\u001b[0m eta \u001b[36m0:00:00\u001b[0m\n",
            "\u001b[?25hCollecting shapely<2.0.0 (from google-cloud-aiplatform>=1.25.0)\n",
            "  Downloading Shapely-1.8.5.post1-cp310-cp310-manylinux_2_12_x86_64.manylinux2010_x86_64.whl (2.0 MB)\n",
            "\u001b[2K     \u001b[90m━━━━━━━━━━━━━━━━━━━━━━━━━━━━━━━━━━━━━━━━\u001b[0m \u001b[32m2.0/2.0 MB\u001b[0m \u001b[31m64.2 MB/s\u001b[0m eta \u001b[36m0:00:00\u001b[0m\n",
            "\u001b[?25hRequirement already satisfied: notebook in /usr/local/lib/python3.10/dist-packages (from jupyter>=1.0.0) (6.5.5)\n",
            "Collecting qtconsole (from jupyter>=1.0.0)\n",
            "  Downloading qtconsole-5.4.4-py3-none-any.whl (121 kB)\n",
            "\u001b[2K     \u001b[90m━━━━━━━━━━━━━━━━━━━━━━━━━━━━━━━━━━━━━━\u001b[0m \u001b[32m121.9/121.9 kB\u001b[0m \u001b[31m14.0 MB/s\u001b[0m eta \u001b[36m0:00:00\u001b[0m\n",
            "\u001b[?25hRequirement already satisfied: jupyter-console in /usr/local/lib/python3.10/dist-packages (from jupyter>=1.0.0) (6.1.0)\n",
            "Requirement already satisfied: nbconvert in /usr/local/lib/python3.10/dist-packages (from jupyter>=1.0.0) (6.5.4)\n",
            "Requirement already satisfied: ipykernel in /usr/local/lib/python3.10/dist-packages (from jupyter>=1.0.0) (5.5.6)\n",
            "Requirement already satisfied: ipywidgets in /usr/local/lib/python3.10/dist-packages (from jupyter>=1.0.0) (7.7.1)\n",
            "Requirement already satisfied: filelock in /usr/local/lib/python3.10/dist-packages (from transformers>=4.29.2) (3.12.2)\n",
            "Collecting huggingface-hub<1.0,>=0.15.1 (from transformers>=4.29.2)\n",
            "  Downloading huggingface_hub-0.16.4-py3-none-any.whl (268 kB)\n",
            "\u001b[2K     \u001b[90m━━━━━━━━━━━━━━━━━━━━━━━━━━━━━━━━━━━━━━\u001b[0m \u001b[32m268.8/268.8 kB\u001b[0m \u001b[31m25.5 MB/s\u001b[0m eta \u001b[36m0:00:00\u001b[0m\n",
            "\u001b[?25hCollecting tokenizers!=0.11.3,<0.14,>=0.11.1 (from transformers>=4.29.2)\n",
            "  Downloading tokenizers-0.13.3-cp310-cp310-manylinux_2_17_x86_64.manylinux2014_x86_64.whl (7.8 MB)\n",
            "\u001b[2K     \u001b[90m━━━━━━━━━━━━━━━━━━━━━━━━━━━━━━━━━━━━━━━━\u001b[0m \u001b[32m7.8/7.8 MB\u001b[0m \u001b[31m86.4 MB/s\u001b[0m eta \u001b[36m0:00:00\u001b[0m\n",
            "\u001b[?25hCollecting safetensors>=0.3.1 (from transformers>=4.29.2)\n",
            "  Downloading safetensors-0.3.3-cp310-cp310-manylinux_2_17_x86_64.manylinux2014_x86_64.whl (1.3 MB)\n",
            "\u001b[2K     \u001b[90m━━━━━━━━━━━━━━━━━━━━━━━━━━━━━━━━━━━━━━━━\u001b[0m \u001b[32m1.3/1.3 MB\u001b[0m \u001b[31m69.3 MB/s\u001b[0m eta \u001b[36m0:00:00\u001b[0m\n",
            "\u001b[?25hRequirement already satisfied: attrs>=17.3.0 in /usr/local/lib/python3.10/dist-packages (from aiohttp->openai==0.27.7) (23.1.0)\n",
            "Requirement already satisfied: charset-normalizer<4.0,>=2.0 in /usr/local/lib/python3.10/dist-packages (from aiohttp->openai==0.27.7) (3.2.0)\n",
            "Requirement already satisfied: multidict<7.0,>=4.5 in /usr/local/lib/python3.10/dist-packages (from aiohttp->openai==0.27.7) (6.0.4)\n",
            "Requirement already satisfied: yarl<2.0,>=1.0 in /usr/local/lib/python3.10/dist-packages (from aiohttp->openai==0.27.7) (1.9.2)\n",
            "Requirement already satisfied: frozenlist>=1.1.1 in /usr/local/lib/python3.10/dist-packages (from aiohttp->openai==0.27.7) (1.4.0)\n",
            "Requirement already satisfied: aiosignal>=1.1.2 in /usr/local/lib/python3.10/dist-packages (from aiohttp->openai==0.27.7) (1.3.1)\n",
            "Requirement already satisfied: wheel<1.0,>=0.23.0 in /usr/local/lib/python3.10/dist-packages (from astunparse>=1.6.0->tensorflow-cpu==2.12.0) (0.41.2)\n",
            "Collecting geomet<0.3,>=0.1 (from cassandra-driver>=3.28.0->cassio>=0.1.1)\n",
            "  Downloading geomet-0.2.1.post1-py3-none-any.whl (18 kB)\n",
            "Collecting marshmallow<4.0.0,>=3.18.0 (from dataclasses-json<0.6.0,>=0.5.7->langchain)\n",
            "  Downloading marshmallow-3.20.1-py3-none-any.whl (49 kB)\n",
            "\u001b[2K     \u001b[90m━━━━━━━━━━━━━━━━━━━━━━━━━━━━━━━━━━━━━━━━\u001b[0m \u001b[32m49.4/49.4 kB\u001b[0m \u001b[31m6.3 MB/s\u001b[0m eta \u001b[36m0:00:00\u001b[0m\n",
            "\u001b[?25hCollecting typing-inspect<1,>=0.4.0 (from dataclasses-json<0.6.0,>=0.5.7->langchain)\n",
            "  Downloading typing_inspect-0.9.0-py3-none-any.whl (8.8 kB)\n",
            "Requirement already satisfied: googleapis-common-protos<2.0.dev0,>=1.56.2 in /usr/local/lib/python3.10/dist-packages (from google-api-core[grpc]!=2.0.*,!=2.1.*,!=2.2.*,!=2.3.*,!=2.4.*,!=2.5.*,!=2.6.*,!=2.7.*,<3.0.0dev,>=1.32.0->google-cloud-aiplatform>=1.25.0) (1.60.0)\n",
            "Requirement already satisfied: google-auth<3.0.dev0,>=2.14.1 in /usr/local/lib/python3.10/dist-packages (from google-api-core[grpc]!=2.0.*,!=2.1.*,!=2.2.*,!=2.3.*,!=2.4.*,!=2.5.*,!=2.6.*,!=2.7.*,<3.0.0dev,>=1.32.0->google-cloud-aiplatform>=1.25.0) (2.17.3)\n",
            "Requirement already satisfied: grpcio-status<2.0.dev0,>=1.33.2 in /usr/local/lib/python3.10/dist-packages (from google-api-core[grpc]!=2.0.*,!=2.1.*,!=2.2.*,!=2.3.*,!=2.4.*,!=2.5.*,!=2.6.*,!=2.7.*,<3.0.0dev,>=1.32.0->google-cloud-aiplatform>=1.25.0) (1.48.2)\n",
            "Requirement already satisfied: google-cloud-core<3.0.0dev,>=1.6.0 in /usr/local/lib/python3.10/dist-packages (from google-cloud-bigquery<4.0.0dev,>=1.15.0->google-cloud-aiplatform>=1.25.0) (2.3.3)\n",
            "Requirement already satisfied: google-resumable-media<3.0dev,>=0.6.0 in /usr/local/lib/python3.10/dist-packages (from google-cloud-bigquery<4.0.0dev,>=1.15.0->google-cloud-aiplatform>=1.25.0) (2.5.0)\n",
            "Requirement already satisfied: python-dateutil<3.0dev,>=2.7.2 in /usr/local/lib/python3.10/dist-packages (from google-cloud-bigquery<4.0.0dev,>=1.15.0->google-cloud-aiplatform>=1.25.0) (2.8.2)\n",
            "Requirement already satisfied: grpc-google-iam-v1<1.0.0dev,>=0.12.4 in /usr/local/lib/python3.10/dist-packages (from google-cloud-resource-manager<3.0.0dev,>=1.3.3->google-cloud-aiplatform>=1.25.0) (0.12.6)\n",
            "Requirement already satisfied: fsspec in /usr/local/lib/python3.10/dist-packages (from huggingface-hub<1.0,>=0.15.1->transformers>=4.29.2) (2023.6.0)\n",
            "Requirement already satisfied: ml-dtypes>=0.2.0 in /usr/local/lib/python3.10/dist-packages (from jax>=0.3.15->tensorflow-cpu==2.12.0) (0.2.0)\n",
            "Requirement already satisfied: scipy>=1.7 in /usr/local/lib/python3.10/dist-packages (from jax>=0.3.15->tensorflow-cpu==2.12.0) (1.10.1)\n",
            "Requirement already satisfied: annotated-types>=0.4.0 in /usr/local/lib/python3.10/dist-packages (from pydantic<3,>=1->langchain) (0.5.0)\n",
            "Requirement already satisfied: pydantic-core==2.6.1 in /usr/local/lib/python3.10/dist-packages (from pydantic<3,>=1->langchain) (2.6.1)\n",
            "Requirement already satisfied: idna<4,>=2.5 in /usr/local/lib/python3.10/dist-packages (from requests>=2.20->openai==0.27.7) (3.4)\n",
            "Requirement already satisfied: urllib3<3,>=1.21.1 in /usr/local/lib/python3.10/dist-packages (from requests>=2.20->openai==0.27.7) (2.0.4)\n",
            "Requirement already satisfied: certifi>=2017.4.17 in /usr/local/lib/python3.10/dist-packages (from requests>=2.20->openai==0.27.7) (2023.7.22)\n",
            "Requirement already satisfied: greenlet!=0.4.17 in /usr/local/lib/python3.10/dist-packages (from SQLAlchemy<3,>=1.4->langchain) (2.0.2)\n",
            "Requirement already satisfied: google-auth-oauthlib<1.1,>=0.5 in /usr/local/lib/python3.10/dist-packages (from tensorboard<2.13,>=2.12->tensorflow-cpu==2.12.0) (1.0.0)\n",
            "Requirement already satisfied: markdown>=2.6.8 in /usr/local/lib/python3.10/dist-packages (from tensorboard<2.13,>=2.12->tensorflow-cpu==2.12.0) (3.4.4)\n",
            "Requirement already satisfied: tensorboard-data-server<0.8.0,>=0.7.0 in /usr/local/lib/python3.10/dist-packages (from tensorboard<2.13,>=2.12->tensorflow-cpu==2.12.0) (0.7.1)\n",
            "Requirement already satisfied: werkzeug>=1.0.1 in /usr/local/lib/python3.10/dist-packages (from tensorboard<2.13,>=2.12->tensorflow-cpu==2.12.0) (2.3.7)\n",
            "Requirement already satisfied: ipython-genutils in /usr/local/lib/python3.10/dist-packages (from ipykernel->jupyter>=1.0.0) (0.2.0)\n",
            "Requirement already satisfied: ipython>=5.0.0 in /usr/local/lib/python3.10/dist-packages (from ipykernel->jupyter>=1.0.0) (7.34.0)\n",
            "Requirement already satisfied: traitlets>=4.1.0 in /usr/local/lib/python3.10/dist-packages (from ipykernel->jupyter>=1.0.0) (5.7.1)\n",
            "Requirement already satisfied: jupyter-client in /usr/local/lib/python3.10/dist-packages (from ipykernel->jupyter>=1.0.0) (6.1.12)\n",
            "Requirement already satisfied: tornado>=4.2 in /usr/local/lib/python3.10/dist-packages (from ipykernel->jupyter>=1.0.0) (6.3.2)\n",
            "Requirement already satisfied: widgetsnbextension~=3.6.0 in /usr/local/lib/python3.10/dist-packages (from ipywidgets->jupyter>=1.0.0) (3.6.5)\n",
            "Requirement already satisfied: jupyterlab-widgets>=1.0.0 in /usr/local/lib/python3.10/dist-packages (from ipywidgets->jupyter>=1.0.0) (3.0.8)\n",
            "Requirement already satisfied: prompt-toolkit!=3.0.0,!=3.0.1,<3.1.0,>=2.0.0 in /usr/local/lib/python3.10/dist-packages (from jupyter-console->jupyter>=1.0.0) (3.0.39)\n",
            "Requirement already satisfied: pygments in /usr/local/lib/python3.10/dist-packages (from jupyter-console->jupyter>=1.0.0) (2.16.1)\n",
            "Requirement already satisfied: lxml in /usr/local/lib/python3.10/dist-packages (from nbconvert->jupyter>=1.0.0) (4.9.3)\n",
            "Requirement already satisfied: beautifulsoup4 in /usr/local/lib/python3.10/dist-packages (from nbconvert->jupyter>=1.0.0) (4.11.2)\n",
            "Requirement already satisfied: bleach in /usr/local/lib/python3.10/dist-packages (from nbconvert->jupyter>=1.0.0) (6.0.0)\n",
            "Requirement already satisfied: defusedxml in /usr/local/lib/python3.10/dist-packages (from nbconvert->jupyter>=1.0.0) (0.7.1)\n",
            "Requirement already satisfied: entrypoints>=0.2.2 in /usr/local/lib/python3.10/dist-packages (from nbconvert->jupyter>=1.0.0) (0.4)\n",
            "Requirement already satisfied: jinja2>=3.0 in /usr/local/lib/python3.10/dist-packages (from nbconvert->jupyter>=1.0.0) (3.1.2)\n",
            "Requirement already satisfied: jupyter-core>=4.7 in /usr/local/lib/python3.10/dist-packages (from nbconvert->jupyter>=1.0.0) (5.3.1)\n",
            "Requirement already satisfied: jupyterlab-pygments in /usr/local/lib/python3.10/dist-packages (from nbconvert->jupyter>=1.0.0) (0.2.2)\n",
            "Requirement already satisfied: MarkupSafe>=2.0 in /usr/local/lib/python3.10/dist-packages (from nbconvert->jupyter>=1.0.0) (2.1.3)\n",
            "Requirement already satisfied: mistune<2,>=0.8.1 in /usr/local/lib/python3.10/dist-packages (from nbconvert->jupyter>=1.0.0) (0.8.4)\n",
            "Requirement already satisfied: nbclient>=0.5.0 in /usr/local/lib/python3.10/dist-packages (from nbconvert->jupyter>=1.0.0) (0.8.0)\n",
            "Requirement already satisfied: nbformat>=5.1 in /usr/local/lib/python3.10/dist-packages (from nbconvert->jupyter>=1.0.0) (5.9.2)\n",
            "Requirement already satisfied: pandocfilters>=1.4.1 in /usr/local/lib/python3.10/dist-packages (from nbconvert->jupyter>=1.0.0) (1.5.0)\n",
            "Requirement already satisfied: tinycss2 in /usr/local/lib/python3.10/dist-packages (from nbconvert->jupyter>=1.0.0) (1.2.1)\n",
            "Requirement already satisfied: pyzmq<25,>=17 in /usr/local/lib/python3.10/dist-packages (from notebook->jupyter>=1.0.0) (23.2.1)\n",
            "Requirement already satisfied: argon2-cffi in /usr/local/lib/python3.10/dist-packages (from notebook->jupyter>=1.0.0) (23.1.0)\n",
            "Requirement already satisfied: nest-asyncio>=1.5 in /usr/local/lib/python3.10/dist-packages (from notebook->jupyter>=1.0.0) (1.5.7)\n",
            "Requirement already satisfied: Send2Trash>=1.8.0 in /usr/local/lib/python3.10/dist-packages (from notebook->jupyter>=1.0.0) (1.8.2)\n",
            "Requirement already satisfied: terminado>=0.8.3 in /usr/local/lib/python3.10/dist-packages (from notebook->jupyter>=1.0.0) (0.17.1)\n",
            "Requirement already satisfied: prometheus-client in /usr/local/lib/python3.10/dist-packages (from notebook->jupyter>=1.0.0) (0.17.1)\n",
            "Requirement already satisfied: nbclassic>=0.4.7 in /usr/local/lib/python3.10/dist-packages (from notebook->jupyter>=1.0.0) (1.0.0)\n",
            "Collecting qtpy>=2.4.0 (from qtconsole->jupyter>=1.0.0)\n",
            "  Downloading QtPy-2.4.0-py3-none-any.whl (93 kB)\n",
            "\u001b[2K     \u001b[90m━━━━━━━━━━━━━━━━━━━━━━━━━━━━━━━━━━━━━━━━\u001b[0m \u001b[32m93.4/93.4 kB\u001b[0m \u001b[31m10.2 MB/s\u001b[0m eta \u001b[36m0:00:00\u001b[0m\n",
            "\u001b[?25hRequirement already satisfied: click in /usr/local/lib/python3.10/dist-packages (from geomet<0.3,>=0.1->cassandra-driver>=3.28.0->cassio>=0.1.1) (8.1.7)\n",
            "Requirement already satisfied: cachetools<6.0,>=2.0.0 in /usr/local/lib/python3.10/dist-packages (from google-auth<3.0.dev0,>=2.14.1->google-api-core[grpc]!=2.0.*,!=2.1.*,!=2.2.*,!=2.3.*,!=2.4.*,!=2.5.*,!=2.6.*,!=2.7.*,<3.0.0dev,>=1.32.0->google-cloud-aiplatform>=1.25.0) (5.3.1)\n",
            "Requirement already satisfied: pyasn1-modules>=0.2.1 in /usr/local/lib/python3.10/dist-packages (from google-auth<3.0.dev0,>=2.14.1->google-api-core[grpc]!=2.0.*,!=2.1.*,!=2.2.*,!=2.3.*,!=2.4.*,!=2.5.*,!=2.6.*,!=2.7.*,<3.0.0dev,>=1.32.0->google-cloud-aiplatform>=1.25.0) (0.3.0)\n",
            "Requirement already satisfied: rsa<5,>=3.1.4 in /usr/local/lib/python3.10/dist-packages (from google-auth<3.0.dev0,>=2.14.1->google-api-core[grpc]!=2.0.*,!=2.1.*,!=2.2.*,!=2.3.*,!=2.4.*,!=2.5.*,!=2.6.*,!=2.7.*,<3.0.0dev,>=1.32.0->google-cloud-aiplatform>=1.25.0) (4.9)\n",
            "Requirement already satisfied: requests-oauthlib>=0.7.0 in /usr/local/lib/python3.10/dist-packages (from google-auth-oauthlib<1.1,>=0.5->tensorboard<2.13,>=2.12->tensorflow-cpu==2.12.0) (1.3.1)\n",
            "Requirement already satisfied: google-crc32c<2.0dev,>=1.0 in /usr/local/lib/python3.10/dist-packages (from google-resumable-media<3.0dev,>=0.6.0->google-cloud-bigquery<4.0.0dev,>=1.15.0->google-cloud-aiplatform>=1.25.0) (1.5.0)\n",
            "Collecting jedi>=0.16 (from ipython>=5.0.0->ipykernel->jupyter>=1.0.0)\n",
            "  Downloading jedi-0.19.0-py2.py3-none-any.whl (1.6 MB)\n",
            "\u001b[2K     \u001b[90m━━━━━━━━━━━━━━━━━━━━━━━━━━━━━━━━━━━━━━━━\u001b[0m \u001b[32m1.6/1.6 MB\u001b[0m \u001b[31m88.4 MB/s\u001b[0m eta \u001b[36m0:00:00\u001b[0m\n",
            "\u001b[?25hRequirement already satisfied: decorator in /usr/local/lib/python3.10/dist-packages (from ipython>=5.0.0->ipykernel->jupyter>=1.0.0) (4.4.2)\n",
            "Requirement already satisfied: pickleshare in /usr/local/lib/python3.10/dist-packages (from ipython>=5.0.0->ipykernel->jupyter>=1.0.0) (0.7.5)\n",
            "Requirement already satisfied: backcall in /usr/local/lib/python3.10/dist-packages (from ipython>=5.0.0->ipykernel->jupyter>=1.0.0) (0.2.0)\n",
            "Requirement already satisfied: matplotlib-inline in /usr/local/lib/python3.10/dist-packages (from ipython>=5.0.0->ipykernel->jupyter>=1.0.0) (0.1.6)\n",
            "Requirement already satisfied: pexpect>4.3 in /usr/local/lib/python3.10/dist-packages (from ipython>=5.0.0->ipykernel->jupyter>=1.0.0) (4.8.0)\n",
            "Requirement already satisfied: platformdirs>=2.5 in /usr/local/lib/python3.10/dist-packages (from jupyter-core>=4.7->nbconvert->jupyter>=1.0.0) (3.10.0)\n",
            "Requirement already satisfied: jupyter-server>=1.8 in /usr/local/lib/python3.10/dist-packages (from nbclassic>=0.4.7->notebook->jupyter>=1.0.0) (1.24.0)\n",
            "Requirement already satisfied: notebook-shim>=0.2.3 in /usr/local/lib/python3.10/dist-packages (from nbclassic>=0.4.7->notebook->jupyter>=1.0.0) (0.2.3)\n",
            "Requirement already satisfied: fastjsonschema in /usr/local/lib/python3.10/dist-packages (from nbformat>=5.1->nbconvert->jupyter>=1.0.0) (2.18.0)\n",
            "Requirement already satisfied: jsonschema>=2.6 in /usr/local/lib/python3.10/dist-packages (from nbformat>=5.1->nbconvert->jupyter>=1.0.0) (4.19.0)\n",
            "Requirement already satisfied: wcwidth in /usr/local/lib/python3.10/dist-packages (from prompt-toolkit!=3.0.0,!=3.0.1,<3.1.0,>=2.0.0->jupyter-console->jupyter>=1.0.0) (0.2.6)\n",
            "Requirement already satisfied: ptyprocess in /usr/local/lib/python3.10/dist-packages (from terminado>=0.8.3->notebook->jupyter>=1.0.0) (0.7.0)\n",
            "Collecting mypy-extensions>=0.3.0 (from typing-inspect<1,>=0.4.0->dataclasses-json<0.6.0,>=0.5.7->langchain)\n",
            "  Downloading mypy_extensions-1.0.0-py3-none-any.whl (4.7 kB)\n",
            "Requirement already satisfied: argon2-cffi-bindings in /usr/local/lib/python3.10/dist-packages (from argon2-cffi->notebook->jupyter>=1.0.0) (21.2.0)\n",
            "Requirement already satisfied: soupsieve>1.2 in /usr/local/lib/python3.10/dist-packages (from beautifulsoup4->nbconvert->jupyter>=1.0.0) (2.4.1)\n",
            "Requirement already satisfied: webencodings in /usr/local/lib/python3.10/dist-packages (from bleach->nbconvert->jupyter>=1.0.0) (0.5.1)\n",
            "Requirement already satisfied: parso<0.9.0,>=0.8.3 in /usr/local/lib/python3.10/dist-packages (from jedi>=0.16->ipython>=5.0.0->ipykernel->jupyter>=1.0.0) (0.8.3)\n",
            "Requirement already satisfied: jsonschema-specifications>=2023.03.6 in /usr/local/lib/python3.10/dist-packages (from jsonschema>=2.6->nbformat>=5.1->nbconvert->jupyter>=1.0.0) (2023.7.1)\n",
            "Requirement already satisfied: referencing>=0.28.4 in /usr/local/lib/python3.10/dist-packages (from jsonschema>=2.6->nbformat>=5.1->nbconvert->jupyter>=1.0.0) (0.30.2)\n",
            "Requirement already satisfied: rpds-py>=0.7.1 in /usr/local/lib/python3.10/dist-packages (from jsonschema>=2.6->nbformat>=5.1->nbconvert->jupyter>=1.0.0) (0.9.2)\n",
            "Requirement already satisfied: anyio<4,>=3.1.0 in /usr/local/lib/python3.10/dist-packages (from jupyter-server>=1.8->nbclassic>=0.4.7->notebook->jupyter>=1.0.0) (3.7.1)\n",
            "Requirement already satisfied: websocket-client in /usr/local/lib/python3.10/dist-packages (from jupyter-server>=1.8->nbclassic>=0.4.7->notebook->jupyter>=1.0.0) (1.6.2)\n",
            "Requirement already satisfied: pyasn1<0.6.0,>=0.4.6 in /usr/local/lib/python3.10/dist-packages (from pyasn1-modules>=0.2.1->google-auth<3.0.dev0,>=2.14.1->google-api-core[grpc]!=2.0.*,!=2.1.*,!=2.2.*,!=2.3.*,!=2.4.*,!=2.5.*,!=2.6.*,!=2.7.*,<3.0.0dev,>=1.32.0->google-cloud-aiplatform>=1.25.0) (0.5.0)\n",
            "Requirement already satisfied: oauthlib>=3.0.0 in /usr/local/lib/python3.10/dist-packages (from requests-oauthlib>=0.7.0->google-auth-oauthlib<1.1,>=0.5->tensorboard<2.13,>=2.12->tensorflow-cpu==2.12.0) (3.2.2)\n",
            "Requirement already satisfied: cffi>=1.0.1 in /usr/local/lib/python3.10/dist-packages (from argon2-cffi-bindings->argon2-cffi->notebook->jupyter>=1.0.0) (1.15.1)\n",
            "Requirement already satisfied: sniffio>=1.1 in /usr/local/lib/python3.10/dist-packages (from anyio<4,>=3.1.0->jupyter-server>=1.8->nbclassic>=0.4.7->notebook->jupyter>=1.0.0) (1.3.0)\n",
            "Requirement already satisfied: exceptiongroup in /usr/local/lib/python3.10/dist-packages (from anyio<4,>=3.1.0->jupyter-server>=1.8->nbclassic>=0.4.7->notebook->jupyter>=1.0.0) (1.1.3)\n",
            "Requirement already satisfied: pycparser in /usr/local/lib/python3.10/dist-packages (from cffi>=1.0.1->argon2-cffi-bindings->argon2-cffi->notebook->jupyter>=1.0.0) (2.21)\n",
            "Building wheels for collected packages: langchain\n",
            "  Building wheel for langchain (pyproject.toml) ... \u001b[?25l\u001b[?25hdone\n",
            "  Created wheel for langchain: filename=langchain-0.0.277-py3-none-any.whl size=1615812 sha256=2c84e89ba9afab3563ecbb7f0ce59fa92ea3b5f6446fce59ae810feccf322f84\n",
            "  Stored in directory: /tmp/pip-ephem-wheel-cache-dyiij709/wheels/eb/74/22/c06cef0eb49622a306eff1aab8aae9bf57f4defb29c867ade4\n",
            "Successfully built langchain\n",
            "Installing collected packages: tokenizers, safetensors, shapely, qtpy, python-dotenv, mypy-extensions, marshmallow, jedi, geomet, typing-inspect, tiktoken, huggingface-hub, cassandra-driver, transformers, openai, langsmith, dataclasses-json, cassio, qtconsole, langchain, tensorflow-cpu, google-cloud-resource-manager, google-cloud-aiplatform, jupyter\n",
            "  Attempting uninstall: shapely\n",
            "    Found existing installation: shapely 2.0.1\n",
            "    Uninstalling shapely-2.0.1:\n",
            "      Successfully uninstalled shapely-2.0.1\n",
            "Successfully installed cassandra-driver-3.28.0 cassio-0.1.1 dataclasses-json-0.5.14 geomet-0.2.1.post1 google-cloud-aiplatform-1.32.0 google-cloud-resource-manager-1.10.3 huggingface-hub-0.16.4 jedi-0.19.0 jupyter-1.0.0 langchain-0.0.277 langsmith-0.0.33 marshmallow-3.20.1 mypy-extensions-1.0.0 openai-0.27.7 python-dotenv-1.0.0 qtconsole-5.4.4 qtpy-2.4.0 safetensors-0.3.3 shapely-1.8.5.post1 tensorflow-cpu-2.12.0 tiktoken-0.4.0 tokenizers-0.13.3 transformers-4.33.1 typing-inspect-0.9.0\n"
          ]
        },
        {
          "output_type": "display_data",
          "data": {
            "application/vnd.colab-display-data+json": {
              "pip_warning": {
                "packages": [
                  "google"
                ]
              }
            }
          },
          "metadata": {}
        }
      ],
      "source": [
        "# install required dependencies\n",
        "! pip install \\\n",
        "    \"git+https://github.com/hemidactylus/langchain@updated-full-preview--lab#egg=langchain&subdirectory=libs/langchain\" \\\n",
        "    \"cassio>=0.1.1\" \\\n",
        "    \"google-cloud-aiplatform>=1.25.0\" \\\n",
        "    \"jupyter>=1.0.0\" \\\n",
        "    \"openai==0.27.7\" \\\n",
        "    \"python-dotenv==1.0.0\" \\\n",
        "    \"tensorflow-cpu==2.12.0\" \\\n",
        "    \"tiktoken==0.4.0\" \\\n",
        "    \"transformers>=4.29.2\""
      ]
    },
    {
      "cell_type": "markdown",
      "id": "222f44ff",
      "metadata": {
        "id": "222f44ff"
      },
      "source": [
        "You will likely be asked to \"Restart the Runtime\" at this time, as some dependencies\n",
        "have been upgraded. **Please do restart the runtime now** for a smoother execution from this point onward."
      ]
    },
    {
      "cell_type": "code",
      "execution_count": null,
      "metadata": {
        "id": "uBzgoF2ySEnL"
      },
      "outputs": [],
      "source": [
        "# Input your database keyspace name:\n",
        "ASTRA_DB_KEYSPACE = input('Your Astra DB Keyspace name (e.g. cassio_tutorials): ')"
      ],
      "id": "uBzgoF2ySEnL"
    },
    {
      "cell_type": "code",
      "execution_count": null,
      "metadata": {
        "id": "Aa6XIFzVSEnL"
      },
      "outputs": [],
      "source": [
        "# Input your Astra DB token string, the one starting with \"AstraCS:...\"\n",
        "from getpass import getpass\n",
        "ASTRA_DB_APPLICATION_TOKEN = getpass('Your Astra DB Token (\"AstraCS:...\"): ')"
      ],
      "id": "Aa6XIFzVSEnL"
    },
    {
      "cell_type": "markdown",
      "metadata": {
        "id": "QNQ6T_Gjk0Oz"
      },
      "source": [
        "### Astra DB Secure Connect Bundle\n",
        "\n",
        "Please upload the Secure Connect Bundle zipfile to connect to your Astra DB instance.\n",
        "\n",
        "The Secure Connect Bundle is needed to establish a secure connection to the database.\n",
        "Click [here](https://awesome-astra.github.io/docs/pages/astra/download-scb/#c-procedure) for instructions on how to download it from Astra DB."
      ],
      "id": "QNQ6T_Gjk0Oz"
    },
    {
      "cell_type": "code",
      "execution_count": null,
      "metadata": {
        "id": "aosDzA-DSEnL"
      },
      "outputs": [],
      "source": [
        "# Upload your Secure Connect Bundle zipfile:\n",
        "import os\n",
        "from google.colab import files\n",
        "\n",
        "\n",
        "print('Please upload your Secure Connect Bundle')\n",
        "uploaded = files.upload()\n",
        "if uploaded:\n",
        "    astraBundleFileTitle = list(uploaded.keys())[0]\n",
        "    ASTRA_DB_SECURE_BUNDLE_PATH = os.path.join(os.getcwd(), astraBundleFileTitle)\n",
        "else:\n",
        "    raise ValueError(\n",
        "        'Cannot proceed without Secure Connect Bundle. Please re-run the cell.'\n",
        "    )"
      ],
      "id": "aosDzA-DSEnL"
    },
    {
      "cell_type": "code",
      "execution_count": null,
      "metadata": {
        "id": "5E5NGjERSEnL"
      },
      "outputs": [],
      "source": [
        "# colab-specific override of helper functions\n",
        "from cassandra.cluster import (\n",
        "    Cluster,\n",
        ")\n",
        "from cassandra.auth import PlainTextAuthProvider\n",
        "\n",
        "\n",
        "def getCQLSession(mode='astra_db'):\n",
        "    if mode == 'astra_db':\n",
        "        cluster = Cluster(\n",
        "            cloud={\n",
        "                \"secure_connect_bundle\": ASTRA_DB_SECURE_BUNDLE_PATH,\n",
        "            },\n",
        "            auth_provider=PlainTextAuthProvider(\n",
        "                \"token\",\n",
        "                ASTRA_DB_APPLICATION_TOKEN,\n",
        "            ),\n",
        "        )\n",
        "        astraSession = cluster.connect()\n",
        "        return astraSession\n",
        "    else:\n",
        "        raise ValueError('Unsupported CQL Session mode')\n",
        "\n",
        "def getCQLKeyspace(mode='astra_db'):\n",
        "    if mode == 'astra_db':\n",
        "        return ASTRA_DB_KEYSPACE\n",
        "    else:\n",
        "        raise ValueError('Unsupported CQL Session mode')"
      ],
      "id": "5E5NGjERSEnL"
    },
    {
      "cell_type": "markdown",
      "metadata": {
        "id": "SKTFbQRZSEnM"
      },
      "source": [
        "## Populate the Database"
      ],
      "id": "SKTFbQRZSEnM"
    },
    {
      "cell_type": "markdown",
      "metadata": {
        "id": "WrZbaJSASEnM"
      },
      "source": [
        "This notebook requires some data to be pre-populated on your database. Please follow these steps (roughly equivalent to [this section](https://cassio.org/more_info/#pre-populate-the-database) of the instructions on cassio.org):"
      ],
      "id": "WrZbaJSASEnM"
    },
    {
      "cell_type": "code",
      "source": [
        "!curl https://raw.githubusercontent.com/CassioML/cassio-website/main/setup/provision_db/write_sample_data.cql --output write_sample_data.cql\n",
        "!curl https://downloads.datastax.com/enterprise/cqlsh-astra-20230526-vectortype-bin.tar.gz --output cqlsh.tar.gz"
      ],
      "metadata": {
        "id": "gsaKCkmxSgPj",
        "outputId": "61ff03cf-558d-4759-c368-85d0df138f33",
        "colab": {
          "base_uri": "https://localhost:8080/"
        }
      },
      "id": "gsaKCkmxSgPj",
      "execution_count": 1,
      "outputs": [
        {
          "output_type": "stream",
          "name": "stdout",
          "text": [
            "  % Total    % Received % Xferd  Average Speed   Time    Time     Time  Current\n",
            "                                 Dload  Upload   Total   Spent    Left  Speed\n",
            "100 12680  100 12680    0     0  27464      0 --:--:-- --:--:-- --:--:-- 27505\n",
            "  % Total    % Received % Xferd  Average Speed   Time    Time     Time  Current\n",
            "                                 Dload  Upload   Total   Spent    Left  Speed\n",
            "100 1159k  100 1159k    0     0  1317k      0 --:--:-- --:--:-- --:--:-- 1317k\n"
          ]
        }
      ]
    },
    {
      "cell_type": "markdown",
      "source": [
        "\n",
        "\n",
        "```\n",
        "CREATE TABLE IF NOT EXISTS people (\n",
        "    city text,\n",
        "    name text,\n",
        "    age int,\n",
        "    PRIMARY KEY (city, name)\n",
        ") WITH CLUSTERING ORDER BY (name ASC);\n",
        "\n",
        "CREATE TABLE IF NOT EXISTS nickname_by_city (\n",
        "    city text PRIMARY KEY,\n",
        "    nickname text\n",
        ");\n",
        "```\n",
        "\n"
      ],
      "metadata": {
        "id": "061K5mN1S1DK"
      },
      "id": "061K5mN1S1DK"
    },
    {
      "cell_type": "code",
      "execution_count": null,
      "metadata": {
        "id": "Nd47jwqeSEnM"
      },
      "outputs": [],
      "source": [
        "ASTRA_DB_KEYSPACE = getCQLKeyspace(mode=\"astra_db\")\n",
        "!tar -xzf cqlsh.tar.gz\n",
        "!./cqlsh-astra/bin/cqlsh \\\n",
        "    -b \"$ASTRA_DB_SECURE_BUNDLE_PATH\" \\\n",
        "    -u token \\\n",
        "    -p \"$ASTRA_DB_APPLICATION_TOKEN\" \\\n",
        "    -k \"$ASTRA_DB_KEYSPACE\" \\\n",
        "    -f write_sample_data.cql"
      ],
      "id": "Nd47jwqeSEnM"
    },
    {
      "cell_type": "markdown",
      "metadata": {
        "id": "nWjfxG5hSEnM"
      },
      "source": [
        "### Colab preamble completed\n",
        "\n",
        "The following cells constitute the demo notebook proper."
      ],
      "id": "nWjfxG5hSEnM"
    },
    {
      "cell_type": "markdown",
      "id": "3f5c5368",
      "metadata": {
        "id": "3f5c5368"
      },
      "source": [
        "# Prompt Templates, intro"
      ]
    },
    {
      "cell_type": "markdown",
      "id": "871486f5",
      "metadata": {
        "id": "871486f5"
      },
      "source": [
        "CassIO powers a sophisticated set of bindings to seamlessly inject data\n",
        "from Cassandra tables into your LangChain prompt templates."
      ]
    },
    {
      "cell_type": "markdown",
      "id": "c0763b09",
      "metadata": {
        "id": "c0763b09"
      },
      "source": [
        "## Basic usage"
      ]
    },
    {
      "cell_type": "markdown",
      "id": "a7b2eb09-a8bc-482f-9a8d-e5769d15c764",
      "metadata": {
        "id": "a7b2eb09-a8bc-482f-9a8d-e5769d15c764"
      },
      "source": [
        "First, import the specialized Cassandra prompt template:"
      ]
    },
    {
      "cell_type": "code",
      "execution_count": null,
      "id": "a61e4821",
      "metadata": {
        "id": "a61e4821"
      },
      "outputs": [],
      "source": [
        "from langchain.prompts.database import CassandraReaderPromptTemplate"
      ]
    },
    {
      "cell_type": "markdown",
      "id": "f764f2e2",
      "metadata": {
        "id": "f764f2e2"
      },
      "source": [
        "This cell simply obtains a `Session` object, i.e. an active connection to your database. Replace with custom code if you are not using Astra DB."
      ]
    },
    {
      "cell_type": "code",
      "execution_count": null,
      "id": "a76ec6ea",
      "metadata": {
        "id": "a76ec6ea"
      },
      "outputs": [],
      "source": [
        "# creation of the DB connection\n",
        "cqlMode = 'astra_db'\n",
        "session = getCQLSession(mode=cqlMode)\n",
        "keyspace = getCQLKeyspace(mode=cqlMode)"
      ]
    },
    {
      "cell_type": "code",
      "execution_count": null,
      "id": "657cd948",
      "metadata": {
        "id": "657cd948"
      },
      "outputs": [],
      "source": [
        "ctemplate0 = \"\"\"Please answer a question from a user.\n",
        "Keep in mind that the user's age is {user_age} and they live in a city with\n",
        "nickname {city_nickname}.\n",
        "\n",
        "USER'S QUESTION: {user_question}\n",
        "YOUR ANSWER:\n",
        "\"\"\""
      ]
    },
    {
      "cell_type": "markdown",
      "id": "547a4105",
      "metadata": {
        "id": "547a4105"
      },
      "source": [
        "### Natural binding with the DB\n",
        "\n",
        "In the (string) template above, some variables are to be filled with a DB lookup.\n",
        "\n",
        "The following instructions specifies the details of the binding: for instance,\n",
        "the variable `user_age` is to be found on table `people`, specifically in column `age`:"
      ]
    },
    {
      "cell_type": "code",
      "execution_count": null,
      "id": "1ef22db8",
      "metadata": {
        "id": "1ef22db8"
      },
      "outputs": [],
      "source": [
        "cassPrompt = CassandraReaderPromptTemplate(\n",
        "    session=session,\n",
        "    keyspace=keyspace,\n",
        "    field_mapper={\n",
        "        'user_age': ('people', 'age'),\n",
        "        'city_nickname': ('nickname_by_city', 'nickname'),\n",
        "    },\n",
        "    template=ctemplate0,\n",
        "    input_variables=[\"user_question\"],\n",
        ")"
      ]
    },
    {
      "cell_type": "markdown",
      "id": "e188d25b",
      "metadata": {
        "id": "e188d25b"
      },
      "source": [
        "**Note** that in the command above you specify the _primary key columns_ as `input_variables`, and not the variable names found in the prompt string above."
      ]
    },
    {
      "cell_type": "markdown",
      "id": "9d954f71",
      "metadata": {
        "id": "9d954f71"
      },
      "source": [
        "When formatting the Prompt Template, you will have to specify the primary key values\n",
        "for the DB lookup -- the rest is done by the prompt template.\n",
        "\n",
        "In this case there are two lookups from as many tables: the prompt template\n",
        "takes care of everything, provided you pass all the primary key columns required\n",
        "across tables.\n",
        "\n",
        "Note: this operation essentially is a _client-side join_ (a standard pattern with Cassandra)."
      ]
    },
    {
      "cell_type": "code",
      "execution_count": null,
      "id": "584efc7c",
      "metadata": {
        "id": "584efc7c",
        "outputId": "5dd09f16-7d72-4b96-c426-fefd6c94af0e"
      },
      "outputs": [
        {
          "name": "stdout",
          "output_type": "stream",
          "text": [
            "Please answer a question from a user.\n",
            "Keep in mind that the user's age is 2 and they live in a city with\n",
            "nickname CereaNeh.\n",
            "\n",
            "USER'S QUESTION: Is functional programming fun?\n",
            "YOUR ANSWER:\n",
            "\n"
          ]
        }
      ],
      "source": [
        "print(cassPrompt.format(city='turin', name='beppe',\n",
        "                        user_question='Is functional programming fun?'))"
      ]
    },
    {
      "cell_type": "markdown",
      "id": "83ba64c4-6aad-4e98-85ab-37bb34e7802f",
      "metadata": {
        "id": "83ba64c4-6aad-4e98-85ab-37bb34e7802f"
      },
      "source": [
        "#### Arbitrary row functions\n",
        "\n",
        "You can specify an arbitrary function to transform the database row into the returned field. The function gets a `{column_name: value}` dictionary expressing the row and returns the value for the prompt template:"
      ]
    },
    {
      "cell_type": "code",
      "execution_count": null,
      "id": "9128d438-55ad-4402-9d2a-07b234912933",
      "metadata": {
        "id": "9128d438-55ad-4402-9d2a-07b234912933",
        "outputId": "3c8d6c51-6399-4fb1-b63a-54b5c2e1630c"
      },
      "outputs": [
        {
          "name": "stdout",
          "output_type": "stream",
          "text": [
            "Please answer a question from a user.\n",
            "Keep in mind that the user's age is 10014 and they live in a city with\n",
            "nickname Taaac (i.e. milan).\n",
            "\n",
            "USER'S QUESTION: Is there a square circle?\n",
            "YOUR ANSWER:\n",
            "\n"
          ]
        }
      ],
      "source": [
        "def nicknamer(row_dict):\n",
        "    return f\"{row_dict['nickname']} (i.e. {row_dict['city']})\"\n",
        "\n",
        "field_mapper_f = {\n",
        "    'user_age': ('people', lambda row_dict: row_dict['age'] + 10000),\n",
        "    'city_nickname': ('nickname_by_city', nicknamer),\n",
        "}\n",
        "\n",
        "cassPromptF = CassandraReaderPromptTemplate(\n",
        "    session=session,\n",
        "    keyspace=keyspace,\n",
        "    field_mapper=field_mapper_f,\n",
        "    template=ctemplate0,\n",
        "    input_variables=[\"user_question\"],\n",
        ")\n",
        "\n",
        "print(cassPromptF.format(city='milan', name='samanta',\n",
        "                        user_question='Is there a square circle?'))"
      ]
    },
    {
      "cell_type": "markdown",
      "id": "2a2247ed-85e7-4bb7-abb0-9097c6922ade",
      "metadata": {
        "id": "2a2247ed-85e7-4bb7-abb0-9097c6922ade"
      },
      "source": [
        "#### Null and missing values\n",
        "\n",
        "You can control how the prompt template should behave when a `None` value is encountered or even when a table has no rows altogether for a given primary key.\n",
        "\n",
        "First, you can pass a boolean parameter `admit_nulls` to the prompt template.\n",
        "\n",
        "Second, you can use the full four-element tuple format for the entries in the \"field mapper\". This would be `(table_name, column_name_or_function, admit_nulls, default_value)` (whose `admit_nulls` will override the overall default)."
      ]
    },
    {
      "cell_type": "code",
      "execution_count": null,
      "id": "a1e83cec-31e4-4120-85d0-45cf7d829379",
      "metadata": {
        "id": "a1e83cec-31e4-4120-85d0-45cf7d829379",
        "outputId": "79a5fd9a-a829-4c14-c242-7856cf9e98ae"
      },
      "outputs": [
        {
          "name": "stdout",
          "output_type": "stream",
          "text": [
            "Please answer a question from a user.\n",
            "Keep in mind that the user's age is 144 and they live in a city with\n",
            "nickname (no nickname).\n",
            "\n",
            "USER'S QUESTION: What are we having for lunch?\n",
            "YOUR ANSWER:\n",
            "\n"
          ]
        }
      ],
      "source": [
        "field_mapper_n = {\n",
        "    'user_age': ('people', 'age'),\n",
        "    'city_nickname': ('nickname_by_city', 'nickname', True, '(no nickname)'),\n",
        "}\n",
        "\n",
        "cassPromptN = CassandraReaderPromptTemplate(\n",
        "    session=session,\n",
        "    keyspace=keyspace,\n",
        "    field_mapper=field_mapper_n,\n",
        "    template=ctemplate0,\n",
        "    input_variables=[\"user_question\"],\n",
        "    admit_nulls=False,\n",
        ")\n",
        "\n",
        "# Note: there is no \"tokyo\" in the nicknames table\n",
        "print(cassPromptN.format(city='tokyo', name='hideo',\n",
        "                         user_question='What are we having for lunch?'))"
      ]
    },
    {
      "cell_type": "code",
      "execution_count": null,
      "id": "8bfe002d-9362-4910-a62d-51e27b26ec9e",
      "metadata": {
        "id": "8bfe002d-9362-4910-a62d-51e27b26ec9e",
        "outputId": "9784a593-0ab8-4140-cb58-c2a24797ad51"
      },
      "outputs": [
        {
          "name": "stdout",
          "output_type": "stream",
          "text": [
            "Exception => Null data found for \"user_age\"\n"
          ]
        }
      ],
      "source": [
        "try:\n",
        "    # Note: there are no rows with city='madrid' in the \"people\" table\n",
        "    print(cassPromptN.format(city='madrid', name='alberto',\n",
        "                             user_question='What are we having for lunch?'))\n",
        "except Exception as e:\n",
        "    print(f\"Exception => {str(e)}\")"
      ]
    },
    {
      "cell_type": "markdown",
      "id": "673f685a-2991-4ac5-80be-25482a596d77",
      "metadata": {
        "id": "673f685a-2991-4ac5-80be-25482a596d77"
      },
      "source": [
        "## Partialing Prompt Templates\n",
        "\n",
        "Cassandra-powered prompt templates support partialing. Suppose you have just enough information to bind the template to the DB-lookup values: you can leave the `user_question` unspecified for later completion at \"format-time\":"
      ]
    },
    {
      "cell_type": "code",
      "execution_count": null,
      "id": "47c5f06b-98ff-404c-8564-00e91a6249e2",
      "metadata": {
        "id": "47c5f06b-98ff-404c-8564-00e91a6249e2"
      },
      "outputs": [],
      "source": [
        "cassPartialPrompt = cassPrompt.partial(city='lisbon', name='Pedro')"
      ]
    },
    {
      "cell_type": "markdown",
      "id": "e837616e-b184-4c32-8072-2beb4b7a2c9d",
      "metadata": {
        "id": "e837616e-b184-4c32-8072-2beb4b7a2c9d"
      },
      "source": [
        "The partial prompt template will keep the provided inputs ready to execute the full lookup-and-format operation when needed:"
      ]
    },
    {
      "cell_type": "code",
      "execution_count": null,
      "id": "7ce69822-7049-4161-8286-69f9e130e42f",
      "metadata": {
        "id": "7ce69822-7049-4161-8286-69f9e130e42f",
        "outputId": "deb2f850-4335-4fa8-dc95-4b71dd459012"
      },
      "outputs": [
        {
          "name": "stdout",
          "output_type": "stream",
          "text": [
            "Please answer a question from a user.\n",
            "Keep in mind that the user's age is 1 and they live in a city with\n",
            "nickname ACidade.\n",
            "\n",
            "USER'S QUESTION: Em verdade, o que quiseres?\n",
            "YOUR ANSWER:\n",
            "\n"
          ]
        }
      ],
      "source": [
        "print(cassPartialPrompt.format(user_question='Em verdade, o que quiseres?'))"
      ]
    },
    {
      "cell_type": "markdown",
      "id": "f6a7c163-32d1-42b2-a7ca-63b37d8ba0e0",
      "metadata": {
        "id": "f6a7c163-32d1-42b2-a7ca-63b37d8ba0e0"
      },
      "source": [
        "You can partial on any choice of input variables, even mixing database-bound and regular inputs:"
      ]
    },
    {
      "cell_type": "code",
      "execution_count": null,
      "id": "b309e5fe-5515-4280-a584-c4b4dcf641b1",
      "metadata": {
        "id": "b309e5fe-5515-4280-a584-c4b4dcf641b1",
        "outputId": "636420c4-f592-44fb-e074-61855f5475df"
      },
      "outputs": [
        {
          "name": "stdout",
          "output_type": "stream",
          "text": [
            "Please answer a question from a user.\n",
            "Keep in mind that the user's age is 1 and they live in a city with\n",
            "nickname ACidade.\n",
            "\n",
            "USER'S QUESTION: Estou perto do Tejo?\n",
            "YOUR ANSWER:\n",
            "\n"
          ]
        }
      ],
      "source": [
        "cassPartialPrompt2 = cassPrompt.partial(city='lisbon', user_question='Estou perto do Tejo?')\n",
        "\n",
        "print(cassPartialPrompt2.format(name='Pedro'))"
      ]
    },
    {
      "cell_type": "markdown",
      "id": "94b1044b-4fb6-4135-995d-653be3574f59",
      "metadata": {
        "id": "94b1044b-4fb6-4135-995d-653be3574f59"
      },
      "source": [
        "## Chat Prompt Templates"
      ]
    },
    {
      "cell_type": "markdown",
      "id": "00890926-02e6-4995-88d9-ff9732a11a52",
      "metadata": {
        "id": "00890926-02e6-4995-88d9-ff9732a11a52"
      },
      "source": [
        "The Cassandra-specific approach can be seamlessly integrated\n",
        "with LangChain's \"chat prompt templates\", which represent a (template-based) way to manage chat exchanges.\n",
        "\n",
        "Start with a prompt, not much dissimilar from what you've seen so far:"
      ]
    },
    {
      "cell_type": "code",
      "execution_count": null,
      "id": "7f09fd9e-77fa-4e5a-ad9d-299cd31a82e3",
      "metadata": {
        "id": "7f09fd9e-77fa-4e5a-ad9d-299cd31a82e3"
      },
      "outputs": [],
      "source": [
        "systemTemplate = \"\"\"\n",
        "You are a chat assistant, helping a user of age {user_age} from a city\n",
        "they refer to as {city_nickname}.\n",
        "\"\"\"\n",
        "\n",
        "cassSystemPrompt = CassandraReaderPromptTemplate(\n",
        "    session=session,\n",
        "    keyspace=keyspace,\n",
        "    template=systemTemplate,\n",
        "    input_variables=[],\n",
        "    field_mapper={\n",
        "        'user_age': ('people', 'age'),\n",
        "        'city_nickname': ('nickname_by_city', 'nickname'),\n",
        "    },\n",
        ")"
      ]
    },
    {
      "cell_type": "markdown",
      "id": "5a9915c8-ff18-4f47-b4e0-9319c3e035d3",
      "metadata": {
        "id": "5a9915c8-ff18-4f47-b4e0-9319c3e035d3"
      },
      "source": [
        "Next, you need specific abstractions to wrap this \"system prompt\" as part of a broader chat exchange:"
      ]
    },
    {
      "cell_type": "code",
      "execution_count": null,
      "id": "9a96803b-4c2f-466b-ad7a-0c8c64031541",
      "metadata": {
        "id": "9a96803b-4c2f-466b-ad7a-0c8c64031541"
      },
      "outputs": [],
      "source": [
        "from langchain.prompts import (\n",
        "    ChatPromptTemplate,\n",
        "    SystemMessagePromptTemplate,\n",
        "    HumanMessagePromptTemplate,\n",
        ")\n",
        "systemMessagePrompt = SystemMessagePromptTemplate(prompt=cassSystemPrompt)"
      ]
    },
    {
      "cell_type": "markdown",
      "id": "598cf408-be02-4a0b-8e02-f96453f43b6e",
      "metadata": {
        "id": "598cf408-be02-4a0b-8e02-f96453f43b6e"
      },
      "source": [
        "### A sequence of messages\n",
        "\n",
        "Once you wrap a single prompt template as a \"system message prompt\", go ahead and make it part of a longer chat conversation:"
      ]
    },
    {
      "cell_type": "code",
      "execution_count": null,
      "id": "f3f54ad2-378a-49d0-ab7e-664682b73793",
      "metadata": {
        "id": "f3f54ad2-378a-49d0-ab7e-664682b73793"
      },
      "outputs": [],
      "source": [
        "humanTemplate = \"{text}\"\n",
        "humanMessagePrompt = HumanMessagePromptTemplate.from_template(humanTemplate)\n",
        "\n",
        "cassChatPrompt = ChatPromptTemplate.from_messages(\n",
        "    [systemMessagePrompt, humanMessagePrompt]\n",
        ")"
      ]
    },
    {
      "cell_type": "markdown",
      "id": "300b3a25-fe7a-4d53-b49b-b1bf42e82ec9",
      "metadata": {
        "id": "300b3a25-fe7a-4d53-b49b-b1bf42e82ec9"
      },
      "source": [
        "### Formatting\n",
        "\n",
        "LangChain takes care of correctly propagating the formatting steps throughout the sequence of messages, including the Cassandra-backed template:"
      ]
    },
    {
      "cell_type": "code",
      "execution_count": null,
      "id": "9ba93311-8bf5-4475-9681-9a6fbc0edf35",
      "metadata": {
        "id": "9ba93311-8bf5-4475-9681-9a6fbc0edf35",
        "outputId": "b73b48aa-36f0-40d4-cd01-49f37cfdd1a4"
      },
      "outputs": [
        {
          "name": "stdout",
          "output_type": "stream",
          "text": [
            "System: \n",
            "You are a chat assistant, helping a user of age 2 from a city\n",
            "they refer to as CereaNeh.\n",
            "\n",
            "Human: Assistant, please help me!\n"
          ]
        }
      ],
      "source": [
        "print(cassChatPrompt.format_prompt(\n",
        "    city='turin',\n",
        "    name='beppe',\n",
        "    text='Assistant, please help me!'\n",
        ").to_string())"
      ]
    },
    {
      "cell_type": "markdown",
      "id": "608d2143-0a80-4dd3-ba8e-4661a20c96e3",
      "metadata": {
        "id": "608d2143-0a80-4dd3-ba8e-4661a20c96e3"
      },
      "source": [
        "### Partialing and Chat Prompt Templates\n",
        "\n",
        "In some cases, you may want to partial with respect to the database lookup key(s) even within a chat prompt template:"
      ]
    },
    {
      "cell_type": "code",
      "execution_count": null,
      "id": "110cbc15-66f3-400a-9b32-416d5cdb2289",
      "metadata": {
        "id": "110cbc15-66f3-400a-9b32-416d5cdb2289"
      },
      "outputs": [],
      "source": [
        "cassChatPartialPrompt = cassChatPrompt.partial(\n",
        "    city='turin',\n",
        "    name='beppe'\n",
        ")"
      ]
    },
    {
      "cell_type": "code",
      "execution_count": null,
      "id": "89c39495-875b-4dc0-a297-b4075925f0c7",
      "metadata": {
        "id": "89c39495-875b-4dc0-a297-b4075925f0c7",
        "outputId": "5f04366a-1476-4c60-b27d-8361329e23a0"
      },
      "outputs": [
        {
          "name": "stdout",
          "output_type": "stream",
          "text": [
            "System: \n",
            "You are a chat assistant, helping a user of age 2 from a city\n",
            "they refer to as CereaNeh.\n",
            "\n",
            "Human: Hahaha!\n"
          ]
        }
      ],
      "source": [
        "print(cassChatPartialPrompt.format(text=\"Hahaha!\"))"
      ]
    },
    {
      "cell_type": "markdown",
      "metadata": {
        "id": "fYrXvXLhSEnO"
      },
      "source": [
        "## What now?\n",
        "\n",
        "This demo is hosted [here](https://cassio.org/frameworks/langchain/prompt-templates-basic/) at cassio.org.\n",
        "\n",
        "Discover the other ways you can integrate\n",
        "Cassandra/Astra DB with your ML/GenAI needs,\n",
        "right **within [your favorite framework](https://cassio.org/frameworks/langchain/about/)**."
      ],
      "id": "fYrXvXLhSEnO"
    }
  ],
  "metadata": {
    "kernelspec": {
      "display_name": "Python 3 (ipykernel)",
      "language": "python",
      "name": "python3"
    },
    "language_info": {
      "codemirror_mode": {
        "name": "ipython",
        "version": 3
      },
      "file_extension": ".py",
      "mimetype": "text/x-python",
      "name": "python",
      "nbconvert_exporter": "python",
      "pygments_lexer": "ipython3"
    },
    "colab": {
      "provenance": []
    }
  },
  "nbformat": 4,
  "nbformat_minor": 5
}