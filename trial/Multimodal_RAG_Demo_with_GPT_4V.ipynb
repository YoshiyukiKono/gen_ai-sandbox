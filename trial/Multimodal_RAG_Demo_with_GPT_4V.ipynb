{
  "cells": [
    {
      "cell_type": "markdown",
      "metadata": {
        "id": "view-in-github",
        "colab_type": "text"
      },
      "source": [
        "<a href=\"https://colab.research.google.com/github/YoshiyukiKono/gen_ai-sandbox/blob/main/trial/Multimodal_RAG_Demo_with_GPT_4V.ipynb\" target=\"_parent\"><img src=\"https://colab.research.google.com/assets/colab-badge.svg\" alt=\"Open In Colab\"/></a>"
      ]
    },
    {
      "cell_type": "markdown",
      "id": "807e9a2a-77db-42ed-87c3-706e067fae3c",
      "metadata": {
        "jp-MarkdownHeadingCollapsed": true,
        "id": "807e9a2a-77db-42ed-87c3-706e067fae3c"
      },
      "source": [
        "# Setup"
      ]
    },
    {
      "cell_type": "markdown",
      "id": "15206279-1b7e-42c2-93e2-66bd06d94dc9",
      "metadata": {
        "id": "15206279-1b7e-42c2-93e2-66bd06d94dc9"
      },
      "source": [
        "_Models_\n",
        "\n",
        "This demo makes use of `openai/clip-vit-large-patch14` for embedding text and images, and OpenAI's newly released `gpt-4-vision-preview` for chatting with image and text inputs.\n",
        "\n",
        "_Data_\n",
        "\n",
        "This demo leverages the first of 2,313 chunks of the LAION2B-en dataset, as well as a single image used as an example of including the proper context to the chat model."
      ]
    },
    {
      "cell_type": "markdown",
      "id": "ed9eacfe-05d6-4fec-9cea-a975fff69c7e",
      "metadata": {
        "jp-MarkdownHeadingCollapsed": true,
        "id": "ed9eacfe-05d6-4fec-9cea-a975fff69c7e"
      },
      "source": [
        "## Install Dependencies"
      ]
    },
    {
      "cell_type": "code",
      "source": [
        "!pip install --upgrade pip\n",
        "!pip install openai cassio transformers"
      ],
      "metadata": {
        "id": "rXy5wIZ_GasQ"
      },
      "id": "rXy5wIZ_GasQ",
      "execution_count": null,
      "outputs": []
    },
    {
      "cell_type": "markdown",
      "id": "ff1241d3-fcd0-4913-b57f-ffb1006f0667",
      "metadata": {
        "jp-MarkdownHeadingCollapsed": true,
        "id": "ff1241d3-fcd0-4913-b57f-ffb1006f0667"
      },
      "source": [
        "## Source"
      ]
    },
    {
      "cell_type": "markdown",
      "id": "04e7590b-7c98-4a36-b13e-87f5bba08d6b",
      "metadata": {
        "id": "04e7590b-7c98-4a36-b13e-87f5bba08d6b"
      },
      "source": [
        "#### Utils"
      ]
    },
    {
      "cell_type": "code",
      "execution_count": null,
      "id": "5d9b09c9-6077-4b3e-98c9-e5e31e6eefca",
      "metadata": {
        "id": "5d9b09c9-6077-4b3e-98c9-e5e31e6eefca"
      },
      "outputs": [],
      "source": [
        "import time\n",
        "\n",
        "from PIL import Image\n",
        "import requests\n",
        "\n",
        "start_time = None\n",
        "\n",
        "\n",
        "def tic():\n",
        "    global start_time\n",
        "    start_time = time.time()\n",
        "\n",
        "\n",
        "def toc(message_prefix=\"\", silent=False):\n",
        "    global start_time\n",
        "    time_taken = time.time() - start_time\n",
        "    if not silent:\n",
        "        print(message_prefix + str(time_taken))\n",
        "    return time_taken\n",
        "\n",
        "\n",
        "# Images\n",
        "\n",
        "\n",
        "def img_from_url(img_url: str, convert_png_to_rgb: bool = True) -> Image:\n",
        "    image = Image.open(\n",
        "        requests.get(img_url, stream=True).raw\n",
        "    )\n",
        "\n",
        "    # Dealing with PNG's having an additional channel and not\n",
        "    # being able to be saved as jpegs\n",
        "    if convert_png_to_rgb and img_url[-4:] == \".png\":\n",
        "        image = image.convert(\"RGB\")\n",
        "\n",
        "    return image\n"
      ]
    },
    {
      "cell_type": "markdown",
      "id": "5ef22649-6069-421f-9d97-702c8cb49681",
      "metadata": {
        "id": "5ef22649-6069-421f-9d97-702c8cb49681"
      },
      "source": [
        "#### Multimodal Chat"
      ]
    },
    {
      "cell_type": "code",
      "source": [
        "import os\n",
        "\n",
        "# Set OpenAI token\n",
        "os.environ[\"OPENAI_API_KEY\"] = \"YOUR TOKEN HERE\""
      ],
      "metadata": {
        "id": "zV6-KDn29ef2"
      },
      "id": "zV6-KDn29ef2",
      "execution_count": null,
      "outputs": []
    },
    {
      "cell_type": "code",
      "source": [
        "from openai import OpenAI\n",
        "\n",
        "\n",
        "class Chat:\n",
        "    \"\"\"Helpful chat interface for chatting with GPT-4V\"\"\"\n",
        "    def __init__(self):\n",
        "        self.client = OpenAI()\n",
        "        self.img_urls = None\n",
        "        self.conv_history = None\n",
        "\n",
        "        self._init_conv()\n",
        "\n",
        "    def query(self, text: str, **generate_kwargs) -> str:\n",
        "        self._make_user_latest_message()\n",
        "\n",
        "        self.conv_history[-1][\"content\"].append({\n",
        "            \"type\": \"text\",\n",
        "            \"text\": text,\n",
        "        })\n",
        "\n",
        "        response = self.client.chat.completions.create(\n",
        "            model=\"gpt-4-vision-preview\",\n",
        "            messages=self.conv_history,\n",
        "            max_tokens=300,\n",
        "            **generate_kwargs,\n",
        "        )\n",
        "        text_resp = response.choices[0].message.content\n",
        "        self.conv_history.append({\n",
        "            \"role\": \"assistant\",\n",
        "            \"content\": text_resp,\n",
        "        })\n",
        "\n",
        "        return text_resp\n",
        "\n",
        "    def upload_image(self, img_url: str) -> None:\n",
        "        \"\"\"\n",
        "        convert_png_to_rgb: Whether to attempt to convert urls that end in .png to RGB\n",
        "        \"\"\"\n",
        "        self._make_user_latest_message()\n",
        "\n",
        "        self.conv_history[-1][\"content\"].append({\n",
        "            \"type\": \"image\",\n",
        "            \"image_url\": img_url,\n",
        "        })\n",
        "        self.img_urls.append(img_url)\n",
        "\n",
        "    def reset(self) -> None:\n",
        "        self._init_conv()\n",
        "\n",
        "    def show_images(self) -> None:\n",
        "        for img_url in self.img_urls:\n",
        "            display(img_from_url(img_url))\n",
        "\n",
        "    def _init_conv(self) -> None:\n",
        "        \"\"\"Initializes an empty conversation\"\"\"\n",
        "        self.img_urls = []\n",
        "        self.conv_history = []\n",
        "\n",
        "    def _make_user_latest_message(self) -> None:\n",
        "        # Make sure last turn before sending requets is from \"user\"\n",
        "        if len(self.conv_history) == 0 or self.conv_history[-1][\"role\"] != \"user\":\n",
        "            self.conv_history.append({\"role\": \"user\", \"content\": []})\n"
      ],
      "metadata": {
        "id": "7af0RwE99IYO"
      },
      "id": "7af0RwE99IYO",
      "execution_count": null,
      "outputs": []
    },
    {
      "cell_type": "markdown",
      "id": "93c55a45-8a97-4de7-882a-3dcf0b8b6d69",
      "metadata": {
        "id": "93c55a45-8a97-4de7-882a-3dcf0b8b6d69"
      },
      "source": [
        "#### RAG with CLIP"
      ]
    },
    {
      "cell_type": "code",
      "execution_count": null,
      "id": "18eb72e9-7f5d-4c18-b68b-8509e118c894",
      "metadata": {
        "id": "18eb72e9-7f5d-4c18-b68b-8509e118c894"
      },
      "outputs": [],
      "source": [
        "from typing import Any, Dict, List\n",
        "from uuid import uuid4\n",
        "\n",
        "from cassio.table import MetadataVectorCassandraTable\n",
        "import pandas as pd\n",
        "import numpy as np\n",
        "import torch"
      ]
    },
    {
      "cell_type": "code",
      "execution_count": null,
      "id": "07fa8a83-5ce1-4bc5-b81c-39da3529dd84",
      "metadata": {
        "id": "07fa8a83-5ce1-4bc5-b81c-39da3529dd84"
      },
      "outputs": [],
      "source": [
        "def merge_mm_embeddings(img_emb=None, text_emb=None):\n",
        "    if text_emb is not None and img_emb is not None:\n",
        "        return np.mean([img_emb, text_emb], axis=0)\n",
        "    elif text_emb is not None:\n",
        "        return text_emb\n",
        "    elif img_emb is not None:\n",
        "        return img_emb\n",
        "    else:\n",
        "        raise ValueError(\"Must specify one of `img_emb` or `text_emb`\")\n",
        "\n",
        "\n",
        "def _embed(img_url: str | None, text: str | None) -> torch.Tensor:\n",
        "    \"\"\"Get an embedding based on an Img URL and/or Text\"\"\"\n",
        "    if img_url is None and text is None:\n",
        "        raise ValueError(f\"Must specify one of img_url or text\")\n",
        "\n",
        "    img_emb = None\n",
        "    text_emb = None\n",
        "\n",
        "    if img_url is not None:\n",
        "        image = img_from_url(img_url)\n",
        "        img_emb = clip_model.get_image_features(\n",
        "            clip_processor(text=None, images=image, return_tensors=\"pt\")[\"pixel_values\"]\n",
        "        )[0].to(\"cpu\").detach().numpy()\n",
        "        assert img_emb.shape == torch.Size([768])\n",
        "\n",
        "    if text is not None:\n",
        "        text_emb = clip_model.get_text_features(\n",
        "            clip_processor(text=[text], images=None, return_tensors=\"pt\", padding=False)[\"input_ids\"]\n",
        "        )[0].to(\"cpu\").detach().numpy()\n",
        "        assert text_emb.shape == torch.Size([768])\n",
        "\n",
        "    emb = merge_mm_embeddings(img_emb, text_emb)\n",
        "    return emb\n",
        "\n",
        "\n",
        "class RAGChat(Chat):\n",
        "    def __init__(\n",
        "        self,\n",
        "        *args: Any,\n",
        "        table: MetadataVectorCassandraTable | None = None,\n",
        "        **kwargs: Any,\n",
        "    ):\n",
        "        super().__init__(*args, **kwargs)\n",
        "\n",
        "        if table is None:\n",
        "            table = mm_table\n",
        "        self.table = table\n",
        "\n",
        "    def ask(\n",
        "        self,\n",
        "        text: str,\n",
        "        sim_threshold: float = 0.6,\n",
        "        debug: bool = True,\n",
        "        show_errors: bool = False,\n",
        "        **generate_kwargs,\n",
        "    ):\n",
        "        \"\"\"Queries the model and prints the response\"\"\"\n",
        "        print(self.query(text, sim_threshold, debug, show_errors, **generate_kwargs))\n",
        "\n",
        "    def query(self, text: str, sim_threshold=0.6, debug=True, show_errors=False, **generate_kwargs) -> str:\n",
        "        results = self.query_vectorstore(text=text, n=3)\n",
        "        if debug:\n",
        "            print(\"Search Results:\", [\n",
        "                {\n",
        "                    key: result[key]\n",
        "                    for key in [\"row_id\", \"body_blob\", \"distance\"]\n",
        "                }\n",
        "                for result in results\n",
        "            ])\n",
        "            print(\"-\" * 80)\n",
        "\n",
        "        for ndx, result in enumerate(results):\n",
        "            # Exit early if we are below the similarity threshold\n",
        "            # NOTE: The results are sorted so we can simply check each result in turn\n",
        "            if result[\"distance\"] < sim_threshold:\n",
        "                if debug:\n",
        "                    print(f\"No images closer than threshold {sim_threshold:.2f}, running text-only query\")\n",
        "                    print(\"-\" * 80)\n",
        "                break\n",
        "\n",
        "            # If image is above threshold, try to upload to model as context\n",
        "            img_url = result[\"metadata\"][\"url\"]\n",
        "            try:\n",
        "                self.upload_image(img_url)\n",
        "                if debug:\n",
        "                    print(f\"Successfully tokenized IMG {ndx}: {img_url}\")\n",
        "                    display(img_from_url(img_url))\n",
        "                    print(\"-\" * 80)\n",
        "                break\n",
        "            except Exception as e:\n",
        "                print(f\"Could not tokenize IMG {ndx}: {img_url}\")\n",
        "                if show_errors:\n",
        "                    print(f\"Got the following error:\")\n",
        "                    print(e)\n",
        "                print(\"-\" * 80)\n",
        "\n",
        "        if debug:\n",
        "            print(\"Response:\")\n",
        "            print(\"*\" * 80)\n",
        "        return super().query(text, **generate_kwargs)\n",
        "\n",
        "    def embed_and_store_image(self, url: str, caption: str | None = None) -> int:\n",
        "        row_kwargs = dict(\n",
        "            row_id=str(uuid4()),\n",
        "            body_blob=caption,\n",
        "            metadata={\"url\": url},\n",
        "            vector=_embed(img_url=url, text=caption),\n",
        "        )\n",
        "\n",
        "        self.table.put(**row_kwargs)\n",
        "\n",
        "        return row_kwargs[\"row_id\"]\n",
        "\n",
        "\n",
        "    def query_vectorstore(\n",
        "        self,\n",
        "        text: str | None = None,\n",
        "        img_url: str | None = None,\n",
        "        **ann_kwargs,\n",
        "    ) -> List[Dict[str, Any]]:\n",
        "\n",
        "        emb = _embed(img_url=img_url, text=text)\n",
        "        results_gen = self.table.metric_ann_search(\n",
        "            vector=emb,\n",
        "            metric=\"cos\",\n",
        "            **ann_kwargs,\n",
        "        )\n",
        "        return list(results_gen)\n"
      ]
    },
    {
      "cell_type": "markdown",
      "id": "ed21d8cc-87a3-490a-9d0e-b42a8088ddac",
      "metadata": {
        "jp-MarkdownHeadingCollapsed": true,
        "id": "ed21d8cc-87a3-490a-9d0e-b42a8088ddac"
      },
      "source": [
        "## Set Up Vector Store"
      ]
    },
    {
      "cell_type": "markdown",
      "id": "d8b26cea-2e19-4e0f-931f-27db5f8a21bd",
      "metadata": {
        "id": "d8b26cea-2e19-4e0f-931f-27db5f8a21bd"
      },
      "source": [
        "Follow the steps [here](https://docs.datastax.com/en/astra-serverless/docs/getting-started/create-db-choices.html) to create an Astra DB Database, and then use the Database ID and Token to complete the following step."
      ]
    },
    {
      "cell_type": "code",
      "source": [
        "import cassio\n",
        "from cassio.table import MetadataVectorCassandraTable\n",
        "\n",
        "ASTRA_DB_TOKEN = \"YOUR DB TOKEN\"\n",
        "ASTRA_DB_DATABASE_ID = \"YOUR DB ID\"\n",
        "\n",
        "cassio.init(\n",
        "    token=ASTRA_DB_TOKEN,\n",
        "    database_id=ASTRA_DB_DATABASE_ID,\n",
        ")\n",
        "\n",
        "mm_table = MetadataVectorCassandraTable(\n",
        "    table=\"multimodal_demo_vs\",\n",
        "    vector_dimension=768,  # CLIP VIT-L/14 embedding dimension\n",
        ")"
      ],
      "metadata": {
        "id": "rmSFreAlG1lX"
      },
      "id": "rmSFreAlG1lX",
      "execution_count": null,
      "outputs": []
    },
    {
      "cell_type": "markdown",
      "id": "fa25583a-08eb-404e-a986-3dd3ad22b77c",
      "metadata": {
        "jp-MarkdownHeadingCollapsed": true,
        "id": "fa25583a-08eb-404e-a986-3dd3ad22b77c"
      },
      "source": [
        "## Loading Data"
      ]
    },
    {
      "cell_type": "markdown",
      "id": "5f02dcc8-098f-43ee-9979-76de6d1878fd",
      "metadata": {
        "id": "5f02dcc8-098f-43ee-9979-76de6d1878fd"
      },
      "source": [
        "Eveerything in this section only needs to be run once the first time the notebook is run."
      ]
    },
    {
      "cell_type": "markdown",
      "id": "7168d236-7cbb-4578-8fbe-8905b7399f3a",
      "metadata": {
        "id": "7168d236-7cbb-4578-8fbe-8905b7399f3a"
      },
      "source": [
        "#### Download from Huggingface"
      ]
    },
    {
      "cell_type": "code",
      "execution_count": null,
      "id": "6fdab703-0878-44bd-bc99-9b450a787d65",
      "metadata": {
        "id": "6fdab703-0878-44bd-bc99-9b450a787d65"
      },
      "outputs": [],
      "source": [
        "!mkdir multimodal_data"
      ]
    },
    {
      "cell_type": "code",
      "execution_count": null,
      "id": "b5488e4a-e152-4570-919d-47778c0b536f",
      "metadata": {
        "id": "b5488e4a-e152-4570-919d-47778c0b536f"
      },
      "outputs": [],
      "source": [
        "import numpy as np\n",
        "import pandas as pd\n",
        "from huggingface_hub import hf_hub_download\n",
        "\n",
        "REPO_ID = \"laion/laion2b-en-vit-l-14-embeddings\"\n",
        "\n",
        "for filename in [\n",
        "    \"img_emb/img_emb_0000.npy\",\n",
        "    \"text_emb/text_emb_0000.npy\",\n",
        "    \"metadata/metadata_0000.parquet\",\n",
        "]:\n",
        "    hf_hub_download(repo_id=REPO_ID, filename=filename, repo_type=\"dataset\", local_dir=\"multimodal_data\")\n",
        "\n",
        "img_embs = np.load(\"multimodal_data/img_emb/img_emb_0000.npy\")\n",
        "text_embs = np.load(\"multimodal_data/text_emb/text_emb_0000.npy\")\n",
        "metadata_df = pd.read_parquet(\"multimodal_data/metadata/metadata_0000.parquet\")"
      ]
    },
    {
      "cell_type": "markdown",
      "id": "520e3494-1eda-4c6b-915a-25508df4e347",
      "metadata": {
        "id": "520e3494-1eda-4c6b-915a-25508df4e347"
      },
      "source": [
        "#### Load Data into Vector Store"
      ]
    },
    {
      "cell_type": "code",
      "execution_count": null,
      "id": "a1e21088-1609-461f-beb1-9eaf1ee7df2e",
      "metadata": {
        "id": "a1e21088-1609-461f-beb1-9eaf1ee7df2e"
      },
      "outputs": [],
      "source": [
        "def add_row_to_db(ndx: int):\n",
        "    # NOTE: These vectors have already been normalized\n",
        "    row = metadata_df.iloc[ndx]\n",
        "    img_emb = img_embs[ndx]\n",
        "    text_emb = text_embs[ndx]\n",
        "\n",
        "    emb = merge_mm_embeddings(img_emb, text_emb)\n",
        "\n",
        "    return mm_table.put_async(\n",
        "        row_id=row[\"key\"],\n",
        "        body_blob=row[\"caption\"],\n",
        "        vector=emb,\n",
        "        metadata={\n",
        "            key: row[key]\n",
        "            for key in metadata_df.columns\n",
        "            if key not in [\"key\", \"caption\"]\n",
        "        },\n",
        "    )\n"
      ]
    },
    {
      "cell_type": "code",
      "execution_count": null,
      "id": "bd8e3d5f-5f81-4dee-8eaa-36651e1f3690",
      "metadata": {
        "id": "bd8e3d5f-5f81-4dee-8eaa-36651e1f3690"
      },
      "outputs": [],
      "source": [
        "from tqdm import tqdm\n",
        "from cassandra.cluster import OperationTimedOut\n",
        "\n",
        "# NOTE: You can run the full demo by using the entire LAION sample, however\n",
        "# this will be slow and may incur hosting costs\n",
        "\n",
        "# NUM_TO_UPLOAD = len(metadata_df)\n",
        "NUM_TO_UPLOAD = 1_000\n",
        "\n",
        "all_futures = []\n",
        "for ndx in tqdm(range(len(all_futures), NUM_TO_UPLOAD)):\n",
        "    all_futures.append(add_row_to_db(ndx))\n",
        "\n",
        "for future in tqdm(all_futures):\n",
        "    try:\n",
        "        future.result()\n",
        "    except OperationTimedOut:\n",
        "        pass"
      ]
    },
    {
      "cell_type": "markdown",
      "id": "54648c97-d247-41b5-bcc3-2dceac97ed54",
      "metadata": {
        "jp-MarkdownHeadingCollapsed": true,
        "id": "54648c97-d247-41b5-bcc3-2dceac97ed54"
      },
      "source": [
        "## Load Embedding Model (CLIP)"
      ]
    },
    {
      "cell_type": "code",
      "execution_count": null,
      "id": "83609a9c-1451-47a8-8aa2-9b2e4719f5ac",
      "metadata": {
        "id": "83609a9c-1451-47a8-8aa2-9b2e4719f5ac",
        "outputId": "4e8294da-72ab-44a9-be64-98080db6f3b7",
        "colab": {
          "base_uri": "https://localhost:8080/",
          "height": 261,
          "referenced_widgets": [
            "2884960793e14d90b1b90d878402d502",
            "561e34058a28487785241033356fb3dd",
            "b669949f1118428687929a127087ad00",
            "4cbc964ecfc94a258248114f10216e2f",
            "3d1d19892d3f4820a8600ce29b6e3dfa",
            "52c4f3c9e9414b248fdfdc0cb7eb3f3b",
            "bfe97d6025cc46009f5e05c44aa58d1a",
            "a8011b4afd224d7baf7a8988d119d434",
            "21b0618ad08144a8887988fa2f822643",
            "8fa93890d1f04092bad877be5c7ce9f6",
            "99c3546d90874c9e9bc6911be83b29e6",
            "84cfe87046dd47ba870b89474bbfd9fa",
            "4ee9fc401ef0406eb50fc1b10466c66a",
            "dd5c9da6b77c4adbb38a34f09ede585d",
            "70f59ff67e7243ca8f43a219a36c0f73",
            "d0d4de82e0124bbd96f88b2187400bb9",
            "035cc958012a437e999b2304716031ae",
            "0d29b096f6f54a4cb9a63c8f6300456c",
            "a66e802b43f14caeba9b1b4619ee512b",
            "28678ab13fe04c13aeb4105045ca31ec",
            "d96355cf83bb4ae2bd3601b7860ac5aa",
            "92ffa4079efa4ef1b48f853d963921b4",
            "ffba1b303bb144aca30eecde4d1a0766",
            "094c436306a349b5942f1ab4c41520e6",
            "ba9bb093cf0943b295ecebd7af39ffb6",
            "c0653dd9610c4da1b1d3f2bcfecc83d0",
            "fb2f931ea253425ba961d4985aeca9ad",
            "cfb7f94877a34f03a7463e7dc83372f4",
            "ac3db4cbf5114600af6830906064b80b",
            "4403ee083a1e4257809bfdf1d0292d9b",
            "d7fe35ea9ec04bfd9757d4f58b87482e",
            "4755622736ac4836bb27e9c9b4404361",
            "d21a2d187361459ab797c7a40e25b2b9",
            "66e762f46adb450297100835d33a4ed8",
            "3e269782b8bc40ffab02592bb16ef3e9",
            "bd500ecec9c14be68fe570eaaae840e8",
            "df03ce0532d54763821283d6abf4a6c4",
            "149d1394273d4094b10a372f6df9426a",
            "ea600c251d954e75ba1376990762fb94",
            "3dc9914c0b4246168549090f4ca1f09e",
            "4c3113e4e3e249748dc21b504be660db",
            "99ff0be3f38e41fc9cf980bad63a1df1",
            "010c6a435ca740ae890f4452faf49eeb",
            "5993cfda735145308533e6415b372869",
            "ee54d81023794bdc8a9f72e4c99f1312",
            "3bb3d40b323b49e682f3057222b23be4",
            "3be8b53572684416ba05767c6fe72ae4",
            "db87913ee66d4a07b631ae577be52b28",
            "3cfe5d9ef3d5449ea6ee4c14130acc6b",
            "2c9580ba59ad49c09f36852d51503d68",
            "72afb6ad4db049809406728b2b1d11d9",
            "1df7e14246e74fd88af6aa779233888c",
            "5b5335fdd57e4b38b0f0863bc83174db",
            "896bac2cd6ec495992042f1f78fd0a38",
            "68de63d30c604c598cbbdf49b45be64d",
            "9a45442258fb4ccaa350673600c72092",
            "7c78f2fdd6764f7fa12fac3a07665ad7",
            "bb1db85e2e2742da9d716d82679f4fa4",
            "e739ae9e1bd04db291ae5a47031bf260",
            "0965649ff28b41f1844290fc721a1b60",
            "660dc9ad1819482096253b853f2320f4",
            "a12a2cff3909444587e3e75d1b52b103",
            "beba0ef291db4dbf9d1d23cd1eaf3a5f",
            "65a237ec07df4c95a7414806f67e60ef",
            "0f8f271d6f624a40aea602830b2d1685",
            "c89d9231aec1438e8a429f2d86bb51f0"
          ]
        }
      },
      "outputs": [
        {
          "output_type": "stream",
          "name": "stderr",
          "text": [
            "`text_config_dict` is provided which will be used to initialize `CLIPTextConfig`. The value `text_config[\"id2label\"]` will be overriden.\n",
            "`text_config_dict` is provided which will be used to initialize `CLIPTextConfig`. The value `text_config[\"bos_token_id\"]` will be overriden.\n",
            "`text_config_dict` is provided which will be used to initialize `CLIPTextConfig`. The value `text_config[\"eos_token_id\"]` will be overriden.\n"
          ]
        },
        {
          "output_type": "display_data",
          "data": {
            "text/plain": [
              "Downloading (…)rocessor_config.json:   0%|          | 0.00/316 [00:00<?, ?B/s]"
            ],
            "application/vnd.jupyter.widget-view+json": {
              "version_major": 2,
              "version_minor": 0,
              "model_id": "2884960793e14d90b1b90d878402d502"
            }
          },
          "metadata": {}
        },
        {
          "output_type": "display_data",
          "data": {
            "text/plain": [
              "Downloading (…)okenizer_config.json:   0%|          | 0.00/905 [00:00<?, ?B/s]"
            ],
            "application/vnd.jupyter.widget-view+json": {
              "version_major": 2,
              "version_minor": 0,
              "model_id": "84cfe87046dd47ba870b89474bbfd9fa"
            }
          },
          "metadata": {}
        },
        {
          "output_type": "display_data",
          "data": {
            "text/plain": [
              "Downloading (…)olve/main/vocab.json:   0%|          | 0.00/961k [00:00<?, ?B/s]"
            ],
            "application/vnd.jupyter.widget-view+json": {
              "version_major": 2,
              "version_minor": 0,
              "model_id": "ffba1b303bb144aca30eecde4d1a0766"
            }
          },
          "metadata": {}
        },
        {
          "output_type": "display_data",
          "data": {
            "text/plain": [
              "Downloading (…)olve/main/merges.txt:   0%|          | 0.00/525k [00:00<?, ?B/s]"
            ],
            "application/vnd.jupyter.widget-view+json": {
              "version_major": 2,
              "version_minor": 0,
              "model_id": "66e762f46adb450297100835d33a4ed8"
            }
          },
          "metadata": {}
        },
        {
          "output_type": "display_data",
          "data": {
            "text/plain": [
              "Downloading (…)/main/tokenizer.json:   0%|          | 0.00/2.22M [00:00<?, ?B/s]"
            ],
            "application/vnd.jupyter.widget-view+json": {
              "version_major": 2,
              "version_minor": 0,
              "model_id": "ee54d81023794bdc8a9f72e4c99f1312"
            }
          },
          "metadata": {}
        },
        {
          "output_type": "display_data",
          "data": {
            "text/plain": [
              "Downloading (…)cial_tokens_map.json:   0%|          | 0.00/389 [00:00<?, ?B/s]"
            ],
            "application/vnd.jupyter.widget-view+json": {
              "version_major": 2,
              "version_minor": 0,
              "model_id": "9a45442258fb4ccaa350673600c72092"
            }
          },
          "metadata": {}
        }
      ],
      "source": [
        "from transformers import CLIPProcessor, CLIPModel\n",
        "\n",
        "clip_model = CLIPModel.from_pretrained(\"openai/clip-vit-large-patch14\")\n",
        "clip_processor = CLIPProcessor.from_pretrained(\"openai/clip-vit-large-patch14\")"
      ]
    },
    {
      "cell_type": "markdown",
      "id": "4b683077-820d-46eb-ae2a-968472222cd6",
      "metadata": {
        "id": "4b683077-820d-46eb-ae2a-968472222cd6"
      },
      "source": [
        "# Demo"
      ]
    },
    {
      "cell_type": "markdown",
      "id": "1eded23b-adbc-4845-af76-62f013e6032b",
      "metadata": {
        "id": "1eded23b-adbc-4845-af76-62f013e6032b"
      },
      "source": [
        "Sometimes ChatGPT doesn't know the answer to your question because it doesn't have access to the particular knowledge that your answer requires. Here, we create a simple proof of concept `RAGChat` that dynamically retrieves image context for the questions you ask of the model, so that the chat model has additional info with which to answer your questions.\n",
        "\n",
        "RAGChat now utilizes GPT-4V, OpenAI's multimodal chat model that supports image and text input. The quality is close to SOTA (if not the leader) for vision and text models at the time of creating this notebook.\n",
        "\n",
        "The RAG aspect is accomplished by performing vector search over an AstraDB table, and returning the most relevant result as context for answering the user's question. If there is no relevant image found (specified by a configurable threshold), we upload a blank image for the model to use as context, since the model was trained only to respond if there are images present in the context. This technique allows the model a wealth of additional knowledge to pull in for its answers, much like typical text-only RAG applications.\n",
        "\n",
        "We initialize a chat session with our `RAGChat` class defined above."
      ]
    },
    {
      "cell_type": "code",
      "execution_count": null,
      "id": "73e5bf85-7297-4287-9b0c-dfee96d6cebe",
      "metadata": {
        "id": "73e5bf85-7297-4287-9b0c-dfee96d6cebe"
      },
      "outputs": [],
      "source": [
        "chat = RAGChat()"
      ]
    },
    {
      "cell_type": "markdown",
      "id": "85fc2e64-cf54-45a1-b45d-9dd6bd8cc01e",
      "metadata": {
        "id": "85fc2e64-cf54-45a1-b45d-9dd6bd8cc01e"
      },
      "source": [
        "#### Easy Questions"
      ]
    },
    {
      "cell_type": "markdown",
      "id": "43d41b33-0e5e-417f-a985-1c3f433f191a",
      "metadata": {
        "id": "43d41b33-0e5e-417f-a985-1c3f433f191a"
      },
      "source": [
        "Now, let's ask the model some questions it may know the answer to (with or without complimentary context from the vector store)"
      ]
    },
    {
      "cell_type": "code",
      "execution_count": null,
      "id": "5c5c5144-8931-434d-a403-a8b41503292b",
      "metadata": {
        "id": "5c5c5144-8931-434d-a403-a8b41503292b",
        "outputId": "44d06a91-410b-4f55-cec8-22323f276948",
        "colab": {
          "base_uri": "https://localhost:8080/"
        }
      },
      "outputs": [
        {
          "output_type": "stream",
          "name": "stdout",
          "text": [
            "Search Results: [{'row_id': '1851206082', 'body_blob': '\"Thick Flat 3/4\"\" Wide Shoelaces Solid Color for All Shoe Types\"', 'distance': 0.5713176737466455}, {'row_id': '1064440267', 'body_blob': 'Work Boots', 'distance': 0.5684631056782633}, {'row_id': '1874346151', 'body_blob': 'Trekking shoes with socks on straw', 'distance': 0.5634245439750103}]\n",
            "--------------------------------------------------------------------------------\n",
            "No images closer than threshold 0.60, running text-only query\n",
            "--------------------------------------------------------------------------------\n",
            "Response:\n",
            "********************************************************************************\n",
            "Certainly! Here's a step by step guide to the most common method of tying shoelaces, known as the \"bunny ears\" method:\n",
            "\n",
            "1. Start by holding one end of the shoelace in each hand, with the laces laying flat against the shoe.\n",
            "\n",
            "2. Cross the right lace over the left lace and pull it under to make a basic knot. Pull both ends tightly to secure the knot.\n",
            "\n",
            "3. Make a loop (or \"bunny ear\") with each lace, holding the base of each loop between your thumb and forefinger.\n",
            "\n",
            "4. Cross the right loop over the left loop.\n",
            "\n",
            "5. Take the right loop and tuck it under the left loop, pulling it through the hole that is formed.\n",
            "\n",
            "6. Gently pull both loops outwards to tighten the knot.\n",
            "\n",
            "7. Adjust the loops and ends of the laces to your desired tightness and length.\n",
            "\n",
            "That's it! Your shoelaces should now be securely tied.\n"
          ]
        }
      ],
      "source": [
        "chat.ask(\"Can you give me a step by step guide to tying my shoelaces?\")"
      ]
    },
    {
      "cell_type": "code",
      "execution_count": null,
      "id": "76adbc42-358e-43e0-89d2-6ade53afe4c3",
      "metadata": {
        "id": "76adbc42-358e-43e0-89d2-6ade53afe4c3",
        "outputId": "f412c0ee-3dc0-4fd2-9d98-32727eda1acc",
        "colab": {
          "base_uri": "https://localhost:8080/",
          "height": 239
        }
      },
      "outputs": [
        {
          "output_type": "stream",
          "name": "stdout",
          "text": [
            "Search Results: [{'row_id': '2221446373', 'body_blob': 'Blue Sky With Clouds, Sky Back...', 'distance': 0.6773858835441046}, {'row_id': '2290866448', 'body_blob': 'You are the sky. Everything else is just the weather.', 'distance': 0.6625062498590877}, {'row_id': '254547294', 'body_blob': 'What color is your soul? (1)', 'distance': 0.6526978945370482}]\n",
            "--------------------------------------------------------------------------------\n",
            "Successfully tokenized IMG 0: https://thumbs.dreamstime.com/m/blue-sky-clouds-sky-background-34442805.jpg\n"
          ]
        },
        {
          "output_type": "display_data",
          "data": {
            "text/plain": [
              "<PIL.JpegImagePlugin.JpegImageFile image mode=RGB size=120x80>"
            ],
            "image/png": "[encoded data removed]"
          },
          "metadata": {}
        },
        {
          "output_type": "stream",
          "name": "stdout",
          "text": [
            "--------------------------------------------------------------------------------\n",
            "Response:\n",
            "********************************************************************************\n",
            "The color of the sky on a typical clear day is blue. This is due to the scattering of sunlight by the atmosphere, where shorter wavelengths of light (blue) are scattered more than longer wavelengths (red). This effect is known as Rayleigh scattering. The image you provided shows a blue sky with some white clouds, which is representative of a typical sunny day.\n"
          ]
        }
      ],
      "source": [
        "chat.reset()\n",
        "chat.ask(\"On a typical day, what is the color of the sky?\")"
      ]
    },
    {
      "cell_type": "markdown",
      "id": "cb9b6730-2edb-480c-b379-3d5370fdf64a",
      "metadata": {
        "id": "cb9b6730-2edb-480c-b379-3d5370fdf64a"
      },
      "source": [
        "#### Slightly Harder"
      ]
    },
    {
      "cell_type": "markdown",
      "id": "f962d6d6-e334-4bf8-989e-83d50e9d7fcd",
      "metadata": {
        "id": "f962d6d6-e334-4bf8-989e-83d50e9d7fcd"
      },
      "source": [
        "I noticed the sample of LAION we uploaded contained a lot of pulp fiction posters - let's see what the model can tell us about the movie"
      ]
    },
    {
      "cell_type": "code",
      "execution_count": null,
      "id": "48cec77b-a1c4-4399-a90a-94e20bcfe180",
      "metadata": {
        "id": "48cec77b-a1c4-4399-a90a-94e20bcfe180",
        "outputId": "5948900d-7a7e-401e-cdc7-dfea44f106aa",
        "colab": {
          "base_uri": "https://localhost:8080/",
          "height": 425
        }
      },
      "outputs": [
        {
          "output_type": "stream",
          "name": "stdout",
          "text": [
            "Search Results: [{'row_id': '948744495', 'body_blob': 'film de quentin tarantino pulp fiction images pulp fiction hd wallpaper and', 'distance': 0.6237166122198347}, {'row_id': '879328613', 'body_blob': 'Pulp Fiction One Sheet', 'distance': 0.6220977971750888}, {'row_id': '925601105', 'body_blob': 'Image of Pulp Fiction', 'distance': 0.6020597597332322}]\n",
            "--------------------------------------------------------------------------------\n",
            "Successfully tokenized IMG 0: http://tse2.mm.bing.net/th?id=OIP.eZugkbELQrylx8gIzqxydQHaEK\n"
          ]
        },
        {
          "output_type": "display_data",
          "data": {
            "text/plain": [
              "<PIL.JpegImagePlugin.JpegImageFile image mode=RGB size=474x266>"
            ],
            "image/png": "[encoded data removed]"
          },
          "metadata": {}
        },
        {
          "output_type": "stream",
          "name": "stdout",
          "text": [
            "--------------------------------------------------------------------------------\n",
            "Response:\n",
            "********************************************************************************\n",
            "In the image you provided, the characters are dressed in what has become iconic attire from the film \"Pulp Fiction.\" Both characters are wearing black suits with white dress shirts underneath and skinny black ties. This simple yet stylish look became emblematic of the film's cool, retro aesthetic and has since been associated with the film's portrayal of these characters as smooth-talking, sharply dressed hitmen. Throughout the film, their suits play a role in the visual narrative, setting a tone that blends elements of crime noir with 1990s fashion sensibility.\n"
          ]
        }
      ],
      "source": [
        "chat.reset()\n",
        "chat.ask(\"What are some fun suits from Pulp Fiction?\")"
      ]
    },
    {
      "cell_type": "markdown",
      "id": "94e1f027-75ac-42bb-8106-a590899f42f4",
      "metadata": {
        "id": "94e1f027-75ac-42bb-8106-a590899f42f4"
      },
      "source": [
        "Pretty cool, the model was able to augment knowledge it already had about Pulp Fiction with the image provided."
      ]
    },
    {
      "cell_type": "markdown",
      "id": "954b106c-9a75-4aa9-bd46-1e6f8ead7c25",
      "metadata": {
        "id": "954b106c-9a75-4aa9-bd46-1e6f8ead7c25"
      },
      "source": [
        "#### Questions that Require Specific Knowledge"
      ]
    },
    {
      "cell_type": "markdown",
      "id": "738647a0-30cf-4d0e-94de-c904569029af",
      "metadata": {
        "id": "738647a0-30cf-4d0e-94de-c904569029af"
      },
      "source": [
        "It did pretty well on the simple questions! Now though, let's ask it a question it doesn't have the proper context to answer (I'll include a few different completions)."
      ]
    },
    {
      "cell_type": "code",
      "execution_count": null,
      "id": "490542ae-1529-4e00-b0eb-f9e6bc7f8e7f",
      "metadata": {
        "id": "490542ae-1529-4e00-b0eb-f9e6bc7f8e7f",
        "outputId": "0959cfe4-9d4d-4a20-a32d-bbfea6b577e1",
        "colab": {
          "base_uri": "https://localhost:8080/",
          "height": 336
        }
      },
      "outputs": [
        {
          "output_type": "execute_result",
          "data": {
            "text/plain": [
              "<PIL.Image.Image image mode=RGB size=800x319>"
            ],
            "image/png": "[encoded data removed]"
          },
          "metadata": {},
          "execution_count": 38
        }
      ],
      "source": [
        "# Actual Apache Cassandra logo for reference\n",
        "img_from_url(\"https://i0.wp.com/blog.knoldus.com/wp-content/uploads/2018/08/cassandra.png\")"
      ]
    },
    {
      "cell_type": "code",
      "execution_count": null,
      "id": "449f68d1-c7eb-417c-93c7-f1f7b6a27519",
      "metadata": {
        "id": "449f68d1-c7eb-417c-93c7-f1f7b6a27519",
        "outputId": "1396919b-b0db-4ebe-ed47-7a661c933d65",
        "colab": {
          "base_uri": "https://localhost:8080/"
        }
      },
      "outputs": [
        {
          "output_type": "stream",
          "name": "stdout",
          "text": [
            "Completion 0\n",
            "\n",
            "Search Results: [{'row_id': '1689228614', 'body_blob': 'Big Data development', 'distance': 0.5926132512152685}, {'row_id': '1712369354', 'body_blob': 'Hadoop article', 'distance': 0.5872599482883503}, {'row_id': '1781783515', 'body_blob': 'Build a Full Big Data Platform Right Away?', 'distance': 0.5783575039232787}]\n",
            "--------------------------------------------------------------------------------\n",
            "No images closer than threshold 0.60, running text-only query\n",
            "--------------------------------------------------------------------------------\n",
            "Response:\n",
            "********************************************************************************\n",
            "The Apache Cassandra logo consists of a stylized letter \"C\" in a blue and white color scheme, with the bottom part of the \"C\" resembling a forward slash. The logo also includes the name \"Cassandra\" in a modern sans-serif font next to the \"C\" symbol. The overall design is simple and clean, reflecting the database's focus on efficiency and scalability.\n",
            "\n",
            "\n",
            "\n",
            "Completion 1\n",
            "\n",
            "Search Results: [{'row_id': '1689228614', 'body_blob': 'Big Data development', 'distance': 0.5926132512152685}, {'row_id': '1712369354', 'body_blob': 'Hadoop article', 'distance': 0.5872599482883503}, {'row_id': '1781783515', 'body_blob': 'Build a Full Big Data Platform Right Away?', 'distance': 0.5783575039232787}]\n",
            "--------------------------------------------------------------------------------\n",
            "No images closer than threshold 0.60, running text-only query\n",
            "--------------------------------------------------------------------------------\n",
            "Response:\n",
            "********************************************************************************\n",
            "The Apache Cassandra logo features an orange-yellow circle with a stylized white letter \"C\" in the center, representing the first letter of the name Cassandra. The letter \"C\" is designed with a slight gap at the top and bottom, giving it a modern and sleek appearance. The logo is simple and recognizable, often seen with the word \"Cassandra\" written in a bold sans-serif font next to the circle.\n",
            "\n",
            "\n",
            "\n",
            "Completion 2\n",
            "\n",
            "Search Results: [{'row_id': '1689228614', 'body_blob': 'Big Data development', 'distance': 0.5926132512152685}, {'row_id': '1712369354', 'body_blob': 'Hadoop article', 'distance': 0.5872599482883503}, {'row_id': '1781783515', 'body_blob': 'Build a Full Big Data Platform Right Away?', 'distance': 0.5783575039232787}]\n",
            "--------------------------------------------------------------------------------\n",
            "No images closer than threshold 0.60, running text-only query\n",
            "--------------------------------------------------------------------------------\n",
            "Response:\n",
            "********************************************************************************\n",
            "The Apache Cassandra logo is a stylized letter \"C\" made of three connected triangles. The \"C\" is designed to resemble a distributed network or cluster, which represents the key features of the Cassandra database. The logo is typically blue and white, with the \"C\" placed inside a blue circle.\n",
            "\n",
            "\n",
            "\n"
          ]
        }
      ],
      "source": [
        "for ndx in range(3):\n",
        "    chat.reset()\n",
        "    print(f\"Completion {ndx}\\n\")\n",
        "    chat.ask(\"What does the Apache Cassandra logo look like?\")\n",
        "    print(\"\\n\" * 2)"
      ]
    },
    {
      "cell_type": "markdown",
      "id": "34631be6-5c42-48c4-8c22-a9bd6c7c2bd7",
      "metadata": {
        "id": "34631be6-5c42-48c4-8c22-a9bd6c7c2bd7"
      },
      "source": [
        "#### Adding the Proper Context"
      ]
    },
    {
      "cell_type": "markdown",
      "id": "71345472-4282-493e-a30b-97408b4d7b32",
      "metadata": {
        "id": "71345472-4282-493e-a30b-97408b4d7b32"
      },
      "source": [
        "An LLM can only be as good as the knowledge it has access to. Here, we add information to our Astra DB vector store that could answer the above user question. We embed and store a version of the Apache Cassandra logo, then ask the RAG-Chat model the same question once again."
      ]
    },
    {
      "cell_type": "code",
      "execution_count": null,
      "id": "734755d1-b73f-4f52-8337-dbdc908ce385",
      "metadata": {
        "id": "734755d1-b73f-4f52-8337-dbdc908ce385",
        "outputId": "c8bed70e-880b-4364-c690-77853ad93eeb",
        "colab": {
          "base_uri": "https://localhost:8080/",
          "height": 35
        }
      },
      "outputs": [
        {
          "output_type": "execute_result",
          "data": {
            "text/plain": [
              "'73d97e41-8bf9-46ad-a43a-c18191046ba1'"
            ],
            "application/vnd.google.colaboratory.intrinsic+json": {
              "type": "string"
            }
          },
          "metadata": {},
          "execution_count": 40
        }
      ],
      "source": [
        "chat.embed_and_store_image(\n",
        "    url=\"https://i0.wp.com/blog.knoldus.com/wp-content/uploads/2018/08/cassandra.png\",\n",
        "    caption=\"Apache Cassandra logo\",\n",
        ")"
      ]
    },
    {
      "cell_type": "code",
      "execution_count": null,
      "id": "5b573b25-e6d8-4724-ae18-7a15e1bc3fb0",
      "metadata": {
        "id": "5b573b25-e6d8-4724-ae18-7a15e1bc3fb0",
        "outputId": "fc891922-e8e7-4c2c-bacb-7979dda7c223",
        "colab": {
          "base_uri": "https://localhost:8080/",
          "height": 478
        }
      },
      "outputs": [
        {
          "output_type": "stream",
          "name": "stdout",
          "text": [
            "Search Results: [{'row_id': '73d97e41-8bf9-46ad-a43a-c18191046ba1', 'body_blob': 'Apache Cassandra logo', 'distance': 0.6601373138784513}, {'row_id': '1689228614', 'body_blob': 'Big Data development', 'distance': 0.5926132512152685}, {'row_id': '1712369354', 'body_blob': 'Hadoop article', 'distance': 0.5872599482883503}]\n",
            "--------------------------------------------------------------------------------\n",
            "Successfully tokenized IMG 0: https://i0.wp.com/blog.knoldus.com/wp-content/uploads/2018/08/cassandra.png\n"
          ]
        },
        {
          "output_type": "display_data",
          "data": {
            "text/plain": [
              "<PIL.Image.Image image mode=RGB size=800x319>"
            ],
            "image/png": "[encoded data removed]"
          },
          "metadata": {}
        },
        {
          "output_type": "stream",
          "name": "stdout",
          "text": [
            "--------------------------------------------------------------------------------\n",
            "Response:\n",
            "********************************************************************************\n",
            "The Apache Cassandra logo in the image depicts a stylized eye with a striking blue iris and what appears to be a white data symbol in the center, suggesting the idea of vision or insight into data. The word \"Cassandra\" is written in a simple, modern sans-serif typeface to the right of the eye graphic. The logo represents the open-source distributed NoSQL database system, known for handling large amounts of data across many commodity servers, providing high availability with no single point of failure.\n"
          ]
        }
      ],
      "source": [
        "chat.reset()\n",
        "chat.ask(\"What does the Apache Cassandra logo look like?\")"
      ]
    },
    {
      "cell_type": "markdown",
      "id": "939f2575-47ea-4cb0-857a-2e30ad717bcd",
      "metadata": {
        "id": "939f2575-47ea-4cb0-857a-2e30ad717bcd"
      },
      "source": [
        "#### Final Thoughts"
      ]
    },
    {
      "cell_type": "markdown",
      "id": "283d3f77-6c7b-47b6-b91a-bf26ad626530",
      "metadata": {
        "id": "283d3f77-6c7b-47b6-b91a-bf26ad626530"
      },
      "source": [
        "Adding RAG to multimodal models is a good way to augment the model with context that it may need to be effective in a real-world use case. In this demo we show examples of just giving the model extra visual context from your individual/proprietary data, but we can imagine some easily extendable use cases as well:\n",
        "- Appending both text and/or image context for a given query based on some routing models or hardcoded logic in the application\n",
        "- Finding in-context few shot image examplars to guide few shot classification (see the [OpenFlamingo demo](https://huggingface.co/spaces/openflamingo/OpenFlamingo))\n",
        "- Finding in-context few shot exemplars to guide image generation for diffusion models (see [CM3Leon](https://arxiv.org/abs/2309.02591))\n",
        "\n",
        "All in all, these large models can only be as useful as the data they have seen, and that includes multimodal models. Adding RAG to multimodal models of all varieties can lead to some huge accuracy improvements, and greater efficacy of your application. And Astra DB makes this not only possible, but quick and easy to implement."
      ]
    }
  ],
  "metadata": {
    "kernelspec": {
      "display_name": "Python 3 (ipykernel)",
      "language": "python",
      "name": "python3"
    },
    "language_info": {
      "codemirror_mode": {
        "name": "ipython",
        "version": 3
      },
      "file_extension": ".py",
      "mimetype": "text/x-python",
      "name": "python",
      "nbconvert_exporter": "python",
      "pygments_lexer": "ipython3",
      "version": "3.10.12"
    },
    "colab": {
      "provenance": [],
      "collapsed_sections": [
        "807e9a2a-77db-42ed-87c3-706e067fae3c",
        "7168d236-7cbb-4578-8fbe-8905b7399f3a",
        "520e3494-1eda-4c6b-915a-25508df4e347"
      ],
      "include_colab_link": true
    },
    "widgets": {
      "application/vnd.jupyter.widget-state+json": {
        "2884960793e14d90b1b90d878402d502": {
          "model_module": "@jupyter-widgets/controls",
          "model_name": "HBoxModel",
          "model_module_version": "1.5.0",
          "state": {
            "_dom_classes": [],
            "_model_module": "@jupyter-widgets/controls",
            "_model_module_version": "1.5.0",
            "_model_name": "HBoxModel",
            "_view_count": null,
            "_view_module": "@jupyter-widgets/controls",
            "_view_module_version": "1.5.0",
            "_view_name": "HBoxView",
            "box_style": "",
            "children": [
              "IPY_MODEL_561e34058a28487785241033356fb3dd",
              "IPY_MODEL_b669949f1118428687929a127087ad00",
              "IPY_MODEL_4cbc964ecfc94a258248114f10216e2f"
            ],
            "layout": "IPY_MODEL_3d1d19892d3f4820a8600ce29b6e3dfa"
          }
        },
        "561e34058a28487785241033356fb3dd": {
          "model_module": "@jupyter-widgets/controls",
          "model_name": "HTMLModel",
          "model_module_version": "1.5.0",
          "state": {
            "_dom_classes": [],
            "_model_module": "@jupyter-widgets/controls",
            "_model_module_version": "1.5.0",
            "_model_name": "HTMLModel",
            "_view_count": null,
            "_view_module": "@jupyter-widgets/controls",
            "_view_module_version": "1.5.0",
            "_view_name": "HTMLView",
            "description": "",
            "description_tooltip": null,
            "layout": "IPY_MODEL_52c4f3c9e9414b248fdfdc0cb7eb3f3b",
            "placeholder": "​",
            "style": "IPY_MODEL_bfe97d6025cc46009f5e05c44aa58d1a",
            "value": "Downloading (…)rocessor_config.json: 100%"
          }
        },
        "b669949f1118428687929a127087ad00": {
          "model_module": "@jupyter-widgets/controls",
          "model_name": "FloatProgressModel",
          "model_module_version": "1.5.0",
          "state": {
            "_dom_classes": [],
            "_model_module": "@jupyter-widgets/controls",
            "_model_module_version": "1.5.0",
            "_model_name": "FloatProgressModel",
            "_view_count": null,
            "_view_module": "@jupyter-widgets/controls",
            "_view_module_version": "1.5.0",
            "_view_name": "ProgressView",
            "bar_style": "success",
            "description": "",
            "description_tooltip": null,
            "layout": "IPY_MODEL_a8011b4afd224d7baf7a8988d119d434",
            "max": 316,
            "min": 0,
            "orientation": "horizontal",
            "style": "IPY_MODEL_21b0618ad08144a8887988fa2f822643",
            "value": 316
          }
        },
        "4cbc964ecfc94a258248114f10216e2f": {
          "model_module": "@jupyter-widgets/controls",
          "model_name": "HTMLModel",
          "model_module_version": "1.5.0",
          "state": {
            "_dom_classes": [],
            "_model_module": "@jupyter-widgets/controls",
            "_model_module_version": "1.5.0",
            "_model_name": "HTMLModel",
            "_view_count": null,
            "_view_module": "@jupyter-widgets/controls",
            "_view_module_version": "1.5.0",
            "_view_name": "HTMLView",
            "description": "",
            "description_tooltip": null,
            "layout": "IPY_MODEL_8fa93890d1f04092bad877be5c7ce9f6",
            "placeholder": "​",
            "style": "IPY_MODEL_99c3546d90874c9e9bc6911be83b29e6",
            "value": " 316/316 [00:00&lt;00:00, 14.5kB/s]"
          }
        },
        "3d1d19892d3f4820a8600ce29b6e3dfa": {
          "model_module": "@jupyter-widgets/base",
          "model_name": "LayoutModel",
          "model_module_version": "1.2.0",
          "state": {
            "_model_module": "@jupyter-widgets/base",
            "_model_module_version": "1.2.0",
            "_model_name": "LayoutModel",
            "_view_count": null,
            "_view_module": "@jupyter-widgets/base",
            "_view_module_version": "1.2.0",
            "_view_name": "LayoutView",
            "align_content": null,
            "align_items": null,
            "align_self": null,
            "border": null,
            "bottom": null,
            "display": null,
            "flex": null,
            "flex_flow": null,
            "grid_area": null,
            "grid_auto_columns": null,
            "grid_auto_flow": null,
            "grid_auto_rows": null,
            "grid_column": null,
            "grid_gap": null,
            "grid_row": null,
            "grid_template_areas": null,
            "grid_template_columns": null,
            "grid_template_rows": null,
            "height": null,
            "justify_content": null,
            "justify_items": null,
            "left": null,
            "margin": null,
            "max_height": null,
            "max_width": null,
            "min_height": null,
            "min_width": null,
            "object_fit": null,
            "object_position": null,
            "order": null,
            "overflow": null,
            "overflow_x": null,
            "overflow_y": null,
            "padding": null,
            "right": null,
            "top": null,
            "visibility": null,
            "width": null
          }
        },
        "52c4f3c9e9414b248fdfdc0cb7eb3f3b": {
          "model_module": "@jupyter-widgets/base",
          "model_name": "LayoutModel",
          "model_module_version": "1.2.0",
          "state": {
            "_model_module": "@jupyter-widgets/base",
            "_model_module_version": "1.2.0",
            "_model_name": "LayoutModel",
            "_view_count": null,
            "_view_module": "@jupyter-widgets/base",
            "_view_module_version": "1.2.0",
            "_view_name": "LayoutView",
            "align_content": null,
            "align_items": null,
            "align_self": null,
            "border": null,
            "bottom": null,
            "display": null,
            "flex": null,
            "flex_flow": null,
            "grid_area": null,
            "grid_auto_columns": null,
            "grid_auto_flow": null,
            "grid_auto_rows": null,
            "grid_column": null,
            "grid_gap": null,
            "grid_row": null,
            "grid_template_areas": null,
            "grid_template_columns": null,
            "grid_template_rows": null,
            "height": null,
            "justify_content": null,
            "justify_items": null,
            "left": null,
            "margin": null,
            "max_height": null,
            "max_width": null,
            "min_height": null,
            "min_width": null,
            "object_fit": null,
            "object_position": null,
            "order": null,
            "overflow": null,
            "overflow_x": null,
            "overflow_y": null,
            "padding": null,
            "right": null,
            "top": null,
            "visibility": null,
            "width": null
          }
        },
        "bfe97d6025cc46009f5e05c44aa58d1a": {
          "model_module": "@jupyter-widgets/controls",
          "model_name": "DescriptionStyleModel",
          "model_module_version": "1.5.0",
          "state": {
            "_model_module": "@jupyter-widgets/controls",
            "_model_module_version": "1.5.0",
            "_model_name": "DescriptionStyleModel",
            "_view_count": null,
            "_view_module": "@jupyter-widgets/base",
            "_view_module_version": "1.2.0",
            "_view_name": "StyleView",
            "description_width": ""
          }
        },
        "a8011b4afd224d7baf7a8988d119d434": {
          "model_module": "@jupyter-widgets/base",
          "model_name": "LayoutModel",
          "model_module_version": "1.2.0",
          "state": {
            "_model_module": "@jupyter-widgets/base",
            "_model_module_version": "1.2.0",
            "_model_name": "LayoutModel",
            "_view_count": null,
            "_view_module": "@jupyter-widgets/base",
            "_view_module_version": "1.2.0",
            "_view_name": "LayoutView",
            "align_content": null,
            "align_items": null,
            "align_self": null,
            "border": null,
            "bottom": null,
            "display": null,
            "flex": null,
            "flex_flow": null,
            "grid_area": null,
            "grid_auto_columns": null,
            "grid_auto_flow": null,
            "grid_auto_rows": null,
            "grid_column": null,
            "grid_gap": null,
            "grid_row": null,
            "grid_template_areas": null,
            "grid_template_columns": null,
            "grid_template_rows": null,
            "height": null,
            "justify_content": null,
            "justify_items": null,
            "left": null,
            "margin": null,
            "max_height": null,
            "max_width": null,
            "min_height": null,
            "min_width": null,
            "object_fit": null,
            "object_position": null,
            "order": null,
            "overflow": null,
            "overflow_x": null,
            "overflow_y": null,
            "padding": null,
            "right": null,
            "top": null,
            "visibility": null,
            "width": null
          }
        },
        "21b0618ad08144a8887988fa2f822643": {
          "model_module": "@jupyter-widgets/controls",
          "model_name": "ProgressStyleModel",
          "model_module_version": "1.5.0",
          "state": {
            "_model_module": "@jupyter-widgets/controls",
            "_model_module_version": "1.5.0",
            "_model_name": "ProgressStyleModel",
            "_view_count": null,
            "_view_module": "@jupyter-widgets/base",
            "_view_module_version": "1.2.0",
            "_view_name": "StyleView",
            "bar_color": null,
            "description_width": ""
          }
        },
        "8fa93890d1f04092bad877be5c7ce9f6": {
          "model_module": "@jupyter-widgets/base",
          "model_name": "LayoutModel",
          "model_module_version": "1.2.0",
          "state": {
            "_model_module": "@jupyter-widgets/base",
            "_model_module_version": "1.2.0",
            "_model_name": "LayoutModel",
            "_view_count": null,
            "_view_module": "@jupyter-widgets/base",
            "_view_module_version": "1.2.0",
            "_view_name": "LayoutView",
            "align_content": null,
            "align_items": null,
            "align_self": null,
            "border": null,
            "bottom": null,
            "display": null,
            "flex": null,
            "flex_flow": null,
            "grid_area": null,
            "grid_auto_columns": null,
            "grid_auto_flow": null,
            "grid_auto_rows": null,
            "grid_column": null,
            "grid_gap": null,
            "grid_row": null,
            "grid_template_areas": null,
            "grid_template_columns": null,
            "grid_template_rows": null,
            "height": null,
            "justify_content": null,
            "justify_items": null,
            "left": null,
            "margin": null,
            "max_height": null,
            "max_width": null,
            "min_height": null,
            "min_width": null,
            "object_fit": null,
            "object_position": null,
            "order": null,
            "overflow": null,
            "overflow_x": null,
            "overflow_y": null,
            "padding": null,
            "right": null,
            "top": null,
            "visibility": null,
            "width": null
          }
        },
        "99c3546d90874c9e9bc6911be83b29e6": {
          "model_module": "@jupyter-widgets/controls",
          "model_name": "DescriptionStyleModel",
          "model_module_version": "1.5.0",
          "state": {
            "_model_module": "@jupyter-widgets/controls",
            "_model_module_version": "1.5.0",
            "_model_name": "DescriptionStyleModel",
            "_view_count": null,
            "_view_module": "@jupyter-widgets/base",
            "_view_module_version": "1.2.0",
            "_view_name": "StyleView",
            "description_width": ""
          }
        },
        "84cfe87046dd47ba870b89474bbfd9fa": {
          "model_module": "@jupyter-widgets/controls",
          "model_name": "HBoxModel",
          "model_module_version": "1.5.0",
          "state": {
            "_dom_classes": [],
            "_model_module": "@jupyter-widgets/controls",
            "_model_module_version": "1.5.0",
            "_model_name": "HBoxModel",
            "_view_count": null,
            "_view_module": "@jupyter-widgets/controls",
            "_view_module_version": "1.5.0",
            "_view_name": "HBoxView",
            "box_style": "",
            "children": [
              "IPY_MODEL_4ee9fc401ef0406eb50fc1b10466c66a",
              "IPY_MODEL_dd5c9da6b77c4adbb38a34f09ede585d",
              "IPY_MODEL_70f59ff67e7243ca8f43a219a36c0f73"
            ],
            "layout": "IPY_MODEL_d0d4de82e0124bbd96f88b2187400bb9"
          }
        },
        "4ee9fc401ef0406eb50fc1b10466c66a": {
          "model_module": "@jupyter-widgets/controls",
          "model_name": "HTMLModel",
          "model_module_version": "1.5.0",
          "state": {
            "_dom_classes": [],
            "_model_module": "@jupyter-widgets/controls",
            "_model_module_version": "1.5.0",
            "_model_name": "HTMLModel",
            "_view_count": null,
            "_view_module": "@jupyter-widgets/controls",
            "_view_module_version": "1.5.0",
            "_view_name": "HTMLView",
            "description": "",
            "description_tooltip": null,
            "layout": "IPY_MODEL_035cc958012a437e999b2304716031ae",
            "placeholder": "​",
            "style": "IPY_MODEL_0d29b096f6f54a4cb9a63c8f6300456c",
            "value": "Downloading (…)okenizer_config.json: 100%"
          }
        },
        "dd5c9da6b77c4adbb38a34f09ede585d": {
          "model_module": "@jupyter-widgets/controls",
          "model_name": "FloatProgressModel",
          "model_module_version": "1.5.0",
          "state": {
            "_dom_classes": [],
            "_model_module": "@jupyter-widgets/controls",
            "_model_module_version": "1.5.0",
            "_model_name": "FloatProgressModel",
            "_view_count": null,
            "_view_module": "@jupyter-widgets/controls",
            "_view_module_version": "1.5.0",
            "_view_name": "ProgressView",
            "bar_style": "success",
            "description": "",
            "description_tooltip": null,
            "layout": "IPY_MODEL_a66e802b43f14caeba9b1b4619ee512b",
            "max": 905,
            "min": 0,
            "orientation": "horizontal",
            "style": "IPY_MODEL_28678ab13fe04c13aeb4105045ca31ec",
            "value": 905
          }
        },
        "70f59ff67e7243ca8f43a219a36c0f73": {
          "model_module": "@jupyter-widgets/controls",
          "model_name": "HTMLModel",
          "model_module_version": "1.5.0",
          "state": {
            "_dom_classes": [],
            "_model_module": "@jupyter-widgets/controls",
            "_model_module_version": "1.5.0",
            "_model_name": "HTMLModel",
            "_view_count": null,
            "_view_module": "@jupyter-widgets/controls",
            "_view_module_version": "1.5.0",
            "_view_name": "HTMLView",
            "description": "",
            "description_tooltip": null,
            "layout": "IPY_MODEL_d96355cf83bb4ae2bd3601b7860ac5aa",
            "placeholder": "​",
            "style": "IPY_MODEL_92ffa4079efa4ef1b48f853d963921b4",
            "value": " 905/905 [00:00&lt;00:00, 28.1kB/s]"
          }
        },
        "d0d4de82e0124bbd96f88b2187400bb9": {
          "model_module": "@jupyter-widgets/base",
          "model_name": "LayoutModel",
          "model_module_version": "1.2.0",
          "state": {
            "_model_module": "@jupyter-widgets/base",
            "_model_module_version": "1.2.0",
            "_model_name": "LayoutModel",
            "_view_count": null,
            "_view_module": "@jupyter-widgets/base",
            "_view_module_version": "1.2.0",
            "_view_name": "LayoutView",
            "align_content": null,
            "align_items": null,
            "align_self": null,
            "border": null,
            "bottom": null,
            "display": null,
            "flex": null,
            "flex_flow": null,
            "grid_area": null,
            "grid_auto_columns": null,
            "grid_auto_flow": null,
            "grid_auto_rows": null,
            "grid_column": null,
            "grid_gap": null,
            "grid_row": null,
            "grid_template_areas": null,
            "grid_template_columns": null,
            "grid_template_rows": null,
            "height": null,
            "justify_content": null,
            "justify_items": null,
            "left": null,
            "margin": null,
            "max_height": null,
            "max_width": null,
            "min_height": null,
            "min_width": null,
            "object_fit": null,
            "object_position": null,
            "order": null,
            "overflow": null,
            "overflow_x": null,
            "overflow_y": null,
            "padding": null,
            "right": null,
            "top": null,
            "visibility": null,
            "width": null
          }
        },
        "035cc958012a437e999b2304716031ae": {
          "model_module": "@jupyter-widgets/base",
          "model_name": "LayoutModel",
          "model_module_version": "1.2.0",
          "state": {
            "_model_module": "@jupyter-widgets/base",
            "_model_module_version": "1.2.0",
            "_model_name": "LayoutModel",
            "_view_count": null,
            "_view_module": "@jupyter-widgets/base",
            "_view_module_version": "1.2.0",
            "_view_name": "LayoutView",
            "align_content": null,
            "align_items": null,
            "align_self": null,
            "border": null,
            "bottom": null,
            "display": null,
            "flex": null,
            "flex_flow": null,
            "grid_area": null,
            "grid_auto_columns": null,
            "grid_auto_flow": null,
            "grid_auto_rows": null,
            "grid_column": null,
            "grid_gap": null,
            "grid_row": null,
            "grid_template_areas": null,
            "grid_template_columns": null,
            "grid_template_rows": null,
            "height": null,
            "justify_content": null,
            "justify_items": null,
            "left": null,
            "margin": null,
            "max_height": null,
            "max_width": null,
            "min_height": null,
            "min_width": null,
            "object_fit": null,
            "object_position": null,
            "order": null,
            "overflow": null,
            "overflow_x": null,
            "overflow_y": null,
            "padding": null,
            "right": null,
            "top": null,
            "visibility": null,
            "width": null
          }
        },
        "0d29b096f6f54a4cb9a63c8f6300456c": {
          "model_module": "@jupyter-widgets/controls",
          "model_name": "DescriptionStyleModel",
          "model_module_version": "1.5.0",
          "state": {
            "_model_module": "@jupyter-widgets/controls",
            "_model_module_version": "1.5.0",
            "_model_name": "DescriptionStyleModel",
            "_view_count": null,
            "_view_module": "@jupyter-widgets/base",
            "_view_module_version": "1.2.0",
            "_view_name": "StyleView",
            "description_width": ""
          }
        },
        "a66e802b43f14caeba9b1b4619ee512b": {
          "model_module": "@jupyter-widgets/base",
          "model_name": "LayoutModel",
          "model_module_version": "1.2.0",
          "state": {
            "_model_module": "@jupyter-widgets/base",
            "_model_module_version": "1.2.0",
            "_model_name": "LayoutModel",
            "_view_count": null,
            "_view_module": "@jupyter-widgets/base",
            "_view_module_version": "1.2.0",
            "_view_name": "LayoutView",
            "align_content": null,
            "align_items": null,
            "align_self": null,
            "border": null,
            "bottom": null,
            "display": null,
            "flex": null,
            "flex_flow": null,
            "grid_area": null,
            "grid_auto_columns": null,
            "grid_auto_flow": null,
            "grid_auto_rows": null,
            "grid_column": null,
            "grid_gap": null,
            "grid_row": null,
            "grid_template_areas": null,
            "grid_template_columns": null,
            "grid_template_rows": null,
            "height": null,
            "justify_content": null,
            "justify_items": null,
            "left": null,
            "margin": null,
            "max_height": null,
            "max_width": null,
            "min_height": null,
            "min_width": null,
            "object_fit": null,
            "object_position": null,
            "order": null,
            "overflow": null,
            "overflow_x": null,
            "overflow_y": null,
            "padding": null,
            "right": null,
            "top": null,
            "visibility": null,
            "width": null
          }
        },
        "28678ab13fe04c13aeb4105045ca31ec": {
          "model_module": "@jupyter-widgets/controls",
          "model_name": "ProgressStyleModel",
          "model_module_version": "1.5.0",
          "state": {
            "_model_module": "@jupyter-widgets/controls",
            "_model_module_version": "1.5.0",
            "_model_name": "ProgressStyleModel",
            "_view_count": null,
            "_view_module": "@jupyter-widgets/base",
            "_view_module_version": "1.2.0",
            "_view_name": "StyleView",
            "bar_color": null,
            "description_width": ""
          }
        },
        "d96355cf83bb4ae2bd3601b7860ac5aa": {
          "model_module": "@jupyter-widgets/base",
          "model_name": "LayoutModel",
          "model_module_version": "1.2.0",
          "state": {
            "_model_module": "@jupyter-widgets/base",
            "_model_module_version": "1.2.0",
            "_model_name": "LayoutModel",
            "_view_count": null,
            "_view_module": "@jupyter-widgets/base",
            "_view_module_version": "1.2.0",
            "_view_name": "LayoutView",
            "align_content": null,
            "align_items": null,
            "align_self": null,
            "border": null,
            "bottom": null,
            "display": null,
            "flex": null,
            "flex_flow": null,
            "grid_area": null,
            "grid_auto_columns": null,
            "grid_auto_flow": null,
            "grid_auto_rows": null,
            "grid_column": null,
            "grid_gap": null,
            "grid_row": null,
            "grid_template_areas": null,
            "grid_template_columns": null,
            "grid_template_rows": null,
            "height": null,
            "justify_content": null,
            "justify_items": null,
            "left": null,
            "margin": null,
            "max_height": null,
            "max_width": null,
            "min_height": null,
            "min_width": null,
            "object_fit": null,
            "object_position": null,
            "order": null,
            "overflow": null,
            "overflow_x": null,
            "overflow_y": null,
            "padding": null,
            "right": null,
            "top": null,
            "visibility": null,
            "width": null
          }
        },
        "92ffa4079efa4ef1b48f853d963921b4": {
          "model_module": "@jupyter-widgets/controls",
          "model_name": "DescriptionStyleModel",
          "model_module_version": "1.5.0",
          "state": {
            "_model_module": "@jupyter-widgets/controls",
            "_model_module_version": "1.5.0",
            "_model_name": "DescriptionStyleModel",
            "_view_count": null,
            "_view_module": "@jupyter-widgets/base",
            "_view_module_version": "1.2.0",
            "_view_name": "StyleView",
            "description_width": ""
          }
        },
        "ffba1b303bb144aca30eecde4d1a0766": {
          "model_module": "@jupyter-widgets/controls",
          "model_name": "HBoxModel",
          "model_module_version": "1.5.0",
          "state": {
            "_dom_classes": [],
            "_model_module": "@jupyter-widgets/controls",
            "_model_module_version": "1.5.0",
            "_model_name": "HBoxModel",
            "_view_count": null,
            "_view_module": "@jupyter-widgets/controls",
            "_view_module_version": "1.5.0",
            "_view_name": "HBoxView",
            "box_style": "",
            "children": [
              "IPY_MODEL_094c436306a349b5942f1ab4c41520e6",
              "IPY_MODEL_ba9bb093cf0943b295ecebd7af39ffb6",
              "IPY_MODEL_c0653dd9610c4da1b1d3f2bcfecc83d0"
            ],
            "layout": "IPY_MODEL_fb2f931ea253425ba961d4985aeca9ad"
          }
        },
        "094c436306a349b5942f1ab4c41520e6": {
          "model_module": "@jupyter-widgets/controls",
          "model_name": "HTMLModel",
          "model_module_version": "1.5.0",
          "state": {
            "_dom_classes": [],
            "_model_module": "@jupyter-widgets/controls",
            "_model_module_version": "1.5.0",
            "_model_name": "HTMLModel",
            "_view_count": null,
            "_view_module": "@jupyter-widgets/controls",
            "_view_module_version": "1.5.0",
            "_view_name": "HTMLView",
            "description": "",
            "description_tooltip": null,
            "layout": "IPY_MODEL_cfb7f94877a34f03a7463e7dc83372f4",
            "placeholder": "​",
            "style": "IPY_MODEL_ac3db4cbf5114600af6830906064b80b",
            "value": "Downloading (…)olve/main/vocab.json: 100%"
          }
        },
        "ba9bb093cf0943b295ecebd7af39ffb6": {
          "model_module": "@jupyter-widgets/controls",
          "model_name": "FloatProgressModel",
          "model_module_version": "1.5.0",
          "state": {
            "_dom_classes": [],
            "_model_module": "@jupyter-widgets/controls",
            "_model_module_version": "1.5.0",
            "_model_name": "FloatProgressModel",
            "_view_count": null,
            "_view_module": "@jupyter-widgets/controls",
            "_view_module_version": "1.5.0",
            "_view_name": "ProgressView",
            "bar_style": "success",
            "description": "",
            "description_tooltip": null,
            "layout": "IPY_MODEL_4403ee083a1e4257809bfdf1d0292d9b",
            "max": 961143,
            "min": 0,
            "orientation": "horizontal",
            "style": "IPY_MODEL_d7fe35ea9ec04bfd9757d4f58b87482e",
            "value": 961143
          }
        },
        "c0653dd9610c4da1b1d3f2bcfecc83d0": {
          "model_module": "@jupyter-widgets/controls",
          "model_name": "HTMLModel",
          "model_module_version": "1.5.0",
          "state": {
            "_dom_classes": [],
            "_model_module": "@jupyter-widgets/controls",
            "_model_module_version": "1.5.0",
            "_model_name": "HTMLModel",
            "_view_count": null,
            "_view_module": "@jupyter-widgets/controls",
            "_view_module_version": "1.5.0",
            "_view_name": "HTMLView",
            "description": "",
            "description_tooltip": null,
            "layout": "IPY_MODEL_4755622736ac4836bb27e9c9b4404361",
            "placeholder": "​",
            "style": "IPY_MODEL_d21a2d187361459ab797c7a40e25b2b9",
            "value": " 961k/961k [00:00&lt;00:00, 9.73MB/s]"
          }
        },
        "fb2f931ea253425ba961d4985aeca9ad": {
          "model_module": "@jupyter-widgets/base",
          "model_name": "LayoutModel",
          "model_module_version": "1.2.0",
          "state": {
            "_model_module": "@jupyter-widgets/base",
            "_model_module_version": "1.2.0",
            "_model_name": "LayoutModel",
            "_view_count": null,
            "_view_module": "@jupyter-widgets/base",
            "_view_module_version": "1.2.0",
            "_view_name": "LayoutView",
            "align_content": null,
            "align_items": null,
            "align_self": null,
            "border": null,
            "bottom": null,
            "display": null,
            "flex": null,
            "flex_flow": null,
            "grid_area": null,
            "grid_auto_columns": null,
            "grid_auto_flow": null,
            "grid_auto_rows": null,
            "grid_column": null,
            "grid_gap": null,
            "grid_row": null,
            "grid_template_areas": null,
            "grid_template_columns": null,
            "grid_template_rows": null,
            "height": null,
            "justify_content": null,
            "justify_items": null,
            "left": null,
            "margin": null,
            "max_height": null,
            "max_width": null,
            "min_height": null,
            "min_width": null,
            "object_fit": null,
            "object_position": null,
            "order": null,
            "overflow": null,
            "overflow_x": null,
            "overflow_y": null,
            "padding": null,
            "right": null,
            "top": null,
            "visibility": null,
            "width": null
          }
        },
        "cfb7f94877a34f03a7463e7dc83372f4": {
          "model_module": "@jupyter-widgets/base",
          "model_name": "LayoutModel",
          "model_module_version": "1.2.0",
          "state": {
            "_model_module": "@jupyter-widgets/base",
            "_model_module_version": "1.2.0",
            "_model_name": "LayoutModel",
            "_view_count": null,
            "_view_module": "@jupyter-widgets/base",
            "_view_module_version": "1.2.0",
            "_view_name": "LayoutView",
            "align_content": null,
            "align_items": null,
            "align_self": null,
            "border": null,
            "bottom": null,
            "display": null,
            "flex": null,
            "flex_flow": null,
            "grid_area": null,
            "grid_auto_columns": null,
            "grid_auto_flow": null,
            "grid_auto_rows": null,
            "grid_column": null,
            "grid_gap": null,
            "grid_row": null,
            "grid_template_areas": null,
            "grid_template_columns": null,
            "grid_template_rows": null,
            "height": null,
            "justify_content": null,
            "justify_items": null,
            "left": null,
            "margin": null,
            "max_height": null,
            "max_width": null,
            "min_height": null,
            "min_width": null,
            "object_fit": null,
            "object_position": null,
            "order": null,
            "overflow": null,
            "overflow_x": null,
            "overflow_y": null,
            "padding": null,
            "right": null,
            "top": null,
            "visibility": null,
            "width": null
          }
        },
        "ac3db4cbf5114600af6830906064b80b": {
          "model_module": "@jupyter-widgets/controls",
          "model_name": "DescriptionStyleModel",
          "model_module_version": "1.5.0",
          "state": {
            "_model_module": "@jupyter-widgets/controls",
            "_model_module_version": "1.5.0",
            "_model_name": "DescriptionStyleModel",
            "_view_count": null,
            "_view_module": "@jupyter-widgets/base",
            "_view_module_version": "1.2.0",
            "_view_name": "StyleView",
            "description_width": ""
          }
        },
        "4403ee083a1e4257809bfdf1d0292d9b": {
          "model_module": "@jupyter-widgets/base",
          "model_name": "LayoutModel",
          "model_module_version": "1.2.0",
          "state": {
            "_model_module": "@jupyter-widgets/base",
            "_model_module_version": "1.2.0",
            "_model_name": "LayoutModel",
            "_view_count": null,
            "_view_module": "@jupyter-widgets/base",
            "_view_module_version": "1.2.0",
            "_view_name": "LayoutView",
            "align_content": null,
            "align_items": null,
            "align_self": null,
            "border": null,
            "bottom": null,
            "display": null,
            "flex": null,
            "flex_flow": null,
            "grid_area": null,
            "grid_auto_columns": null,
            "grid_auto_flow": null,
            "grid_auto_rows": null,
            "grid_column": null,
            "grid_gap": null,
            "grid_row": null,
            "grid_template_areas": null,
            "grid_template_columns": null,
            "grid_template_rows": null,
            "height": null,
            "justify_content": null,
            "justify_items": null,
            "left": null,
            "margin": null,
            "max_height": null,
            "max_width": null,
            "min_height": null,
            "min_width": null,
            "object_fit": null,
            "object_position": null,
            "order": null,
            "overflow": null,
            "overflow_x": null,
            "overflow_y": null,
            "padding": null,
            "right": null,
            "top": null,
            "visibility": null,
            "width": null
          }
        },
        "d7fe35ea9ec04bfd9757d4f58b87482e": {
          "model_module": "@jupyter-widgets/controls",
          "model_name": "ProgressStyleModel",
          "model_module_version": "1.5.0",
          "state": {
            "_model_module": "@jupyter-widgets/controls",
            "_model_module_version": "1.5.0",
            "_model_name": "ProgressStyleModel",
            "_view_count": null,
            "_view_module": "@jupyter-widgets/base",
            "_view_module_version": "1.2.0",
            "_view_name": "StyleView",
            "bar_color": null,
            "description_width": ""
          }
        },
        "4755622736ac4836bb27e9c9b4404361": {
          "model_module": "@jupyter-widgets/base",
          "model_name": "LayoutModel",
          "model_module_version": "1.2.0",
          "state": {
            "_model_module": "@jupyter-widgets/base",
            "_model_module_version": "1.2.0",
            "_model_name": "LayoutModel",
            "_view_count": null,
            "_view_module": "@jupyter-widgets/base",
            "_view_module_version": "1.2.0",
            "_view_name": "LayoutView",
            "align_content": null,
            "align_items": null,
            "align_self": null,
            "border": null,
            "bottom": null,
            "display": null,
            "flex": null,
            "flex_flow": null,
            "grid_area": null,
            "grid_auto_columns": null,
            "grid_auto_flow": null,
            "grid_auto_rows": null,
            "grid_column": null,
            "grid_gap": null,
            "grid_row": null,
            "grid_template_areas": null,
            "grid_template_columns": null,
            "grid_template_rows": null,
            "height": null,
            "justify_content": null,
            "justify_items": null,
            "left": null,
            "margin": null,
            "max_height": null,
            "max_width": null,
            "min_height": null,
            "min_width": null,
            "object_fit": null,
            "object_position": null,
            "order": null,
            "overflow": null,
            "overflow_x": null,
            "overflow_y": null,
            "padding": null,
            "right": null,
            "top": null,
            "visibility": null,
            "width": null
          }
        },
        "d21a2d187361459ab797c7a40e25b2b9": {
          "model_module": "@jupyter-widgets/controls",
          "model_name": "DescriptionStyleModel",
          "model_module_version": "1.5.0",
          "state": {
            "_model_module": "@jupyter-widgets/controls",
            "_model_module_version": "1.5.0",
            "_model_name": "DescriptionStyleModel",
            "_view_count": null,
            "_view_module": "@jupyter-widgets/base",
            "_view_module_version": "1.2.0",
            "_view_name": "StyleView",
            "description_width": ""
          }
        },
        "66e762f46adb450297100835d33a4ed8": {
          "model_module": "@jupyter-widgets/controls",
          "model_name": "HBoxModel",
          "model_module_version": "1.5.0",
          "state": {
            "_dom_classes": [],
            "_model_module": "@jupyter-widgets/controls",
            "_model_module_version": "1.5.0",
            "_model_name": "HBoxModel",
            "_view_count": null,
            "_view_module": "@jupyter-widgets/controls",
            "_view_module_version": "1.5.0",
            "_view_name": "HBoxView",
            "box_style": "",
            "children": [
              "IPY_MODEL_3e269782b8bc40ffab02592bb16ef3e9",
              "IPY_MODEL_bd500ecec9c14be68fe570eaaae840e8",
              "IPY_MODEL_df03ce0532d54763821283d6abf4a6c4"
            ],
            "layout": "IPY_MODEL_149d1394273d4094b10a372f6df9426a"
          }
        },
        "3e269782b8bc40ffab02592bb16ef3e9": {
          "model_module": "@jupyter-widgets/controls",
          "model_name": "HTMLModel",
          "model_module_version": "1.5.0",
          "state": {
            "_dom_classes": [],
            "_model_module": "@jupyter-widgets/controls",
            "_model_module_version": "1.5.0",
            "_model_name": "HTMLModel",
            "_view_count": null,
            "_view_module": "@jupyter-widgets/controls",
            "_view_module_version": "1.5.0",
            "_view_name": "HTMLView",
            "description": "",
            "description_tooltip": null,
            "layout": "IPY_MODEL_ea600c251d954e75ba1376990762fb94",
            "placeholder": "​",
            "style": "IPY_MODEL_3dc9914c0b4246168549090f4ca1f09e",
            "value": "Downloading (…)olve/main/merges.txt: 100%"
          }
        },
        "bd500ecec9c14be68fe570eaaae840e8": {
          "model_module": "@jupyter-widgets/controls",
          "model_name": "FloatProgressModel",
          "model_module_version": "1.5.0",
          "state": {
            "_dom_classes": [],
            "_model_module": "@jupyter-widgets/controls",
            "_model_module_version": "1.5.0",
            "_model_name": "FloatProgressModel",
            "_view_count": null,
            "_view_module": "@jupyter-widgets/controls",
            "_view_module_version": "1.5.0",
            "_view_name": "ProgressView",
            "bar_style": "success",
            "description": "",
            "description_tooltip": null,
            "layout": "IPY_MODEL_4c3113e4e3e249748dc21b504be660db",
            "max": 524619,
            "min": 0,
            "orientation": "horizontal",
            "style": "IPY_MODEL_99ff0be3f38e41fc9cf980bad63a1df1",
            "value": 524619
          }
        },
        "df03ce0532d54763821283d6abf4a6c4": {
          "model_module": "@jupyter-widgets/controls",
          "model_name": "HTMLModel",
          "model_module_version": "1.5.0",
          "state": {
            "_dom_classes": [],
            "_model_module": "@jupyter-widgets/controls",
            "_model_module_version": "1.5.0",
            "_model_name": "HTMLModel",
            "_view_count": null,
            "_view_module": "@jupyter-widgets/controls",
            "_view_module_version": "1.5.0",
            "_view_name": "HTMLView",
            "description": "",
            "description_tooltip": null,
            "layout": "IPY_MODEL_010c6a435ca740ae890f4452faf49eeb",
            "placeholder": "​",
            "style": "IPY_MODEL_5993cfda735145308533e6415b372869",
            "value": " 525k/525k [00:00&lt;00:00, 6.93MB/s]"
          }
        },
        "149d1394273d4094b10a372f6df9426a": {
          "model_module": "@jupyter-widgets/base",
          "model_name": "LayoutModel",
          "model_module_version": "1.2.0",
          "state": {
            "_model_module": "@jupyter-widgets/base",
            "_model_module_version": "1.2.0",
            "_model_name": "LayoutModel",
            "_view_count": null,
            "_view_module": "@jupyter-widgets/base",
            "_view_module_version": "1.2.0",
            "_view_name": "LayoutView",
            "align_content": null,
            "align_items": null,
            "align_self": null,
            "border": null,
            "bottom": null,
            "display": null,
            "flex": null,
            "flex_flow": null,
            "grid_area": null,
            "grid_auto_columns": null,
            "grid_auto_flow": null,
            "grid_auto_rows": null,
            "grid_column": null,
            "grid_gap": null,
            "grid_row": null,
            "grid_template_areas": null,
            "grid_template_columns": null,
            "grid_template_rows": null,
            "height": null,
            "justify_content": null,
            "justify_items": null,
            "left": null,
            "margin": null,
            "max_height": null,
            "max_width": null,
            "min_height": null,
            "min_width": null,
            "object_fit": null,
            "object_position": null,
            "order": null,
            "overflow": null,
            "overflow_x": null,
            "overflow_y": null,
            "padding": null,
            "right": null,
            "top": null,
            "visibility": null,
            "width": null
          }
        },
        "ea600c251d954e75ba1376990762fb94": {
          "model_module": "@jupyter-widgets/base",
          "model_name": "LayoutModel",
          "model_module_version": "1.2.0",
          "state": {
            "_model_module": "@jupyter-widgets/base",
            "_model_module_version": "1.2.0",
            "_model_name": "LayoutModel",
            "_view_count": null,
            "_view_module": "@jupyter-widgets/base",
            "_view_module_version": "1.2.0",
            "_view_name": "LayoutView",
            "align_content": null,
            "align_items": null,
            "align_self": null,
            "border": null,
            "bottom": null,
            "display": null,
            "flex": null,
            "flex_flow": null,
            "grid_area": null,
            "grid_auto_columns": null,
            "grid_auto_flow": null,
            "grid_auto_rows": null,
            "grid_column": null,
            "grid_gap": null,
            "grid_row": null,
            "grid_template_areas": null,
            "grid_template_columns": null,
            "grid_template_rows": null,
            "height": null,
            "justify_content": null,
            "justify_items": null,
            "left": null,
            "margin": null,
            "max_height": null,
            "max_width": null,
            "min_height": null,
            "min_width": null,
            "object_fit": null,
            "object_position": null,
            "order": null,
            "overflow": null,
            "overflow_x": null,
            "overflow_y": null,
            "padding": null,
            "right": null,
            "top": null,
            "visibility": null,
            "width": null
          }
        },
        "3dc9914c0b4246168549090f4ca1f09e": {
          "model_module": "@jupyter-widgets/controls",
          "model_name": "DescriptionStyleModel",
          "model_module_version": "1.5.0",
          "state": {
            "_model_module": "@jupyter-widgets/controls",
            "_model_module_version": "1.5.0",
            "_model_name": "DescriptionStyleModel",
            "_view_count": null,
            "_view_module": "@jupyter-widgets/base",
            "_view_module_version": "1.2.0",
            "_view_name": "StyleView",
            "description_width": ""
          }
        },
        "4c3113e4e3e249748dc21b504be660db": {
          "model_module": "@jupyter-widgets/base",
          "model_name": "LayoutModel",
          "model_module_version": "1.2.0",
          "state": {
            "_model_module": "@jupyter-widgets/base",
            "_model_module_version": "1.2.0",
            "_model_name": "LayoutModel",
            "_view_count": null,
            "_view_module": "@jupyter-widgets/base",
            "_view_module_version": "1.2.0",
            "_view_name": "LayoutView",
            "align_content": null,
            "align_items": null,
            "align_self": null,
            "border": null,
            "bottom": null,
            "display": null,
            "flex": null,
            "flex_flow": null,
            "grid_area": null,
            "grid_auto_columns": null,
            "grid_auto_flow": null,
            "grid_auto_rows": null,
            "grid_column": null,
            "grid_gap": null,
            "grid_row": null,
            "grid_template_areas": null,
            "grid_template_columns": null,
            "grid_template_rows": null,
            "height": null,
            "justify_content": null,
            "justify_items": null,
            "left": null,
            "margin": null,
            "max_height": null,
            "max_width": null,
            "min_height": null,
            "min_width": null,
            "object_fit": null,
            "object_position": null,
            "order": null,
            "overflow": null,
            "overflow_x": null,
            "overflow_y": null,
            "padding": null,
            "right": null,
            "top": null,
            "visibility": null,
            "width": null
          }
        },
        "99ff0be3f38e41fc9cf980bad63a1df1": {
          "model_module": "@jupyter-widgets/controls",
          "model_name": "ProgressStyleModel",
          "model_module_version": "1.5.0",
          "state": {
            "_model_module": "@jupyter-widgets/controls",
            "_model_module_version": "1.5.0",
            "_model_name": "ProgressStyleModel",
            "_view_count": null,
            "_view_module": "@jupyter-widgets/base",
            "_view_module_version": "1.2.0",
            "_view_name": "StyleView",
            "bar_color": null,
            "description_width": ""
          }
        },
        "010c6a435ca740ae890f4452faf49eeb": {
          "model_module": "@jupyter-widgets/base",
          "model_name": "LayoutModel",
          "model_module_version": "1.2.0",
          "state": {
            "_model_module": "@jupyter-widgets/base",
            "_model_module_version": "1.2.0",
            "_model_name": "LayoutModel",
            "_view_count": null,
            "_view_module": "@jupyter-widgets/base",
            "_view_module_version": "1.2.0",
            "_view_name": "LayoutView",
            "align_content": null,
            "align_items": null,
            "align_self": null,
            "border": null,
            "bottom": null,
            "display": null,
            "flex": null,
            "flex_flow": null,
            "grid_area": null,
            "grid_auto_columns": null,
            "grid_auto_flow": null,
            "grid_auto_rows": null,
            "grid_column": null,
            "grid_gap": null,
            "grid_row": null,
            "grid_template_areas": null,
            "grid_template_columns": null,
            "grid_template_rows": null,
            "height": null,
            "justify_content": null,
            "justify_items": null,
            "left": null,
            "margin": null,
            "max_height": null,
            "max_width": null,
            "min_height": null,
            "min_width": null,
            "object_fit": null,
            "object_position": null,
            "order": null,
            "overflow": null,
            "overflow_x": null,
            "overflow_y": null,
            "padding": null,
            "right": null,
            "top": null,
            "visibility": null,
            "width": null
          }
        },
        "5993cfda735145308533e6415b372869": {
          "model_module": "@jupyter-widgets/controls",
          "model_name": "DescriptionStyleModel",
          "model_module_version": "1.5.0",
          "state": {
            "_model_module": "@jupyter-widgets/controls",
            "_model_module_version": "1.5.0",
            "_model_name": "DescriptionStyleModel",
            "_view_count": null,
            "_view_module": "@jupyter-widgets/base",
            "_view_module_version": "1.2.0",
            "_view_name": "StyleView",
            "description_width": ""
          }
        },
        "ee54d81023794bdc8a9f72e4c99f1312": {
          "model_module": "@jupyter-widgets/controls",
          "model_name": "HBoxModel",
          "model_module_version": "1.5.0",
          "state": {
            "_dom_classes": [],
            "_model_module": "@jupyter-widgets/controls",
            "_model_module_version": "1.5.0",
            "_model_name": "HBoxModel",
            "_view_count": null,
            "_view_module": "@jupyter-widgets/controls",
            "_view_module_version": "1.5.0",
            "_view_name": "HBoxView",
            "box_style": "",
            "children": [
              "IPY_MODEL_3bb3d40b323b49e682f3057222b23be4",
              "IPY_MODEL_3be8b53572684416ba05767c6fe72ae4",
              "IPY_MODEL_db87913ee66d4a07b631ae577be52b28"
            ],
            "layout": "IPY_MODEL_3cfe5d9ef3d5449ea6ee4c14130acc6b"
          }
        },
        "3bb3d40b323b49e682f3057222b23be4": {
          "model_module": "@jupyter-widgets/controls",
          "model_name": "HTMLModel",
          "model_module_version": "1.5.0",
          "state": {
            "_dom_classes": [],
            "_model_module": "@jupyter-widgets/controls",
            "_model_module_version": "1.5.0",
            "_model_name": "HTMLModel",
            "_view_count": null,
            "_view_module": "@jupyter-widgets/controls",
            "_view_module_version": "1.5.0",
            "_view_name": "HTMLView",
            "description": "",
            "description_tooltip": null,
            "layout": "IPY_MODEL_2c9580ba59ad49c09f36852d51503d68",
            "placeholder": "​",
            "style": "IPY_MODEL_72afb6ad4db049809406728b2b1d11d9",
            "value": "Downloading (…)/main/tokenizer.json: 100%"
          }
        },
        "3be8b53572684416ba05767c6fe72ae4": {
          "model_module": "@jupyter-widgets/controls",
          "model_name": "FloatProgressModel",
          "model_module_version": "1.5.0",
          "state": {
            "_dom_classes": [],
            "_model_module": "@jupyter-widgets/controls",
            "_model_module_version": "1.5.0",
            "_model_name": "FloatProgressModel",
            "_view_count": null,
            "_view_module": "@jupyter-widgets/controls",
            "_view_module_version": "1.5.0",
            "_view_name": "ProgressView",
            "bar_style": "success",
            "description": "",
            "description_tooltip": null,
            "layout": "IPY_MODEL_1df7e14246e74fd88af6aa779233888c",
            "max": 2224003,
            "min": 0,
            "orientation": "horizontal",
            "style": "IPY_MODEL_5b5335fdd57e4b38b0f0863bc83174db",
            "value": 2224003
          }
        },
        "db87913ee66d4a07b631ae577be52b28": {
          "model_module": "@jupyter-widgets/controls",
          "model_name": "HTMLModel",
          "model_module_version": "1.5.0",
          "state": {
            "_dom_classes": [],
            "_model_module": "@jupyter-widgets/controls",
            "_model_module_version": "1.5.0",
            "_model_name": "HTMLModel",
            "_view_count": null,
            "_view_module": "@jupyter-widgets/controls",
            "_view_module_version": "1.5.0",
            "_view_name": "HTMLView",
            "description": "",
            "description_tooltip": null,
            "layout": "IPY_MODEL_896bac2cd6ec495992042f1f78fd0a38",
            "placeholder": "​",
            "style": "IPY_MODEL_68de63d30c604c598cbbdf49b45be64d",
            "value": " 2.22M/2.22M [00:00&lt;00:00, 22.1MB/s]"
          }
        },
        "3cfe5d9ef3d5449ea6ee4c14130acc6b": {
          "model_module": "@jupyter-widgets/base",
          "model_name": "LayoutModel",
          "model_module_version": "1.2.0",
          "state": {
            "_model_module": "@jupyter-widgets/base",
            "_model_module_version": "1.2.0",
            "_model_name": "LayoutModel",
            "_view_count": null,
            "_view_module": "@jupyter-widgets/base",
            "_view_module_version": "1.2.0",
            "_view_name": "LayoutView",
            "align_content": null,
            "align_items": null,
            "align_self": null,
            "border": null,
            "bottom": null,
            "display": null,
            "flex": null,
            "flex_flow": null,
            "grid_area": null,
            "grid_auto_columns": null,
            "grid_auto_flow": null,
            "grid_auto_rows": null,
            "grid_column": null,
            "grid_gap": null,
            "grid_row": null,
            "grid_template_areas": null,
            "grid_template_columns": null,
            "grid_template_rows": null,
            "height": null,
            "justify_content": null,
            "justify_items": null,
            "left": null,
            "margin": null,
            "max_height": null,
            "max_width": null,
            "min_height": null,
            "min_width": null,
            "object_fit": null,
            "object_position": null,
            "order": null,
            "overflow": null,
            "overflow_x": null,
            "overflow_y": null,
            "padding": null,
            "right": null,
            "top": null,
            "visibility": null,
            "width": null
          }
        },
        "2c9580ba59ad49c09f36852d51503d68": {
          "model_module": "@jupyter-widgets/base",
          "model_name": "LayoutModel",
          "model_module_version": "1.2.0",
          "state": {
            "_model_module": "@jupyter-widgets/base",
            "_model_module_version": "1.2.0",
            "_model_name": "LayoutModel",
            "_view_count": null,
            "_view_module": "@jupyter-widgets/base",
            "_view_module_version": "1.2.0",
            "_view_name": "LayoutView",
            "align_content": null,
            "align_items": null,
            "align_self": null,
            "border": null,
            "bottom": null,
            "display": null,
            "flex": null,
            "flex_flow": null,
            "grid_area": null,
            "grid_auto_columns": null,
            "grid_auto_flow": null,
            "grid_auto_rows": null,
            "grid_column": null,
            "grid_gap": null,
            "grid_row": null,
            "grid_template_areas": null,
            "grid_template_columns": null,
            "grid_template_rows": null,
            "height": null,
            "justify_content": null,
            "justify_items": null,
            "left": null,
            "margin": null,
            "max_height": null,
            "max_width": null,
            "min_height": null,
            "min_width": null,
            "object_fit": null,
            "object_position": null,
            "order": null,
            "overflow": null,
            "overflow_x": null,
            "overflow_y": null,
            "padding": null,
            "right": null,
            "top": null,
            "visibility": null,
            "width": null
          }
        },
        "72afb6ad4db049809406728b2b1d11d9": {
          "model_module": "@jupyter-widgets/controls",
          "model_name": "DescriptionStyleModel",
          "model_module_version": "1.5.0",
          "state": {
            "_model_module": "@jupyter-widgets/controls",
            "_model_module_version": "1.5.0",
            "_model_name": "DescriptionStyleModel",
            "_view_count": null,
            "_view_module": "@jupyter-widgets/base",
            "_view_module_version": "1.2.0",
            "_view_name": "StyleView",
            "description_width": ""
          }
        },
        "1df7e14246e74fd88af6aa779233888c": {
          "model_module": "@jupyter-widgets/base",
          "model_name": "LayoutModel",
          "model_module_version": "1.2.0",
          "state": {
            "_model_module": "@jupyter-widgets/base",
            "_model_module_version": "1.2.0",
            "_model_name": "LayoutModel",
            "_view_count": null,
            "_view_module": "@jupyter-widgets/base",
            "_view_module_version": "1.2.0",
            "_view_name": "LayoutView",
            "align_content": null,
            "align_items": null,
            "align_self": null,
            "border": null,
            "bottom": null,
            "display": null,
            "flex": null,
            "flex_flow": null,
            "grid_area": null,
            "grid_auto_columns": null,
            "grid_auto_flow": null,
            "grid_auto_rows": null,
            "grid_column": null,
            "grid_gap": null,
            "grid_row": null,
            "grid_template_areas": null,
            "grid_template_columns": null,
            "grid_template_rows": null,
            "height": null,
            "justify_content": null,
            "justify_items": null,
            "left": null,
            "margin": null,
            "max_height": null,
            "max_width": null,
            "min_height": null,
            "min_width": null,
            "object_fit": null,
            "object_position": null,
            "order": null,
            "overflow": null,
            "overflow_x": null,
            "overflow_y": null,
            "padding": null,
            "right": null,
            "top": null,
            "visibility": null,
            "width": null
          }
        },
        "5b5335fdd57e4b38b0f0863bc83174db": {
          "model_module": "@jupyter-widgets/controls",
          "model_name": "ProgressStyleModel",
          "model_module_version": "1.5.0",
          "state": {
            "_model_module": "@jupyter-widgets/controls",
            "_model_module_version": "1.5.0",
            "_model_name": "ProgressStyleModel",
            "_view_count": null,
            "_view_module": "@jupyter-widgets/base",
            "_view_module_version": "1.2.0",
            "_view_name": "StyleView",
            "bar_color": null,
            "description_width": ""
          }
        },
        "896bac2cd6ec495992042f1f78fd0a38": {
          "model_module": "@jupyter-widgets/base",
          "model_name": "LayoutModel",
          "model_module_version": "1.2.0",
          "state": {
            "_model_module": "@jupyter-widgets/base",
            "_model_module_version": "1.2.0",
            "_model_name": "LayoutModel",
            "_view_count": null,
            "_view_module": "@jupyter-widgets/base",
            "_view_module_version": "1.2.0",
            "_view_name": "LayoutView",
            "align_content": null,
            "align_items": null,
            "align_self": null,
            "border": null,
            "bottom": null,
            "display": null,
            "flex": null,
            "flex_flow": null,
            "grid_area": null,
            "grid_auto_columns": null,
            "grid_auto_flow": null,
            "grid_auto_rows": null,
            "grid_column": null,
            "grid_gap": null,
            "grid_row": null,
            "grid_template_areas": null,
            "grid_template_columns": null,
            "grid_template_rows": null,
            "height": null,
            "justify_content": null,
            "justify_items": null,
            "left": null,
            "margin": null,
            "max_height": null,
            "max_width": null,
            "min_height": null,
            "min_width": null,
            "object_fit": null,
            "object_position": null,
            "order": null,
            "overflow": null,
            "overflow_x": null,
            "overflow_y": null,
            "padding": null,
            "right": null,
            "top": null,
            "visibility": null,
            "width": null
          }
        },
        "68de63d30c604c598cbbdf49b45be64d": {
          "model_module": "@jupyter-widgets/controls",
          "model_name": "DescriptionStyleModel",
          "model_module_version": "1.5.0",
          "state": {
            "_model_module": "@jupyter-widgets/controls",
            "_model_module_version": "1.5.0",
            "_model_name": "DescriptionStyleModel",
            "_view_count": null,
            "_view_module": "@jupyter-widgets/base",
            "_view_module_version": "1.2.0",
            "_view_name": "StyleView",
            "description_width": ""
          }
        },
        "9a45442258fb4ccaa350673600c72092": {
          "model_module": "@jupyter-widgets/controls",
          "model_name": "HBoxModel",
          "model_module_version": "1.5.0",
          "state": {
            "_dom_classes": [],
            "_model_module": "@jupyter-widgets/controls",
            "_model_module_version": "1.5.0",
            "_model_name": "HBoxModel",
            "_view_count": null,
            "_view_module": "@jupyter-widgets/controls",
            "_view_module_version": "1.5.0",
            "_view_name": "HBoxView",
            "box_style": "",
            "children": [
              "IPY_MODEL_7c78f2fdd6764f7fa12fac3a07665ad7",
              "IPY_MODEL_bb1db85e2e2742da9d716d82679f4fa4",
              "IPY_MODEL_e739ae9e1bd04db291ae5a47031bf260"
            ],
            "layout": "IPY_MODEL_0965649ff28b41f1844290fc721a1b60"
          }
        },
        "7c78f2fdd6764f7fa12fac3a07665ad7": {
          "model_module": "@jupyter-widgets/controls",
          "model_name": "HTMLModel",
          "model_module_version": "1.5.0",
          "state": {
            "_dom_classes": [],
            "_model_module": "@jupyter-widgets/controls",
            "_model_module_version": "1.5.0",
            "_model_name": "HTMLModel",
            "_view_count": null,
            "_view_module": "@jupyter-widgets/controls",
            "_view_module_version": "1.5.0",
            "_view_name": "HTMLView",
            "description": "",
            "description_tooltip": null,
            "layout": "IPY_MODEL_660dc9ad1819482096253b853f2320f4",
            "placeholder": "​",
            "style": "IPY_MODEL_a12a2cff3909444587e3e75d1b52b103",
            "value": "Downloading (…)cial_tokens_map.json: 100%"
          }
        },
        "bb1db85e2e2742da9d716d82679f4fa4": {
          "model_module": "@jupyter-widgets/controls",
          "model_name": "FloatProgressModel",
          "model_module_version": "1.5.0",
          "state": {
            "_dom_classes": [],
            "_model_module": "@jupyter-widgets/controls",
            "_model_module_version": "1.5.0",
            "_model_name": "FloatProgressModel",
            "_view_count": null,
            "_view_module": "@jupyter-widgets/controls",
            "_view_module_version": "1.5.0",
            "_view_name": "ProgressView",
            "bar_style": "success",
            "description": "",
            "description_tooltip": null,
            "layout": "IPY_MODEL_beba0ef291db4dbf9d1d23cd1eaf3a5f",
            "max": 389,
            "min": 0,
            "orientation": "horizontal",
            "style": "IPY_MODEL_65a237ec07df4c95a7414806f67e60ef",
            "value": 389
          }
        },
        "e739ae9e1bd04db291ae5a47031bf260": {
          "model_module": "@jupyter-widgets/controls",
          "model_name": "HTMLModel",
          "model_module_version": "1.5.0",
          "state": {
            "_dom_classes": [],
            "_model_module": "@jupyter-widgets/controls",
            "_model_module_version": "1.5.0",
            "_model_name": "HTMLModel",
            "_view_count": null,
            "_view_module": "@jupyter-widgets/controls",
            "_view_module_version": "1.5.0",
            "_view_name": "HTMLView",
            "description": "",
            "description_tooltip": null,
            "layout": "IPY_MODEL_0f8f271d6f624a40aea602830b2d1685",
            "placeholder": "​",
            "style": "IPY_MODEL_c89d9231aec1438e8a429f2d86bb51f0",
            "value": " 389/389 [00:00&lt;00:00, 21.9kB/s]"
          }
        },
        "0965649ff28b41f1844290fc721a1b60": {
          "model_module": "@jupyter-widgets/base",
          "model_name": "LayoutModel",
          "model_module_version": "1.2.0",
          "state": {
            "_model_module": "@jupyter-widgets/base",
            "_model_module_version": "1.2.0",
            "_model_name": "LayoutModel",
            "_view_count": null,
            "_view_module": "@jupyter-widgets/base",
            "_view_module_version": "1.2.0",
            "_view_name": "LayoutView",
            "align_content": null,
            "align_items": null,
            "align_self": null,
            "border": null,
            "bottom": null,
            "display": null,
            "flex": null,
            "flex_flow": null,
            "grid_area": null,
            "grid_auto_columns": null,
            "grid_auto_flow": null,
            "grid_auto_rows": null,
            "grid_column": null,
            "grid_gap": null,
            "grid_row": null,
            "grid_template_areas": null,
            "grid_template_columns": null,
            "grid_template_rows": null,
            "height": null,
            "justify_content": null,
            "justify_items": null,
            "left": null,
            "margin": null,
            "max_height": null,
            "max_width": null,
            "min_height": null,
            "min_width": null,
            "object_fit": null,
            "object_position": null,
            "order": null,
            "overflow": null,
            "overflow_x": null,
            "overflow_y": null,
            "padding": null,
            "right": null,
            "top": null,
            "visibility": null,
            "width": null
          }
        },
        "660dc9ad1819482096253b853f2320f4": {
          "model_module": "@jupyter-widgets/base",
          "model_name": "LayoutModel",
          "model_module_version": "1.2.0",
          "state": {
            "_model_module": "@jupyter-widgets/base",
            "_model_module_version": "1.2.0",
            "_model_name": "LayoutModel",
            "_view_count": null,
            "_view_module": "@jupyter-widgets/base",
            "_view_module_version": "1.2.0",
            "_view_name": "LayoutView",
            "align_content": null,
            "align_items": null,
            "align_self": null,
            "border": null,
            "bottom": null,
            "display": null,
            "flex": null,
            "flex_flow": null,
            "grid_area": null,
            "grid_auto_columns": null,
            "grid_auto_flow": null,
            "grid_auto_rows": null,
            "grid_column": null,
            "grid_gap": null,
            "grid_row": null,
            "grid_template_areas": null,
            "grid_template_columns": null,
            "grid_template_rows": null,
            "height": null,
            "justify_content": null,
            "justify_items": null,
            "left": null,
            "margin": null,
            "max_height": null,
            "max_width": null,
            "min_height": null,
            "min_width": null,
            "object_fit": null,
            "object_position": null,
            "order": null,
            "overflow": null,
            "overflow_x": null,
            "overflow_y": null,
            "padding": null,
            "right": null,
            "top": null,
            "visibility": null,
            "width": null
          }
        },
        "a12a2cff3909444587e3e75d1b52b103": {
          "model_module": "@jupyter-widgets/controls",
          "model_name": "DescriptionStyleModel",
          "model_module_version": "1.5.0",
          "state": {
            "_model_module": "@jupyter-widgets/controls",
            "_model_module_version": "1.5.0",
            "_model_name": "DescriptionStyleModel",
            "_view_count": null,
            "_view_module": "@jupyter-widgets/base",
            "_view_module_version": "1.2.0",
            "_view_name": "StyleView",
            "description_width": ""
          }
        },
        "beba0ef291db4dbf9d1d23cd1eaf3a5f": {
          "model_module": "@jupyter-widgets/base",
          "model_name": "LayoutModel",
          "model_module_version": "1.2.0",
          "state": {
            "_model_module": "@jupyter-widgets/base",
            "_model_module_version": "1.2.0",
            "_model_name": "LayoutModel",
            "_view_count": null,
            "_view_module": "@jupyter-widgets/base",
            "_view_module_version": "1.2.0",
            "_view_name": "LayoutView",
            "align_content": null,
            "align_items": null,
            "align_self": null,
            "border": null,
            "bottom": null,
            "display": null,
            "flex": null,
            "flex_flow": null,
            "grid_area": null,
            "grid_auto_columns": null,
            "grid_auto_flow": null,
            "grid_auto_rows": null,
            "grid_column": null,
            "grid_gap": null,
            "grid_row": null,
            "grid_template_areas": null,
            "grid_template_columns": null,
            "grid_template_rows": null,
            "height": null,
            "justify_content": null,
            "justify_items": null,
            "left": null,
            "margin": null,
            "max_height": null,
            "max_width": null,
            "min_height": null,
            "min_width": null,
            "object_fit": null,
            "object_position": null,
            "order": null,
            "overflow": null,
            "overflow_x": null,
            "overflow_y": null,
            "padding": null,
            "right": null,
            "top": null,
            "visibility": null,
            "width": null
          }
        },
        "65a237ec07df4c95a7414806f67e60ef": {
          "model_module": "@jupyter-widgets/controls",
          "model_name": "ProgressStyleModel",
          "model_module_version": "1.5.0",
          "state": {
            "_model_module": "@jupyter-widgets/controls",
            "_model_module_version": "1.5.0",
            "_model_name": "ProgressStyleModel",
            "_view_count": null,
            "_view_module": "@jupyter-widgets/base",
            "_view_module_version": "1.2.0",
            "_view_name": "StyleView",
            "bar_color": null,
            "description_width": ""
          }
        },
        "0f8f271d6f624a40aea602830b2d1685": {
          "model_module": "@jupyter-widgets/base",
          "model_name": "LayoutModel",
          "model_module_version": "1.2.0",
          "state": {
            "_model_module": "@jupyter-widgets/base",
            "_model_module_version": "1.2.0",
            "_model_name": "LayoutModel",
            "_view_count": null,
            "_view_module": "@jupyter-widgets/base",
            "_view_module_version": "1.2.0",
            "_view_name": "LayoutView",
            "align_content": null,
            "align_items": null,
            "align_self": null,
            "border": null,
            "bottom": null,
            "display": null,
            "flex": null,
            "flex_flow": null,
            "grid_area": null,
            "grid_auto_columns": null,
            "grid_auto_flow": null,
            "grid_auto_rows": null,
            "grid_column": null,
            "grid_gap": null,
            "grid_row": null,
            "grid_template_areas": null,
            "grid_template_columns": null,
            "grid_template_rows": null,
            "height": null,
            "justify_content": null,
            "justify_items": null,
            "left": null,
            "margin": null,
            "max_height": null,
            "max_width": null,
            "min_height": null,
            "min_width": null,
            "object_fit": null,
            "object_position": null,
            "order": null,
            "overflow": null,
            "overflow_x": null,
            "overflow_y": null,
            "padding": null,
            "right": null,
            "top": null,
            "visibility": null,
            "width": null
          }
        },
        "c89d9231aec1438e8a429f2d86bb51f0": {
          "model_module": "@jupyter-widgets/controls",
          "model_name": "DescriptionStyleModel",
          "model_module_version": "1.5.0",
          "state": {
            "_model_module": "@jupyter-widgets/controls",
            "_model_module_version": "1.5.0",
            "_model_name": "DescriptionStyleModel",
            "_view_count": null,
            "_view_module": "@jupyter-widgets/base",
            "_view_module_version": "1.2.0",
            "_view_name": "StyleView",
            "description_width": ""
          }
        }
      }
    }
  },
  "nbformat": 4,
  "nbformat_minor": 5
}