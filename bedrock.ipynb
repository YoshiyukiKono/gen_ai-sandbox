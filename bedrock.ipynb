{
  "cells": [
    {
      "cell_type": "markdown",
      "metadata": {
        "id": "view-in-github",
        "colab_type": "text"
      },
      "source": [
        "<a href=\"https://colab.research.google.com/github/YoshiyukiKono/gen_ai-sandbox/blob/main/bedrock.ipynb\" target=\"_parent\"><img src=\"https://colab.research.google.com/assets/colab-badge.svg\" alt=\"Open In Colab\"/></a>"
      ]
    },
    {
      "cell_type": "markdown",
      "id": "6715bc2b",
      "metadata": {
        "id": "6715bc2b"
      },
      "source": [
        "# Vector Similarity Astra-Bedrock Search QA Quickstart\n",
        "\n",
        "Set up a simple Question-Answering system with LangChain and Amazon Bedrock, using Astra DB as the Vector Database."
      ]
    },
    {
      "cell_type": "markdown",
      "id": "761d9b70",
      "metadata": {
        "id": "761d9b70"
      },
      "source": [
        "## Prerequisites\n",
        "\n",
        "Make sure you have a vector-capable Astra database (get one for free at [astra.datastax.com](https://astra.datastax.com)):\n",
        "\n",
        "- You will be asked to provide the **Database ID** for your Astra DB instance (see [here](https://awesome-astra.github.io/docs/pages/astra/faq/#where-should-i-find-a-database-identifier) for details);\n",
        "- Ensure you have an **Access Token** for your database with role _Database Administrator_ (see [here](https://awesome-astra.github.io/docs/pages/astra/create-token/) for details).\n",
        "\n",
        "Likewise, you will need the credentials to your Amazon Web Services identity, with access to **Amazon Bedrock**."
      ]
    },
    {
      "cell_type": "markdown",
      "id": "18548e31",
      "metadata": {
        "id": "18548e31"
      },
      "source": [
        "## Set up your Python environment"
      ]
    },
    {
      "cell_type": "code",
      "execution_count": 1,
      "id": "042f832e",
      "metadata": {
        "tags": [],
        "id": "042f832e",
        "outputId": "393d2886-6d9a-4be4-a8b6-15fbb8c39c72",
        "colab": {
          "base_uri": "https://localhost:8080/"
        }
      },
      "outputs": [
        {
          "output_type": "stream",
          "name": "stdout",
          "text": [
            "\u001b[2K     \u001b[90m━━━━━━━━━━━━━━━━━━━━━━━━━━━━━━━━━━━━━━━━\u001b[0m \u001b[32m40.1/40.1 kB\u001b[0m \u001b[31m491.5 kB/s\u001b[0m eta \u001b[36m0:00:00\u001b[0m\n",
            "\u001b[2K     \u001b[90m━━━━━━━━━━━━━━━━━━━━━━━━━━━━━━━━━━━━━━━━\u001b[0m \u001b[32m1.4/1.4 MB\u001b[0m \u001b[31m5.5 MB/s\u001b[0m eta \u001b[36m0:00:00\u001b[0m\n",
            "\u001b[2K     \u001b[90m━━━━━━━━━━━━━━━━━━━━━━━━━━━━━━━━━━━━━━━━\u001b[0m \u001b[32m135.8/135.8 kB\u001b[0m \u001b[31m1.7 MB/s\u001b[0m eta \u001b[36m0:00:00\u001b[0m\n",
            "\u001b[2K     \u001b[90m━━━━━━━━━━━━━━━━━━━━━━━━━━━━━━━━━━━━━━━━\u001b[0m \u001b[32m11.2/11.2 MB\u001b[0m \u001b[31m41.2 MB/s\u001b[0m eta \u001b[36m0:00:00\u001b[0m\n",
            "\u001b[2K     \u001b[90m━━━━━━━━━━━━━━━━━━━━━━━━━━━━━━━━━━━━━━━━\u001b[0m \u001b[32m48.9/48.9 kB\u001b[0m \u001b[31m3.3 MB/s\u001b[0m eta \u001b[36m0:00:00\u001b[0m\n",
            "\u001b[2K     \u001b[90m━━━━━━━━━━━━━━━━━━━━━━━━━━━━━━━━━━━━━━━━\u001b[0m \u001b[32m221.4/221.4 kB\u001b[0m \u001b[31m15.0 MB/s\u001b[0m eta \u001b[36m0:00:00\u001b[0m\n",
            "\u001b[2K     \u001b[90m━━━━━━━━━━━━━━━━━━━━━━━━━━━━━━━━━━━━━━━━\u001b[0m \u001b[32m2.0/2.0 MB\u001b[0m \u001b[31m45.1 MB/s\u001b[0m eta \u001b[36m0:00:00\u001b[0m\n",
            "\u001b[2K     \u001b[90m━━━━━━━━━━━━━━━━━━━━━━━━━━━━━━━━━━━━━━━━\u001b[0m \u001b[32m4.3/4.3 MB\u001b[0m \u001b[31m30.1 MB/s\u001b[0m eta \u001b[36m0:00:00\u001b[0m\n",
            "\u001b[2K     \u001b[90m━━━━━━━━━━━━━━━━━━━━━━━━━━━━━━━━━━━━━━━━\u001b[0m \u001b[32m46.0/46.0 kB\u001b[0m \u001b[31m3.7 MB/s\u001b[0m eta \u001b[36m0:00:00\u001b[0m\n",
            "\u001b[2K     \u001b[90m━━━━━━━━━━━━━━━━━━━━━━━━━━━━━━━━━━━━━━━━\u001b[0m \u001b[32m90.0/90.0 kB\u001b[0m \u001b[31m7.4 MB/s\u001b[0m eta \u001b[36m0:00:00\u001b[0m\n",
            "\u001b[2K     \u001b[90m━━━━━━━━━━━━━━━━━━━━━━━━━━━━━━━━━━━━━━━━\u001b[0m \u001b[32m79.8/79.8 kB\u001b[0m \u001b[31m5.9 MB/s\u001b[0m eta \u001b[36m0:00:00\u001b[0m\n",
            "\u001b[2K     \u001b[90m━━━━━━━━━━━━━━━━━━━━━━━━━━━━━━━━━━━━━━━━\u001b[0m \u001b[32m3.1/3.1 MB\u001b[0m \u001b[31m40.8 MB/s\u001b[0m eta \u001b[36m0:00:00\u001b[0m\n",
            "\u001b[2K     \u001b[90m━━━━━━━━━━━━━━━━━━━━━━━━━━━━━━━━━━━━━━━━\u001b[0m \u001b[32m75.0/75.0 kB\u001b[0m \u001b[31m5.6 MB/s\u001b[0m eta \u001b[36m0:00:00\u001b[0m\n",
            "\u001b[2K     \u001b[90m━━━━━━━━━━━━━━━━━━━━━━━━━━━━━━━━━━━━━━━━\u001b[0m \u001b[32m548.2/548.2 kB\u001b[0m \u001b[31m32.8 MB/s\u001b[0m eta \u001b[36m0:00:00\u001b[0m\n",
            "\u001b[2K     \u001b[90m━━━━━━━━━━━━━━━━━━━━━━━━━━━━━━━━━━━━━━━━\u001b[0m \u001b[32m19.1/19.1 MB\u001b[0m \u001b[31m30.3 MB/s\u001b[0m eta \u001b[36m0:00:00\u001b[0m\n",
            "\u001b[2K     \u001b[90m━━━━━━━━━━━━━━━━━━━━━━━━━━━━━━━━━━━━━━━━\u001b[0m \u001b[32m49.4/49.4 kB\u001b[0m \u001b[31m3.4 MB/s\u001b[0m eta \u001b[36m0:00:00\u001b[0m\n",
            "\u001b[2K     \u001b[90m━━━━━━━━━━━━━━━━━━━━━━━━━━━━━━━━━━━━━━━━\u001b[0m \u001b[32m76.9/76.9 kB\u001b[0m \u001b[31m6.3 MB/s\u001b[0m eta \u001b[36m0:00:00\u001b[0m\n",
            "\u001b[2K     \u001b[90m━━━━━━━━━━━━━━━━━━━━━━━━━━━━━━━━━━━━━━━━\u001b[0m \u001b[32m58.3/58.3 kB\u001b[0m \u001b[31m4.6 MB/s\u001b[0m eta \u001b[36m0:00:00\u001b[0m\n",
            "\u001b[?25h"
          ]
        }
      ],
      "source": [
        "%pip install --quiet \\\n",
        "  \"cassio>=0.1.3\" \\\n",
        "  \"langchain==0.0.249\" \\\n",
        "  \"boto3==1.28.62\" \\\n",
        "  \"botocore==1.31.62\" \\\n",
        "  \"cohere==4.37\" \\\n",
        "  \"openai==1.3.7\" \\\n",
        "  \"tiktoken==0.5.2\" \\\n",
        "  \"awscli==1.29.62\""
      ]
    },
    {
      "cell_type": "markdown",
      "id": "6c840842",
      "metadata": {
        "id": "6c840842"
      },
      "source": [
        "## Import needed libraries"
      ]
    },
    {
      "cell_type": "code",
      "execution_count": 2,
      "id": "b243d1b4",
      "metadata": {
        "tags": [],
        "id": "b243d1b4"
      },
      "outputs": [],
      "source": [
        "import json\n",
        "import os\n",
        "import sys\n",
        "from getpass import getpass\n",
        "\n",
        "\n",
        "import boto3\n",
        "import cassio\n",
        "\n",
        "from langchain.embeddings import BedrockEmbeddings\n",
        "from langchain.llms import Bedrock\n",
        "from langchain.vectorstores import Cassandra\n",
        "from langchain.schema import Document\n",
        "from langchain.prompts import PromptTemplate\n",
        "from langchain.document_loaders import TextLoader"
      ]
    },
    {
      "cell_type": "markdown",
      "id": "fccce0c2",
      "metadata": {
        "id": "fccce0c2"
      },
      "source": [
        "## Astra DB Setup"
      ]
    },
    {
      "cell_type": "code",
      "execution_count": 3,
      "id": "a9b0a92b-f9ce-4810-a8ef-5741b2449b18",
      "metadata": {
        "tags": [],
        "id": "a9b0a92b-f9ce-4810-a8ef-5741b2449b18",
        "outputId": "6e1bbebd-a626-414a-f061-8a58eb949ea9",
        "colab": {
          "base_uri": "https://localhost:8080/"
        }
      },
      "outputs": [
        {
          "name": "stdout",
          "output_type": "stream",
          "text": [
            "Enter your Astra DB ID ('0123abcd-'):ebe83fdc-873b-4c91-b923-80b6c5e82f27\n",
            "Enter your Astra DB Token ('AstraCS:...'):··········\n",
            "Enter your keyspace name (optional, default keyspace used if not provided):bedrock\n"
          ]
        }
      ],
      "source": [
        "ASTRA_DB_ID = input(\"Enter your Astra DB ID ('0123abcd-'):\")\n",
        "ASTRA_DB_APPLICATION_TOKEN = getpass(\"Enter your Astra DB Token ('AstraCS:...'):\")\n",
        "ASTRA_DB_KEYSPACE = input(\"Enter your keyspace name (optional, default keyspace used if not provided):\")"
      ]
    },
    {
      "cell_type": "code",
      "execution_count": 4,
      "id": "a066f378-8fdb-4d4b-a7b1-bf685fbfd413",
      "metadata": {
        "tags": [],
        "id": "a066f378-8fdb-4d4b-a7b1-bf685fbfd413",
        "outputId": "021f82fc-bafb-4325-9c2d-e86ce6c431ba",
        "colab": {
          "base_uri": "https://localhost:8080/"
        }
      },
      "outputs": [
        {
          "output_type": "stream",
          "name": "stderr",
          "text": [
            "WARNING:cassandra.cluster:Downgrading core protocol version from 66 to 65 for ebe83fdc-873b-4c91-b923-80b6c5e82f27-us-east-2.db.astra.datastax.com:29042:36887b67-fd8a-4452-9d77-6c6fe16ea1b1. To avoid this, it is best practice to explicitly set Cluster(protocol_version) to the version supported by your cluster. http://datastax.github.io/python-driver/api/cassandra/cluster.html#cassandra.cluster.Cluster.protocol_version\n",
            "WARNING:cassandra.cluster:Downgrading core protocol version from 65 to 5 for ebe83fdc-873b-4c91-b923-80b6c5e82f27-us-east-2.db.astra.datastax.com:29042:36887b67-fd8a-4452-9d77-6c6fe16ea1b1. To avoid this, it is best practice to explicitly set Cluster(protocol_version) to the version supported by your cluster. http://datastax.github.io/python-driver/api/cassandra/cluster.html#cassandra.cluster.Cluster.protocol_version\n",
            "ERROR:cassandra.connection:Closing connection <AsyncoreConnection(140568702113904) ebe83fdc-873b-4c91-b923-80b6c5e82f27-us-east-2.db.astra.datastax.com:29042:36887b67-fd8a-4452-9d77-6c6fe16ea1b1> due to protocol error: Error from server: code=000a [Protocol error] message=\"Beta version of the protocol used (5/v5-beta), but USE_BETA flag is unset\"\n",
            "WARNING:cassandra.cluster:Downgrading core protocol version from 5 to 4 for ebe83fdc-873b-4c91-b923-80b6c5e82f27-us-east-2.db.astra.datastax.com:29042:36887b67-fd8a-4452-9d77-6c6fe16ea1b1. To avoid this, it is best practice to explicitly set Cluster(protocol_version) to the version supported by your cluster. http://datastax.github.io/python-driver/api/cassandra/cluster.html#cassandra.cluster.Cluster.protocol_version\n"
          ]
        }
      ],
      "source": [
        "cassio.init(\n",
        "    token=ASTRA_DB_APPLICATION_TOKEN,\n",
        "    database_id=ASTRA_DB_ID,\n",
        "    keyspace=ASTRA_DB_KEYSPACE if ASTRA_DB_KEYSPACE else None,\n",
        ")"
      ]
    },
    {
      "cell_type": "markdown",
      "id": "33c674f1",
      "metadata": {
        "id": "33c674f1"
      },
      "source": [
        "## AWS Credentials Setup"
      ]
    },
    {
      "cell_type": "markdown",
      "id": "3219cb02-f955-4fb3-85af-3f149868958a",
      "metadata": {
        "id": "3219cb02-f955-4fb3-85af-3f149868958a"
      },
      "source": [
        "_Note_: in the following cells you will be asked to explicitly provide the credentials to your AWS account. These are set as environment variables for usage by the subsequent `boto3` calls. Please refer to [boto3's documentation](https://boto3.amazonaws.com/v1/documentation/api/latest/guide/credentials.html) on the possible ways to supply your credentials in a more production-like environment.\n",
        "\n",
        "In particular, if you are running this notebook in **Amazon SageMaker Studio**, please note that it is sufficient to add the Bedrock policy to your SageMaker role, as outlined at [this link](https://github.com/aws-samples/amazon-bedrock-workshop#enable-aws-iam-permissions-for-bedrock), to access the Bedrock services. In that case you can skip the following three setup cells."
      ]
    },
    {
      "cell_type": "code",
      "execution_count": 5,
      "id": "ccbb76ea",
      "metadata": {
        "tags": [],
        "id": "ccbb76ea",
        "outputId": "0b608a69-0a45-4bb8-954c-433f84c507c6",
        "colab": {
          "base_uri": "https://localhost:8080/"
        }
      },
      "outputs": [
        {
          "name": "stdout",
          "output_type": "stream",
          "text": [
            "Your AWS Access Key ID:··········\n"
          ]
        }
      ],
      "source": [
        "# Input your AWS Access Key ID\n",
        "os.environ[\"AWS_ACCESS_KEY_ID\"] = getpass(\"Your AWS Access Key ID:\")"
      ]
    },
    {
      "cell_type": "code",
      "execution_count": 6,
      "id": "f93c873d",
      "metadata": {
        "tags": [],
        "id": "f93c873d",
        "outputId": "990d0e65-159d-4da7-e398-ca2c29e59507",
        "colab": {
          "base_uri": "https://localhost:8080/"
        }
      },
      "outputs": [
        {
          "name": "stdout",
          "output_type": "stream",
          "text": [
            "Your AWS Secret Access Key:··········\n"
          ]
        }
      ],
      "source": [
        "# Input your AWS Secret Access Key\n",
        "os.environ[\"AWS_SECRET_ACCESS_KEY\"] = getpass(\"Your AWS Secret Access Key:\")"
      ]
    },
    {
      "cell_type": "code",
      "execution_count": 7,
      "id": "737249f5",
      "metadata": {
        "tags": [],
        "id": "737249f5",
        "outputId": "99701422-8c87-4d29-f425-bca3fd9a2441",
        "colab": {
          "base_uri": "https://localhost:8080/"
        }
      },
      "outputs": [
        {
          "name": "stdout",
          "output_type": "stream",
          "text": [
            "Your AWS Session Token:··········\n"
          ]
        }
      ],
      "source": [
        "# Input your AWS Session Token\n",
        "os.environ[\"AWS_SESSION_TOKEN\"] = getpass(\"Your AWS Session Token:\")"
      ]
    },
    {
      "cell_type": "markdown",
      "id": "4388ac1d",
      "metadata": {
        "id": "4388ac1d"
      },
      "source": [
        "## Set up AWS Bedrock objects"
      ]
    },
    {
      "cell_type": "code",
      "execution_count": 8,
      "id": "d65c46f0",
      "metadata": {
        "tags": [],
        "id": "d65c46f0"
      },
      "outputs": [],
      "source": [
        "bedrock_runtime = boto3.client(\"bedrock-runtime\", \"us-west-2\")\n",
        "bedrock_embeddings = BedrockEmbeddings(model_id=\"amazon.titan-embed-text-v1\",\n",
        "                                       client=bedrock_runtime)"
      ]
    },
    {
      "cell_type": "markdown",
      "id": "29d9f48b",
      "metadata": {
        "id": "29d9f48b"
      },
      "source": [
        "## Set up the Vector Store\n",
        "\n",
        "This command will create a suitable table in your database if it does not exist yet:"
      ]
    },
    {
      "cell_type": "code",
      "execution_count": 9,
      "id": "29d9f48c",
      "metadata": {
        "tags": [],
        "id": "29d9f48c"
      },
      "outputs": [],
      "source": [
        "vector_store = Cassandra(\n",
        "    embedding=bedrock_embeddings,\n",
        "    table_name=\"shakespeare_act5\",\n",
        "    session=None,  # <-- meaning: use the global defaults from cassio.init()\n",
        "    keyspace=None,  # <-- meaning: use the global defaults from cassio.init()\n",
        ")"
      ]
    },
    {
      "cell_type": "markdown",
      "id": "6af24199",
      "metadata": {
        "id": "6af24199"
      },
      "source": [
        "## Populate the database\n",
        "\n",
        "Add lines for the text of \"Romeo and Astra\", Scene 5, Act 3"
      ]
    },
    {
      "cell_type": "code",
      "execution_count": 10,
      "id": "1dab5114",
      "metadata": {
        "tags": [],
        "id": "1dab5114",
        "outputId": "34331609-e794-4452-adc3-d8a8df6f7935",
        "colab": {
          "base_uri": "https://localhost:8080/"
        }
      },
      "outputs": [
        {
          "output_type": "stream",
          "name": "stdout",
          "text": [
            "  % Total    % Received % Xferd  Average Speed   Time    Time     Time  Current\n",
            "                                 Dload  Upload   Total   Spent    Left  Speed\n",
            "100 75985  100 75985    0     0   252k      0 --:--:-- --:--:-- --:--:--  252k\n"
          ]
        }
      ],
      "source": [
        "# retrieve the text of a scene from act 5 of Romeo and Astra.\n",
        "# Juliet's name was changed to Astra to prevent the LLM from \"cheating\" when providing an answer.\n",
        "! mkdir -p \"texts\"\n",
        "! curl \"https://raw.githubusercontent.com/awesome-astra/docs/main/docs/pages/aiml/aws/bedrock_resources/romeo_astra.json\" \\\n",
        "    --output \"texts/romeo_astra.json\"\n",
        "input_lines = json.load(open(\"texts/romeo_astra.json\"))"
      ]
    },
    {
      "cell_type": "markdown",
      "id": "4cb6b732",
      "metadata": {
        "id": "4cb6b732"
      },
      "source": [
        "Next, you'll populate the database with the lines from the play.\n",
        "This can take a couple of minutes, please be patient.  In total there are 321 lines.\n"
      ]
    },
    {
      "cell_type": "code",
      "execution_count": 11,
      "id": "7bae5520",
      "metadata": {
        "tags": [],
        "id": "7bae5520",
        "outputId": "98c6e0fc-fc3b-4a14-8135-049208280441",
        "colab": {
          "base_uri": "https://localhost:8080/"
        }
      },
      "outputs": [
        {
          "output_type": "stream",
          "name": "stdout",
          "text": [
            "Adding 321 documents ... Done.\n"
          ]
        }
      ],
      "source": [
        "input_documents = []\n",
        "\n",
        "for input_line in input_lines:\n",
        "    if (input_line[\"ActSceneLine\"] != \"\"):\n",
        "        (act, scene, line) = input_line[\"ActSceneLine\"].split(\".\")\n",
        "        location = \"Act {}, Scene {}, Line {}\".format(act, scene, line)\n",
        "        metadata = {\"act\": act, \"scene\": scene, \"line\": line}\n",
        "    else:\n",
        "        location = \"\"\n",
        "        metadata = {}\n",
        "    quote_input = \"{} : {} : {}\".format(location, input_line[\"Player\"], input_line[\"PlayerLine\"])\n",
        "    input_document = Document(page_content=quote_input, metadata=metadata)\n",
        "    input_documents.append(input_document)\n",
        "\n",
        "print(f\"Adding {len(input_documents)} documents ... \", end=\"\")\n",
        "vector_store.add_documents(documents=input_documents, batch_size=50)\n",
        "print(\"Done.\")"
      ]
    },
    {
      "cell_type": "markdown",
      "id": "d162c2d1-188e-43f0-b1c3-342b80641060",
      "metadata": {
        "id": "d162c2d1-188e-43f0-b1c3-342b80641060"
      },
      "source": [
        "## Answer questions"
      ]
    },
    {
      "cell_type": "code",
      "execution_count": 12,
      "id": "5332b838-6c1f-40f4-a29e-2b2d0250f408",
      "metadata": {
        "tags": [],
        "id": "5332b838-6c1f-40f4-a29e-2b2d0250f408"
      },
      "outputs": [],
      "source": [
        "prompt_template_str = \"\"\"Human: Use the following pieces of context to provide a concise answer to the question at the end.\n",
        "If you don't know the answer, just say that you don't know, don't try to make up an answer.\n",
        "\n",
        "<context>\n",
        "{context}\n",
        "</context\n",
        "\n",
        "Question: {question}\n",
        "\n",
        "Assistant:\"\"\"\n",
        "\n",
        "prompt = PromptTemplate.from_template(prompt_template_str)"
      ]
    },
    {
      "cell_type": "markdown",
      "id": "ea67346b-d5ca-433d-858e-5c21397f9de5",
      "metadata": {
        "tags": [],
        "id": "ea67346b-d5ca-433d-858e-5c21397f9de5"
      },
      "source": [
        "We choose to use the following LLM model (see [this page](https://docs.aws.amazon.com/bedrock/latest/userguide/model-parameters.html#model-parameters-general) for more info):"
      ]
    },
    {
      "cell_type": "code",
      "execution_count": 13,
      "id": "ee8b2ee0-f9bf-4ada-8fde-7d917d89c6fa",
      "metadata": {
        "tags": [],
        "id": "ee8b2ee0-f9bf-4ada-8fde-7d917d89c6fa"
      },
      "outputs": [],
      "source": [
        "model_id = \"anthropic.claude-v2\""
      ]
    },
    {
      "cell_type": "markdown",
      "id": "4081fd78-1710-4a42-a942-a14f652c854d",
      "metadata": {
        "id": "4081fd78-1710-4a42-a942-a14f652c854d"
      },
      "source": [
        "Here the question-answering function is set up, implementing the RAG pattern:"
      ]
    },
    {
      "cell_type": "code",
      "execution_count": 14,
      "id": "4e82ef49-ffec-4429-bcc2-ea09f50333cd",
      "metadata": {
        "tags": [],
        "id": "4e82ef49-ffec-4429-bcc2-ea09f50333cd"
      },
      "outputs": [],
      "source": [
        "req_accept = \"application/json\"\n",
        "req_content_type = \"application/json\"\n",
        "\n",
        "# This, created from the vector store, will fetch the top relevant documents given a text query\n",
        "retriever = vector_store.as_retriever(search_kwargs={\"k\": 5})\n",
        "\n",
        "def answer_question(question: str, verbose: bool = False) -> str:\n",
        "    if verbose:\n",
        "        print(f\"\\n[answer_question] Question: {question}\")\n",
        "    # Retrieval of the most relevant stored documents from the vector store:\n",
        "    context_docs = retriever.get_relevant_documents(question)\n",
        "    context = \"\\n\".join(doc.page_content for doc in context_docs)\n",
        "    if verbose:\n",
        "        print(\"\\n[answer_question] Context:\")\n",
        "        print(context)\n",
        "    # Filling the prompt template with the current values\n",
        "    llm_prompt_str = prompt.format(\n",
        "        question=question,\n",
        "        context=context,\n",
        "    )\n",
        "    # Invocation of the Amazon Bedrock LLM for text completion -- ultimately obtaining the answer\n",
        "    llm_body = json.dumps({\"prompt\": llm_prompt_str, \"max_tokens_to_sample\": 500})\n",
        "    llm_response = bedrock_runtime.invoke_model(\n",
        "        body=llm_body,\n",
        "        modelId=model_id,\n",
        "        accept=req_accept,\n",
        "        contentType=req_content_type,\n",
        "    )\n",
        "    llm_response_body = json.loads(llm_response[\"body\"].read())\n",
        "    answer = llm_response_body[\"completion\"].strip()\n",
        "    if verbose:\n",
        "        print(f\"\\n[answer_question] Answer: {answer}\\n\")\n",
        "    return answer"
      ]
    },
    {
      "cell_type": "code",
      "execution_count": 15,
      "id": "599d8856-921e-4bf4-8979-ff54b13de6d5",
      "metadata": {
        "tags": [],
        "id": "599d8856-921e-4bf4-8979-ff54b13de6d5",
        "outputId": "516440b5-5c31-42c5-9ea6-8104b8d4ff6a",
        "colab": {
          "base_uri": "https://localhost:8080/"
        }
      },
      "outputs": [
        {
          "output_type": "stream",
          "name": "stderr",
          "text": [
            "WARNING:cassandra.protocol:Server warning: Top-K queries can only be run with consistency level ONE / LOCAL_ONE / NODE_LOCAL. Consistency level LOCAL_QUORUM was requested. Downgrading the consistency level to LOCAL_ONE.\n"
          ]
        },
        {
          "output_type": "stream",
          "name": "stdout",
          "text": [
            "============================================================\n",
            "Based on the provided context, it seems that Astra and Romeo both die in the story. The watchman refers to Astra being found dead and bleeding. Balthasar brings news of Astra's death to Romeo. Romeo is also found dead in the same vault where Astra lies dead. So the context indicates that both Astra and Romeo die in the story.\n"
          ]
        }
      ],
      "source": [
        "my_answer = answer_question(\"Who dies in the story?\")\n",
        "print(\"=\" * 60)\n",
        "print(my_answer)"
      ]
    },
    {
      "cell_type": "markdown",
      "id": "db71cc88-61e3-42e5-802b-4ba4eaa795b4",
      "metadata": {
        "id": "db71cc88-61e3-42e5-802b-4ba4eaa795b4"
      },
      "source": [
        "Let's take a look at the RAG process piece-wise:"
      ]
    },
    {
      "cell_type": "code",
      "execution_count": 16,
      "id": "6fbeaf2d-f589-4d04-8447-4b876375f5b1",
      "metadata": {
        "tags": [],
        "id": "6fbeaf2d-f589-4d04-8447-4b876375f5b1",
        "outputId": "db925815-57e0-474b-b080-5d253b75d8ff",
        "colab": {
          "base_uri": "https://localhost:8080/"
        }
      },
      "outputs": [
        {
          "output_type": "stream",
          "name": "stdout",
          "text": [
            "\n",
            "[answer_question] Question: Who dies in the story?\n"
          ]
        },
        {
          "output_type": "stream",
          "name": "stderr",
          "text": [
            "WARNING:cassandra.protocol:Server warning: Top-K queries can only be run with consistency level ONE / LOCAL_ONE / NODE_LOCAL. Consistency level LOCAL_QUORUM was requested. Downgrading the consistency level to LOCAL_ONE.\n"
          ]
        },
        {
          "output_type": "stream",
          "name": "stdout",
          "text": [
            "\n",
            "[answer_question] Context:\n",
            "Act 5, Scene 3, Line 184 : First Watchman : And Astra bleeding, warm, and newly dead,\n",
            "Act 5, Scene 3, Line 300 : PRINCE : Came to this vault to die, and lie with Astra.\n",
            "Act 5, Scene 3, Line 282 : BALTHASAR : I brought my master news of Astra's death,\n",
            "Act 5, Scene 3, Line 206 : First Watchman : Warm and new kill'd.\n",
            "Act 5, Scene 3, Line 205 : First Watchman : And Romeo dead, and Astra, dead before,\n",
            "\n",
            "[answer_question] Answer: Based on the provided context, it seems that Astra and Romeo both die in the story. The watchman finds Astra dead in the vault, and later finds Romeo dead there as well. Balthasar brings news to Romeo that Astra is dead, which leads Romeo to go to the vault to die beside Astra. So the characters who die are Astra and Romeo.\n",
            "\n",
            "============================================================\n",
            "Based on the provided context, it seems that Astra and Romeo both die in the story. The watchman finds Astra dead in the vault, and later finds Romeo dead there as well. Balthasar brings news to Romeo that Astra is dead, which leads Romeo to go to the vault to die beside Astra. So the characters who die are Astra and Romeo.\n"
          ]
        }
      ],
      "source": [
        "my_answer = answer_question(\"Who dies in the story?\", verbose=True)\n",
        "print(\"=\" * 60)\n",
        "print(my_answer)"
      ]
    },
    {
      "cell_type": "markdown",
      "id": "715ba03a-66d1-47fe-9a8e-6b2713ddd0f9",
      "metadata": {
        "id": "715ba03a-66d1-47fe-9a8e-6b2713ddd0f9"
      },
      "source": [
        "### Interactive QA session"
      ]
    },
    {
      "cell_type": "code",
      "execution_count": 17,
      "id": "9fe0df9c-b24d-4f35-aee4-8bef2dd1e1a6",
      "metadata": {
        "tags": [],
        "id": "9fe0df9c-b24d-4f35-aee4-8bef2dd1e1a6",
        "outputId": "df47ddeb-9adc-4dca-c118-f3a56c421451",
        "colab": {
          "base_uri": "https://localhost:8080/"
        }
      },
      "outputs": [
        {
          "name": "stdout",
          "output_type": "stream",
          "text": [
            "Enter a question (empty to quit):Who kills Romeo?\n"
          ]
        },
        {
          "output_type": "stream",
          "name": "stderr",
          "text": [
            "WARNING:cassandra.protocol:Server warning: Top-K queries can only be run with consistency level ONE / LOCAL_ONE / NODE_LOCAL. Consistency level LOCAL_QUORUM was requested. Downgrading the consistency level to LOCAL_ONE.\n"
          ]
        },
        {
          "output_type": "stream",
          "name": "stdout",
          "text": [
            "Answer ==> Based on the provided context, I don't have enough information to determine who kills Romeo. The lines mention that Romeo is dead, but do not specify who killed him.\n",
            "Enter a question (empty to quit):\n",
            "[User, AI exeunt]\n"
          ]
        }
      ],
      "source": [
        "user_question = \"\"\n",
        "while True:\n",
        "    user_question = input(\"Enter a question (empty to quit):\").strip()\n",
        "    if user_question:\n",
        "        print(f\"Answer ==> {answer_question(user_question)}\")\n",
        "    else:\n",
        "        print(\"[User, AI exeunt]\")\n",
        "        break"
      ]
    },
    {
      "cell_type": "markdown",
      "source": [
        "## Japanese Trial"
      ],
      "metadata": {
        "id": "rumUqf8yfMLW"
      },
      "id": "rumUqf8yfMLW"
    },
    {
      "cell_type": "code",
      "source": [
        "my_answer = answer_question(\"物語の中で死んだのは誰?\", verbose=True)\n",
        "print(\"=\" * 60)\n",
        "print(my_answer)"
      ],
      "metadata": {
        "id": "kveETQ4efVEY",
        "outputId": "7e5dd7a0-bf0e-4880-8def-795772393e4c",
        "colab": {
          "base_uri": "https://localhost:8080/"
        }
      },
      "id": "kveETQ4efVEY",
      "execution_count": 18,
      "outputs": [
        {
          "output_type": "stream",
          "name": "stdout",
          "text": [
            "\n",
            "[answer_question] Question: 物語の中で死んだのは誰?\n"
          ]
        },
        {
          "output_type": "stream",
          "name": "stderr",
          "text": [
            "WARNING:cassandra.protocol:Server warning: Top-K queries can only be run with consistency level ONE / LOCAL_ONE / NODE_LOCAL. Consistency level LOCAL_QUORUM was requested. Downgrading the consistency level to LOCAL_ONE.\n"
          ]
        },
        {
          "output_type": "stream",
          "name": "stdout",
          "text": [
            "\n",
            "[answer_question] Context:\n",
            "Act 5, Scene 3, Line 320 : PRINCE : For never was a story of more woe\n",
            "Act 5, Scene 3, Line 51 : PARIS : It is supposed, the fair creature died,\n",
            "Act 5, Scene 3, Line 318 : PRINCE : Go hence, to have more talk of these sad things,\n",
            "Act 5, Scene 3, Line 207 : PRINCE : Search, seek, and know how this foul murder comes.\n",
            "Act 5, Scene 3, Line 303 : PRINCE : That heaven finds means to kill your joys with love.\n",
            "\n",
            "[answer_question] Answer: コンテキストから判断すると、Julietが死んだと考えられます。Act 5, Scene 3, Line 51でParisが\"fair creature\"が死んだと言っています。これはJulietを指していると思われ、物語の中でJulietが死んだことが示唆されています。正確にはコンテキストからは判断できませんが、Julietの死を示唆していると考えられます。\n",
            "\n",
            "============================================================\n",
            "コンテキストから判断すると、Julietが死んだと考えられます。Act 5, Scene 3, Line 51でParisが\"fair creature\"が死んだと言っています。これはJulietを指していると思われ、物語の中でJulietが死んだことが示唆されています。正確にはコンテキストからは判断できませんが、Julietの死を示唆していると考えられます。\n"
          ]
        }
      ]
    },
    {
      "cell_type": "code",
      "source": [
        "my_answer = answer_question(\"城の見回りをしているのは誰?\", verbose=True)\n",
        "print(\"=\" * 60)\n",
        "print(my_answer)"
      ],
      "metadata": {
        "id": "J-QV8TtsfqSS",
        "outputId": "093100a4-f0ec-43bd-b4da-d1e95b9c9e2e",
        "colab": {
          "base_uri": "https://localhost:8080/"
        }
      },
      "id": "J-QV8TtsfqSS",
      "execution_count": 21,
      "outputs": [
        {
          "output_type": "stream",
          "name": "stdout",
          "text": [
            "\n",
            "[answer_question] Question: 城の見回りをしているのは誰?\n"
          ]
        },
        {
          "output_type": "stream",
          "name": "stderr",
          "text": [
            "WARNING:cassandra.protocol:Server warning: Top-K queries can only be run with consistency level ONE / LOCAL_ONE / NODE_LOCAL. Consistency level LOCAL_QUORUM was requested. Downgrading the consistency level to LOCAL_ONE.\n"
          ]
        },
        {
          "output_type": "stream",
          "name": "stdout",
          "text": [
            "\n",
            "[answer_question] Context:\n",
            "Act 5, Scene 3, Line 2 : PARIS : Yet put it out, for I would not be seen.\n",
            "Act 5, Scene 3, Line 195 : Third Watchman : As he was coming from this churchyard side.\n",
            "Act 5, Scene 3, Line 176 : First Watchman : [Within]  Lead, boy: which way?\n",
            "Act 5, Scene 3, Line 6 : PARIS : Being loose, unfirm, with digging up of graves,\n",
            "Act 5, Scene 3, Line 284 : BALTHASAR : To this same place, to this same monument.\n",
            "\n",
            "[answer_question] Answer: 私は確信はありませんが、文脈から判断すると、見回りをしているのはwatchmanたちのようです。特に「First Watchman」と「Third Watchman」が登場しています。よって、見回りをしているのはおそらくwatchmanたちだと思いますが、はっきりとは言えません。申し訳ありませんが、確かな答えは分かりません。\n",
            "\n",
            "============================================================\n",
            "私は確信はありませんが、文脈から判断すると、見回りをしているのはwatchmanたちのようです。特に「First Watchman」と「Third Watchman」が登場しています。よって、見回りをしているのはおそらくwatchmanたちだと思いますが、はっきりとは言えません。申し訳ありませんが、確かな答えは分かりません。\n"
          ]
        }
      ]
    },
    {
      "cell_type": "markdown",
      "id": "f31c2d97",
      "metadata": {
        "id": "f31c2d97"
      },
      "source": [
        "## Additional resources\n",
        "\n",
        "To learn more about Amazon Bedrock, visit this page: [Introduction to Amazon Bedrock](https://github.com/aws-samples/amazon-bedrock-samples/tree/main/introduction-to-bedrock)."
      ]
    }
  ],
  "metadata": {
    "kernelspec": {
      "display_name": "Python 3 (ipykernel)",
      "language": "python",
      "name": "python3"
    },
    "language_info": {
      "codemirror_mode": {
        "name": "ipython",
        "version": 3
      },
      "file_extension": ".py",
      "mimetype": "text/x-python",
      "name": "python",
      "nbconvert_exporter": "python",
      "pygments_lexer": "ipython3",
      "version": "3.10.12"
    },
    "colab": {
      "provenance": [],
      "include_colab_link": true
    }
  },
  "nbformat": 4,
  "nbformat_minor": 5
}